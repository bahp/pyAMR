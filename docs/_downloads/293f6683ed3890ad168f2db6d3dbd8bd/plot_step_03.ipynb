{
  "cells": [
    {
      "cell_type": "markdown",
      "metadata": {},
      "source": [
        "\n# Step 03 - Time Series Analysis\n\nIn this tutorial example, we will delve into the fascinating field of time series\nanalysis and explore how to compute and analyze time series data. Time series analysis\ninvolves studying data points collected over regular intervals of time, with the aim\nof understanding patterns, trends, and relationships that may exist within the data.\nBy applying statistical techniques, we can uncover valuable insights and make predictions\nbased on historical trends.\n\nThroughout this example, we will explore various statistical metrics and tests\nto that are commonly used for time series analysis, empowering you to harness the\npower of time-dependent data and extract meaningful information from it. The\nspecial focus is stationarity, which is a common requirements for further application\nof time series analysis methods.\n\nSee below for a few resources.\n\n  * `R1`_: Understanding KPSS test for stationarity.\n  * `R2`_: Understanding autoregressions.\n\n"
      ]
    },
    {
      "cell_type": "markdown",
      "metadata": {},
      "source": [
        "## Create time series (TS)\n\nFirst lets create an artificial series. The series has been plotted\nad the end of the tutorial.\n\n"
      ]
    },
    {
      "cell_type": "code",
      "execution_count": null,
      "metadata": {
        "collapsed": false
      },
      "outputs": [],
      "source": [
        "# ----------------------------\n# create data\n# ----------------------------\n# Import specific\nfrom pyamr.datasets.load import make_timeseries\n\n# Create timeseries data\nx, y, f = make_timeseries()"
      ]
    },
    {
      "cell_type": "markdown",
      "metadata": {},
      "source": [
        "## Pearson correlation coefficient\n\nIt measures the linear correlation between two variables with a value within the range\n[-1,1]. Coefficient values of -1, 0 and 1 indicate total negative linear correlation, no\nlinear correlation and total positive correlation respectively. In this study, the\ncoefficient is used to assess whether or not there is a linear correlation between the\nnumber of observations (susceptibility test records) and the computed resistance index.\n\nSee also `sphx_glr__examples_tutorial_statistics_plot_core_stats_correlation.py`\n\n"
      ]
    },
    {
      "cell_type": "code",
      "execution_count": null,
      "metadata": {
        "collapsed": false
      },
      "outputs": [],
      "source": [
        "# -------------------------------\n# Pearson correlation coefficient\n# -------------------------------\n# Import pyAMR\nfrom pyamr.core.stats.correlation import CorrelationWrapper\n\n# Create object\ncorrelation = CorrelationWrapper().fit(x1=y, x2=f)\n\n# Print summary.\nprint(\"\\n\")\nprint(correlation.as_summary())"
      ]
    },
    {
      "cell_type": "markdown",
      "metadata": {},
      "source": [
        "## Augmented Dickey-Fuller test\n\nThe Augmented Dickey-Fuller or ``ADF`` test can be used to test for a unit root\nin a univariate process in the presence of serial correlation. The intuition behind\na unit root test is that it determines how strongly a time series is defined by a trend.\n``ADF`` tests the null hypothesis that a unit root is present in a time series sample.\nThe alternative hypothesis is different depending on which version of the test is used,\nbut is usually stationarity or trend-stationarity. The more negative the statistic, the\nstronger the rejection of the hypothesis that there is a unit root at some level\nof confidence.\n\n====== =========================== =====================================\nH      Hypothesis                  Stationarity\n====== =========================== =====================================\n**H0** The series has a unit root  ``Non-stationary``\n**H1** The series has no unit root ``Stationary`` / ``Trend-Stationary``\n====== =========================== =====================================\n\n| If p-value > 0.05: Failed to reject H0.\n| If p-value <= 0.05: Reject H0.\n\nSee also `sphx_glr__examples_tutorial_statistics_plot_core_stats_adfuller.py`\n\n"
      ]
    },
    {
      "cell_type": "code",
      "execution_count": null,
      "metadata": {
        "collapsed": false
      },
      "outputs": [],
      "source": [
        "# ----------------------------\n# ADFuller\n# ----------------------------\n# Import statsmodels\nfrom statsmodels.tsa.stattools import adfuller\n\n# Import pyAMR\nfrom pyamr.core.stats.adfuller import ADFWrapper\n\n# Create wrapper\nadf = ADFWrapper(adfuller).fit(x=y, regression='ct')\n\nprint(\"\\n\")\nprint(adf.as_summary())"
      ]
    },
    {
      "cell_type": "markdown",
      "metadata": {},
      "source": [
        "## Kwiatkowski-Phillips-Schmidt-Shin test\n\nThe Kwiatkowski\u2013Phillips\u2013Schmidt\u2013Shin or ``KPSS`` test is used to identify\nwhether a time series is stationary around a deterministic trend (thus\ntrend stationary) against the alternative of a unit root.\n\nIn the KPSS test, the absence of a unit root is not a proof of stationarity\nbut, by design, of trend stationarity. This is an important distinction since\nit is possible for a time series to be non-stationary, have no unit root yet\nbe trend-stationary.\n\nIn both, unit-root and trend-stationary processes, the mean can be increasing\nor decreasing over time; however, in the presence of a shock, trend-stationary\nprocesses revert to this mean tendency in the long run (deterministic trend)\nwhile unit-root processes have a permanent impact (stochastic trend).\n\n====== =========================== =====================================\nH      Hypothesis                  Stationarity\n====== =========================== =====================================\n**H0** The series has no unit root ``Trend-stationary``\n**H1** The series has a unit root  ``No Trend-Stationary``\n====== =========================== =====================================\n\n| If p-value > alpha: Failed to reject H0\n| If p-value <= alpha: Reject H0\n\n.. See also `sphx_glr__examples_tutorial_statistics_plot_core_stats_kpss.py`\n\n"
      ]
    },
    {
      "cell_type": "code",
      "execution_count": null,
      "metadata": {
        "collapsed": false
      },
      "outputs": [],
      "source": [
        "# --------------------------------\n# Kpss\n# --------------------------------\n# Used within StationarityWrapper!"
      ]
    },
    {
      "cell_type": "markdown",
      "metadata": {},
      "source": [
        "## Understanding stationarity in TS\n\nIn time series analysis, \"stationarity\" refers to a key assumption about the behavior\nof a time series over time. A stationary time series is one in which statistical properties,\nsuch as mean, variance, and autocorrelation, remain constant over time. Stationarity is an\nimportant concept because many time series analysis techniques rely on this assumption for\ntheir validity. There are different types of stationarity that can be observed in time series\ndata. Let's explore them:\n\n- **Strict Stationarity:** A time series is considered strictly stationary if the joint probability\n  distribution of any set of its time points is invariant over time. This means that the statistical\n  properties, such as mean, variance, and covariance, are constant across all time points.\n\n- **Weak Stationarity:** Weak stationarity, also known as second-order stationarity or covariance\n  stationarity, is a less strict form of stationarity. A time series is considered weakly stationary\n  if its mean and variance are constant over time, and the autocovariance between any two time points\n  only depends on the time lag between them. In other words, the statistical properties of the time\n  series do not change with time.\n\n- **Trend Stationarity:** Trend stationarity refers to a time series that exhibits a stable mean over\n  time but may have a changing variance. This means that the data has a consistent trend component but\n  the other statistical properties remain constant. In trend stationary series, the mean of the time\n  series can be modeled by a constant or a linear trend.\n\n- **Difference Stationarity:** Difference stationarity, also known as integrated stationarity, occurs\n  when differencing a non-stationary time series results in a stationary series. Differencing involves\n  computing the differences between consecutive observations to remove trends or other non-stationary\n  patterns. A differenced time series is said to be difference stationary if it exhibits weak stationarity\n  after differencing.\n\n- **Seasonal Stationarity:** ...\n\n<img src=\"https://upload.wikimedia.org/wikipedia/commons/thumb/8/89/Unit_root_hypothesis_diagram.svg/1280px-Unit_root_hypothesis_diagram.svg.png\" width=\"200\" align=\"right\" alt=\"skewness\">\n\nThe augmented Dickey\u2013Fuller test or ``ADF`` can be used to determine the presence of a unit root.\nWhen the other roots of the characteristic function lie inside the unit circle the first\ndifference of the process is stationary. Due to this property, these are also called\ndifference-stationary processes. Since the absence of unit root is not a proof of non-stationarity,\nthe Kwiatkowski\u2013Phillips\u2013Schmidt\u2013Shin or ``KPSS`` test can be used to identify the existence of an\nunderlying trend which can also be removed to obtain a stationary process. These are called\ntrend-stationary processes. In both, unit-root and trend-stationary processes, the mean can be\nincreasing or decreasing over time; however, in the presence of a shock, trend-stationary\nprocesses (blue) revert to this mean tendency in the long run (deterministic trend) while unit-root\nprocesses (green) have a permanent impact (stochastic trend). The significance level of the tests\nis usually set to 0.05.\n\n\n================== ================== ========================= ============================\nADF                KPSS               Outcome                   Note\n================== ================== ========================= ============================\n``Non-Stationary`` ``Non-Stationary`` ``Non-Stationary``\n``Stationary``     ``Stationary``     ``Stationary``\n``Non-Stationary`` ``Stationary``     ``Trend-Stationary``      Check the de-trended series\n``Stationary``     ``Non-Stationary`` ``Difference-Stationary`` Check the differenced-series\n================== ================== ========================= ============================\n\n\nSee also `sphx_glr__examples_tutorial_statistics_plot_core_stats_stationarity.py`\n\n\n"
      ]
    },
    {
      "cell_type": "code",
      "execution_count": null,
      "metadata": {
        "collapsed": false
      },
      "outputs": [],
      "source": [
        "# ----------------------------\n# Stationarity\n# ----------------------------\n# Import generic\nimport matplotlib.pyplot as plt\n\n# Import pyAMR\nfrom pyamr.core.stats.stationarity import StationarityWrapper\n\n# Define kwargs\nadf_kwargs = {}\nkpss_kwargs = {}\n\n# Compute stationarity\nstationarity = StationarityWrapper().fit(x=y,\n    adf_kwargs=adf_kwargs, kpss_kwargs=kpss_kwargs)\n\n# Print summary.\nprint(\"\\n\")\nprint(stationarity.as_summary())\n\n\n# ----------------\n# plot\n# ----------------\n# Font type.\nfont = {\n    'family': 'monospace',\n    'weight': 'normal',\n    'size': 10,\n}\n\n# Create figure\nfig, ax = plt.subplots(1, 1, figsize=(10, 4))\n\n# Plot truth values.\nax.plot(y, color='#A6CEE3', alpha=0.5, marker='o',\n         markeredgecolor='k', markeredgewidth=0.5,\n         markersize=4, linewidth=0.75,\n         label=stationarity.as_summary())\n\n# Format axes\nax.grid(color='gray', linestyle='--', linewidth=0.2, alpha=0.5)\nax.legend(prop=font, loc=4)\n\n# Addd title\nplt.suptitle(\"Study of Stationarity\")\n\nplt.show()"
      ]
    }
  ],
  "metadata": {
    "kernelspec": {
      "display_name": "Python 3",
      "language": "python",
      "name": "python3"
    },
    "language_info": {
      "codemirror_mode": {
        "name": "ipython",
        "version": 3
      },
      "file_extension": ".py",
      "mimetype": "text/x-python",
      "name": "python",
      "nbconvert_exporter": "python",
      "pygments_lexer": "ipython3",
      "version": "3.9.1"
    }
  },
  "nbformat": 4,
  "nbformat_minor": 0
}