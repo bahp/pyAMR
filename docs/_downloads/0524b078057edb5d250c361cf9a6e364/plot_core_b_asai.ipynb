{
  "cells": [
    {
      "cell_type": "markdown",
      "metadata": {},
      "source": [
        "\n# Spectrum of Activity (``ASAI``)\n\n<div class=\"alert alert-danger\"><h4>Warning</h4><p>There is an error in the Figure displayed below. The contribution (cont) value\n             for Staphylococcus haemolyticus should be 0 instead of 1/10 because the sari\n             index is higher than the threshold (32 > 20) and therefore the antimicrobial\n             is not considered effective.</p></div>\n\nThe Antimicrobial Spectrum of Activity Index or ``ASAI`` refers to the range of microbe species that are\nsusceptible to these agents and therefore can be treated. In general, antimicrobial agents\nare classified into broad, intermediate or narrow spectrum. Broad spectrum antimicrobials\nare active against both Gram-positive and Gram-negative bacteria. In contrast, narrow\nspectrum antimicrobials have limited activity and are effective only against particular\nspecies of bacteria. While these profiles appeared in the mid-1950s, little effort has been\nmade to define them. Furthermore, such ambiguous labels are overused for different\nand even contradictory purposes.\n\nFor more information see: :py:mod:`pyamr.core.asai.ASAI`\n\n<img src=\"file://../../../_static/imgs/index-asai.png\" width=\"600\" align=\"center\" alt=\"ASAI\">\n"
      ]
    },
    {
      "cell_type": "code",
      "execution_count": null,
      "metadata": {
        "collapsed": false
      },
      "outputs": [],
      "source": [
        "# Import libraries\nimport sys\nimport pandas as pd\nimport numpy as np\nimport seaborn as sns\nimport matplotlib as mpl\nimport matplotlib.pyplot as plt\n\n# Import specific libraries\nfrom pyamr.core.asai import ASAI\nfrom pyamr.datasets.load import fixture\nfrom pyamr.utils.plot import scalar_colormap\n\n# Configure seaborn style (context=talk)\nsns.set(style=\"white\")\n\n# Set matplotlib\nmpl.rcParams['xtick.labelsize'] = 9\nmpl.rcParams['ytick.labelsize'] = 9\nmpl.rcParams['axes.titlesize'] = 11\nmpl.rcParams['legend.fontsize'] = 9\n\n# Pandas configuration\npd.set_option('display.max_colwidth', 40)\npd.set_option('display.width', 300)\npd.set_option('display.precision', 4)\n\n# Numpy configuration\nnp.set_printoptions(precision=2)\n\n\n# ---------------------\n# Create data\n# ---------------------\n# Load data\ndataframe = fixture(name='fixture_04.csv')\n\n# Show\nprint(\"Summary:\")\nprint(dataframe)"
      ]
    },
    {
      "cell_type": "markdown",
      "metadata": {},
      "source": [
        "Lets see the dataframe\n\n"
      ]
    },
    {
      "cell_type": "code",
      "execution_count": null,
      "metadata": {
        "collapsed": false
      },
      "outputs": [],
      "source": [
        "dataframe"
      ]
    },
    {
      "cell_type": "markdown",
      "metadata": {},
      "source": [
        "Lets use the ASAI object\n\n\n"
      ]
    },
    {
      "cell_type": "code",
      "execution_count": null,
      "metadata": {
        "collapsed": false
      },
      "outputs": [],
      "source": [
        "# -------------------------------\n# Create antimicrobial spectrum\n# -------------------------------\n# Create antimicrobial spectrum of activity instance\nasai = ASAI(column_genus='GENUS',\n            column_specie='SPECIE',\n            column_resistance='RESISTANCE',\n            column_frequency='FREQUENCY',\n            column_threshold='THRESHOLD',\n            column_wgenus='W_GENUS',\n            column_wspecie='W_SPECIE')\n\n# Compute ASAI with uniform weights\nscores1 = asai.compute(dataframe,\n    groupby=['ANTIBIOTIC', 'GRAM'],\n    weights='uniform',\n    threshold=None,\n    min_freq=0).unstack()\n\n# compute ASAI with frequency weights\nscores2 = asai.compute(dataframe,\n    groupby=['ANTIBIOTIC', 'GRAM'],\n    weights='frequency',\n    threshold=None,\n    min_freq=0).unstack()"
      ]
    },
    {
      "cell_type": "markdown",
      "metadata": {},
      "source": [
        "Lets see the ``ASAI`` with ``uniform`` weights\n\n"
      ]
    },
    {
      "cell_type": "code",
      "execution_count": null,
      "metadata": {
        "collapsed": false
      },
      "outputs": [],
      "source": [
        "scores1"
      ]
    },
    {
      "cell_type": "markdown",
      "metadata": {},
      "source": [
        "Lets see the ``ASAI`` with ``frequency`` weights\n\n"
      ]
    },
    {
      "cell_type": "code",
      "execution_count": null,
      "metadata": {
        "collapsed": false
      },
      "outputs": [],
      "source": [
        "scores2"
      ]
    },
    {
      "cell_type": "markdown",
      "metadata": {},
      "source": [
        "Lets display the information graphically\n\n"
      ]
    },
    {
      "cell_type": "code",
      "execution_count": null,
      "metadata": {
        "collapsed": false
      },
      "outputs": [],
      "source": [
        "def plot_graph_asai(scores):\n    \"\"\"Display ASAI as a horizontal bars\n    \"\"\"\n    # Variables to plot.\n    x = scores.index.values\n    y_n = scores['ASAI_SCORE']['N'].values\n    y_p = scores['ASAI_SCORE']['P'].values\n\n    # Constants\n    colormap_p = scalar_colormap(y_p, cmap='Blues', vmin=-0.1, vmax=1.1)\n    colormap_n = scalar_colormap(y_n, cmap='Reds', vmin=-0.1, vmax=1.1)\n\n    # Create figure\n    f, ax = plt.subplots(1, 1, figsize=(8, 0.5))\n\n    # Plot\n    sns.barplot(x=y_p, y=x, palette=colormap_p, ax=ax, orient='h',\n                saturation=0.5, label='Gram-positive')\n    sns.barplot(x=-y_n, y=x, palette=colormap_n, ax=ax, orient='h',\n                saturation=0.5, label='Gram-negative')\n\n    # Configure\n    sns.despine(bottom=True)\n\n    # Configure\n    ax.set_xlim([-1, 1])\n    ax.legend(loc='center left')\n\n# -----------------------------\n# Plot\n# -----------------------------\n# Display bar graphs\nplot_graph_asai(scores1)\nplot_graph_asai(scores2)\n\n# Display\nplt.show()"
      ]
    }
  ],
  "metadata": {
    "kernelspec": {
      "display_name": "Python 3",
      "language": "python",
      "name": "python3"
    },
    "language_info": {
      "codemirror_mode": {
        "name": "ipython",
        "version": 3
      },
      "file_extension": ".py",
      "mimetype": "text/x-python",
      "name": "python",
      "nbconvert_exporter": "python",
      "pygments_lexer": "ipython3",
      "version": "3.9.1"
    }
  },
  "nbformat": 4,
  "nbformat_minor": 0
}