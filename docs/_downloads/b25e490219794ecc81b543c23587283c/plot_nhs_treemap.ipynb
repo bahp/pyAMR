{
  "cells": [
    {
      "cell_type": "code",
      "execution_count": null,
      "metadata": {
        "collapsed": false
      },
      "outputs": [],
      "source": [
        "%matplotlib inline"
      ]
    },
    {
      "cell_type": "markdown",
      "metadata": {},
      "source": [
        "\n# HTML - Treemap (sari)\n\n<div class=\"alert alert-danger\"><h4>Warning</h4><p>It might take some time to load.</p></div>\n\nhttps://plotly.com/python/plotly-express/\nhttps://plotly.com/python/animations/\nhttps://plotly.com/python/treemaps/\n"
      ]
    },
    {
      "cell_type": "code",
      "execution_count": null,
      "metadata": {
        "collapsed": false
      },
      "outputs": [],
      "source": [
        "# Plotly\nimport plotly.express as px\n\n# Import own libraries\nfrom pyamr.core.sari import sari\nfrom pyamr.datasets.load import load_data_nhs\n\n\n# --------------------------------------------------------------------\n#                               Main\n# --------------------------------------------------------------------\n# Load data\ndata, antimicrobials, microorganisms = load_data_nhs()\n\n# Create DataFrame\ndataframe = data.groupby(['specimen_code',\n                          'microorganism_code',\n                          'antimicrobial_code',\n                          'sensitivity']) \\\n                .size().unstack().fillna(0)\n\n# Compute frequency\ndataframe['freq'] = dataframe.sum(axis=1)\n\n# Compute sari\ndataframe['sari'] = sari(dataframe, strategy='hard')\ndataframe['sari_medium'] = sari(dataframe, strategy='medium')\ndataframe['sari_soft'] = sari(dataframe, strategy='soft')\n\n# Reset index\ndataframe = dataframe.reset_index()\n\n# --------------------------------------------\n# Add info for popup\n# --------------------------------------------\ndataframe = dataframe.merge(antimicrobials,\n    how='left', left_on='antimicrobial_code',\n    right_on='antimicrobial_code')\n\n# Add antimicrobials information\ndataframe = dataframe.merge(microorganisms,\n    how='left', left_on='microorganism_code',\n    right_on='microorganism_code')\n\n# Format dataframe\ndataframe = dataframe.round(decimals=3)\n\n# Show columns\nprint(dataframe.columns)\n\n# -------------------------------------------\n# Plot\n# -------------------------------------------\n# Explain...\n#\n#\n# Show\nfig1 = px.treemap(dataframe,\n    path=['specimen_code',\n          'microorganism_code',\n          'antimicrobial_code'],\n    #hover_name=,\n    hover_data=['microorganism_name',\n                'name',\n                'sari_medium',\n                'sari_soft'],\n    values='freq',\n    color='sari',\n    color_continuous_scale='Reds',\n    title='Treemap of <Microorganisms, Antimicrobials> pairs (NHS)')\n\n# Save as html (to be used anyware in docs)\nfig1.write_html(\"../../../docs/source/_static/htmls/{0}.html\" \\\n    .format('plot_nhs_treemap'))\n\n# Show (script)\n#fig1.show()\n\n# Show (sphinx)\nfig1\n\n# Explain...\n#\n#\n# Show\nfig2 = px.treemap(dataframe,\n    path=['specimen_code',\n          'antimicrobial_code',\n          'microorganism_code'],\n    #hover_name=,\n    hover_data=['microorganism_name',\n                'name',\n                'sari_medium',\n                'sari_soft'],\n    values='freq',\n    color='sari',\n    color_continuous_scale='Reds',\n    title='Treemap of <Microorganisms, Antimicrobials> pairs (NHS)')\n\n# Save as html (to be used anyware in docs)\nfig2.write_html(\"../../../docs/source/_static/htmls/{0}.html\" \\\n    .format('plot_nhs_treemap_sam'))\n\n# Show (script)\n#fig1.show()\n\n# Show (sphinx)\nfig2\n\na = 1"
      ]
    }
  ],
  "metadata": {
    "kernelspec": {
      "display_name": "Python 3",
      "language": "python",
      "name": "python3"
    },
    "language_info": {
      "codemirror_mode": {
        "name": "ipython",
        "version": 3
      },
      "file_extension": ".py",
      "mimetype": "text/x-python",
      "name": "python",
      "nbconvert_exporter": "python",
      "pygments_lexer": "ipython3",
      "version": "3.9.1"
    }
  },
  "nbformat": 4,
  "nbformat_minor": 0
}