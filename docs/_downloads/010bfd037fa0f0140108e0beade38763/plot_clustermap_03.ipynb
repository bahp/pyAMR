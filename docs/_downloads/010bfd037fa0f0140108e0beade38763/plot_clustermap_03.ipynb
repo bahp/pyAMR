{
  "cells": [
    {
      "cell_type": "code",
      "execution_count": null,
      "metadata": {
        "collapsed": false
      },
      "outputs": [],
      "source": [
        "%matplotlib inline"
      ]
    },
    {
      "cell_type": "markdown",
      "metadata": {},
      "source": [
        "\n# SARI - Clustermap (by culture)\n\n.. todo:: Explain...\n"
      ]
    },
    {
      "cell_type": "code",
      "execution_count": null,
      "metadata": {
        "collapsed": false
      },
      "outputs": [],
      "source": [
        "# Libraries\nimport sys\nimport numpy as np\nimport pandas as pd\nimport seaborn as sns\nimport matplotlib as mpl\nimport matplotlib.pyplot as plt\n\n# Import specific libraries\nfrom pyamr.core.sari import SARI\nfrom pyamr.core.freq import Frequency\n\n# -------------------------\n# Configuration\n# -------------------------\n# Configure seaborn style (context=talk)\nsns.set(style=\"white\")\n\n# Set matplotlib\nmpl.rcParams['xtick.labelsize'] = 9\nmpl.rcParams['ytick.labelsize'] = 9\nmpl.rcParams['axes.titlesize'] = 11\nmpl.rcParams['legend.fontsize'] = 9\n\n# Pandas configuration\npd.set_option('display.max_colwidth', 40)\npd.set_option('display.width', 300)\npd.set_option('display.precision', 4)\n\n# Numpy configuration\nnp.set_printoptions(precision=2)\n\n# ------------------\n# Methods\n# ------------------\ndef get_category_colors(index, category, cmap='tab10'):\n    \"\"\"This method creates the colors for the different elements in\n    categorical feature vector.\n\n    Parameters\n    ----------\n    values : array-like\n        The vector with the categorical values\n\n    cmap: string-like\n        The colormap to use\n\n    default: string-like\n        The color to be used for the first value. Note that this\n        value needs to appear first on the the sorted list, as such\n        it is recommended to set is as _default.\n\n    Returns\n    -------\n    \"\"\"\n    # Get categories\n    categories = index.get_level_values(category)\n    # Get unique elements\n    unique = np.unique(categories)\n    # Create the palette\n    palette = sns.color_palette(cmap, desat=0.5, n_colors=unique.shape[0])\n    # Create mappers from category to color\n    mapper = dict(zip(map(str, unique), palette))\n    # Create list with colors for each category\n    colors = pd.Series(categories, index=index).map(mapper)\n    # Return\n    return colors\n\n\n# -------------------------------------------\n# Load data\n# -------------------------------------------\n# Path\npath = '../../pyamr/datasets/microbiology/susceptibility.csv'\npath_org = '../../pyamr/datasets/microbiology/db_microorganisms.csv'\npath_abx = '../../pyamr/datasets/microbiology/db_antimicrobials.csv'\n\n# Columns\nusecols = ['dateReceived',\n           'labNumber',\n           'patNumber',\n           'orderName',\n           'orderCode',\n           'organismName',\n           'organismCode',\n           'antibioticName',\n           'antibioticCode',\n           'sensitivity']\n\n# Load data\ndata = pd.read_csv(path, usecols=usecols,\n    parse_dates=['dateReceived'])\n\n# Clean\ndata = data.drop_duplicates()\n\n# Show\nprint(\"\\nData:\")\nprint(data)\nprint(\"\\nColumns:\")\nprint(data.columns)\n\n# -------------------------------------------\n# For each culture type\n# -------------------------------------------\n# Count records per order code\norder_code_count = data.orderCode.value_counts()\n\n# Filter most frequent order codes\ndata = data[data.orderCode.isin( \\\n    order_code_count.index.values[:5])]\n\n# Loop\nfor order_code, df in data.groupby(by='orderCode'):\n\n    # -------------------------------------------\n    # Compute Freq and SARI\n    # -------------------------------------------\n    # Create instance\n    freq = Frequency(column_antibiotic='antibioticCode',\n                     column_organism='organismCode',\n                     column_date='dateReceived',\n                     column_outcome='sensitivity')\n\n    # Compute frequencies (overall)\n    freq_overall = freq.compute(df, by_category='pairs')\n\n    # Compute SARI\n    sari_overall = SARI(strategy='hard').compute(freq_overall)\n\n    # -------------------------------\n    # Create matrix\n    # -------------------------------\n    # Load default datasets\n    orgs = pd.read_csv(path_org)\n    abxs = pd.read_csv(path_abx)\n\n    # Format DataFrame\n    matrix = sari_overall.reset_index()\n    matrix = matrix.merge(orgs, how='left',\n        left_on='SPECIE', right_on='organism_code')\n    matrix = matrix.merge(abxs, how='left',\n        left_on='ANTIBIOTIC', right_on='antibiotic_code')\n\n    # Pivot table\n    matrix = pd.pivot_table(matrix, values='sari',\n       index=['organism_code', 'genus_name'],\n       columns=['antibiotic_code', 'antibiotic_class'])\n\n    # Convert to percent\n    matrix = matrix * 100\n\n    # Create mask\n    mask = pd.isnull(matrix)\n\n    # Fill missing (error when computing distance)\n    matrix = matrix.fillna(1e-10)\n\n    # Show\n    print(\"\\n\\n\\nData (%s)\" % order_code)\n    print(matrix.astype(int))\n\n    # Create colormap\n    cmap = sns.color_palette(\"Reds\", desat=0.5, n_colors=10)\n\n    # Row and col colors\n    col_colors = get_category_colors( \\\n        index=matrix.columns, category=matrix.columns.names[1])\n    row_colors = get_category_colors( \\\n        index=matrix.index, category=matrix.index.names[1])\n\n    # .. note: It is possible to also pass kwargs that would\n    #          be used by sns.heatmap function (annot, fmt,\n    #          annot_kws, ...\n    try:\n        # Plot cluster map\n        grid = sns.clustermap(data=matrix, vmin=0, vmax=100,\n            method='centroid', metric='euclidean', cmap=cmap,\n            linewidth=0.05, mask=mask, square=True,\n            row_colors=row_colors, col_colors=col_colors)\n    except Exception as e:\n        print(\"Exception: %s\" % e)\n    # Configuration\n    plt.suptitle('Antibiogram (clustered) - %s' % order_code)\n    plt.tight_layout()\n\n# Show\nplt.show()"
      ]
    }
  ],
  "metadata": {
    "kernelspec": {
      "display_name": "Python 3",
      "language": "python",
      "name": "python3"
    },
    "language_info": {
      "codemirror_mode": {
        "name": "ipython",
        "version": 3
      },
      "file_extension": ".py",
      "mimetype": "text/x-python",
      "name": "python",
      "nbconvert_exporter": "python",
      "pygments_lexer": "ipython3",
      "version": "3.9.1"
    }
  },
  "nbformat": 4,
  "nbformat_minor": 0
}