{
  "cells": [
    {
      "cell_type": "code",
      "execution_count": null,
      "metadata": {
        "collapsed": false
      },
      "outputs": [],
      "source": [
        "%matplotlib inline"
      ]
    },
    {
      "cell_type": "markdown",
      "metadata": {},
      "source": [
        "\n# SARI - Relplot (by culture)\n\n.. todo:: Explain...\n"
      ]
    },
    {
      "cell_type": "code",
      "execution_count": null,
      "metadata": {
        "collapsed": false
      },
      "outputs": [],
      "source": [
        "# Libraries\nimport sys\nimport numpy as np\nimport pandas as pd\nimport seaborn as sns\nimport matplotlib as mpl\nimport matplotlib.pyplot as plt\n\n# Import own libraries\nfrom pyamr.core.sari import SARI\nfrom pyamr.core.freq import Frequency\nfrom pyamr.datasets.load import make_susceptibility\n\n# -------------------------\n# Configuration\n# -------------------------\n# Configure seaborn style (context=talk)\nsns.set(style=\"white\")\n\n# Set matplotlib\nmpl.rcParams['xtick.labelsize'] = 9\nmpl.rcParams['ytick.labelsize'] = 9\nmpl.rcParams['axes.titlesize'] = 11\nmpl.rcParams['legend.fontsize'] = 9\n\n# Pandas configuration\npd.set_option('display.max_colwidth', 40)\npd.set_option('display.width', 300)\npd.set_option('display.precision', 4)\n\n# Numpy configuration\nnp.set_printoptions(precision=2)\n\n# -------------------------------------------\n# Methods\n# -------------------------------------------\ndef create_mapper(dataframe, column_key, column_value):\n    \"\"\"This method constructs a mapper\n\n    Parameters\n    ----------\n    dataframe: dataframe-like\n      The dataframe from which the columns are extracted\n\n    column_key: string-like\n      The name of the column with the values for the keys of the mapper\n\n    column_value: string-like\n      The name of the column with the values for the values of the mapper\n\n    Returns\n    -------\n    dictionary\n    \"\"\"\n    dataframe = dataframe[[column_key, column_value]]\n    dataframe = dataframe.drop_duplicates()\n    return dict(zip(dataframe[column_key], dataframe[column_value]))\n\n\n# -------------------------------------------\n# Load data\n# -------------------------------------------\n# Load data\ndata = make_susceptibility()\n\n# Show\nprint(\"\\nData:\")\nprint(data)\nprint(\"\\nColumns:\")\nprint(data.columns)\n\n# Show\nprint(\"\\nData:\")\nprint(data)\nprint(\"\\nColumns:\")\nprint(data.columns)\n\n# -------------------------------------------\n# For each culture type\n# -------------------------------------------\n# Count records per order code\nspecimen_code_count = data.specimen_code.value_counts()\n\n# Filter most frequent order codes\ndata = data[data.specimen_code.isin( \\\n    specimen_code_count.index.values[:5])]\n\n# Loop\nfor specimen_code, df in data.groupby(by='specimen_code'):\n\n    # -------------------------------------------\n    # Compute Freq and SARI\n    # -------------------------------------------\n    # Create instance\n    freq = Frequency(column_antibiotic='antimicrobial_code',\n                     column_organism='microorganism_code',\n                     column_date='date_received',\n                     column_outcome='sensitivity')\n\n    # Compute frequencies (overall)\n    freq_overall = freq.compute(df, by_category='pairs')\n\n    # Compute SARI\n    sari_overall = SARI(strategy='hard').compute(freq_overall)\n\n    # -------------------------------\n    # Create matrix\n    # -------------------------------\n    # Create mappers\n    abx_map = create_mapper(data, 'antimicrobial_code', 'antimicrobial_class')\n    org_map = create_mapper(data, 'microorganism_code', 'microorganism_genus')\n\n    # Create matrix\n    matrix = sari_overall\n    matrix['freq'] = freq_overall.sum(axis=1)\n    matrix = matrix.reset_index()\n    matrix['microorganism_genus'] = matrix.SPECIE.map(org_map)\n    matrix['antimicrobial_class'] = matrix.ANTIBIOTIC.map(abx_map)\n\n    # Show\n    print(\"\\nData:\")\n    print(matrix)\n    print(\"\\nColumns:\")\n    print(matrix.columns)\n    print(\"\\nFrequencies:\")\n    print(matrix.freq.describe())\n\n    # Create colormap\n    cmap = sns.color_palette(\"Reds\", desat=0.5, n_colors=10)\n\n    # Configura\n    sizes = (matrix.freq.min(), matrix.freq.max())\n\n    # Plot\n    g = sns.relplot(data=matrix, x='SPECIE',\n        y='ANTIBIOTIC', hue=\"sari\", size=\"freq\",\n        palette='Reds', hue_norm=(0, 1), edgecolor=\"gray\",\n        linewidth=0.5, sizes=sizes, #size_norm=sizes,\n        dashes=True, legend='brief', height=10\n    )\n\n    # Configure plot\n    g.set(xlabel=\"Antimicrobial\",\n          ylabel=\"Microorganism\",\n          title='Antibiogram (with frequency)')\n          #aspect=\"equal\")\n    g.despine(left=True, bottom=True)\n    g.ax.margins(.1)\n\n    # Configure xticks\n    for label in g.ax.get_xticklabels():\n        label.set_rotation(90)\n\n    # Configure legend\n    for artist in g.legend.legendHandles:\n        artist.set_edgecolor(\"k\")\n        artist.set_linewidth(0.5)\n\n    # Suptitle\n    plt.suptitle(specimen_code)\n\n    # Add grid lines.\n    #plt.grid(linestyle='-', linewidth=0.5, color='.7')\n\n    # Adjust\n    plt.tight_layout()\n\n# Show\nplt.show()"
      ]
    }
  ],
  "metadata": {
    "kernelspec": {
      "display_name": "Python 3",
      "language": "python",
      "name": "python3"
    },
    "language_info": {
      "codemirror_mode": {
        "name": "ipython",
        "version": 3
      },
      "file_extension": ".py",
      "mimetype": "text/x-python",
      "name": "python",
      "nbconvert_exporter": "python",
      "pygments_lexer": "ipython3",
      "version": "3.7.7"
    }
  },
  "nbformat": 4,
  "nbformat_minor": 0
}