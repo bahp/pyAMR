{
  "cells": [
    {
      "cell_type": "code",
      "execution_count": null,
      "metadata": {
        "collapsed": false
      },
      "outputs": [],
      "source": [
        "%matplotlib inline"
      ]
    },
    {
      "cell_type": "markdown",
      "metadata": {},
      "source": [
        "\n# SART - Spectrum (gram type)\n\n.. todo: Simplify and explain\n"
      ]
    },
    {
      "cell_type": "code",
      "execution_count": null,
      "metadata": {
        "collapsed": false
      },
      "outputs": [],
      "source": [
        "import sys\nimport glob\nimport numpy as np\nimport pandas as pd\nimport seaborn as sns\nimport matplotlib as mpl\nimport matplotlib.pyplot as plt\n\n# Import specific libraries\nfrom pyamr.core.sari import SARI\nfrom pyamr.core.asai import ASAI\nfrom pyamr.datasets.load import load_data_mimic\nfrom pyamr.datasets.registries import MicroorganismRegistry\nfrom pyamr.utils.plot import scalar_colormap\n\n# Configure seaborn style (context=talk)\nsns.set(style=\"white\")\n\n# Set matplotlib\nmpl.rcParams['xtick.labelsize'] = 9\nmpl.rcParams['ytick.labelsize'] = 9\nmpl.rcParams['axes.titlesize'] = 11\nmpl.rcParams['legend.fontsize'] = 9\n\n# Pandas configuration\npd.set_option('display.max_colwidth', 40)\npd.set_option('display.width', 300)\npd.set_option('display.precision', 4)\n\n# Numpy configuration\nnp.set_printoptions(precision=2)\n\n# --------------------------------------------------------------------\n#                               Main\n# --------------------------------------------------------------------\n# Load data\ndata, antibiotics, organisms = load_data_mimic()\n\n# Count records per specimen code\nspecimen_code_count = data \\\n    .specimen_code.value_counts(normalize=True) \\\n    .sort_values(ascending=False)\n\n# Filter most frequent specimens\ndata = data[data.specimen_code.isin( \\\n    specimen_code_count.index.values[:5])]\n\n# -------------------\n# Compute SARI\n# -------------------\n# Create sari instance\nsari = SARI(groupby=['specimen_code',\n                     'microorganism_name',\n                     'antimicrobial_name',\n                     'sensitivity'])\n\n# Compute SARI overall\nsari_overall = sari.compute(data,\n    return_frequencies=True)\n\n# Show\nprint(\"SARI (overall):\")\nprint(sari_overall)\n\n# ------------------------------\n# Include registry information\n# ------------------------------\n# Load registry\nmreg = MicroorganismRegistry()\n\n# Format sari dataframe\ndataframe = sari_overall.copy(deep=True)\ndataframe = dataframe.reset_index()\n\n# Create genus and species\ndataframe[['genus', 'species']] = \\\n    dataframe.microorganism_name \\\n        .str.capitalize() \\\n        .str.split(expand=True, n=1)\n\n# Combine with registry information\ndataframe = mreg.combine(dataframe)\n\n# Fill missing gram stain\ndataframe.gram_stain = dataframe.gram_stain.fillna('u')\n\nprint(dataframe.P)\nprint(dataframe.dtypes)\n\n# -------------------------------\n# Compute ASAI\n# -------------------------------\n# Create asai instance\nasai = ASAI(column_genus='genus',\n            column_specie='species',\n            column_resistance='sari',\n            column_frequency='freq')\n\n# Compute\nscores = asai.compute(dataframe,\n    groupby=['specimen_code',\n             'antimicrobial_name',\n             'gram_stain'],\n    weights='uniform',\n    threshold=0.5,\n    min_freq=0)\n\n# Stack\nscores = scores.unstack()\n\n# .. note: In order to sort the scores we need to compute metrics\n#          that combine the different subcategories (e.g. gram-negative\n#          and gram-positive). Two possible options are: (i) use the\n#          gmean or (ii) the width.\n# Measures\nscores['width'] = np.abs(scores['ASAI_SCORE'].sum(axis=1))\nscores['gmean'] = np.sqrt(scores['ASAI_SCORE'].product(axis=1))\n\n# Show\nprint(\"\\nASAI (overall):\")\nprint(scores)\n\n\n# -------------------------------------------\n# Plot\n# -------------------------------------------\n# Reset\nscores = scores.reset_index()\n\n# Loop\nfor specimen, df in scores.groupby(by='specimen_code'):\n\n    # Sort\n    df = df.sort_values(by='width', ascending=False)\n\n    # Show\n    print(\"\\n\\nASAI (%s)\" % specimen)\n    print(df)\n\n    # Variables to plot.\n    x = df.antimicrobial_name\n    y_n = df['ASAI_SCORE']['n'].values\n    y_p = df['ASAI_SCORE']['p'].values\n\n    # Constants\n    colormap_p = scalar_colormap(y_p, cmap='Blues', vmin=-0.1, vmax=1.1)\n    colormap_n = scalar_colormap(y_n, cmap='Reds', vmin=-0.1, vmax=1.1)\n\n    # ----------\n    # Example\n    # ----------\n    # This example shows an stacked figure using more than two categories.\n    # For instance, it uses gram-positive, gram-negative and gram-unknown.\n    # All the indexes go within the range [0,1].\n    # Create figure\n    f, ax = plt.subplots(1, 1, figsize=(5, 6))\n\n    # Plot\n    sns.barplot(x=y_p, y=x, palette=colormap_p, ax=ax, orient='h',\n        saturation=0.5, label='Gram-positive')\n    sns.barplot(x=-y_n, y=x, palette=colormap_n, ax=ax, orient='h',\n        saturation=0.5, label='Gram-negative')\n\n    # Configure\n    sns.despine(bottom=True)\n\n    # Format figure\n    plt.subplots_adjust(wspace=0.0, hspace=0.0)\n\n    # Set x-axis\n    ax.set_xlim([-1, 1])\n\n    # Adjust\n    plt.legend(loc=8)\n    plt.suptitle(specimen)\n    plt.tight_layout()\n\n# Show\nplt.show()"
      ]
    }
  ],
  "metadata": {
    "kernelspec": {
      "display_name": "Python 3",
      "language": "python",
      "name": "python3"
    },
    "language_info": {
      "codemirror_mode": {
        "name": "ipython",
        "version": 3
      },
      "file_extension": ".py",
      "mimetype": "text/x-python",
      "name": "python",
      "nbconvert_exporter": "python",
      "pygments_lexer": "ipython3",
      "version": "3.9.1"
    }
  },
  "nbformat": 4,
  "nbformat_minor": 0
}