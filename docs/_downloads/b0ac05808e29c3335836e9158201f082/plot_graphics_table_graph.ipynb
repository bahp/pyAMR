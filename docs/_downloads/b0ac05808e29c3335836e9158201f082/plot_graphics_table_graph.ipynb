{
  "cells": [
    {
      "cell_type": "code",
      "execution_count": null,
      "metadata": {
        "collapsed": false
      },
      "outputs": [],
      "source": [
        "%matplotlib inline"
      ]
    },
    {
      "cell_type": "markdown",
      "metadata": {},
      "source": [
        "\n# Graphics TableGraph example\n"
      ]
    },
    {
      "cell_type": "code",
      "execution_count": null,
      "metadata": {
        "collapsed": false
      },
      "outputs": [],
      "source": [
        "import os\nimport sys\nimport json\nimport copy\nimport numpy as np\nimport pandas as pd\nimport seaborn as sns\nimport matplotlib.pyplot as plt\nimport matplotlib.colors as colors\nimport matplotlib.patches as mpatches\nimport matplotlib.gridspec as gridspec\n\nfrom scipy import interp\n\nfrom matplotlib.colors import ListedColormap\n\nfrom pyamr.graphics.table_graph import TableGraph\n\n\"\"\"\n\n   Example of axis configuration\n   -----------------------------\n  { 'ax': None,\n    'ax_kwargs': {\n      'title':'Example 1',\n      'xlim':None,\n      'xsym':False,\n      'xticks':None,\n      'xline':[{'xv':0.05, 'bg':-1.0, 'cb':'y'}],\n    },\n    'cmap_kwargs': {\n      'vmin':None,\n      'vmax':None,\n      'vsym':False,\n      'cmap':'RdBu_r',\n      'midpoint':2.5\n    },\n    'scatter_kwargs': {\n      's':80,\n      'linewidths':0.75,\n      'edgecolor':'gray'\n    }\n  }\n\"\"\"\n\n# Create data\ndata = np.random.randint(100, size=(20, 3))\ndataframe = pd.DataFrame(data)\ndataframe.columns = ['c0', 'c1', 'c2']\n\n# Show\nprint(\"\\nData:\")\nprint(dataframe)\n\n# Create column configurations\nc0 = TableGraph().get_map_config(title='Column 0', cmap='Reds')\nc2 = TableGraph().get_map_config(title='Column 2', cmap='RdBu_r',\n                                 midpoint=50, xticks=[20, 40, 60, 80],\n                                 xline=[{'xv': 25, 'bg': 0}, {'xv': 75, 'bg': 100, 'cb': 'y'}])\n\n# Create configuration\nconfig = {}\nconfig['c0'] = c0\nconfig[2] = c2\n\n# Example with a DataFrame\naxes = TableGraph().plot(data=dataframe, configuration=config)\n\n# Example with numpy array\naxes = TableGraph().plot(data=data, configuration=config)\n\n# Show.\nplt.show()"
      ]
    }
  ],
  "metadata": {
    "kernelspec": {
      "display_name": "Python 3",
      "language": "python",
      "name": "python3"
    },
    "language_info": {
      "codemirror_mode": {
        "name": "ipython",
        "version": 3
      },
      "file_extension": ".py",
      "mimetype": "text/x-python",
      "name": "python",
      "nbconvert_exporter": "python",
      "pygments_lexer": "ipython3",
      "version": "3.7.9"
    }
  },
  "nbformat": 4,
  "nbformat_minor": 0
}