{
  "cells": [
    {
      "cell_type": "code",
      "execution_count": null,
      "metadata": {
        "collapsed": false
      },
      "outputs": [],
      "source": [
        "%matplotlib inline"
      ]
    },
    {
      "cell_type": "markdown",
      "metadata": {},
      "source": [
        "\n# SARI - Timeseries\n\n.. |1D30| replace:: 1D\\ :sub:`30`\n.. |1M1| replace:: 1M\\ :sub:`1`\n.. |3M1| replace:: 3M\\ :sub:`1`\n.. |1M30| replace:: 1M\\ :sub:`30`\n.. |7D4| replace:: 7D\\ :sub:`4`\n.. |1M12| replace:: 1M\\ :sub:`12`\n.. |1M6| replace:: 1M\\ :sub:`6`\n.. |1M3| replace:: 1M\\ :sub:`3`\n.. |12M1| replace:: 12M\\ :sub:`1`\n.. |SP| replace:: SHIFT\\ :sub:`period`\n\nIn order to study the temporal evolution of AMR, it is necessary to generate a resistance\ntime series from the susceptibility test data. This is often achieved by computing the\nresistance index on consecutive partitions of the data. Note that each partition contains\nthe susceptibility tests required to compute a resistance index. The traditional strategy\nof dealing with partitions considers independent time intervals (see yearly, monthly or\nweekly time series in Table 4.2). Unfortunately, this strategy forces to trade-off between\ngranularity (level of detail) and accuracy. On one side, weekly time series are highly\ngranular  but inaccurate. On the other hand, yearly time series are accurate but rough.\nNote that the granularity is represented by the number of observations in a time series\nwhile the accuracy is closely related with the number of susceptibility tests used to compute\nthe resistance index. Conversely, the overlapping time intervals strategy drops such dependence\nby defining a window of fixed size which is moved across time. The length of the window is\ndenoted as period and the time step as shift. For instance, three time series obtained using\nthe overlapping time intervals strategy with a monthly shift (1M) and window lengths of 12,\n6 and 3 have been presented for the sake of clarity (see |1M12|, |1M6| and |1M3| in Table 4.2).\n\n<img src=\"file://../../_static/imgs/timeseries-generation.png\" width=\"500\" align=\"center\" alt=\"Generation of Time-Series\">\n\nThe notation to define the time series generation methodology (|SP|) is described with\nvarious examples in Table 4.2. For instance, |7D4| defines a time series with weekly resistance\nindexes (7D) calculated using the microbiology records available for the previous four weeks\n(4x7D). It is important to note that some notations are equivalent representations of the same\nsusceptibility data at different granularities, hence their trends are comparable. As an example,\nthe trend estimated for |1M1| should be approximately thirty times the trend estimated for |1D30|.\n"
      ]
    },
    {
      "cell_type": "markdown",
      "metadata": {},
      "source": [
        "Let's see how to compute SARI time series with examples.\n\nWe first load the data and select one single pair for clarity.\n\n\n"
      ]
    },
    {
      "cell_type": "code",
      "execution_count": null,
      "metadata": {
        "collapsed": false
      },
      "outputs": [],
      "source": [
        "# Libraries\nimport numpy as np\nimport pandas as pd\nimport seaborn as sns\nimport matplotlib as mpl\nimport matplotlib.pyplot as plt\n\n# Import own libraries\nfrom pyamr.core.sari import sari\nfrom pyamr.datasets.load import load_data_nhs\n\n# -------------------------\n# Configuration\n# -------------------------\n# Configure seaborn style (context=talk)\nsns.set(style=\"white\")\n\n# Set matplotlib\nmpl.rcParams['xtick.labelsize'] = 9\nmpl.rcParams['ytick.labelsize'] = 9\nmpl.rcParams['axes.titlesize'] = 11\nmpl.rcParams['legend.fontsize'] = 9\n\n# Pandas configuration\npd.set_option('display.max_colwidth', 40)\npd.set_option('display.width', 300)\npd.set_option('display.precision', 4)\n\n# Numpy configuration\nnp.set_printoptions(precision=2)\n\n# -------------------------------------------\n# Load data\n# -------------------------------------------\n# Load data\ndata, antimicrobials, microorganisms = load_data_nhs()\n\n# Show\nprint(\"\\nData:\")\nprint(data)\nprint(\"\\nColumns:\")\nprint(data.columns)\nprint(\"\\nDtypes:\")\nprint(data.dtypes)\n\n# Filter\nidxs_spec = data.specimen_code.isin(['URICUL'])\nidxs_orgs = data.microorganism_code.isin(['ECOL'])\nidxs_abxs = data.antimicrobial_code.isin(['AAUG'])\n\n# Filter\ndata = data[idxs_spec & idxs_orgs & idxs_abxs]\n\n# Filter dates (2016-2018 missing)\ndata = data[data.date_received.between('2008-01-01', '2016-12-31')]"
      ]
    },
    {
      "cell_type": "markdown",
      "metadata": {},
      "source": [
        "## Independent Time Intervals (ITI)\n\nThis is the traditional method used in antimicrobial surveillance systems where\nthe time spans considered are independent; that is, they do not overlap (e.g.\nmonthly time series - |1M1| or yearly timeseries - |12M1|).\n\n"
      ]
    },
    {
      "cell_type": "code",
      "execution_count": null,
      "metadata": {
        "collapsed": false
      },
      "outputs": [],
      "source": [
        "# -------------------------------------------\n# Compute ITI sari (temporal)\n# -------------------------------------------\nfrom pyamr.core.sari import SARI\n\n# Create SARI instance\nsar = SARI(groupby=['specimen_code',\n                     'microorganism_code',\n                     'antimicrobial_code',\n                     'sensitivity'])\n\n# Create constants\nshift, period = '1M', 1\n\n# Compute sari timeseries\niti = sar.compute(data, shift=shift,\n    period=period, cdate='date_received')\n\n# Reset index\niti = iti.reset_index()\n\n\n# --------------\n# Plot\n# --------------\n# Create figure\nfig, axes = plt.subplots(2, 1, sharex=True,\n        gridspec_kw={'height_ratios': [2, 1]})\naxes = axes.flatten()\n\n# Plot line\nsns.lineplot(x=iti.date_received, y=iti.sari,\n    palette=\"tab10\", linewidth=0.75, linestyle='--',\n    marker='o', markersize=3, markeredgecolor='k',\n    markeredgewidth=0.5, markerfacecolor=None,\n    alpha=0.5, ax=axes[0])\n\n# Compute widths\nwidths = [d.days for d in np.diff(iti.date_received.tolist())]\n\n# Plot bars\naxes[1].bar(x=iti.date_received, height=iti.freq,\n    width=.8*widths[0], linewidth=0.75, alpha=0.5)\n\n# Configure\naxes[0].set(ylim=[-0.1, 1.1],\n    title='Time-series $%s_{%s}$' % (shift, period))\n\n# Despine\nsns.despine(bottom=True)\n\n# Tight layout\nplt.tight_layout()\n\n# Show\nprint(\"\\nTemporal (ITI):\")\nprint(iti)"
      ]
    },
    {
      "cell_type": "markdown",
      "metadata": {},
      "source": [
        "## Overlapping Time Intervals (OTI)\n\nThis method is defined as a fixed region which is moved across time to compute consecutive\nresistance indexes. It is described by two parameters |SP| where ``period`` denotes the\nlength of the window and ``shift`` the distance between consecutive windows. This approach\nit is more versatile and allows to include larger number of susceptibility tests when\ncomputing ``sari``. Therefore, this is useful in scenarios in which pairs do\nnot have a large number of records in the dataset.\n\nNote how the ``sari`` values are now larger than in the previous example!!\n\n\n"
      ]
    },
    {
      "cell_type": "code",
      "execution_count": null,
      "metadata": {
        "collapsed": false
      },
      "outputs": [],
      "source": [
        "# -------------------------------------------\n# Compute OTI sari (temporal)\n# -------------------------------------------\n# Variables\nshift, period = '30D', '180D'\n\n# Compute sari timeseries\noti = sar.compute(data, shift=shift,\n    period=period, cdate='date_received')\n\n# Reset index\noti = oti.reset_index()\n\n# --------------\n# Plot\n# --------------\n# Create figure\nfig, axes = plt.subplots(2, 1, sharex=True,\n        gridspec_kw={'height_ratios': [2, 1]})\naxes = axes.flatten()\n\n# Plot line\nsns.lineplot(x=oti.date_received, y=oti.sari,\n    palette=\"tab10\", linewidth=0.75, linestyle='--',\n    marker='o', markersize=3, markeredgecolor='k',\n    markeredgewidth=0.5, markerfacecolor=None,\n    alpha=0.5, ax=axes[0])\n\n# Compute widths\nwidths = [d.days for d in np.diff(oti.date_received.tolist())]\n\n# Plot bars\naxes[1].bar(x=oti.date_received, height=oti.freq,\n    width=.8*widths[0], linewidth=0.75, alpha=0.5)\n\n# Configure\naxes[0].set(ylim=[-0.1, 1.1],\n    title='Time-series $%s_{%s}$' % (shift, period))\n\n# Despine\nsns.despine(bottom=True)\n\n# Tight layout\nplt.tight_layout()\n\n# Show\nprint(\"\\nTemporal (OTI):\")\nprint(oti)"
      ]
    },
    {
      "cell_type": "markdown",
      "metadata": {},
      "source": [
        "## Important considerations\n\n\n.. warning ::\n\n    The rolling(window=w) just applies the function on w size windows. Note\n    however that it does not take into consideration the dates. Thus it could\n    be applying the mean operation on months Jan, Feb, May if there was not\n    data and therefore no entry in the dataframe for March. This issue can be\n    addressed in two different ways:\n      - setting the date_received as index and using w='3M'.\n      - resampling the dataframe so that all date entries appear. Note that\n        depending on the function applied we might want to fill gaps with\n        different values (e.g. NaN, 0, ...)\n\n    ``Implemented``\n\nAs mentioned before, by using the |SP| approach you can define both\nstrategies to generate time-series (ITI and OTI). The ITI strategy\nis limited in the number of samples that can be used to compute the\nindex and therefore you have to trade between granularity and\naccuracy whereas the latter is more flexible.\n\nFor instance, in examples with low number of records ``sari``  might\ngo up from barely 0.1 (in ITI) to 0.4 (in OTI) when more records are\nused. The most noticeable increase from |1M1| to |1M3|, that is when\ninstead of records for a month we considered records for three months\nand reached certain stability on |1M6| approximately (ish?).\n\n.. note ::\n  - Ideally shift and period same unit (eg. D).\n  - Period should be always larger than shift.\n\n"
      ]
    },
    {
      "cell_type": "code",
      "execution_count": null,
      "metadata": {
        "collapsed": false
      },
      "outputs": [],
      "source": [
        "# --------------------------------\n# Comparison\n# --------------------------------\n# Configuration\nshift = '30D'\n\n# Create figure\nf, axes = plt.subplots(2, 2, figsize=(10, 6), sharey=True)\naxes = axes.flatten()\n\n# Loop\nfor period in ['30D', '90D', '180D', '365D']:\n\n    # Compute sari time-series\n    iti = sar.compute(data, shift=period,\n        period=1, cdate='date_received')\n    oti = sar.compute(data, shift=shift,\n        period=period, cdate='date_received')\n\n    # Compute rolling mean\n    iti['sari_rolling'] = iti.sari.rolling(window=3,\n        win_type='gaussian', min_periods=1).mean(std=3)\n    oti['sari_rolling'] = oti.sari.rolling(window=3,\n        win_type='gaussian', min_periods=1).mean(std=3)\n\n    # Plot\n    sns.lineplot(data=iti, x='date_received', y='sari',\n                 linewidth=0.75, linestyle='--', ax=axes[0], marker='o',\n                 markersize=3, markeredgecolor='k', markeredgewidth=0.5,\n                 markerfacecolor=None, alpha=0.5,\n                 label='$%sM_{%s}$' % (period, 1))\n\n    sns.lineplot(data=oti, x='date_received', y='sari',\n                 linewidth=0.75, linestyle='--', ax=axes[1], marker='o',\n                 markersize=3, markeredgecolor='k', markeredgewidth=0.5,\n                 markerfacecolor=None, alpha=0.5,\n                 label='$%s_{%s}$' % (shift, period))\n\n    sns.lineplot(data=iti, x='date_received', y='sari_rolling',\n                 linewidth=0.75, ax=axes[2],\n                 label='$%s_{%s}$ - smooth' % (period, 1))\n\n    sns.lineplot(data=oti, x='date_received', y='sari_rolling',\n                 linewidth=0.75, ax=axes[3],\n                 label='$%s_{%s}$ - smooth' % (shift, period))\n\n# Configure\nsns.despine(bottom=True)\n\n# Configure axes\naxes[0].set(title='Independent Time Intervals')\naxes[1].set(title='Overlapping Time Intervals')\n\n# Adjust\nplt.tight_layout()\n\n# Show\nplt.show()"
      ]
    },
    {
      "cell_type": "markdown",
      "metadata": {},
      "source": [
        "Plotting multiple pairs using FaceGrid.\n\n\n"
      ]
    },
    {
      "cell_type": "code",
      "execution_count": null,
      "metadata": {
        "collapsed": false
      },
      "outputs": [],
      "source": [
        "\"\"\"\n# ----------------------\n# Facet Grid\n# ----------------------\n# Show\nprint(aux)\n\n# Create palette\npal = sns.cubehelix_palette(50, rot=-.25, light=.7)\n\n# Create\ng = sns.FacetGrid(data=aux, col=\"antimicrobial_code\",\n    hue=\"antimicrobial_code\", aspect=1.2, height=2,\n    sharex=True, sharey=True, palette=pal,\n    col_wrap=8)\n\n# Plot line\ng.map(sns.lineplot, \"date_received\", 'sari',\n      alpha=1, linewidth=1.5)\n\"\"\"\n\"\"\"\ng.map(plt.fill_between,\n      aux.date_received.values,\n      aux.sari.values)\n\"\"\"\n\"\"\"\n#g.map(label, \"x\")\n#g.set_titles(\"\")\n#g.set(yticks=[])\ng.set(xlabel='date')\ng.despine(bottom=True, left=True)\n\n# Show\nplt.show()\n\"\"\""
      ]
    }
  ],
  "metadata": {
    "kernelspec": {
      "display_name": "Python 3",
      "language": "python",
      "name": "python3"
    },
    "language_info": {
      "codemirror_mode": {
        "name": "ipython",
        "version": 3
      },
      "file_extension": ".py",
      "mimetype": "text/x-python",
      "name": "python",
      "nbconvert_exporter": "python",
      "pygments_lexer": "ipython3",
      "version": "3.9.1"
    }
  },
  "nbformat": 4,
  "nbformat_minor": 0
}