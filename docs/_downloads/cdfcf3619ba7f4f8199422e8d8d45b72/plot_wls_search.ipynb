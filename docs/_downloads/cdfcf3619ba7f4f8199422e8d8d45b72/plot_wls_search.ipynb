{
  "cells": [
    {
      "cell_type": "code",
      "execution_count": null,
      "metadata": {
        "collapsed": false
      },
      "outputs": [],
      "source": [
        "%matplotlib inline"
      ]
    },
    {
      "cell_type": "markdown",
      "metadata": {},
      "source": [
        "\n# WLS search\n\n.. note: Explain\n"
      ]
    },
    {
      "cell_type": "code",
      "execution_count": null,
      "metadata": {
        "collapsed": false
      },
      "outputs": [],
      "source": [
        "# Import class.\nimport sys\nimport numpy as np\nimport pandas as pd\nimport matplotlib as mpl\nimport matplotlib.pyplot as plt\nimport statsmodels.api as sm\nimport statsmodels.robust.norms as norms\n\n# import weights.\nfrom pyamr.datasets.load import make_timeseries\nfrom pyamr.core.regression.wls import WLSWrapper\nfrom pyamr.metrics.weights import SigmoidA\n\n# ----------------------------\n# set basic configuration\n# ----------------------------\n# Matplotlib options\nmpl.rc('legend', fontsize=6)\nmpl.rc('xtick', labelsize=6)\nmpl.rc('ytick', labelsize=6)\n\n# Set pandas configuration.\npd.set_option('display.max_colwidth', 14)\npd.set_option('display.width', 150)\npd.set_option('display.precision', 4)\n\n# ----------------------------\n# create data\n# ----------------------------\n# Create timeseries data\nx, y, f = make_timeseries()\n\n# -----------------------------\n# Example II\n# -----------------------------\n# This example performs grid search on a number of possible configurations\n# of the WLSWrapper. In particular, it tests the effect of different \n# objects to compute the weights from the frequencies. It presents both\n# the resulting pandas dataframe and also a figure.\n\n# Configuration\n# -------------\n# This variable contains the weight functions to test. Note that in \n# the norms module there are other options such as [norms.HuberT(), \n# norms.Hampel(), norms.TrimmedMean(), norms.TukeyBiweight(), \n# norms.AndreWave(), norms.RamsayE()]\nw_func = [\n    norms.LeastSquares(),\n    SigmoidA(r=200, g=0.5, offset=0.0, scale=1.0),\n    SigmoidA(r=200, g=0.5, offset=0.0, scale=1.0, percentiles=[10, 90]),\n    SigmoidA(r=200, g=0.5, offset=0.0, scale=1.0, percentiles=[25, 75]),\n    SigmoidA(r=200, g=0.5, offset=0.0, scale=1.0, percentiles=[25, 90]),\n    SigmoidA(r=200, g=0.5, offset=0.0, scale=1.0, percentiles=[40, 50])]\n\n# The grid search parameters.\ngrid_params = [\n    # {'exog': [x], 'endog': [y], 'trend': ['c']},\n    {'exog': [x], 'endog': [y], 'trend': ['c'], 'weights': [f], 'W': w_func}\n]\n\n# Grid search\n# ------------\n# Perform grid search.\nsummary = WLSWrapper(estimator=sm.WLS) \\\n    .grid_search(grid_params=grid_params)\n\n# Show grid results\n# ..todo: It is weird to create an WLSWrapper jut to\n#         be able to use themethod from_list_dataframe.\n#         try to implemented separately.\nprint(\"\\nGrid search:\")\nprint(WLSWrapper().from_list_dataframe(summary).T)\n\n# Prediction\n# ----------\n# Variables.\nstart, end = 10, 150\n\n# Create figure\nfig, axes = plt.subplots(1, 3, figsize=(10, 5))\n\n# Plot truth values.\naxes[0].plot(x, y, color='#A6CEE3', alpha=0.5, marker='o',\n             markeredgecolor='k', markeredgewidth=0.5,\n             markersize=5, linewidth=0.75, label='Observed')\n\n# Plot frequencies\naxes[0].bar(x, f, color='gray', alpha=0.7, label='Frequency')\n\n# For each of the models in summary\nfor i, model in enumerate(summary):\n\n    # Compute predictions.\n    preds = model.get_prediction(start=start, end=end)\n\n    # Plot forecasted values.\n    axes[0].plot(preds[0, :], preds[1, :],\n                 linewidth=1.0,\n                 label=model._identifier(short=True))\n\n    # Plot the confidence intervals.\n    axes[0].fill_between(preds[0, :],\n                         preds[2, :],\n                         preds[3, :],\n                         alpha=0.1)\n\n    # Plot weights assigned to each observation\n    axes[1].plot(model.weights, marker='o', alpha=0.5,\n                 markeredgecolor='k', markeredgewidth=0.5,\n                 markersize=4, linewidth=0.00,\n                 label=model._identifier(short=True))\n\n    # Plot weights converter (W) functions.\n    if model.W is not None:\n        axes[2].plot(np.linspace(0, 1, 100),\n                     model.W.weights(np.linspace(0, 1, 100)),\n                     label=model._identifier(short=True))\n\n# Grid.\naxes[0].grid(linestyle='--', linewidth=0.35, alpha=0.5)\naxes[1].grid(linestyle='--', linewidth=0.35, alpha=0.5)\naxes[2].grid(linestyle='--', linewidth=0.35, alpha=0.5)\n\n# Legend.\naxes[0].legend(loc=0)\naxes[1].legend(loc=0)\naxes[2].legend(loc=0)\n\n# Tight layout\nplt.tight_layout()\n\n# Show.\nplt.show()"
      ]
    }
  ],
  "metadata": {
    "kernelspec": {
      "display_name": "Python 3",
      "language": "python",
      "name": "python3"
    },
    "language_info": {
      "codemirror_mode": {
        "name": "ipython",
        "version": 3
      },
      "file_extension": ".py",
      "mimetype": "text/x-python",
      "name": "python",
      "nbconvert_exporter": "python",
      "pygments_lexer": "ipython3",
      "version": "3.9.1"
    }
  },
  "nbformat": 4,
  "nbformat_minor": 0
}