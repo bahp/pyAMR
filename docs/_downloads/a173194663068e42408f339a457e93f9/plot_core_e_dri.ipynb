{
  "cells": [
    {
      "cell_type": "code",
      "execution_count": null,
      "metadata": {
        "collapsed": false
      },
      "outputs": [],
      "source": [
        "%matplotlib inline"
      ]
    },
    {
      "cell_type": "markdown",
      "metadata": {},
      "source": [
        "\n# Drug Resistance Index (``DRI``)\n\nThe Drug Resistance Index or ``DRI`` measures changes through time in the proportion\nof disease-causing pathogens that are resistant to the antibiotics commonly used to\ntreat them. The annual percentage change in the ``DRI`` is a measure of the rate of\ndepletion of antibiotic effectiveness.\n\nSince antibiotic use may change over time in response to changing levels of\nantibiotic resistance, we compare trends in the index with the counterfactual\ncase, where antibiotic use remains fixed to a baseline year. A static-use ``DRI``\nallows assessment of the extent to which drug use has adapted in response to\nresistance and the burden that this resistance would have caused if antibiotic\nuse patterns had not changed. Changing antibiotic use patterns over time may\nmitigate the burden of antibiotic resistance. To incorporate changing trends\nin antibiotic use, we also construct an adaptive version of the ``DRI``.\n\nFor more information see: :py:mod:`pyamr.core.dri.DRI`\n"
      ]
    },
    {
      "cell_type": "code",
      "execution_count": null,
      "metadata": {
        "collapsed": false
      },
      "outputs": [],
      "source": [
        "# Libraries\nimport pandas as pd\n\n# ----------------------------------\n# Create data\n# ----------------------------------\n# Define susceptibility test records\nsusceptibility_records = [\n    ['2021-01-01', 'BLDCUL', 'ECOL', 'AAUG', 'sensitive'],\n    ['2021-01-01', 'BLDCUL', 'ECOL', 'AAUG', 'sensitive'],\n    ['2021-01-01', 'BLDCUL', 'ECOL', 'AAUG', 'sensitive'],\n    ['2021-01-01', 'BLDCUL', 'ECOL', 'AAUG', 'resistant'],\n    ['2021-01-02', 'BLDCUL', 'ECOL', 'AAUG', 'sensitive'],\n    ['2021-01-02', 'BLDCUL', 'ECOL', 'AAUG', 'sensitive'],\n    ['2021-01-02', 'BLDCUL', 'ECOL', 'AAUG', 'resistant'],\n    ['2021-01-03', 'BLDCUL', 'ECOL', 'AAUG', 'sensitive'],\n    ['2021-01-03', 'BLDCUL', 'ECOL', 'AAUG', 'resistant'],\n    ['2021-01-04', 'BLDCUL', 'ECOL', 'AAUG', 'resistant'],\n\n    ['2021-01-01', 'BLDCUL', 'ECOL', 'ACIP', 'sensitive'],\n    ['2021-01-01', 'BLDCUL', 'ECOL', 'ACIP', 'resistant'],\n    ['2021-01-01', 'BLDCUL', 'ECOL', 'ACIP', 'resistant'],\n    ['2021-01-01', 'BLDCUL', 'ECOL', 'ACIP', 'resistant'],\n    ['2021-01-02', 'BLDCUL', 'ECOL', 'ACIP', 'sensitive'],\n    ['2021-01-02', 'BLDCUL', 'ECOL', 'ACIP', 'resistant'],\n    ['2021-01-02', 'BLDCUL', 'ECOL', 'ACIP', 'resistant'],\n    ['2021-01-03', 'BLDCUL', 'ECOL', 'ACIP', 'sensitive'],\n    ['2021-01-03', 'BLDCUL', 'ECOL', 'ACIP', 'resistant'],\n    ['2021-01-04', 'BLDCUL', 'ECOL', 'ACIP', 'sensitive'],\n\n    ['2021-01-01', 'BLDCUL', 'SAUR', 'ACIP', 'resistant'],\n    ['2021-01-01', 'BLDCUL', 'SAUR', 'ACIP', 'resistant'],\n    ['2021-01-01', 'BLDCUL', 'SAUR', 'ACIP', 'resistant'],\n    ['2021-01-01', 'BLDCUL', 'SAUR', 'ACIP', 'resistant'],\n    ['2021-01-02', 'BLDCUL', 'SAUR', 'ACIP', 'sensitive'],\n    ['2021-01-02', 'BLDCUL', 'SAUR', 'ACIP', 'sensitive'],\n    ['2021-01-02', 'BLDCUL', 'SAUR', 'ACIP', 'resistant'],\n    ['2021-01-08', 'BLDCUL', 'SAUR', 'ACIP', 'sensitive'],\n    ['2021-01-08', 'BLDCUL', 'SAUR', 'ACIP', 'resistant'],\n    ['2021-01-08', 'BLDCUL', 'SAUR', 'ACIP', 'resistant'],\n    ['2021-01-08', 'BLDCUL', 'SAUR', 'ACIP', 'resistant'],\n    ['2021-01-08', 'BLDCUL', 'SAUR', 'ACIP', 'resistant'],\n    ['2021-01-08', 'BLDCUL', 'SAUR', 'ACIP', 'resistant'],\n    ['2021-01-09', 'BLDCUL', 'SAUR', 'ACIP', 'sensitive'],\n    ['2021-01-09', 'BLDCUL', 'SAUR', 'ACIP', 'sensitive'],\n    ['2021-01-09', 'BLDCUL', 'SAUR', 'ACIP', 'sensitive'],\n    ['2021-01-09', 'BLDCUL', 'SAUR', 'ACIP', 'sensitive'],\n    ['2021-01-09', 'BLDCUL', 'SAUR', 'ACIP', 'resistant'],\n\n    ['2021-01-12', 'URICUL', 'SAUR', 'ACIP', 'resistant'],\n    ['2021-01-12', 'URICUL', 'SAUR', 'ACIP', 'intermediate'],\n    ['2021-01-13', 'URICUL', 'SAUR', 'ACIP', 'resistant'],\n    ['2021-01-13', 'URICUL', 'SAUR', 'ACIP', 'sensitive'],\n    ['2021-01-14', 'URICUL', 'SAUR', 'ACIP', 'resistant'],\n    ['2021-01-14', 'URICUL', 'SAUR', 'ACIP', 'resistant'],\n    ['2021-01-15', 'URICUL', 'SAUR', 'ACIP', 'sensitive'],\n    ['2021-01-15', 'URICUL', 'SAUR', 'ACIP', 'sensitive'],\n    ['2021-01-16', 'URICUL', 'SAUR', 'ACIP', 'intermediate'],\n    ['2021-01-16', 'URICUL', 'SAUR', 'ACIP', 'intermediate'],\n]\n\n# Define prescription test records\nprescription_records = [\n    ['2021-01-01', 'PATIENT_1', 'AAUG', 150],\n    ['2021-01-02', 'PATIENT_1', 'AAUG', 221],\n    ['2021-01-03', 'PATIENT_1', 'AAUG', 152],\n\n    ['2021-01-01', 'PATIENT_2', 'AAUG', 254],\n    ['2021-01-02', 'PATIENT_2', 'AAUG', 325],\n    ['2021-01-03', 'PATIENT_2', 'AAUG', 356],\n\n    ['2021-01-01', 'PATIENT_3', 'ACIP', 457],\n    ['2021-01-02', 'PATIENT_3', 'ACIP', 428],\n    ['2021-01-03', 'PATIENT_3', 'ACIP', 459],\n\n    ['2021-01-01', 'PATIENT_4', 'ACIP', 50],\n    ['2021-01-02', 'PATIENT_4', 'ACIP', 50],\n    ['2021-01-03', 'PATIENT_4', 'ACIP', 50],\n\n]\n\n# Create DataFrames\nsusceptibility = pd.DataFrame(susceptibility_records,\n                              columns=['DATE',\n                                       'SPECIMEN',\n                                       'MICROORGANISM',\n                                       'ANTIMICROBIAL',\n                                       'SENSITIVITY'])\n\nprescriptions = pd.DataFrame(prescription_records,\n                             columns=['DATE',\n                                      'PATIENT',\n                                      'DRUG',\n                                      'DOSE'])\n\n# Format dates\nsusceptibility.DATE = pd.to_datetime(susceptibility.DATE)\nprescriptions.DATE = pd.to_datetime(prescriptions.DATE)"
      ]
    },
    {
      "cell_type": "markdown",
      "metadata": {},
      "source": [
        "Lets see the susceptibility test records\n\n"
      ]
    },
    {
      "cell_type": "code",
      "execution_count": null,
      "metadata": {
        "collapsed": false
      },
      "outputs": [],
      "source": [
        "susceptibility.head(5)"
      ]
    },
    {
      "cell_type": "markdown",
      "metadata": {},
      "source": [
        "Lets see the prescription records\n\n"
      ]
    },
    {
      "cell_type": "code",
      "execution_count": null,
      "metadata": {
        "collapsed": false
      },
      "outputs": [],
      "source": [
        "prescriptions.head(5)"
      ]
    },
    {
      "cell_type": "markdown",
      "metadata": {},
      "source": [
        "Lets create the summary table and compute the ``DRI``\n\n"
      ]
    },
    {
      "cell_type": "code",
      "execution_count": null,
      "metadata": {
        "collapsed": false
      },
      "outputs": [],
      "source": [
        "# ------------------------\n# Compute summary table\n# ------------------------\n# Libraries\nfrom pyamr.core.sari import SARI\n\n# Create sari instance\nsari = SARI(groupby=['DATE',\n                     'SPECIMEN',\n                     'MICROORGANISM',\n                     'ANTIMICROBIAL',\n                     'SENSITIVITY'])\n\n# Compute susceptibility summary table\nsmmry1 = sari.compute(susceptibility,\n                      return_frequencies=False)\n\n# Compute prescriptions summary table.\nsmmry2 = prescriptions \\\n    .groupby(by=['DATE', 'DRUG']) \\\n    .DOSE.sum().rename('use')\n\n# Combine both summary tables\nsmmry = smmry1.reset_index().merge(\n    smmry2.reset_index(), how='inner',\n    left_on=['DATE', 'ANTIMICROBIAL'],\n    right_on=['DATE', 'DRUG']\n)\n\n# -------------------------\n# Compute DRI\n# -------------------------\n# Librarie\nfrom pyamr.core.dri import DRI\n\n# Instance\nobj = DRI(\n    column_resistance='sari',\n    column_usage='use'\n)\n\n# Compute DRI overall\ndri1 = obj.compute(smmry)\n\n# Compute DRI\ndri2 = obj.compute(smmry,\n    groupby=['SPECIMEN'])\n\n# Compute DRI\ndri3 = obj.compute(smmry,\n    groupby=['MICROORGANISM'])\n\n# Compute DRI\ndri4 = obj.compute(smmry,\n    groupby=['MICROORGANISM', 'ANTIMICROBIAL'])\n\n# Compute DRI\ndri5 = obj.compute(smmry,\n    groupby=['DATE'],\n    return_usage=True)\n\n# Compute DRI\ndri6 = obj.compute(smmry,\n    groupby=['DATE', 'MICROORGANISM'],\n    return_usage=True)\n\n# Compute DRI\ndri7 = obj.compute(smmry,\n    groupby=['DATE', 'MICROORGANISM', 'ANTIMICROBIAL'],\n    return_usage=True,\n    return_complete=True)\n\n# Compute DRI (return all elements of summary table).\ndri8 = obj.compute(smmry,\n    groupby=['MICROORGANISM'],\n    return_complete=True)\n\n# Show\nprint(\"\\nDRI (1):\")\nprint(dri1)\nprint(\"\\nDRI (2):\")\nprint(dri2)\nprint(\"\\nDRI (3):\")\nprint(dri3)\nprint(\"\\nDRI (4):\")\nprint(dri4)\nprint(\"\\nDRI (5):\")\nprint(dri5)\nprint(\"\\nDRI (6):\")\nprint(dri6)\nprint(\"\\nDRI (7):\")\nprint(dri7)\nprint(\"\\nDRI (8):\")\nprint(dri8)"
      ]
    },
    {
      "cell_type": "markdown",
      "metadata": {},
      "source": [
        "Lets see the summary table\n\n"
      ]
    },
    {
      "cell_type": "code",
      "execution_count": null,
      "metadata": {
        "collapsed": false
      },
      "outputs": [],
      "source": [
        "smmry"
      ]
    },
    {
      "cell_type": "markdown",
      "metadata": {},
      "source": [
        "Lets see the sample ``4``.\n\n"
      ]
    },
    {
      "cell_type": "code",
      "execution_count": null,
      "metadata": {
        "collapsed": false
      },
      "outputs": [],
      "source": [
        "dri4.to_frame().round(decimals=3)"
      ]
    },
    {
      "cell_type": "markdown",
      "metadata": {},
      "source": [
        "Lets see the sample ``7`` with ``return_components=True``.\n\n"
      ]
    },
    {
      "cell_type": "code",
      "execution_count": null,
      "metadata": {
        "collapsed": false
      },
      "outputs": [],
      "source": [
        "dri7.rename(columns={\n    'MICROORGANISM': 'ORG',\n    'ANTIMICROBIAL': 'ABX'\n}).round(decimals=3)"
      ]
    },
    {
      "cell_type": "markdown",
      "metadata": {},
      "source": [
        "Lets see the sample ``8`` with ``return_complete=True``.\n\n"
      ]
    },
    {
      "cell_type": "code",
      "execution_count": null,
      "metadata": {
        "collapsed": false
      },
      "outputs": [],
      "source": [
        "dri8.rename(columns={\n    'MICROORGANISM': 'ORG',\n    'ANTIMICROBIAL': 'ABX'\n}).round(decimals=3)"
      ]
    },
    {
      "cell_type": "markdown",
      "metadata": {},
      "source": [
        "Lets compute the ``fixed`` index for comparison\n\n"
      ]
    },
    {
      "cell_type": "code",
      "execution_count": null,
      "metadata": {
        "collapsed": false
      },
      "outputs": [],
      "source": [
        "# --------------------------------------------\n# Compute DRI fixed\n# --------------------------------------------\n# Compute prescriptions on t0.\nuse_t0 = prescriptions \\\n    .groupby(by=['DATE', 'DRUG']) \\\n    .DOSE.sum().rename('use') \\\n    .to_frame().reset_index() \\\n    .groupby('DRUG').use.first()\n\n# Add to summary table\nsmmry = smmry.assign(use_t0=smmry.DRUG.map(use_t0))\n\n# Define groupby\ngroupby = [\n    'DATE',\n    'MICROORGANISM'\n]\n\n# Compute DRI\ndri9a = obj.compute(smmry,\n                    groupby=groupby,\n                    return_usage=True)\n\n# Compute DRI using new USE\ndri9b = obj.compute(smmry,\n                    groupby=groupby,\n                    return_usage=True,\n                    column_usage='use_t0')\n\n# aux = pd.concat([dri9a, dri9b], axis=1)\naux = dri9a.merge(dri9b,\n                  left_index=True, right_index=True,\n                  suffixes=['', '_fixed'])\n\n# Concatenate (series)\n# aux = pd.concat([\n#    dri9a.rename('dri'),\n#    dri9b.rename('dri_fixed')], axis=1)\n\n# Show\nprint(\"\\n\\n\")\nprint(\"\\nSummary (variable):\")\nprint(smmry)\nprint(\"\\nDRI (9):\")\nprint(aux)"
      ]
    },
    {
      "cell_type": "markdown",
      "metadata": {},
      "source": [
        "Lets see the new summary (added old use column <old> for comparison)\n\n"
      ]
    },
    {
      "cell_type": "code",
      "execution_count": null,
      "metadata": {
        "collapsed": false
      },
      "outputs": [],
      "source": [
        "smmry"
      ]
    },
    {
      "cell_type": "markdown",
      "metadata": {},
      "source": [
        "Lets see the results for both fixed and dynamic.\n\n"
      ]
    },
    {
      "cell_type": "code",
      "execution_count": null,
      "metadata": {
        "collapsed": false
      },
      "outputs": [],
      "source": [
        "aux"
      ]
    },
    {
      "cell_type": "markdown",
      "metadata": {},
      "source": [
        "Lets visualise it\n\n"
      ]
    },
    {
      "cell_type": "code",
      "execution_count": null,
      "metadata": {
        "collapsed": false
      },
      "outputs": [],
      "source": [
        "# --------------------------\n# Plot\n# --------------------------\n# Libraries\nimport matplotlib.pyplot as plt\nimport seaborn as sns\n\n# Filter\nstacked = aux[['dri', 'dri_fixed']].stack().reset_index()\n\n# Display using relplot\nsns.relplot(data=stacked,\n    x='DATE', y=0, row='MICROORGANISM', hue='level_2',\n    # hue='event', style='event', col='region', palette='palette',\n    #height=4, aspect=2.0,\n    kind='line', linewidth=1.00, markersize=6, marker='o'\n)\n\n# Show\nplt.show()"
      ]
    },
    {
      "cell_type": "markdown",
      "metadata": {},
      "source": [
        "<div class=\"alert alert-info\"><h4>Note</h4><p>The summary table for the prescriptions data computed above\n          aggregated the values in the column ``dose`` which indicates the\n          specific dose delivered to the patient. In many scenarios, this\n          information might not be available or dosage units might vary (e.g.\n          mg or ml). A possible workaround is to count the number of\n          entries in the prescriptions data by using ``DOSE.count()`` but\n          this workaround should be use with caution.</p></div>\n\n"
      ]
    }
  ],
  "metadata": {
    "kernelspec": {
      "display_name": "Python 3",
      "language": "python",
      "name": "python3"
    },
    "language_info": {
      "codemirror_mode": {
        "name": "ipython",
        "version": 3
      },
      "file_extension": ".py",
      "mimetype": "text/x-python",
      "name": "python",
      "nbconvert_exporter": "python",
      "pygments_lexer": "ipython3",
      "version": "3.7.9"
    }
  },
  "nbformat": 4,
  "nbformat_minor": 0
}