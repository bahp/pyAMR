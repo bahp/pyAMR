{
  "cells": [
    {
      "cell_type": "code",
      "execution_count": null,
      "metadata": {
        "collapsed": false
      },
      "outputs": [],
      "source": [
        "%matplotlib inline"
      ]
    },
    {
      "cell_type": "markdown",
      "metadata": {},
      "source": [
        "\n# ``DRI`` - Example using ``MIMIC``\n\nIn the field of healthcare, analyzing drug resistance in antimicrobial\nuse is crucial for understanding and combating the growing problem of\nantibiotic resistance. One example is the Drug Resistance Index o ``DRI``.\nIn this example, we compute such index using ``MIMIC``, comprehensive,\na widely-used and freely available healthcare database that contains\nde-identified electronic health records of over 60,000 intensive care unit\npatients. Within ``MIMIC``, researchers have access to rich information,\nincluding patient demographics, clinical notes, laboratory results, and\nmedication records. This dataset provides the necessary data, susceptibility\nand prescription information, to compute the drug resistance  index.\n\n<div class=\"alert alert-info\"><h4>Note</h4><p>In ``MIMIC``, the deidentification process for structured data\n          required the removal of dates. In particular, dates were shifted\n          into the future by a random offset for each individual patient in\n          a consistent manner to preserve intervals, resulting in stays which\n          occur sometime between the years 2100 and 2200. Time of day, day of\n          the week, and approximate seasonality were conserved during date\n          shifting.</p></div>\n"
      ]
    },
    {
      "cell_type": "code",
      "execution_count": null,
      "metadata": {
        "collapsed": false
      },
      "outputs": [],
      "source": [
        "# Define sphinx gallery configuration\n# sphinx_gallery_thumbnail_number = 2\n\n# Libraries\nimport sys\nimport warnings\nimport numpy as np\nimport pandas as pd\nimport seaborn as sns\nimport matplotlib as mpl\n\nfrom pathlib import Path\n\ntry:\n    __file__\n    TERMINAL = True\nexcept:\n    TERMINAL = False\n\n# -------------------------\n# Configuration\n# -------------------------\n# Params\nrc = {\n    'axes.linewidth': 0.5,\n    'axes.labelsize': 9,\n    'axes.titlesize': 11,\n    'xtick.labelsize': 7,\n    'ytick.labelsize': 7,\n}\n\n# Configure seaborn style (context=talk)\nsns.set_theme(style=\"white\", rc=rc)\n\n# Configure warnings\nwarnings.filterwarnings(\"ignore\",\n    category=pd.errors.DtypeWarning)\n\n# -------------------------------------------------------\n# Constants\n# -------------------------------------------------------\n# Rename columns for susceptibility\nrename_susceptibility = {\n    'chartdate': 'DATE',\n    'micro_specimen_id': 'LAB_NUMBER',\n    'spec_type_desc': 'SPECIMEN',\n    'org_name': 'MICROORGANISM',\n    'ab_name': 'ANTIMICROBIAL',\n    'interpretation': 'SENSITIVITY'\n}\n\n# Rename columns for prescriptions\nrename_prescriptions = {\n    'drug': 'DRUG'\n}"
      ]
    },
    {
      "cell_type": "markdown",
      "metadata": {},
      "source": [
        "First, we need to load the ``susceptibility`` test data\n\n"
      ]
    },
    {
      "cell_type": "code",
      "execution_count": null,
      "metadata": {
        "collapsed": false
      },
      "outputs": [],
      "source": [
        "# -----------------------------\n# Load susceptibility test data\n# -----------------------------\n# Helper\nsubset = rename_susceptibility.values()\n\n# Load data\npath = Path('../../pyamr/datasets/mimic')\ndata1 = pd.read_csv(path / 'susceptibility.csv')\n\n# Rename columns\ndata1 = data1.rename(columns=rename_susceptibility)\n\n# Format data\ndata1 = data1[subset]\ndata1 = data1.dropna(subset=subset, how='any')\ndata1.DATE = pd.to_datetime(data1.DATE)\ndata1.SENSITIVITY = data1.SENSITIVITY.replace({\n    'S': 'sensitive',\n    'R': 'resistant',\n    'I': 'intermediate',\n    'P': 'pass'\n})"
      ]
    },
    {
      "cell_type": "code",
      "execution_count": null,
      "metadata": {
        "collapsed": false
      },
      "outputs": [],
      "source": [
        "data1.head(5)"
      ]
    },
    {
      "cell_type": "markdown",
      "metadata": {},
      "source": [
        "Lets also load the ``prescriptions`` (could be also overall usage) data\n\n"
      ]
    },
    {
      "cell_type": "code",
      "execution_count": null,
      "metadata": {
        "collapsed": false
      },
      "outputs": [],
      "source": [
        "# ----------------------------\n# Load prescriptions\n# ----------------------------\n# Load prescription data (limited to first nrows).\ndata2 = pd.read_csv(path / 'prescriptions.csv', nrows=100000)\ndata2 = data2.rename(columns=rename_prescriptions)\n\n# Format data\ndata2.DRUG = data2.DRUG.str.upper()\ndata2['DATE'] = pd.to_datetime(data2.starttime)\ndata2 = data2.dropna(subset=['DATE'], how='any')\n\n# .. note:: We are only keeping those DRUGS which have\n#           the exact name of the antimicrobial tested\n#           in the susceptibility test record. There are\n#           also brand names that could/should be\n#           included\n\n# Filter\ndata2 = data2[data2.DRUG.isin(data1.ANTIMICROBIAL.unique())]"
      ]
    },
    {
      "cell_type": "code",
      "execution_count": null,
      "metadata": {
        "collapsed": false
      },
      "outputs": [],
      "source": [
        "print(data2)"
      ]
    },
    {
      "cell_type": "markdown",
      "metadata": {},
      "source": [
        "Lets rename the variables.\n\n"
      ]
    },
    {
      "cell_type": "code",
      "execution_count": null,
      "metadata": {
        "collapsed": false
      },
      "outputs": [],
      "source": [
        "# Rename variables\nsusceptibility, prescriptions = data1, data2\n\n# Show\nif TERMINAL:\n    print(\"\\nSusceptibility:\")\n    print(susceptibility.head(10))\n    print(\"\\nPrescriptions:\")\n    print(prescriptions.head(10))"
      ]
    },
    {
      "cell_type": "markdown",
      "metadata": {},
      "source": [
        "Now we need to create a summary table including the resistance\nvalue, which will be computed using ``SARI`` and the usage which\nwill be computed manually. This summary table is required as a\npreliminary step to compute the ``DRI``.\n\n"
      ]
    },
    {
      "cell_type": "code",
      "execution_count": null,
      "metadata": {
        "collapsed": false
      },
      "outputs": [],
      "source": [
        "# ------------------------\n# Compute summary table\n# ------------------------\n# Libraries\nfrom pyamr.core.sari import SARI\n\n# Create sari instance\nsari = SARI(groupby=[\n    susceptibility.DATE.dt.year,\n    #'SPECIMEN',\n    'MICROORGANISM',\n    'ANTIMICROBIAL',\n    'SENSITIVITY']\n)\n\n# Compute susceptibility summary table\nsmmry1 = sari.compute(susceptibility,\n    return_frequencies=True)\n\n# .. note:: We are counting the number of rows as an indicator\n#           of prescriptions. However, it would be possible to\n#           sum the doses (with caution due to units, ...)\n\n# Compute prescriptions summary table.\nsmmry2 = prescriptions \\\n    .groupby(by=[prescriptions.DATE.dt.year, 'DRUG']) \\\n    .DRUG.count().rename('use')\n    #.DOSE.sum().rename('use')\nsmmry2.index.names = ['DATE', 'ANTIMICROBIAL']\n\n# Combine both summary tables\nsmmry = smmry1.reset_index().merge(\n    smmry2.reset_index(), how='inner',\n    left_on=['DATE', 'ANTIMICROBIAL'],\n    right_on=['DATE', 'ANTIMICROBIAL']\n)\n\n# Show\nif TERMINAL:\n    print(\"\\nSummary:\")\n    print(smmry)"
      ]
    },
    {
      "cell_type": "code",
      "execution_count": null,
      "metadata": {
        "collapsed": false
      },
      "outputs": [],
      "source": [
        "smmry"
      ]
    },
    {
      "cell_type": "markdown",
      "metadata": {},
      "source": [
        "Lets compute the ``DRI``\n\n"
      ]
    },
    {
      "cell_type": "code",
      "execution_count": null,
      "metadata": {
        "collapsed": false
      },
      "outputs": [],
      "source": [
        "# -------------------------\n# Compute DRI\n# -------------------------\n# Libraries\nfrom pyamr.core.dri import DRI\n\n# Instance\nobj = DRI(\n    column_resistance='sari',\n    column_usage='use'\n)\n\n# Compute overall DRI\ndri1 = obj.compute(smmry,\n    groupby=['DATE'],\n    return_usage=True)\n\n# Compute DRI by organism\ndri2 = obj.compute(smmry,\n    groupby=['DATE', 'MICROORGANISM'],\n    return_usage=True)\n\n\nif TERMINAL:\n    print(\"DRI overall:\")\n    print(dri1)\n    print(\"DRI by microorganism:\")\n    print(dri2)"
      ]
    },
    {
      "cell_type": "code",
      "execution_count": null,
      "metadata": {
        "collapsed": false
      },
      "outputs": [],
      "source": [
        "dri1"
      ]
    },
    {
      "cell_type": "code",
      "execution_count": null,
      "metadata": {
        "collapsed": false
      },
      "outputs": [],
      "source": [
        "dri2"
      ]
    },
    {
      "cell_type": "markdown",
      "metadata": {},
      "source": [
        "Lets visualise the overall ``DRI``.\n\n"
      ]
    },
    {
      "cell_type": "code",
      "execution_count": null,
      "metadata": {
        "collapsed": false
      },
      "outputs": [],
      "source": [
        "# --------------------------------------------\n# Plot\n# --------------------------------------------\n# Libraries\nimport matplotlib.pyplot as plt\nimport seaborn as sns\n\n# Display using relplot\ng = sns.relplot(data=dri1.reset_index(), x='DATE', y='dri',\n    height=2, aspect=3.0, kind='line',\n    linewidth=2, markersize=0, marker='o'\n)\n\nplt.tight_layout()"
      ]
    },
    {
      "cell_type": "markdown",
      "metadata": {},
      "source": [
        "Lets visualise the microorganism-wise ``DRI``.\n\n"
      ]
    },
    {
      "cell_type": "code",
      "execution_count": null,
      "metadata": {
        "collapsed": false
      },
      "outputs": [],
      "source": [
        "# --------------------------------------------\n# Format\n# --------------------------------------------\n# Copy results\naux = dri2.copy(deep=True)\n\n# Combine with summary\naux = aux.merge(smmry, how='left',\n    left_on=['DATE', 'MICROORGANISM'],\n    right_on=['DATE', 'MICROORGANISM'])\n\n# Find microorganisms with more samples\ntop = aux.groupby(by='MICROORGANISM') \\\n    .freq.sum().sort_values(ascending=False) \\\n    .head(4)\n\n# Filter by top microorganisms\naux = aux[aux.MICROORGANISM.isin(top.index)]\n\n# --------------------------------------------\n# Plot\n# --------------------------------------------\n# Display\ng = sns.relplot(data=aux,\n    x='DATE', y='dri', hue='MICROORGANISM',\n    row='MICROORGANISM', palette='rocket',\n    #style='event', col='region', palette='palette',\n    height=1.5, aspect=4.0, kind='line', legend=False,\n    linewidth=2, markersize=0, marker='o')\n\n\"\"\"\n# Iterate over each subplot to customize further\nfor title, ax in g.axes_dict.items():\n    ax.text(1., .85, title, transform=ax.transAxes,\n        fontsize=9, fontweight=\"normal\",\n        horizontalalignment='right')\n\"\"\"\n# Configure\ng.tight_layout()\ng.set_titles(\"{row_name}\")\n#g.set_titles(\"\")\n\n# Show\nplt.show()"
      ]
    },
    {
      "cell_type": "markdown",
      "metadata": {},
      "source": [
        "The top microorganisms are:\n\n"
      ]
    },
    {
      "cell_type": "code",
      "execution_count": null,
      "metadata": {
        "collapsed": false
      },
      "outputs": [],
      "source": [
        "top"
      ]
    },
    {
      "cell_type": "markdown",
      "metadata": {},
      "source": [
        "The results look as follows:\n\n"
      ]
    },
    {
      "cell_type": "code",
      "execution_count": null,
      "metadata": {
        "collapsed": false
      },
      "outputs": [],
      "source": [
        "aux.rename(columns={\n    'intermediate': 'I',\n    'sensitive': 'S',\n    'resistant': 'R',\n    'pass': 'P'\n}).round(decimals=2)"
      ]
    }
  ],
  "metadata": {
    "kernelspec": {
      "display_name": "Python 3",
      "language": "python",
      "name": "python3"
    },
    "language_info": {
      "codemirror_mode": {
        "name": "ipython",
        "version": 3
      },
      "file_extension": ".py",
      "mimetype": "text/x-python",
      "name": "python",
      "nbconvert_exporter": "python",
      "pygments_lexer": "ipython3",
      "version": "3.7.9"
    }
  },
  "nbformat": 4,
  "nbformat_minor": 0
}