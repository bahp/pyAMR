{
  "cells": [
    {
      "cell_type": "code",
      "execution_count": null,
      "metadata": {
        "collapsed": false
      },
      "outputs": [],
      "source": [
        "%matplotlib inline"
      ]
    },
    {
      "cell_type": "markdown",
      "metadata": {},
      "source": [
        "\n# SARI - Clustermap (by specimen)\n\n.. todo:: Explain...\n"
      ]
    },
    {
      "cell_type": "code",
      "execution_count": null,
      "metadata": {
        "collapsed": false
      },
      "outputs": [],
      "source": [
        "# Libraries\nimport sys\nimport numpy as np\nimport pandas as pd\nimport seaborn as sns\nimport matplotlib as mpl\nimport matplotlib.pyplot as plt\n\n# Import specific libraries\nfrom pyamr.core.sari import SARI\nfrom pyamr.core.freq import Frequency\nfrom pyamr.datasets.load import make_susceptibility\n\n# -------------------------\n# Configuration\n# -------------------------\n# Configure seaborn style (context=talk)\nsns.set(style=\"white\")\n\n# Set matplotlib\nmpl.rcParams['xtick.labelsize'] = 9\nmpl.rcParams['ytick.labelsize'] = 9\nmpl.rcParams['axes.titlesize'] = 11\nmpl.rcParams['legend.fontsize'] = 9\n\n# Pandas configuration\npd.set_option('display.max_colwidth', 40)\npd.set_option('display.width', 300)\npd.set_option('display.precision', 4)\n\n# Numpy configuration\nnp.set_printoptions(precision=2)\n\n# ------------------\n# Methods\n# ------------------\ndef get_category_colors(index, category, cmap='hls'):\n    \"\"\"This method creates the colors for the different elements in\n    categorical feature vector.\n\n    Parameters\n    ----------\n    values : array-like\n        The vector with the categorical values\n\n    cmap: string-like\n        The colormap to use\n\n    default: string-like\n        The color to be used for the first value. Note that this\n        value needs to appear first on the the sorted list, as such\n        it is recommended to set is as _default.\n\n    Returns\n    -------\n    \"\"\"\n    # Get categories\n    categories = index.get_level_values(category)\n    # Get unique elements\n    unique = np.unique(categories)\n    # Create the palette\n    palette = sns.color_palette(cmap, desat=0.5, n_colors=unique.shape[0])\n    # Create mappers from category to color\n    mapper = dict(zip(map(str, unique), palette))\n    # Create list with colors for each category\n    colors = pd.Series(categories, index=index).map(mapper)\n    # Return\n    return colors\n\n\n# ------------------------\n# Methods\n# ------------------------\ndef create_mapper(dataframe, column_key, column_value):\n    \"\"\"This method constructs a mapper\n\n    Parameters\n    ----------\n    dataframe: dataframe-like\n      The dataframe from which the columns are extracted\n\n    column_key: string-like\n      The name of the column with the values for the keys of the mapper\n\n    column_value: string-like\n      The name of the column with the values for the values of the mapper\n\n    Returns\n    -------\n    dictionary\n    \"\"\"\n    dataframe = dataframe[[column_key, column_value]]\n    dataframe = dataframe.drop_duplicates()\n    return dict(zip(dataframe[column_key], dataframe[column_value]))\n\n# -------------------------------------------\n# Load data\n# -------------------------------------------\n# Load data\ndata = make_susceptibility()\n\n# Show\nprint(\"\\nData:\")\nprint(data)\nprint(\"\\nColumns:\")\nprint(data.columns)\n\n# -------------------------------------------\n# Compute SARI\n# -------------------------------------------\n# Libraries\nfrom pyamr.core.sari import SARI\n\n# Create sari instance\nsari = SARI(groupby=['specimen_code',\n                     'microorganism_name',\n                     'antimicrobial_name',\n                     'sensitivity'])\n\n# Compute SARI overall\nsari_overall = sari.compute(data,\n    return_frequencies=True)\n\n# Show\nprint(\"SARI (overall):\")\nprint(sari_overall)\n\n\n# ------------------------------\n# Include registries information\n# ------------------------------\n# Libraries\nfrom pyamr.datasets.registries import MicroorganismRegistry\nfrom pyamr.datasets.registries import AntimicrobialRegistry\n\n# Load registry\nmreg = MicroorganismRegistry()\nareg = AntimicrobialRegistry()\n\n# Format sari dataframe\ndataframe = sari_overall.copy(deep=True)\ndataframe = dataframe.reset_index()\n\n# Create genus and species\ndataframe[['genus', 'species']] = \\\n    dataframe.microorganism_name \\\n        .str.capitalize() \\\n        .str.split(expand=True, n=1)\n\n# Combine with registry information\ndataframe = mreg.combine(dataframe, on='microorganism_name')\ndataframe = areg.combine(dataframe, on='antimicrobial_name')\n\nprint(dataframe.dtypes)\n\n# -------------------------------------------\n# Plot\n# -------------------------------------------\n# Reset\nsari_overall = dataframe.reset_index()\n\n# Count records per specimen\nspecimen_count = dataframe \\\n    .groupby('specimen_code').freq.sum() \\\n    .sort_values(ascending=False)\n\n# Show\nprint(\"Cultures:\")\nprint(specimen_count)\n\n# Filter\ndataframe = dataframe[dataframe \\\n    .specimen_code.isin( \\\n        specimen_count.index.values[:5])]\n\n# Loop\nfor specimen, df in dataframe.groupby(by='specimen_code'):\n\n    # -------------------------------\n    # Create matrix\n    # -------------------------------\n    # Filter\n    matrix = df.copy(deep=True)\n    matrix = df.reset_index()\n\n    # Pivot table\n    matrix = pd.pivot_table(matrix,\n         index=['microorganism_name', 'genus'],\n         columns=['antimicrobial_name', 'category'],\n         values='sari')\n\n    # Convert to percent\n    matrix = matrix * 100\n\n    # Create mask\n    mask = pd.isnull(matrix)\n\n    # Fill missing (error when computing distance)\n    matrix = matrix.fillna(1e-10)\n\n    # Show\n    print(\"\\n\\n\\nData (%s)\" % specimen)\n    print(matrix.astype(int))\n\n    # -------------------------------\n    # Plot\n    # -------------------------------\n    # Create colormap\n    cmap = sns.color_palette(\"Reds\", desat=0.5, n_colors=10)\n\n    # Row and col colors\n    col_colors = get_category_colors( \\\n        index=matrix.columns, category=matrix.columns.names[1])\n    row_colors = get_category_colors( \\\n        index=matrix.index, category=matrix.index.names[1])\n\n    # .. note: It is possible to also pass kwargs that would\n    #          be used by sns.heatmap function (annot, fmt,\n    #          annot_kws, ...\n    try:\n        # Plot cluster map\n        grid = sns.clustermap(data=matrix, vmin=0, vmax=100,\n            method='centroid', metric='euclidean', cmap=cmap,\n            linewidth=0.05, mask=mask, square=True,\n            row_colors=row_colors, col_colors=col_colors)\n    except Exception as e:\n        print(\"Exception: %s\" % e)\n\n    # Configuration\n    plt.suptitle('Antibiogram (clustered) - %s' % specimen, fontsize=12)\n    plt.tight_layout()\n\n# Show\nplt.show()"
      ]
    }
  ],
  "metadata": {
    "kernelspec": {
      "display_name": "Python 3",
      "language": "python",
      "name": "python3"
    },
    "language_info": {
      "codemirror_mode": {
        "name": "ipython",
        "version": 3
      },
      "file_extension": ".py",
      "mimetype": "text/x-python",
      "name": "python",
      "nbconvert_exporter": "python",
      "pygments_lexer": "ipython3",
      "version": "3.7.9"
    }
  },
  "nbformat": 4,
  "nbformat_minor": 0
}