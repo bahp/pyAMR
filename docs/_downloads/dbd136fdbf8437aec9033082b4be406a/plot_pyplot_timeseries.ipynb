{
  "cells": [
    {
      "cell_type": "markdown",
      "metadata": {},
      "source": [
        "\n# Plotly - Timeseries\n\n.. todo:: Explain and Simplify\n\n.. todo: Frequency might not be working?\n         Frequency can be computed as sum of columns.\n"
      ]
    },
    {
      "cell_type": "code",
      "execution_count": null,
      "metadata": {
        "collapsed": false
      },
      "outputs": [],
      "source": [
        "# Libraries\nimport sys\nimport glob\nimport numpy as np\nimport pandas as pd\nimport seaborn as sns\nimport matplotlib as mpl\nimport matplotlib.pyplot as plt\n\n# Import own libraries\nfrom pyamr.core.freq import Frequency\nfrom pyamr.datasets.load import load_data_nhs\n\n\"\"\"\n\n# --------------------------------------------------------------------\n#                               Main\n# --------------------------------------------------------------------\n# Load data\ndata, antibiotics, organisms = load_data_nhs()\n\n# Count records per specimen code\nspecimen_code_count = data \\\n    .groupby('laboratory_number').head(1) \\\n    .specimen_code.value_counts(normalize=True) \\\n    .sort_values(ascending=False)\n\n# Filter most frequent specimens\ndata = data[data.specimen_code.isin( \\\n    specimen_code_count.index.values[:1])]\n\n# -------------------------------------------\n# Compute Freq and SARI\n# -------------------------------------------\n# Create instance\nfreq = Frequency(column_antibiotic='antimicrobial_code',\n                 column_organism='microorganism_code',\n                 column_date='date_received',\n                 column_outcome='sensitivity')\n\n# Create daily frequency\ndaily = freq.compute(data, strategy='ITI',\n                      by_category='pairs',\n                      fs='1M')\n\ndaily['freq'] = daily.sum(axis=1)\n\nimport plotly.express as px\nimport pandas as pd\n\nprint(daily)\n\ndaily = daily.reset_index()\ndaily = daily[daily.SPECIE.isin(['ECOL', 'PSEUD']) &\n              daily.ANTIBIOTIC.isin(['AAUG'])]\n\n\n\nfig = px.bar(daily, x='DATE', y='freq',\n    title='Time Series with Range Slider and Selectors',\n    facet_col='SPECIE')\n\nfig.update_xaxes(\n    rangeslider_visible=True,\n    rangeselector=dict(\n        buttons=list([\n            dict(count=1, label=\"1m\", step=\"month\", stepmode=\"backward\"),\n            dict(count=6, label=\"6m\", step=\"month\", stepmode=\"backward\"),\n            dict(count=1, label=\"YTD\", step=\"year\", stepmode=\"todate\"),\n            dict(count=1, label=\"1y\", step=\"year\", stepmode=\"backward\"),\n            dict(step=\"all\")\n        ])\n    )\n)\n\nfig.show()\n\"\"\""
      ]
    }
  ],
  "metadata": {
    "kernelspec": {
      "display_name": "Python 3",
      "language": "python",
      "name": "python3"
    },
    "language_info": {
      "codemirror_mode": {
        "name": "ipython",
        "version": 3
      },
      "file_extension": ".py",
      "mimetype": "text/x-python",
      "name": "python",
      "nbconvert_exporter": "python",
      "pygments_lexer": "ipython3",
      "version": "3.9.1"
    }
  },
  "nbformat": 4,
  "nbformat_minor": 0
}