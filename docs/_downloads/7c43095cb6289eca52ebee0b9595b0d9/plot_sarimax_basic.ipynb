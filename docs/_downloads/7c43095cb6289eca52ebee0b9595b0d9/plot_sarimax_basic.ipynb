{
  "cells": [
    {
      "cell_type": "code",
      "execution_count": null,
      "metadata": {
        "collapsed": false
      },
      "outputs": [],
      "source": [
        "%matplotlib inline"
      ]
    },
    {
      "cell_type": "markdown",
      "metadata": {},
      "source": [
        "\n# SARIMAX basic\n\n.. todo: Explain\n\nSee `SARIMAX <https://www.statsmodels.org/stable/generated/statsmodels.tsa.statespace.sarimax.SARIMAX.html>`_\n"
      ]
    },
    {
      "cell_type": "code",
      "execution_count": null,
      "metadata": {
        "collapsed": false
      },
      "outputs": [],
      "source": [
        "# Import.\nimport sys\nimport warnings\nimport pandas as pd\nimport matplotlib as mpl\nimport matplotlib.pyplot as plt\n\n# Import sarimax\nfrom statsmodels.tsa.statespace.sarimax import SARIMAX\n\n\n# import weights.\nfrom pyamr.datasets.load import make_timeseries\nfrom pyamr.core.regression.sarimax import SARIMAXWrapper\n\n# Filter warnings\nwarnings.simplefilter(action='ignore', category=FutureWarning)\n\n# ----------------------------\n# set basic configuration\n# ----------------------------\n# Matplotlib options\nmpl.rc('legend', fontsize=6)\nmpl.rc('xtick', labelsize=6)\nmpl.rc('ytick', labelsize=6)\n\n# Set pandas configuration.\npd.set_option('display.max_colwidth', 14)\npd.set_option('display.width', 150)\npd.set_option('display.precision', 4)\n\n# ----------------------------\n# create data\n# ----------------------------\n# Create timeseries data\nx, y, f = make_timeseries()\n\n# Create exogenous variable\nexog = x\n\n# ----------------------------\n# fit the model\n# ----------------------------\n# Create specific sarimax model.\nsarimax = SARIMAXWrapper(estimator=SARIMAX)\\\n    .fit(endog=y[:80], exog=None, trend='ct',\n         seasonal_order=(1,0,1,12), order=(0,1,1),\n         disp=0)\n\n\n# Print series\nprint(\"\\nSeries:\")\nprint(sarimax.as_series())\n\n# Print summary.\nprint(\"\\nSummary:\")\nprint(sarimax.as_summary())\n\n# -----------------\n# Save & Load\n# -----------------\n# File location\n#fname = '../../examples/saved/arima-sample.pickle'\n\n# Save\n#arima.save(fname=fname)\n\n# Load\n#arima = ARIMAWrapper().load(fname=fname)\n\n\n# -----------------\n#  Predict and plot\n# -----------------\n# This example shows how to make predictions using the wrapper which has\n# been previously fitted. It also demonstrateds how to plot the resulting\n# data for visualization purposes. It shows two different types of\n# predictions:\n#    - dynamic predictions in which the prediction is done based on the\n#      previously predicted values. Note that for the case of ARIMA(0,1,1)\n#      it returns a line.\n#    - not dynamic in which the prediction is done based on the real\n#      values of the time series, no matter what the prediction was for\n#      those values.\n\n# Variables.\ns, e = 50, 120\n\n# Compute predictions\npreds_1 = sarimax.get_prediction(start=s, end=e, dynamic=False)\npreds_2 = sarimax.get_prediction(start=s, end=e, dynamic=True)\n\n# Create figure\nfig, axes = plt.subplots(1, 2, figsize=(8,3))\n\n# ----------------\n# Plot non-dynamic\n# ----------------\n# Plot truth values.\naxes[0].plot(y, color='#A6CEE3', alpha=0.5, marker='o',\n                markeredgecolor='k', markeredgewidth=0.5,\n                markersize=5, linewidth=0.75, label='Observed')\n\n# Plot forecasted values.\naxes[0].plot(preds_1[0,:], preds_1[1,:], color='#FF0000', alpha=1.00, \n            linewidth=2.0, label=sarimax._identifier())\n\n# Plot the confidence intervals.\naxes[0].fill_between(preds_1[0,:], preds_1[2,:], \n                                   preds_1[3,:], \n                                   color='#FF0000', \n                                   alpha=0.25)\n\n# ------------\n# Plot dynamic\n# ------------\n# Plot truth values.\naxes[1].plot(y, color='#A6CEE3', alpha=0.5, marker='o',\n                markeredgecolor='k', markeredgewidth=0.5,\n                markersize=5, linewidth=0.75, label='Observed')\n\n# Plot forecasted values.\naxes[1].plot(preds_2[0,:], preds_2[1,:], color='#FF0000', alpha=1.00, \n            linewidth=2.0, label=sarimax._identifier())\n\n# Plot the confidence intervals.\naxes[1].fill_between(preds_2[0,:], preds_2[2,:], \n                                   preds_2[3,:], \n                                   color='#FF0000', \n                                   alpha=0.25)\n\n# Configure axes\naxes[0].set_title(\"ARIMA non-dynamic\")\naxes[1].set_title(\"ARIMA dynamic\")\n\n# Format axes\naxes[0].grid(True, linestyle='--', linewidth=0.25)\naxes[1].grid(True, linestyle='--', linewidth=0.25)\n\n# Legend \naxes[0].legend()\naxes[1].legend()\n\n# Show\nplt.show()"
      ]
    }
  ],
  "metadata": {
    "kernelspec": {
      "display_name": "Python 3",
      "language": "python",
      "name": "python3"
    },
    "language_info": {
      "codemirror_mode": {
        "name": "ipython",
        "version": 3
      },
      "file_extension": ".py",
      "mimetype": "text/x-python",
      "name": "python",
      "nbconvert_exporter": "python",
      "pygments_lexer": "ipython3",
      "version": "3.9.1"
    }
  },
  "nbformat": 4,
  "nbformat_minor": 0
}