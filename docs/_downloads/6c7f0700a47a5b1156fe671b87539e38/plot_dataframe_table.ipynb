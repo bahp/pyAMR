{
  "cells": [
    {
      "cell_type": "code",
      "execution_count": null,
      "metadata": {
        "collapsed": false
      },
      "outputs": [],
      "source": [
        "%matplotlib inline"
      ]
    },
    {
      "cell_type": "markdown",
      "metadata": {},
      "source": [
        "\n# Table Scatterplot\n\nExample using your package\n"
      ]
    },
    {
      "cell_type": "code",
      "execution_count": null,
      "metadata": {
        "collapsed": false
      },
      "outputs": [],
      "source": [
        "# Libraries\nimport numpy as np\nimport pandas as pd\nimport seaborn as sns\nimport matplotlib.pyplot as plt\nimport matplotlib.gridspec as gridspec\n\nfrom matplotlib import colors\n\n# -----------------------------------------------------------\n# Helpers\n# -----------------------------------------------------------\nclass MidpointNormalize(colors.Normalize):\n    \"\"\"Normalise the colorbar so that diverging bars\n       work there way either side from a prescribed\n       midpoint value)\n\n    Example\n    -------\n        > MidpointNormalize(midpoint=0., vmin=-100, vmax=100)\n\n    \"\"\"\n\n    def __init__(self, vmin=None,\n                       vmax=None,\n                       midpoint=None,\n                       clip=False):\n        \"\"\"Constructor\n        \"\"\"\n        self.midpoint = midpoint\n        colors.Normalize.__init__(self, vmin, vmax, clip)\n\n    def __call__(self, value, clip=None):\n        \"\"\"Call\n\n        .. note: Ignoring masked values and all kind of edge cases\n                 to keep it simple.\n        \"\"\"\n        # I'm ignoring masked values and all kinds of edge cases to make a\n        # simple example...\n        x, y = [self.vmin,\n                self.midpoint,\n                self.vmax], [0, 0.5, 1]\n        return np.ma.masked_array(np.interp(value, x, y), np.isnan(value))\n\n\ndef vlinebgplot(ax, top, xv, bg=None):\n    \"\"\"This function adds a vertical line and background\n\n    Parameters\n    ----------\n    ax: matplotlib axes\n    top: float\n        The max y value\n    xv: float\n        The x value\n    bg: boolean\n        Whether to include a background\n\n    Returns\n    -------\n    \"\"\"\n    # Plot line.\n    ax.plot((xv, xv), (-1, top), color='gray',\n            linestyle='--', linewidth=1, zorder=0)\n\n    # Plot background.\n    if bg is not None:\n        cb = sns.color_palette(\"Set2\", 10)[1]\n        ax.fill_between([xv, bg], [-1, -1], [top, top],\n                        zorder=0, alpha=0.1, color=cb)\n\n# -------------------\n# PLOTTING SETTINGS\n# -------------------\n# Configuration for each columns\ninfo_sari = {\n  'cmap':'Reds',\n  'title':'SARI',\n  'xlim':[-0.1, 1.1],\n  'xticks':[0, 1],\n  'norm': colors.Normalize(vmin=0, vmax=1),\n}\n\ninfo_sari_lr = {\n  'cmap':'Reds',\n  'title':'SARI-lr',\n  'xlim':[-0.1, 1.1],\n  'xticks':[0, 1],\n  'norm': colors.Normalize(vmin=0, vmax=1),\n}\n\ninfo_sart = {\n  'cmap':'RdBu_r',\n  'title':'SART',\n  'xlim':[-1.2, 1.2],\n  'xticks':[-1, 1],\n  'norm': colors.Normalize(vmin=-1, vmax=1),\n}\n\ninfo_r2 = {\n  'cmap':'YlGn',\n  'title':'R2',\n  'xlim':[-0.15, 1.1],\n  'xticks':[0, 1],\n  'norm': colors.Normalize(vmin=0, vmax=1),\n}\n\ninfo_jb = {\n  'cmap':'YlGn',\n  'title':'Prob(JB)',\n  'xlim':[-0.1, 1.1],\n  'xticks':[0, 1],\n  'vline':[{'xv':0.05, 'bg':-0.1}],\n  'norm': colors.Normalize(vmin=0, vmax=1),\n}\n\ninfo_dw = {\n  'cmap':'YlGn_r',\n  'title':'DW',\n  'xlim':[-0.4, 4.4],\n  'xticks':[0, 2, 4],\n  'vline':[{'xv':0.8, 'bg':4.4}],\n  'norm': colors.Normalize(vmin=0, vmax=4),\n}\n\ninfo_freq = {\n  'cmap':'Blues',\n  'title':'Freq',\n  'xticks':[0,40000,80000],\n  'kwargs': {\n    's':80,\n    'vmin':0}\n}\n\ninfo_pearson = {\n  'cmap':'Reds',\n  'title':'Pearson',\n  'xlim':[-1.1, 1.1],\n  'xticks':[-1, 0, 1],\n  'vline':[{'xv':-0.5, 'bg':-1.1},\n           {'xv':0.5, 'bg':1.1}],\n  'norm': colors.Normalize(vmin=-1, vmax=1),\n}\n\ninfo_kendall = {\n  'cmap':'Reds',\n  'title':'Kendall',\n  'xlim':[-1.1, 1.1],\n  'xticks':[-1, 0, 1],\n  'vline':[{'xv':-0.5, 'bg':-1.1},\n           {'xv':0.5, 'bg':1.1}],\n  'norm': colors.Normalize(vmin=-1, vmax=1),\n}\n\ninfo_spearman = {\n  'cmap':'Reds',\n  'title':'Spearman',\n  'xlim':[-1.1, 1.1],\n  'xticks':[-1, 0, 1],\n  'vline':[{'xv':-0.5, 'bg':-1.1},\n           {'xv':0.5, 'bg':1.1}],\n  'norm': colors.Normalize(vmin=-1, vmax=1),\n}\n\ninfo_kurtosis = {\n  'cmap':'Reds',\n  'title':'Kurtosis',\n  #'xlim':[-1.1,1.1],\n  #'xticks':[-1,0,1],\n  'vline':[],\n  'norm': colors.Normalize(vmin=-1, vmax=1),\n}\n\ninfo_omnibus = {\n  'cmap':'Reds',\n  'title':'Omnibus',\n  'vline':[{'xv':0.05, 'bg':1.1}],\n  'norm': colors.Normalize(vmin=-1, vmax=1),\n}\n\ninfo_slope = {\n  'name':'x1_tprob',\n  'cmap':'YlGn_r',\n  'title':'P>|t| m',\n  'xlim':[-0.1, 1.1],\n  'xticks':[0, 1],\n  'vline':[{'xv':0.05, 'bg':1.1}],\n  'norm': MidpointNormalize(vmin=0, vmax=1, midpoint=0.5),\n}\n\ninfo_coefficient = {\n  'name':'c_tprob',\n  'cmap':'YlGn_r',\n  'title':'P>|t| n',\n  'xlim':[-0.1 ,1.1],\n  'xticks':[0, 1],\n  'vline':[{'xv':0.05, 'bg':11.1}],\n  'norm': MidpointNormalize(vmin=0, vmax=1, midpoint=0.5),\n}\n\ninfo_percent = {\n  'name':'freqo_abx',\n  'cmap':'Blues',\n  'title':'Percent',\n  'xlim':[7,9],\n  'xticks':[7, 9],\n  'vline':[],\n}\n\n# Now we combine all of them together. Note\n# that the key value corresponds to the name\n# of the column it should be applied to.\ninfo = {\n    'sari': info_sari,\n    'sart': info_sart,\n    'dw': info_dw,\n    'r2': info_r2,\n    'pearson': info_pearson,\n    'jb': info_jb,\n    'percent': info_percent,\n    'ptm': info_slope,\n    'ptn': info_coefficient\n}\n\n\n# -------------------------------------------\n# Main\n# -------------------------------------------\n# Create data\ndata = [[9, 'SAUR', 'TRI',  0.720,  0.100,  0.274, 0.112,  0.056,  0.000,  0.0,   -0.046,  7.189],\n        [8, 'SAUR', 'MUP',  0.084,  0.025, -0.007, 0.009,  0.064,  0.429,  0.0,   -0.499,  7.230],\n        [7, 'SAUR', 'ERY',  0.082,  0.260, -0.007, 0.092,  0.123,  0.414,  0.0,   -0.526,  8.604],\n        [6, 'SAUR', 'CLI',  0.058,  0.224, -0.016, 0.033,  0.099,  0.653,  0.0,   -0.468,  8.602],\n        [5, 'SAUR', 'RIF', -0.093,  0.017, -0.008, 0.056,  0.043,  0.436,  0.0,    0.217,  7.545],\n        [4, 'SAUR', 'PEN', -0.120,  0.894,  0.086, 0.262,  0.168,  0.022,  0.0,    0.439,  8.588],\n        [0, 'SAUR', 'CIP', -0.480,  0.200,  0.166, 0.545,  0.100,  0.002,  0.0,   -0.795,  7.562],\n        [1, 'SAUR', 'FUS', -0.480,  0.146,  0.094, 0.221,  0.038,  0.017,  0.0,   -0.033,  8.592],\n        [2, 'SAUR', 'MET', -0.480,  0.153,  0.174, 0.144,  0.090,  0.002,  0.0,   -0.621,  8.599],\n        [3, 'SAUR', 'TET', -0.480,  0.098,  0.184, 0.125,  0.045,  0.001,  0.0,    0.215,  7.606]]\n\n# Create dataframe\ndata = pd.DataFrame(data, columns=['idx', 'org', 'abx',\n    'sart', 'sari', 'r2', 'jb', 'dw', 'ptm', 'ptn',\n    'pearson', 'percent'])\n\n# Show\nprint(\"\\nData:\")\nprint(data)\n#print(\"\\nData stacked:\")\n#print(data.stack())\n\n# Filter features\ndata = data[data.columns[2:]]\n\n# -------------------------------------------\n# Pair Grid\n# -------------------------------------------\n# Create pair grid\ng = sns.PairGrid(data, x_vars=data.columns[1:],\n        y_vars=[\"abx\"], height=3, aspect=.45)\n\n# Draw a dot plot using the stripplot function\n# g.map(sns.stripplot, size=10, orient=\"h\", jitter=False,\n#      palette=\"flare_r\", linewidth=1, edgecolor=\"w\")\n\n# Set common features\ng.set(xlabel='', ylabel='')\n\n# Plot strips and format axes\nfor ax, c in zip(g.axes.flat, data.columns[1:]):\n\n    # Get information\n    d = info[c] if c in info else {}\n\n    # Display\n    # sns.stripplot(data=data, x=title, y='abx', size=10,\n    #    orient=\"h\", jitter=False, linewidth=0.75, ax=ax,\n    #    edgecolor=\"gray\", palette=d.get('cmap', None))\n    #    color='b')\n\n    # .. note: We need to use scatter plot if we want to\n    #          assign colors to the markers according to\n    #          their value.\n\n    # Using scatter plot\n    sns.scatterplot(data=data, x=c, y='abx', s=100,\n                    ax=ax, linewidth=0.75, edgecolor='gray',\n                    c=data[c], cmap=d.get('cmap', None),\n                    norm=d.get('norm', None))\n\n    # Plot vertical lines\n    for e in d.get('vline', []):\n        vlinebgplot(ax, top=data.shape[0], **e)\n\n    # Configure axes\n    ax.set(title=d.get('title', c),\n           xlim=d.get('xlim', None),\n           xticks=d.get('xticks', []),\n           xlabel='', ylabel='')\n    ax.tick_params(axis='y', which='both', length=0)\n    ax.xaxis.grid(False)\n    ax.yaxis.grid(b=True, which='major',\n                  color='gray', linestyle='-', linewidth=0.35)\n\n# Despine\nsns.despine(left=True, bottom=True)\n\n# Adjust layout\nplt.tight_layout()\n\n# Show\nplt.show()"
      ]
    }
  ],
  "metadata": {
    "kernelspec": {
      "display_name": "Python 3",
      "language": "python",
      "name": "python3"
    },
    "language_info": {
      "codemirror_mode": {
        "name": "ipython",
        "version": 3
      },
      "file_extension": ".py",
      "mimetype": "text/x-python",
      "name": "python",
      "nbconvert_exporter": "python",
      "pygments_lexer": "ipython3",
      "version": "3.9.1"
    }
  },
  "nbformat": 4,
  "nbformat_minor": 0
}