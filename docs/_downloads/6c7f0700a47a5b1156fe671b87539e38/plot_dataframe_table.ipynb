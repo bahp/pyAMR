{
  "cells": [
    {
      "cell_type": "code",
      "execution_count": null,
      "metadata": {
        "collapsed": false
      },
      "outputs": [],
      "source": [
        "%matplotlib inline"
      ]
    },
    {
      "cell_type": "markdown",
      "metadata": {},
      "source": [
        "\n# Table Scatterplot\n"
      ]
    },
    {
      "cell_type": "code",
      "execution_count": null,
      "metadata": {
        "collapsed": false
      },
      "outputs": [],
      "source": [
        "# Libraries\nimport numpy as np\nimport pandas as pd\nimport seaborn as sns\nimport matplotlib.pyplot as plt\nimport matplotlib.gridspec as gridspec\n\nfrom matplotlib import colors\n\n# Own libraries\nfrom pyamr.graphics.utils import MidpointNormalize\nfrom pyamr.graphics.utils import vlinebgplot\nfrom pyamr.graphics.table_graph import _DEFAULT_CONFIGURATION\n\n# -------------------------------------------\n# Main\n# -------------------------------------------\n\n# Create data\ndata = [\n    [9, 'SAUR', 'TRI',  0.720,  0.100,  0.274, 0.112,  0.056,  0.000,  0.0,   -0.046,  7.189],\n    [8, 'SAUR', 'MUP',  0.084,  0.025, -0.007, 0.009,  0.064,  0.429,  0.0,   -0.499,  7.230],\n    [7, 'SAUR', 'ERY',  0.082,  0.260, -0.007, 0.092,  0.123,  0.414,  0.0,   -0.526,  8.604],\n    [6, 'SAUR', 'CLI',  0.058,  0.224, -0.016, 0.033,  0.099,  0.653,  0.0,   -0.468,  8.602],\n    [5, 'SAUR', 'RIF', -0.093,  0.017, -0.008, 0.056,  0.043,  0.436,  0.0,    0.217,  7.545],\n    [4, 'SAUR', 'PEN', -0.120,  0.894,  0.086, 0.262,  0.168,  0.022,  0.0,    0.439,  8.588],\n    [0, 'SAUR', 'CIP', -0.480,  0.200,  0.166, 0.545,  0.100,  0.002,  0.0,   -0.795,  7.562],\n    [1, 'SAUR', 'FUS', -0.480,  0.146,  0.094, 0.221,  0.038,  0.017,  0.0,   -0.033,  8.592],\n    [2, 'SAUR', 'MET', -0.480,  0.153,  0.174, 0.144,  0.090,  0.002,  0.0,   -0.621,  8.599],\n    [3, 'SAUR', 'TET', -0.480,  0.098,  0.184, 0.125,  0.045,  0.001,  0.0,    0.215,  7.606]\n]\n\n# Create dataframe\ndata = pd.DataFrame(data, columns=['idx', 'org', 'abx',\n    'sart_m', 'sari', 'r2', 'jb', 'dw', 'ptm', 'ptn',\n    'pearson', 'percent'])\n\n# Show\nprint(\"\\nData:\")\nprint(data)\n\n# Filter features\ndata = data[data.columns[2:]]\n\n# -------------------------------------------\n# Pair Grid\n# -------------------------------------------\n# Create plotting configuration\ninfo = _DEFAULT_CONFIGURATION\ninfo['percent'] = {\n    'name': 'percent',\n    'cmap': 'Blues',\n    'title': 'Percent',\n    'xlim': [7, 9],\n    'xticks': [7, 9],\n    'vline': [],\n}\n\n# Create pair grid\ng = sns.PairGrid(data, x_vars=data.columns[1:],\n        y_vars=[\"abx\"], height=3, aspect=.45)\n\n# Draw a dot plot using the stripplot function\n# g.map(sns.stripplot, size=10, orient=\"h\", jitter=False,\n#      palette=\"flare_r\", linewidth=1, edgecolor=\"w\")\n\n# Set common features\ng.set(xlabel='', ylabel='')\n\n# Plot strips and format axes\nfor ax, c in zip(g.axes.flat, data.columns[1:]):\n\n    # Get information\n    d = info[c] if c in info else {}\n\n    # Display\n    # sns.stripplot(data=data, x=title, y='abx', size=10,\n    #    orient=\"h\", jitter=False, linewidth=0.75, ax=ax,\n    #    edgecolor=\"gray\", palette=d.get('cmap', None))\n    #    color='b')\n\n    # .. note: We need to use scatter plot if we want to\n    #          assign colors to the markers according to\n    #          their value.\n\n    # Using scatter plot\n    sns.scatterplot(data=data, x=c, y='abx', s=100, alpha=1,\n                    ax=ax, linewidth=0.75, edgecolor='gray',\n                    c=data[c], cmap=d.get('cmap', None),\n                    norm=d.get('norm', None))\n\n    # Plot vertical lines\n    for e in d.get('vline', []):\n        vlinebgplot(ax, top=data.shape[0], **e)\n\n    # Configure axes\n    ax.set(title=d.get('title', c),\n           xlim=d.get('xlim', None),\n           xticks=d.get('xticks', []),\n           xlabel='', ylabel='')\n    ax.tick_params(axis='y', which='both', length=0)\n    ax.xaxis.grid(False)\n    ax.yaxis.grid(visible=True, which='major',\n                  color='gray', linestyle='-', linewidth=0.35)\n    ax.set_axisbelow(True)\n\n# Despine\nsns.despine(left=True, bottom=True)\n\n# Adjust layout\nplt.tight_layout()\n\n# Show\nplt.show()"
      ]
    }
  ],
  "metadata": {
    "kernelspec": {
      "display_name": "Python 3",
      "language": "python",
      "name": "python3"
    },
    "language_info": {
      "codemirror_mode": {
        "name": "ipython",
        "version": 3
      },
      "file_extension": ".py",
      "mimetype": "text/x-python",
      "name": "python",
      "nbconvert_exporter": "python",
      "pygments_lexer": "ipython3",
      "version": "3.7.9"
    }
  },
  "nbformat": 4,
  "nbformat_minor": 0
}