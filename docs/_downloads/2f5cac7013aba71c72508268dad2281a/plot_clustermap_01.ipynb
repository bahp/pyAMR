{
  "cells": [
    {
      "cell_type": "code",
      "execution_count": null,
      "metadata": {
        "collapsed": false
      },
      "outputs": [],
      "source": [
        "%matplotlib inline"
      ]
    },
    {
      "cell_type": "markdown",
      "metadata": {},
      "source": [
        "\n# SARI - Clustermap (overall)\n\n.. todo:: Explain...\n"
      ]
    },
    {
      "cell_type": "code",
      "execution_count": null,
      "metadata": {
        "collapsed": false
      },
      "outputs": [],
      "source": [
        "# Libraries\nimport sys\nimport numpy as np \nimport pandas as pd \nimport seaborn as sns\nimport matplotlib as mpl\nimport matplotlib.pyplot as plt\n\n# Import own libraries\nfrom pyamr.core.sari import SARI\nfrom pyamr.core.freq import Frequency\nfrom pyamr.datasets.load import make_susceptibility\n\n# -------------------------\n# Configuration\n# -------------------------\n# Configure seaborn style (context=talk)\nsns.set(style=\"white\")\n\n# Set matplotlib\nmpl.rcParams['xtick.labelsize'] = 9\nmpl.rcParams['ytick.labelsize'] = 9\nmpl.rcParams['axes.titlesize'] = 11\nmpl.rcParams['legend.fontsize'] = 9\n\n# Pandas configuration\npd.set_option('display.max_colwidth', 40)\npd.set_option('display.width', 300)\npd.set_option('display.precision', 4)\n\n# Numpy configuration\nnp.set_printoptions(precision=2)\n\n\n# ------------------------\n# Methods\n# ------------------------\ndef create_mapper(dataframe, column_key, column_value):\n    \"\"\"This method constructs a mapper\n\n    Parameters\n    ----------\n    dataframe: dataframe-like\n      The dataframe from which the columns are extracted\n\n    column_key: string-like\n      The name of the column with the values for the keys of the mapper\n\n    column_value: string-like\n      The name of the column with the values for the values of the mapper\n\n    Returns\n    -------\n    dictionary\n    \"\"\"\n    dataframe = dataframe[[column_key, column_value]]\n    dataframe = dataframe.drop_duplicates()\n    return dict(zip(dataframe[column_key], dataframe[column_value]))\n\n# -------------------------------------------\n# Load data\n# -------------------------------------------\n# Load data\ndata = make_susceptibility()\n\n# Show\nprint(\"\\nData:\")\nprint(data)\nprint(\"\\nColumns:\")\nprint(data.columns)\n\n# -------------------------------------------\n# Compute Freq and SARI\n# -------------------------------------------\n# Create instance\nfreq = Frequency(column_antibiotic='antimicrobial_code',\n                 column_organism='microorganism_code',\n                 column_date='date_received',\n                 column_outcome='sensitivity')\n\n# Compute frequencies (overall)\nfreq_overall = freq.compute(data, by_category='pairs')\n\n# Compute SARI\nsari_overall = SARI(strategy='hard').compute(freq_overall)\n\n\n# -------------------------------------------\n# Plot antibiogram clustered\n# -------------------------------------------\n\n# -------------------------------\n# Create matrix\n# -------------------------------\n# Create mappers\nabx_map = create_mapper(data, 'antimicrobial_code', 'antimicrobial_class')\norg_map = create_mapper(data, 'microorganism_code', 'microorganism_genus')\n\n# Create matrix\nmatrix = sari_overall.reset_index()\nmatrix['microorganism_genus'] = matrix.SPECIE.map(org_map)\nmatrix['antimicrobial_class'] = matrix.ANTIBIOTIC.map(abx_map)\n\n# Pivot table\nmatrix = pd.pivot_table(matrix, values='sari',\n   index=['SPECIE', 'microorganism_genus'],\n   columns=['ANTIBIOTIC', 'antimicrobial_class'])\n\n# Convert to percent\nmatrix = matrix * 100\n\n# Create mask\nmask = pd.isnull(matrix)\n\n# Fill missing (error when computing distance)\nmatrix = matrix.fillna(1e-10)\n\n# Show\nprint(\"\\nData\")\nprint(matrix.astype(int))\n\n# ------------------\n# Plot\n# ------------------\ndef get_category_colors(index, category, cmap='hls'):\n    \"\"\"This method creates the colors for the different elements in\n    categorical feature vector.\n\n    Parameters\n    ----------\n    values : array-like\n        The vector with the categorical values\n\n    cmap: string-like\n        The colormap to use\n\n    default: string-like\n        The color to be used for the first value. Note that this\n        value needs to appear first on the the sorted list, as such\n        it is recommended to set is as _default.\n\n    Returns\n    -------\n    \"\"\"\n    # Get categories\n    categories = index.get_level_values(category)\n    # Get unique elements\n    unique = np.unique(categories)\n    # Create the palette\n    palette = sns.color_palette(cmap, desat=0.5, n_colors=unique.shape[0])\n    # Create mappers from category to color\n    mapper = dict(zip(map(str, unique), palette))\n    # Create list with colors for each category\n    colors = pd.Series(categories, index=index).map(mapper)\n    # Return\n    return colors\n\n# Create colormap\ncmap = sns.color_palette(\"Reds\", desat=0.5, n_colors=10)\n\n# Row and col colors\ncol_colors = get_category_colors( \\\n    index=matrix.columns, category=matrix.columns.names[1])\nrow_colors = get_category_colors( \\\n    index=matrix.index, category=matrix.index.names[1])\n\n# .. note: It is possible to also pass kwargs that would\n#          be used by sns.heatmap function (annot, fmt,\n#          annot_kws, ...\n\n# Plot cluster map\ngrid = sns.clustermap(data=matrix, vmin=0, vmax=100,\n    method='centroid', metric='euclidean', cmap=cmap,\n    linewidth=0.05, mask=mask,\n    row_colors=row_colors, col_colors=col_colors)\n\n# Configuration\nplt.suptitle('Antibiogram (clustered)', fontsize=12)\nplt.tight_layout()\n\n# Show\nplt.show()"
      ]
    }
  ],
  "metadata": {
    "kernelspec": {
      "display_name": "Python 3",
      "language": "python",
      "name": "python3"
    },
    "language_info": {
      "codemirror_mode": {
        "name": "ipython",
        "version": 3
      },
      "file_extension": ".py",
      "mimetype": "text/x-python",
      "name": "python",
      "nbconvert_exporter": "python",
      "pygments_lexer": "ipython3",
      "version": "3.7.7"
    }
  },
  "nbformat": 4,
  "nbformat_minor": 0
}