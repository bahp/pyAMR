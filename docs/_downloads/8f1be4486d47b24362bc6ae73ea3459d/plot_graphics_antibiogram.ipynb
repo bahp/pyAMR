{
  "cells": [
    {
      "cell_type": "markdown",
      "metadata": {},
      "source": [
        "\n# Graphics Antibiogram example\n"
      ]
    },
    {
      "cell_type": "code",
      "execution_count": null,
      "metadata": {
        "collapsed": false
      },
      "outputs": [],
      "source": [
        "# Libraries\nfrom __future__ import division\n\n# Libraries\nimport sys\nimport numpy as np\nimport pandas as pd\nimport seaborn as sns\nimport matplotlib as mpl\nimport matplotlib.pyplot as plt\n\n#\nfrom pyamr.graphics.antibiogram import Antibiogram\n\n\n# Configure seaborn style (context=talk)\nsns.set(style=\"white\")\n\n# Set matplotlib\nmpl.rcParams['xtick.labelsize'] = 9\nmpl.rcParams['ytick.labelsize'] = 9\nmpl.rcParams['axes.titlesize'] = 11\nmpl.rcParams['legend.fontsize'] = 9\n\n# Pandas configuration\npd.set_option('display.max_colwidth', 40)\npd.set_option('display.width', 300)\npd.set_option('display.precision', 4)\n\n# Numpy configuration\nnp.set_printoptions(precision=2)\n\n# -------------------------------------------------------------------------\n#                            helper methods\n# -------------------------------------------------------------------------\n\n\n# -------------------------------------------------------------------------\n#                                main\n# -------------------------------------------------------------------------\n# Data path.\npath = '../../pyamr/fixtures/fixture_antibiogram.csv'\n\n# -------------------------------\n# Load data\n# -------------------------------\n# Load\ndataframe = pd.read_csv(path)\n\n# -------------------------------\n# Create object\n# -------------------------------\n# Antibiogram plotter\nantibiogram = Antibiogram(column_organism='organismCode',\n                          column_antibiotic='antibioticCode',\n                          column_genus='specieName',\n                          column_category='antibioticClass',\n                          column_index='sari')\n\n# Fit antibiogram\nantibiogram = antibiogram.fit(dataframe)\n\n# ---------\n# Example 1\n# ----------\nantibiogram.plot(organisms=['ECOL', 'SAUR'], figsize=(15, 3))\n\n# ---------\n# Example 2\n# ---------\nantibiogram.plot(genera=['staphylococcus',\n                         'klebsiella',\n                         'streptococcus',\n                         'enterococcus',\n                         'enterobacter'],\n                 categories=None,\n                 method='weighted',\n                 metric='euclidean',\n                 figsize=(16, 9))\n\n# Show\nplt.show()"
      ]
    }
  ],
  "metadata": {
    "kernelspec": {
      "display_name": "Python 3",
      "language": "python",
      "name": "python3"
    },
    "language_info": {
      "codemirror_mode": {
        "name": "ipython",
        "version": 3
      },
      "file_extension": ".py",
      "mimetype": "text/x-python",
      "name": "python",
      "nbconvert_exporter": "python",
      "pygments_lexer": "ipython3",
      "version": "3.9.1"
    }
  },
  "nbformat": 4,
  "nbformat_minor": 0
}