{
  "cells": [
    {
      "cell_type": "code",
      "execution_count": null,
      "metadata": {
        "collapsed": false
      },
      "outputs": [],
      "source": [
        "%matplotlib inline"
      ]
    },
    {
      "cell_type": "markdown",
      "metadata": {},
      "source": [
        "\n# Frequency counts\n"
      ]
    },
    {
      "cell_type": "code",
      "execution_count": null,
      "metadata": {
        "collapsed": false
      },
      "outputs": [],
      "source": [
        "\"\"\"\n# -----------------------------------------------------------------------------\n#                                 CONSTANTS\n# -----------------------------------------------------------------------------\n# Paths\nfname_tests = \"freq_tests_pairs_year\"\nfname_isola = \"freq_isolates_pairs_year\"\nfpath_tests = \"../../results/microbiology/frequencies/%s.csv\" % fname_tests\nfpath_isola = \"../../results/microbiology/frequencies/%s.csv\" % fname_isola\n\n# Object\nfreq = Frequency()\n\n# Read data\ndff_tests = freq.load(fpath_tests)\ndff_isola = freq.load(fpath_isola)\ndff_reset = dff_tests.reset_index()\n\n# Basic dataframe.\n# IMPORTANT. Note that isolates refer to a single infectious organism which\n# is tested against many different anttibiotics. Hence the only way the sum\n# refers to isolate is by grouping the laboratory tests by infectious\n# organisms.\ndfy = pd.DataFrame()\ndfy['Tests'] = dff_tests['freq_ris'].groupby(level=[0]).sum()\ndfy['Isolates'] = dff_isola['freq'].groupby(level=[0]).sum()\ndfy['Tests/Isolates'] = dfy['Tests'].div(dfy['Isolates'])\ndfy['Antibiotics'] = dff_reset.groupby('dateReceived').antibioticCode.nunique()\ndfy['Organisms'] = dff_reset.groupby('dateReceived').organismCode.nunique()\n\n# Fill last row.\ndfy.loc['Total',:] = np.nan\ndfy.loc['Total','Tests'] = dfy['Tests'].sum(axis=0)\ndfy.loc['Total','Isolates'] = dfy['Isolates'].sum(axis=0)\ndfy.loc['Total','Tests/Isolates'] = dfy['Tests/Isolates'].mean()\ndfy.loc['Total','Antibiotics'] = dff_reset.antibioticCode.nunique()\ndfy.loc['Total','Organisms'] = dff_reset.organismCode.nunique()\n\n# Print dataframe.\nprint(\"\\n\\n\")\nprint(\"Pandas:\")\nprint(\"-------\")\nprint(dfy)\n\n# Print dataframe latex format.\nprint(\"\\n\\n\")\nprint(\"Latex:\")\nprint(\"-------\")\nprint(dfy.to_latex())\n\"\"\""
      ]
    }
  ],
  "metadata": {
    "kernelspec": {
      "display_name": "Python 3",
      "language": "python",
      "name": "python3"
    },
    "language_info": {
      "codemirror_mode": {
        "name": "ipython",
        "version": 3
      },
      "file_extension": ".py",
      "mimetype": "text/x-python",
      "name": "python",
      "nbconvert_exporter": "python",
      "pygments_lexer": "ipython3",
      "version": "3.7.9"
    }
  },
  "nbformat": 4,
  "nbformat_minor": 0
}