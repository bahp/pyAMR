{
  "cells": [
    {
      "cell_type": "code",
      "execution_count": null,
      "metadata": {
        "collapsed": false
      },
      "outputs": [],
      "source": [
        "%matplotlib inline"
      ]
    },
    {
      "cell_type": "markdown",
      "metadata": {},
      "source": [
        "\n# WLS basic\n\n.. note: Explain\n"
      ]
    },
    {
      "cell_type": "code",
      "execution_count": null,
      "metadata": {
        "collapsed": false
      },
      "outputs": [],
      "source": [
        "# Import class.\nimport sys\nimport numpy as np\nimport pandas as pd\nimport matplotlib as mpl\nimport matplotlib.pyplot as plt\nimport statsmodels.api as sm\nimport statsmodels.robust.norms as norms\n\n# import weights.\nfrom pyamr.datasets.load import make_timeseries\nfrom pyamr.core.regression.wls import WLSWrapper\nfrom pyamr.metrics.weights import SigmoidA\n\n# ----------------------------\n# set basic configuration\n# ----------------------------\n# Matplotlib options\nmpl.rc('legend', fontsize=6)\nmpl.rc('xtick', labelsize=6)\nmpl.rc('ytick', labelsize=6)\n\n# Set pandas configuration.\npd.set_option('display.max_colwidth', 14)\npd.set_option('display.width', 150)\npd.set_option('display.precision', 4)\n\n# ----------------------------\n# create data\n# ----------------------------\n# Create timeseries data\nx, y, f = make_timeseries()\n\n# Create method to compute weights from frequencies\nW = SigmoidA(r=200, g=0.5, offset=0.0, scale=1.0)\n\n# Note that the function fit will call M.weights(weights) inside and will\n# store the M converter in the instance. Therefore, the code execute is\n# equivalent to <weights=M.weights(f)> with the only difference being that\n# the weight converter is not saved.\nwls = WLSWrapper(estimator=sm.WLS).fit( \\\n    exog=x, endog=y, trend='c', weights=f,\n    W=W, missing='raise')\n\n# Print series.\nprint(\"\\nSeries:\")\nprint(wls.as_series())\n\n# Print regression line.\nprint(\"\\nRegression line:\")\nprint(wls.line(np.arange(10)))\n\n# Print summary.\nprint(\"\\nSummary:\")\nprint(wls.as_summary())\n\n# -----------------\n# Save & Load\n# -----------------\n# File location\n#fname = '../../examples/saved/wls-sample.pickle'\n\n# Save\n#wls.save(fname=fname)\n\n# Load\n#wls = WLSWrapper().load(fname=fname)\n\n# -------------\n#  Example I\n# -------------\n# This example shows how to make predictions using the wrapper and how\n# to plot the resultin data. In addition, it compares the intervales\n# provided by get_prediction (confidence intervals) and the intervals\n# provided by wls_prediction_std (prediction intervals). \n#\n# To Do: Implement methods to compute CI and PI (see regression).\n\n# Variables.\nstart, end = None, 180\n\n# Compute predictions (exogenous?). It returns a 2D array\n# where the rows contain the time (t), the mean, the lower\n# and upper confidence (or prediction?) interval.\npreds = wls.get_prediction(start=start, end=end)\n\n\n# Create figure\nfig, ax = plt.subplots(1, 1, figsize=(11,5))\n\n# Plotting confidence intervals\n# -----------------------------\n# Plot truth values.\nax.plot(x, y, color='#A6CEE3', alpha=0.5, marker='o',\n              markeredgecolor='k', markeredgewidth=0.5,\n              markersize=5, linewidth=0.75, label='Observed')\n\n# Plot forecasted values.\nax.plot(preds[0,:], preds[1, :], color='#FF0000', alpha=1.00,\n                linewidth=2.0, label=wls._identifier(short=True))\n\n# Plot the confidence intervals.\nax.fill_between(preds[0, :], preds[2, :],\n                             preds[3, :],\n                             color='r',\n                             alpha=0.1)\n\n# Legend\nplt.legend()\n\n# Show\nplt.show()"
      ]
    }
  ],
  "metadata": {
    "kernelspec": {
      "display_name": "Python 3",
      "language": "python",
      "name": "python3"
    },
    "language_info": {
      "codemirror_mode": {
        "name": "ipython",
        "version": 3
      },
      "file_extension": ".py",
      "mimetype": "text/x-python",
      "name": "python",
      "nbconvert_exporter": "python",
      "pygments_lexer": "ipython3",
      "version": "3.9.1"
    }
  },
  "nbformat": 4,
  "nbformat_minor": 0
}