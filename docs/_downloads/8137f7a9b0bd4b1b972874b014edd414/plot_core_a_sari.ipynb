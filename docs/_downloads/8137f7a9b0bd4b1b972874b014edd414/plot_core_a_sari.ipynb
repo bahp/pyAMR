{
  "cells": [
    {
      "cell_type": "markdown",
      "metadata": {},
      "source": [
        "\n# Single Antimicrobial Resistance (``SARI``)\n\nThe Single Antimicrobial Resistance Index or ``SARI`` describes the proportion\nof resistant isolates for a given set of susceptibility tests. It provides a\nvalue within the range [0, 1] where values close to one indicate high resistance.\nIt is agnostic to pathogen, antibiotic and/or time. The variables ``R``, ``I`` and\n``S`` represent the number of susceptibility tests with Resistant, Intermediate and\nSusceptible outcomes respectively. The definition might vary slightly since the\nintermediate category is not always considered.\n\nFor more information see: :py:mod:`pyamr.core.sari.SARI`\n"
      ]
    },
    {
      "cell_type": "code",
      "execution_count": null,
      "metadata": {
        "collapsed": false
      },
      "outputs": [],
      "source": [
        "# Libraries\nimport pandas as pd\nimport matplotlib as mpl\nimport matplotlib.pyplot as plt\n\n# Specific\nfrom pyamr.core.sari import SARI\nfrom pyamr.datasets.load import fixture\n\n# Set matplotlib\nmpl.rcParams['xtick.labelsize'] = 9\nmpl.rcParams['ytick.labelsize'] = 9\nmpl.rcParams['axes.titlesize'] = 11\nmpl.rcParams['legend.fontsize'] = 9\n\n# ----------------------------------\n# Methods\n# ----------------------------------\ndef own(aux, offset):\n    \"\"\"Add offset to hard\"\"\"\n    # Extract vectors\n    r = aux.resistant\n    i = aux.intermediate\n    s = aux.sensitive\n    # Compute\n    return ((r+i) / (r+i+s)) + offset\n\n# ----------------------------------\n# Create data\n# ----------------------------------\n# Load data\ndata = fixture(name='fixture_07.csv')\n\n# ---------------------------------\n# Compute SARI\n# ---------------------------------\n# Create SARI instance\nsari = SARI(groupby=['SPECIMEN',\n                     'MICROORGANISM',\n                     'ANTIMICROBIAL',\n                     'SENSITIVITY'])\n\n# Compute SARI overall (hard)\nsari_overall = sari.compute(data,\n    return_frequencies=False)\n\n# Compute SARI overall (soft)\nsari_overall_soft = sari.compute(data,\n    return_frequencies=False,\n    strategy='soft')\n\n# Compute SARI overall (own)\nsari_overall_own = sari.compute(data,\n    return_frequencies=False,\n    strategy=own,\n    offset=5)\n\n# Compute SARI temporal (ITI)\nsari_iti = sari.compute(data, shift='1D',\n    period='1D', cdate='DATE')\n\n# Compute SARI temporal (OTI)\nsari_oti = sari.compute(data, shift='1D',\n    period='2D', cdate='DATE')\n\n# Show\nprint(\"\\nSARI (overall):\")\nprint(sari_overall)\nprint(\"\\nSARI (iti):\")\nprint(sari_iti)\nprint(\"\\nSARI (oti):\")\nprint(sari_oti)"
      ]
    },
    {
      "cell_type": "markdown",
      "metadata": {},
      "source": [
        "Lets see the susceptibility test records.\n\n"
      ]
    },
    {
      "cell_type": "code",
      "execution_count": null,
      "metadata": {
        "collapsed": false
      },
      "outputs": [],
      "source": [
        "data.head(15)"
      ]
    },
    {
      "cell_type": "markdown",
      "metadata": {},
      "source": [
        "Let's display the ``overall_hard`` resistance.\n\n\n"
      ]
    },
    {
      "cell_type": "code",
      "execution_count": null,
      "metadata": {
        "collapsed": false
      },
      "outputs": [],
      "source": [
        "sari_overall.to_frame()"
      ]
    },
    {
      "cell_type": "markdown",
      "metadata": {},
      "source": [
        "Let's compare with the ``overall_soft`` resistance.\n\n\n"
      ]
    },
    {
      "cell_type": "code",
      "execution_count": null,
      "metadata": {
        "collapsed": false
      },
      "outputs": [],
      "source": [
        "sari_overall_soft.to_frame()"
      ]
    },
    {
      "cell_type": "markdown",
      "metadata": {},
      "source": [
        "Let's compare with the ``overall_own`` resistance.\n\n\n"
      ]
    },
    {
      "cell_type": "code",
      "execution_count": null,
      "metadata": {
        "collapsed": false
      },
      "outputs": [],
      "source": [
        "sari_overall_own.to_frame()"
      ]
    },
    {
      "cell_type": "markdown",
      "metadata": {},
      "source": [
        "Let's display the resistance time-series using ``independent`` time intervals (ITI)\n\n\n"
      ]
    },
    {
      "cell_type": "code",
      "execution_count": null,
      "metadata": {
        "collapsed": false
      },
      "outputs": [],
      "source": [
        "sari_iti"
      ]
    },
    {
      "cell_type": "markdown",
      "metadata": {},
      "source": [
        "Let's display the resistance time-series using ``overlapping`` time intervals (OTI)\n\n\n"
      ]
    },
    {
      "cell_type": "code",
      "execution_count": null,
      "metadata": {
        "collapsed": false
      },
      "outputs": [],
      "source": [
        "sari_oti"
      ]
    },
    {
      "cell_type": "markdown",
      "metadata": {},
      "source": [
        "<div class=\"alert alert-info\"><h4>Note</h4><p>On a side note, the variable *sari_overall* returned is a ``pd.Series``.\n          However, it has been converted to a ``pd.DataFrame`` for display purposes.\n          The ``sphinx`` library used to create the documentation uses the method\n          ``_repr_html_`` from the latter to display it nicely in the docs.</p></div>\n\n"
      ]
    },
    {
      "cell_type": "markdown",
      "metadata": {},
      "source": [
        "Let's display the information graphically\n"
      ]
    }
  ],
  "metadata": {
    "kernelspec": {
      "display_name": "Python 3",
      "language": "python",
      "name": "python3"
    },
    "language_info": {
      "codemirror_mode": {
        "name": "ipython",
        "version": 3
      },
      "file_extension": ".py",
      "mimetype": "text/x-python",
      "name": "python",
      "nbconvert_exporter": "python",
      "pygments_lexer": "ipython3",
      "version": "3.9.1"
    }
  },
  "nbformat": 4,
  "nbformat_minor": 0
}