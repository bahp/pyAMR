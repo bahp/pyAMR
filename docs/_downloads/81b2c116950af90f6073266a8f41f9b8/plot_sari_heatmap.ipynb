{
  "cells": [
    {
      "cell_type": "code",
      "execution_count": null,
      "metadata": {
        "collapsed": false
      },
      "outputs": [],
      "source": [
        "%matplotlib inline"
      ]
    },
    {
      "cell_type": "markdown",
      "metadata": {},
      "source": [
        "\n# SARI - Antibiogram\n\n.. todo:: Explain and Simplify\n\n.. todo: Frequency might not be working?\n         Frequency can be computed as sum of columns.\n"
      ]
    },
    {
      "cell_type": "code",
      "execution_count": null,
      "metadata": {
        "collapsed": false
      },
      "outputs": [],
      "source": [
        "# Libraries\nimport sys\nimport glob\nimport numpy as np \nimport pandas as pd \nimport seaborn as sns\nimport matplotlib as mpl\nimport matplotlib.pyplot as plt\n\n# Import own libraries\nfrom pyamr.core.sari import SARI\nfrom pyamr.datasets.load import load_data_mimic\n\n# -------------------------\n# Configuration\n# -------------------------\n# Configure seaborn style (context=talk)\nsns.set(style=\"white\")\n\n# Set matplotlib\nmpl.rcParams['xtick.labelsize'] = 9\nmpl.rcParams['ytick.labelsize'] = 9\nmpl.rcParams['axes.titlesize'] = 11\nmpl.rcParams['legend.fontsize'] = 9\n\n# Pandas configuration\npd.set_option('display.max_colwidth', 40)\npd.set_option('display.width', 300)\npd.set_option('display.precision', 4)\n\n# Numpy configuration\nnp.set_printoptions(precision=2)\n\n# --------------------------------------------------------------------\n#                               Main\n# --------------------------------------------------------------------\n# Load data\ndata, antibiotics, organisms = load_data_mimic()\n\n# Count records per specimen code\nspecimen_code_count = data \\\n    .groupby('laboratory_number').head(1) \\\n    .specimen_code.value_counts(normalize=True) \\\n    .sort_values(ascending=False)\n\n# Filter most frequent specimens\ndata = data[data.specimen_code.isin( \\\n    specimen_code_count.index.values[:5])]\n\n# Create sari instance\nsari = SARI(groupby=['specimen_code',\n                     'microorganism_name',\n                     'antimicrobial_name',\n                     'sensitivity'])\n\n# Compute SARI overall\nsari_overall = sari.compute(data,\n    return_frequencies=True)\n\n# Show\nprint(\"SARI (overall):\")\nprint(sari_overall)\n\n# -------------------------------------------\n# Plot\n# -------------------------------------------\n# Reset\nsari_overall = sari_overall.reset_index()\n\n# Loop\nfor specimen, df in sari_overall.groupby(by='specimen_code'):\n\n    # -------------\n    # Create matrix\n    # -------------\n    # Filter\n    matrix = df.copy(deep=True)\n    matrix = df.reset_index()\n    #matrix = matrix[matrix.freq > 100]\n\n    # Pivot table\n    matrix = pd.pivot_table(matrix,\n         index='microorganism_name',\n         columns='antimicrobial_name',\n         values='sari')\n\n    # ------------\n    # Plot Heatmap\n    # ------------\n    # Create figure\n    f, ax = plt.subplots(1, 1, figsize=(12, 12))\n\n    # Create colormap\n    cmap = sns.color_palette(\"Reds\", desat=0.5, n_colors=10)\n\n    # Specify cbar axes\n    # cbar_ax = f.add_axes([.925, .3, .05, .3])\n\n    # Plot\n    ax = sns.heatmap(data=matrix*100, annot=True, fmt=\".0f\",\n                     annot_kws={'fontsize': 7}, cmap=cmap,\n                     linewidth=0.5, vmin=0, vmax=100, ax=ax,\n                     #cbar_ax=cbar_ax,\n                     xticklabels=1, yticklabels=1)\n\n    # Configure axes\n    #ax.set(aspect=\"equal\")\n\n    # Set rotation\n    plt.yticks(rotation=0)\n\n    # Add title\n    plt.suptitle(\"Antibiogram (%s)\" % specimen, fontsize=15)\n\n    # Tight layout\n    plt.tight_layout()\n\n# Show\nplt.show()"
      ]
    }
  ],
  "metadata": {
    "kernelspec": {
      "display_name": "Python 3",
      "language": "python",
      "name": "python3"
    },
    "language_info": {
      "codemirror_mode": {
        "name": "ipython",
        "version": 3
      },
      "file_extension": ".py",
      "mimetype": "text/x-python",
      "name": "python",
      "nbconvert_exporter": "python",
      "pygments_lexer": "ipython3",
      "version": "3.9.1"
    }
  },
  "nbformat": 4,
  "nbformat_minor": 0
}