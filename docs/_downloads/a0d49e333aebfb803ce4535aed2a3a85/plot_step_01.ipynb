{
  "cells": [
    {
      "cell_type": "code",
      "execution_count": null,
      "metadata": {
        "collapsed": false
      },
      "outputs": [],
      "source": [
        "%matplotlib inline"
      ]
    },
    {
      "cell_type": "markdown",
      "metadata": {},
      "source": [
        "\n# Step 01 - Introduction\n"
      ]
    },
    {
      "cell_type": "markdown",
      "metadata": {},
      "source": [
        "## Loading data\n\n<img src=\"file://../../../_static/imgs/susceptibility-test-record.png\" width=\"200\" align=\"right\" alt=\"ASAI\">\n\nA ``Susceptibility test`` record (see figure 4.1) is composed by laboratory\nidentification number (LID), patient identification number (PID), date, sample\ntype, specimen or culture (e.g. blood or urine), pathogen, antimicrobial, reported\nstatus and outcome (resistant, sensitive or intermediate). In this research,\nthe susceptibility test data were grouped firstly by specimen type. Moreover,\nfor each sample type, the data were grouped by pairs (pathogen, antimicrobial)\nsince it is widely accepted by clinicians as detailed in the UK five year\nstrategy in AMR\n\nA small dataset will be used for this example.\n\n\n"
      ]
    },
    {
      "cell_type": "code",
      "execution_count": null,
      "metadata": {
        "collapsed": false
      },
      "outputs": [],
      "source": [
        "# Libraries\nimport numpy as np\nimport pandas as pd\nimport seaborn as sns\nimport matplotlib as mpl\nimport matplotlib.pyplot as plt\n\n# Import from pyAMR\nfrom pyamr.datasets.load import make_susceptibility\n\n# -------------------------------------------\n# Load data\n# -------------------------------------------\n# Load data\ndata = make_susceptibility()\ndata = data.drop_duplicates()\n\n# Show\nprint(\"\\nData:\")\nprint(data)\nprint(\"\\nColumns:\")\nprint(data.dtypes)\n\n# -------------------------------------------\n# Show a brief description\n# -------------------------------------------\n# .. todo: Compute basic information such as the number of unique organisms,\n#          antimicrobials, pairs, species, isolates, tests, the range of\n#          dates, ....\n\n# Show unique elements\nprint(\"\\nUnique values:\")\nfor c in ['microorganism_code',\n          'antimicrobial_code',\n          'specimen_code',\n          'laboratory_number']:\n    print('%-18s -> %5s' % (c, data[c].nunique()))"
      ]
    },
    {
      "cell_type": "markdown",
      "metadata": {},
      "source": [
        "## Computing SARI\n\nThe Single Antimicrobial Resistance Index - ``SARI`` - describes the proportion\nof resistant isolates for a given set of susceptibility tests. It provides a\nvalue within the range [0, 1] where values close to one indicate high resistance.\nIt is agnostic to pathogen, antibiotic and/or time. The variables ``R``, ``I`` and\n``S`` represent the number of susceptibility tests with Resistant, Intermediate and\nSusceptible outcomes respectively. The definition might vary slightly since the\nintermediate category is not always considered.\n\nThe parameter strategy accepts the following options:\n\n  - ``soft``   as R / R+I+S\n  - ``medium`` as R / R+S\n  - ``hard``  as R+I / R+I+S\n  - ``other``  as R+0.5I / R+0.5I+S\n\nFor more information see: :py:mod:`pyamr.core.sari.SARI`\n\nFor more examples see:\n\n  - `sphx_glr__examples_tutorial_indexes_plot_core_sari.py`\n  - `sphx_glr__examples_indexes_plot_sari_antibiogram.py`\n  - `sphx_glr__examples_indexes_plot_sari_clustermap.py`\n  - `sphx_glr__examples_indexes_plot_sari_relmap.py`\n\n\n"
      ]
    },
    {
      "cell_type": "code",
      "execution_count": null,
      "metadata": {
        "collapsed": false
      },
      "outputs": [],
      "source": [
        "# -------------------------------------------\n# Compute SARI\n# -------------------------------------------\n# Libraries\nfrom pyamr.core.sari import SARI\n\n# Create sari instance\nsari = SARI(groupby=['specimen_code',\n                     'microorganism_name',\n                     'antimicrobial_name',\n                     'sensitivity'])\n\n# Compute SARI overall\nsari_overall = sari.compute(data,\n    return_frequencies=True)\n\n# Show\nprint(\"SARI (overall):\")\nprint(sari_overall)\n\n# Plot Heatmap\n# ------------\n# Filter\nmatrix = sari_overall.copy(deep=True)\nmatrix = matrix.reset_index()\nmatrix = matrix[matrix.freq > 100]\nmatrix = matrix[matrix.specimen_code.isin(['BLDCUL'])]\n\n# Pivot table\nmatrix = pd.pivot_table(matrix,\n    index='microorganism_name',\n    columns='antimicrobial_name',\n    values='sari')\n\n# Create figure\nf, ax = plt.subplots(1, 1, figsize=(10, 4))\n\n# Create colormap\ncmap = sns.color_palette(\"Reds\", desat=0.5, n_colors=10)\n\n# Plot\nax = sns.heatmap(data=matrix*100, annot=True, fmt=\".0f\",\n    annot_kws={'fontsize': 'small'}, cmap=cmap,\n    linewidth=0.5, vmin=0, vmax=100, ax=ax,\n    xticklabels=1, yticklabels=1)\n\n# Add title\nplt.suptitle(\"Antibiogram\", fontsize='xx-large')\n\n# Tight layout\nplt.tight_layout()\nplt.subplots_adjust(right=1.05)"
      ]
    },
    {
      "cell_type": "markdown",
      "metadata": {},
      "source": [
        "## Computing ASAI\n\nThe antimicrobial spectrum of activity refers to the range of microbe species\nthat are susceptible to these agents and therefore can be treated. In general,\nantimicrobial agents are classified into broad, intermediate or narrow spectrum.\nBroad spectrum antimicrobials are active against both Gram-positive and\nGram-negative bacteria. In contrast, narrow spectrum antimicrobials have limited\nactivity and are effective only against particular species of bacteria. While these\nprofiles appeared in the mid-1950s, little effort has been made to define them.\nFurthermore, such ambiguous labels are overused for different and even contradictory\npurposes.\n\nIn order to compute the antimicrobial spectrum of activity index - ``ASAI`` -, it\nis necessary to previously obtain the overall resistance (SARI) for all the\nmicrobe-antimicrobial pairs. Furthermore, by following the criteria used in the\nnarrow-broad approach, these pairs were grouped into Gram-positive and Gram-negative.\nBriefly, the weighted proportion of species to which the antimicrobial\nis effective is computed for each genus. These are later added up and normalized by\nthe number of genera tested. An antimicrobial is considered effective to treat a\nparticular species when the corresponding resistance index (SARI) is lower than\na given threshold.\n\nFor more information see: :py:mod:`pyamr.core.asai.ASAI`\n\nFor more examples see:\n\n  - `sphx_glr__examples_tutorial_indexes_plot_core_asai.py`\n  - `sphx_glr__examples_indexes_plot_spectrum_gramtype.py`\n  - `sphx_glr__examples_indexes_plot_spectrum_multiple.py`\n\n\nIn order to compute ``ASAI``, we need to have the following columns present\nin our dataset: ``antimicrobial``, ``microorganism_genus``, ``microorganism_species``\nand ``resistance``.  Moreover, in this example we will compute the ASAI for each\n``gram_stain`` category independently so we will need the microorganism gram stain\ninformation too. This information is available in the registries: :py:mod:`pyamr.datasets.registries`\n\nLets include all this information using the ``MicroorganismRegistry``.\n\n\n"
      ]
    },
    {
      "cell_type": "code",
      "execution_count": null,
      "metadata": {
        "collapsed": false
      },
      "outputs": [],
      "source": [
        "# ------------------------------\n# Include gram stain\n# ------------------------------\n# Libraries\nfrom pyamr.datasets.registries import MicroorganismRegistry\n\n# Load registry\nmreg = MicroorganismRegistry()\n\n# Format sari dataframe\ndataframe = sari_overall.copy(deep=True)\ndataframe = dataframe.reset_index()\n\n# Create genus and species\ndataframe[['genus', 'species']] = \\\n    dataframe.microorganism_name \\\n        .str.capitalize() \\\n        .str.split(expand=True, n=1)\n\n# Combine with registry information\ndataframe = mreg.combine(dataframe, on='microorganism_name')\n\n# Fill missing gram stain\ndataframe.gram_stain = dataframe.gram_stain.fillna('u')"
      ]
    },
    {
      "cell_type": "markdown",
      "metadata": {},
      "source": [
        "Now that we have the ``genus``, ``species`` and ``gram_stain`` information,\nlets compute ``ASAI``.\n\n\n"
      ]
    },
    {
      "cell_type": "code",
      "execution_count": null,
      "metadata": {
        "collapsed": false
      },
      "outputs": [],
      "source": [
        "# -------------------------------------------\n# Compute ASAI\n# -------------------------------------------\n# Import specific libraries\nfrom pyamr.core.asai import ASAI\n\n# Create asai instance\nasai = ASAI(column_genus='genus',\n            column_specie='species',\n            column_resistance='sari',\n            column_frequency='freq')\n\n# Compute\nscores = asai.compute(dataframe,\n    groupby=['specimen_code',\n             'antimicrobial_name',\n             'gram_stain'],\n    weights='uniform',\n    threshold=0.5,\n    min_freq=0)\n\n# Stack\nscores = scores.unstack()\n\n# Filter and drop index.\nscores = scores.filter(like='URICUL', axis=0)\nscores.index = scores.index.droplevel()\n\n# Show\nprint(\"\\nASAI (overall):\")\nprint(scores)"
      ]
    },
    {
      "cell_type": "markdown",
      "metadata": {},
      "source": [
        "Lets plot it now!\n\n"
      ]
    },
    {
      "cell_type": "code",
      "execution_count": null,
      "metadata": {
        "collapsed": false
      },
      "outputs": [],
      "source": [
        "# ----------------\n# Helper method\n# ----------------\ndef scalar_colormap(values, cmap, vmin, vmax):\n    \"\"\"This method creates a colormap based on values.\n\n    Parameters\n    ----------\n    values : array-like\n      The values to create the corresponding colors\n\n    cmap : str\n      The colormap\n\n    vmin, vmax : float\n      The minimum and maximum possible values\n\n    Returns\n    -------\n    scalar colormap\n    \"\"\"\n    # Create scalar mappable\n    norm = mpl.colors.Normalize(vmin=vmin, vmax=vmax, clip=True)\n    mapper = mpl.cm.ScalarMappable(norm=norm, cmap=cmap)\n    # Gete color map\n    colormap = sns.color_palette([mapper.to_rgba(i) for i in values])\n    # Return\n    return colormap\n\n# ---------------------------------------------------------------\n# Plot\n# ---------------------------------------------------------------\n# .. note: In order to sort the scores we need to compute metrics\n#          that combine the different subcategories (e.g. gram-negative\n#          and gram-positive). Two possible options are: (i) use the\n#          gmean or (ii) the width.\n# Measures\nscores['width'] = np.abs(scores['ASAI_SCORE'].sum(axis=1))\n\n# Variables to plot.\nx = scores.index.values\ny_n = scores['ASAI_SCORE']['n'].values\ny_p = scores['ASAI_SCORE']['p'].values\ny_u = scores['ASAI_SCORE']['u'].values\n\n# Constants\ncolormap_p = scalar_colormap(y_p, cmap='Blues', vmin=-0.1, vmax=1.1)\ncolormap_n = scalar_colormap(y_n, cmap='Reds', vmin=-0.1, vmax=1.1)\ncolormap_u = scalar_colormap(y_u, cmap='Greens', vmin=-0.1, vmax=1.1)\n\n# ----------\n# Example\n# ----------\n# This example shows an stacked figure using more than two categories.\n# For instance, it uses gram-positive, gram-negative and gram-unknown.\n# All the indexes go within the range [0,1].\n# Create the figure\nf, axes = plt.subplots(1, 3, figsize=(7, 9))\n\n# Plot each category\nsns.barplot(x=y_p, y=x, palette=colormap_p, ax=axes[0], orient='h',\n            saturation=0.5, label='Gram-positive')\nsns.barplot(x=y_n, y=x, palette=colormap_n, ax=axes[1], orient='h',\n            saturation=0.5, label='Gram-negative')\nsns.barplot(x=y_u, y=x, palette=colormap_u, ax=axes[2], orient='h',\n            saturation=0.5, label='Gram-unknown')\n\n# Configure\nsns.despine(bottom=True)\n\n# Format figure\nplt.subplots_adjust(wspace=0.0, hspace=0.0)\n\n# Remove yticks\naxes[1].set_yticks([])\naxes[2].set_yticks([])\n\n# Set title\naxes[0].set_title('Gram-positive')\naxes[1].set_title('Gram-negative')\naxes[2].set_title('Gram-unknown')\n\n# Set x-axis\naxes[0].set_xlim([0, 1.1])\naxes[1].set_xlim([0, 1.1])\naxes[2].set_xlim([0, 1.1])\n\n# Adjust\nplt.tight_layout()\n\n# Show\nplt.show()"
      ]
    },
    {
      "cell_type": "markdown",
      "metadata": {},
      "source": [
        "## Computing SART\n\nThe single antimicrobial resistance trend - ``SART`` - measures the ratio\nof change per time unit (e.g. monthly or yearly). To compute this metric,\nit is necessary to generate a resistance time series from the susceptibility\ntest data. This is often achieved by computing the SARI consecutive or\noverlapping partitions of the data. Then, the trend can be extracted using\nfor example a linear model where the slope, which is a value within the\nrange [-1, 1] indicates the ratio of change.\n\nFor more information see: :py:mod:`pyamr.core.sart.SART`\n\nFor more examples see:\n\n<div class=\"alert alert-danger\"><h4>Warning</h4><p>Pending!</p></div>\n\n"
      ]
    }
  ],
  "metadata": {
    "kernelspec": {
      "display_name": "Python 3",
      "language": "python",
      "name": "python3"
    },
    "language_info": {
      "codemirror_mode": {
        "name": "ipython",
        "version": 3
      },
      "file_extension": ".py",
      "mimetype": "text/x-python",
      "name": "python",
      "nbconvert_exporter": "python",
      "pygments_lexer": "ipython3",
      "version": "3.7.9"
    }
  },
  "nbformat": 4,
  "nbformat_minor": 0
}