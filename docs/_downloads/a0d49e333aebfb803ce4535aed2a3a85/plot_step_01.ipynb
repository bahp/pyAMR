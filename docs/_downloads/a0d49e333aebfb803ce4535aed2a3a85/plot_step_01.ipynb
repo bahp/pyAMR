{
  "cells": [
    {
      "cell_type": "markdown",
      "metadata": {},
      "source": [
        "\n# Step 01 - Compute AMR metrics\n"
      ]
    },
    {
      "cell_type": "markdown",
      "metadata": {},
      "source": [
        "## Loading susceptibility test data\n\n<img src=\"file://../../../_static/imgs/susceptibility-test-record.png\" width=\"200\" align=\"right\" alt=\"ASAI\">\n\nA ``Susceptibility test`` record (see figure 4.1) is composed by laboratory\nidentification number (LID), patient identification number (PID), date, sample\ntype, specimen or culture (e.g. blood or urine), pathogen, antimicrobial, reported\nstatus and outcome (resistant, sensitive or intermediate). In this research,\nthe susceptibility test data were grouped firstly by specimen type. Moreover,\nfor each sample type, the data were grouped by pairs (pathogen, antimicrobial)\nsince it is widely accepted by clinicians as detailed in the UK five year\nstrategy in AMR.\n\nA small dataset will be used for this example.\n\n\n"
      ]
    },
    {
      "cell_type": "code",
      "execution_count": null,
      "metadata": {
        "collapsed": false
      },
      "outputs": [],
      "source": [
        "# Libraries\nimport numpy as np\nimport pandas as pd\nimport seaborn as sns\nimport matplotlib as mpl\nimport matplotlib.pyplot as plt\n\n# Import from pyAMR\nfrom pyamr.datasets.load import make_susceptibility\n\ntry:\n    __file__\n    TERMINAL = True\nexcept:\n    TERMINAL = False\n\n# -------------------------------------------\n# Load data\n# -------------------------------------------\n# Load data\ndata = make_susceptibility()\ndata = data.drop_duplicates()\n\n# Show\nprint(\"\\nData:\")\nprint(data)\nprint(\"\\nColumns:\")\nprint(data.dtypes)\nprint(\"\\nUnique:\")\nprint(data[[\n    'microorganism_code',\n    'antimicrobial_code',\n    'specimen_code',\n    'laboratory_number',\n    'patient_id']].nunique())"
      ]
    },
    {
      "cell_type": "markdown",
      "metadata": {},
      "source": [
        "## Computing SARI\n\nThe Single Antimicrobial Resistance Index or ``SARI`` describes the proportion\nof resistant isolates for a given set of susceptibility tests. It provides a\nvalue within the range [0, 1] where values close to one indicate high resistance.\nIt is agnostic to pathogen, antibiotic and/or time. The variables ``R``, ``I`` and\n``S`` represent the number of susceptibility tests with Resistant, Intermediate and\nSusceptible outcomes respectively. The definition might vary slightly since the\nintermediate category is not always considered.\n\nFor more information see: :py:mod:`pyamr.core.sari.SARI`\n\nFor more examples see:\n\n  - `sphx_glr__examples_tutorial_indexes_plot_core_a_sari.py`\n  - `sphx_glr__examples_indexes_plot_sari_a_antibiogram.py`\n  - `sphx_glr__examples_indexes_plot_sari_b_clustermap.py`\n  - `sphx_glr__examples_indexes_plot_sari_c_relmap.py`\n\n\n"
      ]
    },
    {
      "cell_type": "code",
      "execution_count": null,
      "metadata": {
        "collapsed": false
      },
      "outputs": [],
      "source": [
        "# -------------------------------------------\n# Compute SARI\n# -------------------------------------------\n# Libraries\nfrom pyamr.core.sari import SARI\n\n# Create sari instance\nsari = SARI(groupby=['specimen_code',\n                     'microorganism_name',\n                     'antimicrobial_name',\n                     'sensitivity'])\n\n# Compute SARI overall\nsari_overall = sari.compute(data,\n    return_frequencies=True)\n\n# Show\nprint(\"SARI (overall):\")\nprint(sari_overall)\n\n# ------------\n# Plot Heatmap\n# ------------\n# Filter\nmatrix = sari_overall.copy(deep=True)\nmatrix = matrix.reset_index()\nmatrix = matrix[matrix.freq > 100]\nmatrix = matrix[matrix.specimen_code.isin(['BLDCUL'])]\n\n# Pivot table\nmatrix = pd.pivot_table(matrix,\n    index='microorganism_name',\n    columns='antimicrobial_name',\n    values='sari')\n\n# Create figure\nf, ax = plt.subplots(1, 1, figsize=(10, 4))\n\n# Create colormap\ncmap = sns.color_palette(\"Reds\", desat=0.5, n_colors=10)\n\n# Plot\nax = sns.heatmap(data=matrix*100, annot=True, fmt=\".0f\",\n    annot_kws={'fontsize': 'small'}, cmap=cmap,\n    linewidth=0.5, vmin=0, vmax=100, ax=ax,\n    xticklabels=1, yticklabels=1)\n\n# Add title\nplt.suptitle(\"Antibiogram\", fontsize='xx-large')\n\n# Tight layout\nplt.tight_layout()\nplt.subplots_adjust(right=1.05)"
      ]
    },
    {
      "cell_type": "markdown",
      "metadata": {},
      "source": [
        "## Computing MARI\n\n<div class=\"alert alert-danger\"><h4>Warning</h4><p>Pending... similar to ``SARI``.</p></div>\n\n"
      ]
    },
    {
      "cell_type": "markdown",
      "metadata": {},
      "source": [
        "## Computing ASAI\n\nThe antimicrobial spectrum of activity refers to the range of microbe species\nthat are susceptible to these agents and therefore can be treated. In general,\nantimicrobial agents are classified into broad, intermediate or narrow spectrum.\nBroad spectrum antimicrobials are active against both Gram-positive and\nGram-negative bacteria. In contrast, narrow spectrum antimicrobials have limited\nactivity and are effective only against particular species of bacteria. While these\nprofiles appeared in the mid-1950s, little effort has been made to define them.\nFurthermore, such ambiguous labels are overused for different and even contradictory\npurposes.\n\nIn order to compute the antimicrobial spectrum of activity index or ``ASAI``, it\nis necessary to previously obtain the overall resistance (SARI) for all the\nmicrobe-antimicrobial pairs. Furthermore, by following the criteria used in the\nnarrow-broad approach, these pairs were grouped into Gram-positive and Gram-negative.\nBriefly, the weighted proportion of species to which the antimicrobial\nis effective is computed for each genus. These are later added up and normalized by\nthe number of genera tested. An antimicrobial is considered effective to treat a\nparticular species when the corresponding resistance index (SARI) is lower than\na given threshold.\n\nFor more information see: :py:mod:`pyamr.core.asai.ASAI`\n\nFor more examples see:\n\n  - `sphx_glr__examples_indexes_plot_asai_a_gramtype.py`\n  - `sphx_glr__examples_indexes_plot_asai_b_multiple.py`\n\n\nIn order to compute ``ASAI``, we need to have the following columns present\nin our dataset: ``antimicrobial``, ``microorganism_genus``, ``microorganism_species``\nand ``resistance``.  Moreover, in this example we will compute the ASAI for each\n``gram_stain`` category independently so we will need the microorganism gram stain\ninformation too. This information is available in the registries:\n:py:mod:`pyamr.datasets.registries`\n\nLets include all this information using the ``MicroorganismRegistry``.\n\n\n"
      ]
    },
    {
      "cell_type": "code",
      "execution_count": null,
      "metadata": {
        "collapsed": false
      },
      "outputs": [],
      "source": [
        "# ------------------------------\n# Include gram stain\n# ------------------------------\n# Libraries\nfrom pyamr.datasets.registries import MicroorganismRegistry\n\n# Load registry\nmreg = MicroorganismRegistry()\n\n# Format sari dataframe\ndataframe = sari_overall.copy(deep=True)\ndataframe = dataframe.reset_index()\n\n# Create genus and species\ndataframe[['genus', 'species']] = \\\n    dataframe.microorganism_name \\\n        .str.capitalize() \\\n        .str.split(expand=True, n=1)\n\n# Combine with registry information\ndataframe = mreg.combine(dataframe, on='microorganism_name')\n\n# Fill missing gram stain\ndataframe.gram_stain = dataframe.gram_stain.fillna('u')"
      ]
    },
    {
      "cell_type": "markdown",
      "metadata": {},
      "source": [
        "Now that we have the ``genus``, ``species`` and ``gram_stain`` information,\nlets compute ``ASAI``.\n\n\n"
      ]
    },
    {
      "cell_type": "code",
      "execution_count": null,
      "metadata": {
        "collapsed": false
      },
      "outputs": [],
      "source": [
        "# -------------------------------------------\n# Compute ASAI\n# -------------------------------------------\n# Import specific libraries\nfrom pyamr.core.asai import ASAI\n\n# Create asai instance\nasai = ASAI(column_genus='genus',\n            column_specie='species',\n            column_resistance='sari',\n            column_frequency='freq')\n\n# Compute\nscores = asai.compute(dataframe,\n    groupby=['specimen_code',\n             'antimicrobial_name',\n             'gram_stain'],\n    weights='uniform',\n    threshold=0.5,\n    min_freq=0)\n\n# Stack\nscores = scores.unstack()\n\n# Filter and drop index.\nscores = scores.filter(like='URICUL', axis=0)\nscores.index = scores.index.droplevel()\n\n# Show\nprint(\"\\nASAI (overall):\")\nprint(scores)"
      ]
    },
    {
      "cell_type": "markdown",
      "metadata": {},
      "source": [
        "This is the information obtained where the columns n, p, and u stand\nfor gram-positive, gram-negative and unknown respectively. Similarly,\nN_GENUS and N_SPECIE indicates the number of genus and species for\nthe specific antimicrobial.\n\n"
      ]
    },
    {
      "cell_type": "code",
      "execution_count": null,
      "metadata": {
        "collapsed": false
      },
      "outputs": [],
      "source": [
        "scores.head(10)"
      ]
    },
    {
      "cell_type": "markdown",
      "metadata": {},
      "source": [
        "Lets plot it now!\n\n"
      ]
    },
    {
      "cell_type": "code",
      "execution_count": null,
      "metadata": {
        "collapsed": false
      },
      "outputs": [],
      "source": [
        "# ---------------------------------------------------------------\n# Plot\n# ---------------------------------------------------------------\n# .. note: In order to sort the scores we need to compute metrics\n#          that combine the different subcategories (e.g. gram-negative\n#          and gram-positive). Two possible options are: (i) use the\n#          gmean or (ii) the width.\n\n# Libraries\nfrom pyamr.utils.plot import scalar_colormap\n\n# Measures\nscores['width'] = np.abs(scores['ASAI_SCORE'].sum(axis=1))\n\n# Variables to plot.\nx = scores.index.values\ny_n = scores['ASAI_SCORE']['n'].values\ny_p = scores['ASAI_SCORE']['p'].values\ny_u = scores['ASAI_SCORE']['u'].values\n\n# Constants\ncolormap_p = scalar_colormap(y_p, cmap='Blues', vmin=-0.1, vmax=1.1)\ncolormap_n = scalar_colormap(y_n, cmap='Reds', vmin=-0.1, vmax=1.1)\ncolormap_u = scalar_colormap(y_u, cmap='Greens', vmin=-0.1, vmax=1.1)\n\n# ----------\n# Example\n# ----------\n# This example shows an stacked figure using more than two categories.\n# For instance, it uses gram-positive, gram-negative and gram-unknown.\n# All the indexes go within the range [0,1].\n# Create the figure\nf, axes = plt.subplots(1, 3, figsize=(7, 9))\n\n# Plot each category\nsns.barplot(x=y_p, y=x, palette=colormap_p, ax=axes[0], orient='h',\n            saturation=0.5, label='Gram-positive')\nsns.barplot(x=y_n, y=x, palette=colormap_n, ax=axes[1], orient='h',\n            saturation=0.5, label='Gram-negative')\nsns.barplot(x=y_u, y=x, palette=colormap_u, ax=axes[2], orient='h',\n            saturation=0.5, label='Gram-unknown')\n\n# Configure\nsns.despine(bottom=True)\n\n# Format figure\nplt.subplots_adjust(wspace=0.0, hspace=0.0)\n\n# Remove yticks\naxes[1].set_yticks([])\naxes[2].set_yticks([])\n\n# Set title\naxes[0].set_title('Gram-positive')\naxes[1].set_title('Gram-negative')\naxes[2].set_title('Gram-unknown')\n\n# Set x-axis\naxes[0].set_xlim([0, 1.1])\naxes[1].set_xlim([0, 1.1])\naxes[2].set_xlim([0, 1.1])\n\n# Adjust\nplt.tight_layout()"
      ]
    },
    {
      "cell_type": "markdown",
      "metadata": {},
      "source": [
        "## Computing SART\n\nThe single antimicrobial resistance trend or ``SART`` measures the ratio\nof change per time unit (e.g. monthly or yearly). To compute this metric,\nit is necessary to generate a resistance time series from the susceptibility\ntest data. This is often achieved by computing the SARI on consecutive or\noverlapping partitions of the data. Then, the trend can be extracted using\nfor example a linear model where the slope, which is represented by a value\nwithin the range [-1, 1], indicates the ratio of change.\n\nFor more information see: :py:mod:`pyamr.core.sart.SART`\n\nFor more examples see:\n\n  - `sphx_glr__examples_tutorial_indexes_plot_core_d_sart.py`\n  - `sphx_glr__examples_indexes_plot_sart_a_basic.py`\n\n<div class=\"alert alert-info\"><h4>Note</h4><p>Be cautious when computing the ``SART`` index using a small dataset\n          (e.g. a low number of susceptibility tests records) since it is very\n          likely that the statistics produced (e.g. kurtosis or skewness) will\n          be ill defined. Also remember to check stationarity if using ARIMA.</p></div>\n\nSince it is necessary to have a decent amount of records to be\nable to compute the trends accurately, lets see which tuples\nhave more number of samples.\n\n"
      ]
    },
    {
      "cell_type": "code",
      "execution_count": null,
      "metadata": {
        "collapsed": false
      },
      "outputs": [],
      "source": [
        "# -------------------------------------------\n# Show top combinations\n# -------------------------------------------\nfrom pyamr.core.sari import SARI\n\n# Create SARI instance\nsar = SARI(groupby=['specimen_code',\n                    'microorganism_code',\n                    'antimicrobial_code',\n                    'sensitivity'])\n\n# Compute SARI overall\nsari_overall = sar.compute(data,\n     return_frequencies=True)\n\n# Compute top tuples\ntop = sari_overall \\\n    .sort_values(by='freq', ascending=False) \\\n    .head(10)\n\n# Show\nprint(\"\\nTop by Frequency:\")\nprint(top)"
      ]
    },
    {
      "cell_type": "markdown",
      "metadata": {},
      "source": [
        "Let's choose the tuples were are interested in.\n\n"
      ]
    },
    {
      "cell_type": "code",
      "execution_count": null,
      "metadata": {
        "collapsed": false
      },
      "outputs": [],
      "source": [
        "# -------------------------------------------\n# Filter data\n# -------------------------------------------\n# Define spec, orgs, abxs of interest\nspec = ['URICUL']\norgs = ['ECOL']\nabxs = ['ACELX', 'ACIP', 'AAMPC', 'ATRI', 'AAUG',\n        'AMER', 'ANIT', 'AAMI', 'ACTX', 'ATAZ',\n        'AGEN', 'AERT', 'ACAZ', 'AMEC', 'ACXT']\n\n# Create auxiliary DataFrame\naux = data.copy(deep=True) \\\n\n# Filter\nidxs_spec = data.specimen_code.isin(spec)\nidxs_orgs = data.microorganism_code.isin(orgs)\nidxs_abxs = data.antimicrobial_code.isin(abxs)\n\n# Filter\naux = aux[idxs_spec & idxs_orgs & idxs_abxs]"
      ]
    },
    {
      "cell_type": "markdown",
      "metadata": {},
      "source": [
        "Now, lets compute the resistance trend.\n\n"
      ]
    },
    {
      "cell_type": "code",
      "execution_count": null,
      "metadata": {
        "collapsed": false
      },
      "outputs": [],
      "source": [
        "# Libraries\nimport warnings\n\n# Import specific libraries\nfrom pyamr.core.sart import SART\n\n# Variables\nshift, period = '10D', '180D'\n\n# Create instance\nsar = SART(column_specimen='specimen_code',\n           column_microorganism='microorganism_code',\n           column_antimicrobial='antimicrobial_code',\n           column_date='date_received',\n           column_outcome='sensitivity',\n           column_resistance='sari')\n\nwith warnings.catch_warnings():\n    warnings.simplefilter('ignore')\n\n    # Compute resistance trends\n    table, objs = sar.compute(aux, shift=shift,\n        period=period, return_objects=True)"
      ]
    },
    {
      "cell_type": "markdown",
      "metadata": {},
      "source": [
        "Lets see the results(note it is transposed!)\n\n"
      ]
    },
    {
      "cell_type": "code",
      "execution_count": null,
      "metadata": {
        "collapsed": false
      },
      "outputs": [],
      "source": [
        "# Configure pandas\npd.set_option(\n    'display.max_colwidth', 20,\n    'display.width', 1000\n)\n\n# Show\n#print(\"Results:\")\n#print(table.T)\ntable.head(4).T"
      ]
    },
    {
      "cell_type": "markdown",
      "metadata": {},
      "source": [
        "Lets visualise the first entry\n\n"
      ]
    },
    {
      "cell_type": "code",
      "execution_count": null,
      "metadata": {
        "collapsed": false
      },
      "outputs": [],
      "source": [
        "# Display\n# This example shows how to make predictions using the wrapper and how\n# to plot the result in data. In addition, it compares the intervals\n# provided by get_prediction (confidence intervals) and the intervals\n# provided by wls_prediction_std (prediction intervals).\n\n# Variables\nname, obj = objs[2] # AAUG\n\n# Series\nseries = obj.as_series()\n\n# Variables.\nstart, end = None, 50\n\n# Get x and y\nx = series['wls-exog'][:,1]\ny = series['wls-endog']\n\n# Compute predictions (exogenous?). It returns a 2D array\n# where the rows contain the time (t), the mean, the lower\n# and upper confidence (or prediction?) interval.\npreds = obj.get_prediction(start=start, end=end)\n\n# Create figure\nfig, ax = plt.subplots(1, 1, figsize=(11, 5))\n\n# Plotting confidence intervals\n# -----------------------------\n# Plot truth values.\nax.plot(x, y, color='#A6CEE3', alpha=0.5, marker='o',\n        markeredgecolor='k', markeredgewidth=0.5,\n        markersize=5, linewidth=0.75, label='Observed')\n\n# Plot forecasted values.\nax.plot(preds[0, :], preds[1, :], color='#FF0000', alpha=1.00,\n        linewidth=2.0, label=obj._identifier(short=True))\n\n# Plot the confidence intervals.\nax.fill_between(preds[0, :], preds[2, :],\n                preds[3, :],\n                color='r',\n                alpha=0.1)\n\n# Legend\nplt.legend()\nplt.title(name)"
      ]
    },
    {
      "cell_type": "markdown",
      "metadata": {},
      "source": [
        "Lets see the summary\n\n"
      ]
    },
    {
      "cell_type": "code",
      "execution_count": null,
      "metadata": {
        "collapsed": false
      },
      "outputs": [],
      "source": [
        "# Summary\nprint(\"Name: %s\\n\" % str(name))\nprint(obj.as_summary())"
      ]
    },
    {
      "cell_type": "markdown",
      "metadata": {},
      "source": [
        "Lets display the information as a table graph for all tuples\n\n"
      ]
    },
    {
      "cell_type": "code",
      "execution_count": null,
      "metadata": {
        "collapsed": false
      },
      "outputs": [],
      "source": [
        "# Libraries\nfrom pyamr.graphics.table_graph import _DEFAULT_CONFIGURATION\nfrom pyamr.graphics.table_graph import vlinebgplot\n\n# Configuration for display\ninfo = _DEFAULT_CONFIGURATION\n\n# Lets define one as an example.\ninfo['freq'] = {\n    'cmap': 'Blues',\n    'title': 'Freq',\n    'xticks': [0, 8000],\n    'kwargs': {\n        's': 80,\n        'vmin': 0\n    }\n}\n\n# .. note: It is important to ensure that the column names\n#          match with the keys of the previously loaded\n#          info configuration so that it is used.\n\n# Rename columns\nrename = {\n    'wls-x1_coef': 'sart_m',\n    'wls-const_coef': 'offset',\n    'wls-rsquared': 'r2',\n    'wls-rsquared_adj': 'r2_adj',\n    'wls-m_skew': 'skew',\n    'wls-m_kurtosis': 'kurtosis',\n    'wls-m_jb_prob': 'jb',\n    'wls-m_dw': 'dw',\n    'wls-const_tprob': 'ptm',\n    'wls-x1_tprob': 'ptn',\n    'wls-pearson': 'pearson',\n    'freq': 'freq',\n}\n\n\n# ----------------\n# Combine with SARI\n\n# Format combined DataFrame\ncomb = table.join(sari_overall)\ncomb.index = comb.index.map('_'.join)\ncomb = comb.reset_index()\ncomb = comb.rename(columns=rename)\n\n# Add new columns\ncomb['sart_y'] = comb.sart_m * 12   # Yearly trend\ncomb['sari_pct'] = comb.sari * 100  # SARI percent\n\n# Sort by trend\ncomb = comb.sort_values(by='sart_y', ascending=False)\n\n# Select only numeric columns\n# data = comb.select_dtypes(include=np.number)\ndata = comb[[\n    'index',\n    'sart_m',\n    #'sart_y',\n    'sari_pct',\n    'r2',\n    #'r2_adj',\n    'skew',\n    'kurtosis',\n    'jb',\n    'dw',\n    'ptm',\n    #'ptn',\n    'pearson',\n    'freq'\n]]\n\n# Show DataFrame\n#print(\"\\nResults:\")\n#print(data)\n\n# Create pair grid\ng = sns.PairGrid(data, x_vars=data.columns[1:],\n    y_vars=[\"index\"], height=3, aspect=.45)\n\n# Set common features\ng.set(xlabel='', ylabel='')\n\n# Plot strips and format axes (skipping index)\nfor ax, c in zip(g.axes.flat, data.columns[1:]):\n\n    # Get information\n    d = info[c] if c in info else {}\n\n    # .. note: We need to use scatter plot if we want to\n    #          assign colors to the markers according to\n    #          their value.\n\n    # Using scatter plot\n    sns.scatterplot(data=data, x=c, y='index', s=100,\n                    ax=ax, linewidth=0.75, edgecolor='gray',\n                    c=data[c], cmap=d.get('cmap', None),\n                    norm=d.get('norm', None))\n\n    # Plot vertical lines\n    for e in d.get('vline', []):\n        vlinebgplot(ax, top=data.shape[0], **e)\n\n    # Configure axes\n    ax.set(title=d.get('title', c),\n           xlim=d.get('xlim', None),\n           xticks=d.get('xticks', []),\n           xlabel='', ylabel='')\n    ax.tick_params(axis='y', which='both', length=0)\n    ax.xaxis.grid(False)\n    ax.yaxis.grid(visible=True, which='major',\n                  color='gray', linestyle='-', linewidth=0.35)\n\n# Despine\nsns.despine(left=True, bottom=True)\n\n# Adjust layout\nplt.tight_layout()\nplt.show()\n\n#%\n# Lets see the data plotted\ndata.round(decimals=3)"
      ]
    },
    {
      "cell_type": "markdown",
      "metadata": {},
      "source": [
        "## Computing ACSI\n\n<div class=\"alert alert-danger\"><h4>Warning</h4><p>Pending...</p></div>\n\n"
      ]
    },
    {
      "cell_type": "markdown",
      "metadata": {},
      "source": [
        "## Computing DRI\n\n<div class=\"alert alert-danger\"><h4>Warning</h4><p>Pending...</p></div>\n\n"
      ]
    }
  ],
  "metadata": {
    "kernelspec": {
      "display_name": "Python 3",
      "language": "python",
      "name": "python3"
    },
    "language_info": {
      "codemirror_mode": {
        "name": "ipython",
        "version": 3
      },
      "file_extension": ".py",
      "mimetype": "text/x-python",
      "name": "python",
      "nbconvert_exporter": "python",
      "pygments_lexer": "ipython3",
      "version": "3.9.1"
    }
  },
  "nbformat": 4,
  "nbformat_minor": 0
}