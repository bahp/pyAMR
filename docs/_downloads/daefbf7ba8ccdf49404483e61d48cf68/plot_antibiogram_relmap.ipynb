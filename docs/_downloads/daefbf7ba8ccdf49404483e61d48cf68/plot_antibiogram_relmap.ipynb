{
  "cells": [
    {
      "cell_type": "code",
      "execution_count": null,
      "metadata": {
        "collapsed": false
      },
      "outputs": [],
      "source": [
        "%matplotlib inline"
      ]
    },
    {
      "cell_type": "markdown",
      "metadata": {},
      "source": [
        "\n# SARI - Antibiogram (relmap)\n\n.. todo:: Explain and Simplify\n\n.. todo: Frequency might not be working?\n         Frequency can be computed as sum of columns.\n"
      ]
    },
    {
      "cell_type": "code",
      "execution_count": null,
      "metadata": {
        "collapsed": false
      },
      "outputs": [],
      "source": [
        "# Libraries\nimport sys\nimport glob\nimport numpy as np \nimport pandas as pd \nimport seaborn as sns\nimport matplotlib as mpl\nimport matplotlib.pyplot as plt\n\n# Import own libraries\nfrom pyamr.core.freq import Frequency\nfrom pyamr.core.sari import SARI\nfrom pyamr.datasets.load import load_data_nhs\n\n# -------------------------\n# Configuration\n# -------------------------\n# Configure seaborn style (context=talk)\nsns.set(style=\"white\")\n\n# Set matplotlib\nmpl.rcParams['xtick.labelsize'] = 9\nmpl.rcParams['ytick.labelsize'] = 9\nmpl.rcParams['axes.titlesize'] = 11\nmpl.rcParams['legend.fontsize'] = 9\n\n# Pandas configuration\npd.set_option('display.max_colwidth', 40)\npd.set_option('display.width', 300)\npd.set_option('display.precision', 4)\n\n# Numpy configuration\nnp.set_printoptions(precision=2)\n\n\n# ------------------------------------------------------------\n# Methods\n# ------------------------------------------------------------\ndef get_category_colors(index, category, cmap='hls'):\n    \"\"\"This method creates the colors for the different elements in\n    categorical feature vector.\n\n    Parameters\n    ----------\n    values : array-like\n        The vector with the categorical values\n\n    cmap: string-like\n        The colormap to use\n\n    default: string-like\n        The color to be used for the first value. Note that this\n        value needs to appear first on the the sorted list, as such\n        it is recommended to set is as _default.\n\n    Returns\n    -------\n    \"\"\"\n    # Get categories\n    categories = index.get_level_values(category)\n    # Get unique elements\n    unique = np.unique(categories)\n    # Create the palette\n    palette = sns.color_palette(cmap, desat=0.5, n_colors=unique.shape[0])\n    # Create mappers from category to color\n    mapper = dict(zip(map(str, unique), palette))\n    # Create list with colors for each category\n    colors = pd.Series(categories, index=index).map(mapper)\n    # Return\n    return colors\n\n\ndef create_mapper(dataframe, column_key, column_value):\n  \"\"\"This method constructs a mapper\n\n  Parameters\n  ----------\n  dataframe: dataframe-like\n    The dataframe from which the columns are extracted\n\n  column_key: string-like\n    The name of the column with the values for the keys of the mapper\n\n  column_value: string-like\n    The name of the column with the values for the values of the mapper\n\n  Returns\n  -------\n  dictionary\n  \"\"\"\n  dataframe = dataframe[[column_key, column_value]]\n  dataframe = dataframe.drop_duplicates()\n  return dict(zip(dataframe[column_key], dataframe[column_value]))\n\n\n# --------------------------------------------------------------------\n#                               Main\n# --------------------------------------------------------------------\n# Load data\ndata, antibiotics, organisms = load_data_nhs()\n\n# Count records per specimen code\nspecimen_code_count = data \\\n    .groupby('laboratory_number').head(1) \\\n    .specimen_code.value_counts(normalize=True) \\\n    .sort_values(ascending=False)\n\n# Filter most frequent specimens\ndata = data[data.specimen_code.isin( \\\n    specimen_code_count.index.values[:5])]\n\n# Loop for each specimen\nfor specimen_code, df in data.groupby(by='specimen_code'):\n\n    # -------------------------------------------\n    # Compute Freq and SARI\n    # -------------------------------------------\n    # Create instance\n    freq = Frequency(column_antibiotic='antimicrobial_code',\n                     column_organism='microorganism_code',\n                     column_date='date_received',\n                     column_outcome='sensitivity')\n\n    # Compute frequencies (overall)\n    freq_overall = freq.compute(df, by_category='pairs')\n\n    # Filter\n    freq_overall = freq_overall[freq_overall.sum(axis=1) > 100]\n\n    # Compute SARI\n    sari_overall = SARI(strategy='hard').compute(freq_overall)\n\n    # -------------------------------\n    # Create matrix\n    # -------------------------------\n    # Create mappers\n    abx_map = create_mapper(antibiotics, 'antimicrobial_code', 'category')\n    org_map = create_mapper(organisms, 'microorganism_code', 'genus')\n\n    # Create matrix\n    matrix = sari_overall\n    matrix['freq'] = freq_overall.sum(axis=1)\n    matrix = matrix.reset_index()\n    matrix['microorganism_genus'] = matrix.SPECIE.map(org_map)\n    matrix['antimicrobial_class'] = matrix.ANTIBIOTIC.map(abx_map)\n\n    # Show\n    print(\"\\nData:\")\n    print(matrix)\n    print(\"\\nColumns:\")\n    print(matrix.columns)\n    print(\"\\nFrequencies:\")\n    print(matrix.freq.describe())\n\n    # Create colormap\n    cmap = sns.color_palette(\"Reds\", desat=0.5, n_colors=10)\n\n    # Format frequency\n    #matrix.freq = np.log(matrix.freq)\n    matrix.freq = matrix.freq / 100\n\n    # Configuration\n    sizes = (\n        matrix.freq.min(),\n        matrix.freq.max()\n    )\n\n    size_norm = (\n        matrix.freq.min(),\n        matrix.freq.max()\n    )\n\n    # Plot\n    g = sns.relplot(data=matrix, x='SPECIE',\n                    y='ANTIBIOTIC', hue=\"sari\", size=\"freq\",\n                    palette='Reds', hue_norm=(0, 1), edgecolor=\"gray\",\n                    linewidth=0.5, sizes=sizes,  #size_norm=size_norm,\n                    dashes=True, legend='brief', height=10)\n\n    # Configure plot\n    g.set(xlabel=\"Antimicrobial\",\n          ylabel=\"Microorganism\",\n          title='Antibiogram (with frequency)')#,\n          #aspect=\"equal\")\n    g.despine(left=True, bottom=True)\n    g.ax.margins(.1)\n\n    # Configure xticks\n    for label in g.ax.get_xticklabels():\n        label.set_rotation(90)\n\n    # Configure legend\n    for artist in g.legend.legendHandles:\n        artist.set_edgecolor(\"k\")\n        artist.set_linewidth(0.5)\n\n    # Suptitle\n    plt.suptitle(specimen_code)\n\n    # Add grid lines.\n    # plt.grid(linestyle='-', linewidth=0.5, color='.7')\n\n    # Adjust\n    plt.tight_layout()\n\n# Show\nplt.show()"
      ]
    }
  ],
  "metadata": {
    "kernelspec": {
      "display_name": "Python 3",
      "language": "python",
      "name": "python3"
    },
    "language_info": {
      "codemirror_mode": {
        "name": "ipython",
        "version": 3
      },
      "file_extension": ".py",
      "mimetype": "text/x-python",
      "name": "python",
      "nbconvert_exporter": "python",
      "pygments_lexer": "ipython3",
      "version": "3.9.1"
    }
  },
  "nbformat": 4,
  "nbformat_minor": 0
}