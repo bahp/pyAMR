{
  "cells": [
    {
      "cell_type": "code",
      "execution_count": null,
      "metadata": {
        "collapsed": false
      },
      "outputs": [],
      "source": [
        "%matplotlib inline"
      ]
    },
    {
      "cell_type": "markdown",
      "metadata": {},
      "source": [
        "\n# ``ACSI`` - Example using ``MIMIC``\n"
      ]
    },
    {
      "cell_type": "code",
      "execution_count": null,
      "metadata": {
        "collapsed": false
      },
      "outputs": [],
      "source": [
        "# Libraries\nimport sys\nimport warnings\nimport numpy as np\nimport pandas as pd\nimport seaborn as sns\nimport matplotlib as mpl\n\nfrom pathlib import Path\n\ntry:\n    __file__\n    TERMINAL = True\nexcept:\n    TERMINAL = False\n\n\n# Configure seaborn style (context=talk)\nsns.set_theme(style=\"white\")\n\n# Configure warnings\nwarnings.filterwarnings(\"ignore\",\n    category=pd.errors.DtypeWarning)\n\n# -------------------------------------------------------\n# Constants\n# -------------------------------------------------------\n# Rename columns for susceptibility\nrename_susceptibility = {\n    'chartdate': 'DATE',\n    'micro_specimen_id': 'LAB_NUMBER',\n    'spec_type_desc': 'SPECIMEN',\n    'org_name': 'MICROORGANISM',\n    'ab_name': 'ANTIMICROBIAL',\n    'interpretation': 'SENSITIVITY'\n}"
      ]
    },
    {
      "cell_type": "markdown",
      "metadata": {},
      "source": [
        "Let's load the ``susceptibility`` test data\n\n"
      ]
    },
    {
      "cell_type": "code",
      "execution_count": null,
      "metadata": {
        "collapsed": false
      },
      "outputs": [],
      "source": [
        "# -----------------------------\n# Load susceptibility test data\n# -----------------------------\nnrows=1000\n\n# Helper\nsubset = rename_susceptibility.values()\n\n# Load data\npath = Path('../../pyamr/datasets/mimic')\ndata1 = pd.read_csv(path / 'susceptibility.csv', nrows=nrows)\n\n# Rename columns\ndata1 = data1.rename(columns=rename_susceptibility)\n\n# Format data\ndata1 = data1[subset]\ndata1 = data1.dropna(subset=subset, how='any')\ndata1.DATE = pd.to_datetime(data1.DATE)"
      ]
    },
    {
      "cell_type": "code",
      "execution_count": null,
      "metadata": {
        "collapsed": false
      },
      "outputs": [],
      "source": [
        "data1.head(5)"
      ]
    },
    {
      "cell_type": "markdown",
      "metadata": {},
      "source": [
        "Let's compute the ``ACSI`` and return the combinations.\n\n<div class=\"alert alert-info\"><h4>Note</h4><p>This step is quite computationally expensive since it has to create all\n          possible antimicrobial combinations within each isolate in the\n          susceptibility test data. Thus, it is recommended to save the results\n          for future analysis and/or visualisation.</p></div>\n\n"
      ]
    },
    {
      "cell_type": "code",
      "execution_count": null,
      "metadata": {
        "collapsed": false
      },
      "outputs": [],
      "source": [
        "# Libraries\nfrom pyamr.core.acsi import ACSI\n\n# Compute index\ncontingency, combinations = \\\n    ACSI().compute(data1,\n    groupby=[\n        'DATE',\n        'SPECIMEN',\n        'MICROORGANISM'\n    ],\n    return_combinations=True)\n\n# Save\n#contingency.to_csv('contingency_%s.csv' % nrows)\n#combinations.to_csv('combinations_%s.csv' % nrows)\n\n# Display\nprint(\"\\nCombinations:\")\nprint(combinations)\nprint(\"\\nContingency:\")\nprint(contingency)"
      ]
    },
    {
      "cell_type": "markdown",
      "metadata": {},
      "source": [
        "Let's compute the ``ACSI``.\n\n<div class=\"alert alert-info\"><h4>Note</h4><p>We are loading previously computed combinations.</p></div>\n\n"
      ]
    },
    {
      "cell_type": "code",
      "execution_count": null,
      "metadata": {
        "collapsed": false
      },
      "outputs": [],
      "source": [
        "# Libraries\nfrom pyamr.datasets.load import fixture\n\n# Path\ncombinations = fixture(name='mimic/asci/combinations.csv')\n\n# Lets compute the overall index\ncontingency = ACSI().compute(\n    combinations.reset_index(),\n    groupby=[],\n    flag_combinations=True,\n    return_combinations=False\n)"
      ]
    },
    {
      "cell_type": "markdown",
      "metadata": {},
      "source": [
        "Let's visualise the result\n\n"
      ]
    },
    {
      "cell_type": "code",
      "execution_count": null,
      "metadata": {
        "collapsed": false
      },
      "outputs": [],
      "source": [
        "# ------------------------------------------\n# Display\n# ------------------------------------------\n# Display\nimport numpy as np\nimport seaborn as sns\nimport matplotlib.pyplot as plt\n\n# Get unique antimicrobials\ns1 = set(combinations.ANTIMICROBIAL_x.unique())\ns2 = set(combinations.ANTIMICROBIAL_x.unique())\nabxs = s1.union(s2)\n\n# Create index with all pairs\nindex = pd.MultiIndex.from_product([abxs, abxs])\n\n# Reformat\naux = contingency['acsi'] \\\n    .reindex(index, fill_value=np.nan) \\\n    .unstack()\n\n# Create figure\nfig, axs = plt.subplots(nrows=1, ncols=1,\n     sharey=False, sharex=False, figsize=(12, 9)\n)\n\n# Display\nsns.heatmap(data=aux * 100, ax=axs,\n    annot=True, annot_kws={'size':7}, square=True,\n    linewidth=.5, xticklabels=True, yticklabels=True,\n    cmap='coolwarm', vmin=-70, vmax=70, center=0,\n    cbar_kws={'label': 'Collateral Sensitivity Index'})\n\n# Show\nplt.tight_layout()\nplt.show()"
      ]
    }
  ],
  "metadata": {
    "kernelspec": {
      "display_name": "Python 3",
      "language": "python",
      "name": "python3"
    },
    "language_info": {
      "codemirror_mode": {
        "name": "ipython",
        "version": 3
      },
      "file_extension": ".py",
      "mimetype": "text/x-python",
      "name": "python",
      "nbconvert_exporter": "python",
      "pygments_lexer": "ipython3",
      "version": "3.7.9"
    }
  },
  "nbformat": 4,
  "nbformat_minor": 0
}