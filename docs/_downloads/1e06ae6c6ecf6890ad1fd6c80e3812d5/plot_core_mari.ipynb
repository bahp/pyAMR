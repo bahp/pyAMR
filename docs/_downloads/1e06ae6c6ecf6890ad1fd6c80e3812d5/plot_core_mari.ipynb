{
  "cells": [
    {
      "cell_type": "code",
      "execution_count": null,
      "metadata": {
        "collapsed": false
      },
      "outputs": [],
      "source": [
        "%matplotlib inline"
      ]
    },
    {
      "cell_type": "markdown",
      "metadata": {},
      "source": [
        "\n# Multiple Resistance (MARI)\n\n<div class=\"alert alert-danger\"><h4>Warning</h4><p>- Improve visualization.\n        - Create further examples with temporal visualization.\n        - Add parameters to choose antimicrobials that are consistent in time and\n          have enough number of isolates to give an accurate measurement.</p></div>\n\nDetermination of the Multiple Antimicrobial Resistance Index, denoted as ``MARI``,  follows the procedure\ndescribed by (5), in which the number of antimicrobials an isolate is resistant to (*R*) is divided by the\ntotal number of the antimicrobials used in the study (*T*). Thus, the calculating formula for a single\nisolate is shown below and it provides a value within the range [0,1] where values close to one indicate\nhigh multi-drug resistance.\n\n\\begin{align}MARI_{ISO} = R / T\\end{align}\n\nIn more general scenarios, the antimicrobials to which the pathogens are tested vary among health care\ncentres and time, and therefore the comparison and analysis of ``MARI`` evolution in time is not straight\nforward. At the moment, for simplicity, it is recommended to check that the antimicrobials selected are\navailable in the whole study period before applying the index.\n\nFor more information see: :py:mod:`pyamr.core.mari.MARI`\n\n\nFor the sample data created below, the overall ``MARI`` for each isolate is\n\n========== ========= =============== =========== ===============\nDate       SPECIMEN   MICROORGANISM  LAB_NUMBER   MARI\n========== ========= =============== =========== ===============\n2021-01-01 BLDCUL    ECOL            lab1        4/10 = 0.400000\n2021-01-01 BLDCUL    ECOL            lab2        0.800000\n2021-01-02 BLDCUL    ECOL            lab3        0.700000\n2021-01-03 BLDCUL    ECOL            lab4        0.909091\n========== ========= =============== =========== ===============\n\n\nSimilarly, the rolling window ``MARIs`` for <BLDCUL, ECOL> are ...\n\n========== ================== ====================== ==================\nDate       MARI (1D1)          MARI (1D2)            MARI Wrong!\n========== ================== ====================== ==================\n2021-01-01 (0.4+0.8)/2 = 0.6  (0.4+0.8)/2     = 0.60 (0.4+0.8)/2 = 0.6\n2021-01-02 0.7         = 0.7  (0.4+0.8+0.7)/3 = 0.63 (0.6+0.7)/2 = 0.65\n2021-01-03 0.909091    = 0.9  (0.7+0.9)/2     = 0.80 (0.7+0.9)/2 = 0.8\n========== ================== ====================== ==================\n"
      ]
    },
    {
      "cell_type": "code",
      "execution_count": null,
      "metadata": {
        "collapsed": false
      },
      "outputs": [],
      "source": [
        "# Import libraries\nimport warnings\nimport pandas as pd\nimport matplotlib as mpl\n\n# Import specific libraries\nfrom pyamr.core.mari import MARI\n\n# Filter user warning\nwarnings.filterwarnings(\"ignore\", category=UserWarning)\n\n# Set matplotlib\nmpl.rcParams['xtick.labelsize'] = 9\nmpl.rcParams['ytick.labelsize'] = 9\nmpl.rcParams['axes.titlesize'] = 11\nmpl.rcParams['legend.fontsize'] = 9\n\n# ---------------------\n# Create data\n# ---------------------\n# Create data\ndata = [\n    ['2021-01-01', 'lab1', 'BLDCUL', 'ECOL', 'AAUG', 'sensitive'],\n    ['2021-01-01', 'lab1', 'BLDCUL', 'ECOL', 'ATAZ', 'sensitive'],\n    ['2021-01-01', 'lab1', 'BLDCUL', 'ECOL', 'ACAZ', 'sensitive'],\n    ['2021-01-01', 'lab1', 'BLDCUL', 'ECOL', 'ACIP', 'resistant'],\n    ['2021-01-01', 'lab1', 'BLDCUL', 'ECOL', 'ACXM', 'sensitive'],\n    ['2021-01-01', 'lab1', 'BLDCUL', 'ECOL', 'AGEN', 'sensitive'],\n    ['2021-01-01', 'lab1', 'BLDCUL', 'ECOL', 'AMER', 'resistant'],\n    ['2021-01-01', 'lab1', 'BLDCUL', 'ECOL', 'AAMI', 'sensitive'],\n    ['2021-01-01', 'lab1', 'BLDCUL', 'ECOL', 'ATEM', 'resistant'],\n    ['2021-01-01', 'lab1', 'BLDCUL', 'ECOL', 'ACTX', 'resistant'],\n\n    ['2021-01-01', 'lab2', 'BLDCUL', 'ECOL', 'AAUG', 'sensitive'],\n    ['2021-01-01', 'lab2', 'BLDCUL', 'ECOL', 'ATAZ', 'intermediate'],\n    ['2021-01-01', 'lab2', 'BLDCUL', 'ECOL', 'ACAZ', 'intermediate'],\n    ['2021-01-01', 'lab2', 'BLDCUL', 'ECOL', 'ACIP', 'intermediate'],\n    ['2021-01-01', 'lab2', 'BLDCUL', 'ECOL', 'ACXM', 'intermediate'],\n    ['2021-01-01', 'lab2', 'BLDCUL', 'ECOL', 'AGEN', 'resistant'],\n    ['2021-01-01', 'lab2', 'BLDCUL', 'ECOL', 'AMER', 'resistant'],\n    ['2021-01-01', 'lab2', 'BLDCUL', 'ECOL', 'AAMI', 'resistant'],\n    ['2021-01-01', 'lab2', 'BLDCUL', 'ECOL', 'ATEM', 'resistant'],\n    ['2021-01-01', 'lab2', 'BLDCUL', 'ECOL', 'ACTX', 'sensitive'],\n\n    ['2021-01-02', 'lab3', 'BLDCUL', 'ECOL', 'AAUG', 'resistant'],\n    ['2021-01-02', 'lab3', 'BLDCUL', 'ECOL', 'ATAZ', 'resistant'],\n    ['2021-01-02', 'lab3', 'BLDCUL', 'ECOL', 'ACAZ', 'resistant'],\n    ['2021-01-02', 'lab3', 'BLDCUL', 'ECOL', 'ACIP', 'resistant'],\n    ['2021-01-02', 'lab3', 'BLDCUL', 'ECOL', 'ACXM', 'sensitive'],\n    ['2021-01-02', 'lab3', 'BLDCUL', 'ECOL', 'AGEN', 'resistant'],\n    ['2021-01-02', 'lab3', 'BLDCUL', 'ECOL', 'AMER', 'resistant'],\n    ['2021-01-02', 'lab3', 'BLDCUL', 'ECOL', 'AAMI', 'sensitive'],\n    ['2021-01-02', 'lab3', 'BLDCUL', 'ECOL', 'ATEM', 'resistant'],\n    ['2021-01-02', 'lab3', 'BLDCUL', 'ECOL', 'ACTX', 'sensitive'],\n\n    ['2021-01-03', 'lab4', 'BLDCUL', 'ECOL', 'AAUG', 'resistant'],\n    ['2021-01-03', 'lab4', 'BLDCUL', 'ECOL', 'ATAZ', 'resistant'],\n    ['2021-01-03', 'lab4', 'BLDCUL', 'ECOL', 'ACAZ', 'resistant'],\n    ['2021-01-03', 'lab4', 'BLDCUL', 'ECOL', 'ACIP', 'resistant'],\n    ['2021-01-03', 'lab4', 'BLDCUL', 'ECOL', 'ACXM', 'sensitive'],\n    ['2021-01-03', 'lab4', 'BLDCUL', 'ECOL', 'AGEN', 'resistant'],\n    ['2021-01-03', 'lab4', 'BLDCUL', 'ECOL', 'AMER', 'resistant'],\n    ['2021-01-03', 'lab4', 'BLDCUL', 'ECOL', 'AAMI', 'resistant'],\n    ['2021-01-03', 'lab4', 'BLDCUL', 'ECOL', 'ATEM', 'resistant'],\n    ['2021-01-03', 'lab4', 'BLDCUL', 'ECOL', 'ACTX', 'resistant'],\n    ['2021-01-03', 'lab4', 'BLDCUL', 'ECOL', 'ANEW', 'resistant'],\n\n    ['2021-01-01', 'lab5', 'BLDCUL', 'CNS', 'AAUG', 'resistant'],\n    ['2021-01-01', 'lab5', 'BLDCUL', 'CNS', 'ATAZ', 'resistant'],\n    ['2021-01-01', 'lab5', 'BLDCUL', 'CNS', 'ACAZ', 'resistant'],\n    ['2021-01-01', 'lab5', 'BLDCUL', 'CNS', 'ACIP', 'resistant'],\n    ['2021-01-01', 'lab5', 'BLDCUL', 'CNS', 'ACXM', 'sensitive'],\n    ['2021-01-01', 'lab5', 'BLDCUL', 'CNS', 'AGEN', 'intermediate'],\n    ['2021-01-01', 'lab5', 'BLDCUL', 'CNS', 'AMER', 'sensitive'],\n    ['2021-01-01', 'lab5', 'BLDCUL', 'CNS', 'AAMI', 'sensitive'],\n    ['2021-01-01', 'lab5', 'BLDCUL', 'CNS', 'ATEM', 'resistant'],\n    ['2021-01-01', 'lab5', 'BLDCUL', 'CNS', 'ACTX', 'resistant'],\n\n    ['2021-02-01', 'lab6', 'BLDCUL', 'CNS', 'AAUG', 'resistant'],\n    ['2021-02-01', 'lab6', 'BLDCUL', 'CNS', 'ATAZ', 'resistant'],\n    ['2021-02-01', 'lab6', 'BLDCUL', 'CNS', 'ACAZ', 'resistant'],\n    ['2021-02-01', 'lab6', 'BLDCUL', 'CNS', 'ACIP', 'resistant'],\n    ['2021-02-01', 'lab6', 'BLDCUL', 'CNS', 'ACXM', 'sensitive'],\n    ['2021-02-01', 'lab6', 'BLDCUL', 'CNS', 'AGEN', 'resistant'],\n    ['2021-02-01', 'lab6', 'BLDCUL', 'CNS', 'AMER', 'resistant'],\n    ['2021-02-01', 'lab6', 'BLDCUL', 'CNS', 'AAMI', 'resistant'],\n    ['2021-02-01', 'lab6', 'BLDCUL', 'CNS', 'ATEM', 'resistant'],\n    ['2021-02-01', 'lab6', 'BLDCUL', 'CNS', 'ACTX', 'resistant'],\n\n    ['2021-02-01', 'lab7', 'URICUL', 'ECOL', 'AAUG', 'resistant'],\n    ['2021-02-01', 'lab7', 'URICUL', 'ECOL', 'ATAZ', 'resistant'],\n    ['2021-02-01', 'lab7', 'URICUL', 'ECOL', 'ACAZ', 'resistant'],\n    ['2021-02-01', 'lab7', 'URICUL', 'ECOL', 'ACIP', 'resistant'],\n    ['2021-02-01', 'lab7', 'URICUL', 'ECOL', 'ACXM', 'sensitive'],\n    ['2021-02-01', 'lab7', 'URICUL', 'ECOL', 'AGEN', 'resistant'],\n    ['2021-02-01', 'lab7', 'URICUL', 'ECOL', 'AMER', 'resistant'],\n    ['2021-02-01', 'lab7', 'URICUL', 'ECOL', 'AAMI', 'resistant'],\n    ['2021-02-01', 'lab7', 'URICUL', 'ECOL', 'ATEM', 'resistant'],\n    ['2021-02-01', 'lab7', 'URICUL', 'ECOL', 'ACTX', 'resistant'],\n\n    ['2021-02-04', 'lab8', 'URICUL', 'ECOL', 'AAUG', 'resistant'],\n    ['2021-02-04', 'lab8', 'URICUL', 'ECOL', 'ATAZ', 'resistant'],\n    ['2021-02-04', 'lab8', 'URICUL', 'ECOL', 'ACAZ', 'resistant'],\n    ['2021-02-04', 'lab8', 'URICUL', 'ECOL', 'ACIP', 'resistant'],\n    ['2021-02-04', 'lab8', 'URICUL', 'ECOL', 'ACXM', 'sensitive'],\n    ['2021-02-04', 'lab8', 'URICUL', 'ECOL', 'AGEN', 'resistant'],\n    ['2021-02-04', 'lab8', 'URICUL', 'ECOL', 'AMER', 'resistant'],\n    ['2021-02-04', 'lab8', 'URICUL', 'ECOL', 'AAMI', 'resistant'],\n    ['2021-02-04', 'lab8', 'URICUL', 'ECOL', 'ATEM', 'resistant'],\n    ['2021-02-04', 'lab8', 'URICUL', 'ECOL', 'ACTX', 'resistant'],\n]\n\n\n\ndata = pd.DataFrame(data,\n    columns=['DATE',\n             'LAB_NUMBER',\n             'SPECIMEN',\n             'MICROORGANISM',\n             'ANTIMICROBIAL',\n             'SENSITIVITY'])\n\n# Create SARI instance\nmari = MARI(groupby=['SPECIMEN',\n                     'MICROORGANISM',\n                     'LAB_NUMBER',\n                     'SENSITIVITY'])\n\n# Compute SARI overall\nmari_overall, isolates = mari.compute(data,\n    return_frequencies=True,\n    return_isolates=True)\n\n# Compute SARI temporal (ITI)\nmari_iti = mari.compute(data, shift='1D',\n    period='1D', cdate='DATE',\n    return_isolates=False)\n\n# Compute SARI temporal (OTI)\nmari_oti = mari.compute(data, shift='1D',\n    period='2D', cdate='DATE',\n    return_isolates=False)\n\n# Show\nprint(\"\\nIsolates:\")\nprint(isolates)\nprint(\"\\n\\n\\nMARI (overall):\")\nprint(mari_overall)\nprint(\"\\n\\n\\nMARI (iti):\")\nprint(mari_iti)\nprint(\"\\n\\n\\nMARI (oti):\")\nprint(mari_oti)\n\n\nmari_oti"
      ]
    }
  ],
  "metadata": {
    "kernelspec": {
      "display_name": "Python 3",
      "language": "python",
      "name": "python3"
    },
    "language_info": {
      "codemirror_mode": {
        "name": "ipython",
        "version": 3
      },
      "file_extension": ".py",
      "mimetype": "text/x-python",
      "name": "python",
      "nbconvert_exporter": "python",
      "pygments_lexer": "ipython3",
      "version": "3.7.9"
    }
  },
  "nbformat": 4,
  "nbformat_minor": 0
}