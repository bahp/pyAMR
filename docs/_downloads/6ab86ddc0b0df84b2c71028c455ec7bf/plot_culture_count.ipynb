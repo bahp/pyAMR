{
  "cells": [
    {
      "cell_type": "code",
      "execution_count": null,
      "metadata": {
        "collapsed": false
      },
      "outputs": [],
      "source": [
        "%matplotlib inline"
      ]
    },
    {
      "cell_type": "markdown",
      "metadata": {},
      "source": [
        "\n# SART - by gram type\n\n.. todo: Simplify and explain\n"
      ]
    },
    {
      "cell_type": "code",
      "execution_count": null,
      "metadata": {
        "collapsed": false
      },
      "outputs": [],
      "source": [
        "# Import libraries\nimport sys\nimport glob\nimport numpy as np\nimport pandas as pd\nimport seaborn as sns\nimport matplotlib as mpl\nimport matplotlib.pyplot as plt\n\n# Import pyamr\nfrom pyamr.core.freq import Frequency\n\n# Configure seaborn style (context=talk)\nsns.set(style=\"white\")\n\n# Set matplotlib\nmpl.rcParams['xtick.labelsize'] = 9\nmpl.rcParams['ytick.labelsize'] = 9\nmpl.rcParams['axes.titlesize'] = 11\nmpl.rcParams['legend.fontsize'] = 9\n\n# Pandas configuration\npd.set_option('display.max_colwidth', 40)\npd.set_option('display.width', 300)\npd.set_option('display.precision', 4)\n\n# Numpy configuration\nnp.set_printoptions(precision=2)\n\n# -------------------------\n# Constants\n# -------------------------\n# Replace codes\nreplace_codes = {\n  '9MRSN':'MRSCUL',\n  'URINE CULTURE':'URICUL',\n  'WOUND CULTURE':'WOUCUL',\n  'BLOOD CULTURE':'BLDCUL',\n  'SPUTUM CULTURE':'SPTCUL',\n  'CSF CULTURE':'CSFCUL',\n  'EYE CULTURE':'EYECUL',\n  'GENITALCUL':'GENCUL',\n  'NEONATAL SCREEN':'NEOCUL',\n}\n\n# Interesting columns\nusecols = ['dateReceived',\n           'labNumber',\n           'patNumber',\n           'orderCode',\n           'organismCode',\n           'antibioticCode',\n           'sensitivity']\n\n# Path\npath = '../../resources/data/nhs/susceptibility/complete/'\n\n# -------------------------\n# Main\n# -------------------------\n# Load all files\ndata = pd.concat([  \\\n    pd.read_csv(f, parse_dates=['dateReceived'],\n        usecols=usecols, nrows=1000)\n            for f in glob.glob(path + \"/*.csv\")])\n\n# Replace\ndata.organismCode = \\\n    data.organismCode.replace(replace_codes)\n\n# Drop duplicates\ndata = data.drop_duplicates()\n\n# .. note: This is not counting the number of samples of each\n#          culture taken, but also includes one row for each\n#          antimicrobial tested. To count the number of samples\n#          not the keep just one value per <patient, order_code>\n# Frequency\nfreq = data.organismCode.value_counts()\n\n# Porportion\nprop = data.organismCode.value_counts(normalize=True)\n\n#data.groupby\n#aux = data.organismCode.apply(freq='value_counts')\n\naux2 = data[['organismCode', 'antibioticCode']] \\\n    .agg('value_counts').T\n\n\nprint(\"\\nShow:\")\nprint(freq)\nprint(prop)\nprint(aux2.sort_index())\n\n\n# Show\n#print(\"\\nData:\")\n#print(data)\n\n\n# --------------------\n# compute frequencies\n# --------------------\n# Create instance\nfreq = Frequency(column_antibiotic='antibioticCode',\n                 column_organism='organismCode',\n                 column_date='dateReceived',\n                 column_outcome='sensitivity')\n\n# Compute frequencies overall\nfreq_overall = freq.compute(data, strategy='overall', \n                                  by_category='pairs')\n\nfreq = freq.compute(data, strategy='overall', by_category='organisms')\n\nprint(freq_overall.sum(axis=1).sort_index())\n\nprint(freq)"
      ]
    }
  ],
  "metadata": {
    "kernelspec": {
      "display_name": "Python 3",
      "language": "python",
      "name": "python3"
    },
    "language_info": {
      "codemirror_mode": {
        "name": "ipython",
        "version": 3
      },
      "file_extension": ".py",
      "mimetype": "text/x-python",
      "name": "python",
      "nbconvert_exporter": "python",
      "pygments_lexer": "ipython3",
      "version": "3.9.1"
    }
  },
  "nbformat": 4,
  "nbformat_minor": 0
}