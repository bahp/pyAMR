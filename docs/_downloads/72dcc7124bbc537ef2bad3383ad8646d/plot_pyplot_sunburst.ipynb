{
  "cells": [
    {
      "cell_type": "code",
      "execution_count": null,
      "metadata": {
        "collapsed": false
      },
      "outputs": [],
      "source": [
        "%matplotlib inline"
      ]
    },
    {
      "cell_type": "markdown",
      "metadata": {},
      "source": [
        "\n# Plotly - Sunburst (sari)\n\n<div class=\"alert alert-danger\"><h4>Warning</h4><p>It might take some time to load.</p></div>\n"
      ]
    },
    {
      "cell_type": "code",
      "execution_count": null,
      "metadata": {
        "collapsed": false
      },
      "outputs": [],
      "source": [
        "# Plotly\nimport plotly.express as px\n\n# Import own libraries\nfrom pyamr.datasets.load import load_data_nhs\n\n\n# --------------------------------------------------------------------\n#                               Main\n# --------------------------------------------------------------------\n# Load data\ndata, antibiotics, organisms = load_data_nhs(nrows=1000)\n\n# Create DataFrame\ndataframe = data.groupby(['specimen_code',\n                          'microorganism_code',\n                          'antimicrobial_code',\n                          'sensitivity']) \\\n                .size().unstack().fillna(0)\n\n# Compute frequency\ndataframe['freq'] = dataframe.sum(axis=1)\n\n# Compute sari\ndataframe['sari'] = dataframe.resistant / \\\n    (dataframe.resistant + dataframe.sensitive)\n\n# Reset index\ndataframe = dataframe.reset_index()\n\n# -------------------------------------------\n# Plot\n# -------------------------------------------\n# Show\nfig = px.sunburst(dataframe,\n    path=['specimen_code',\n          'microorganism_code',\n          'antimicrobial_code'],\n    values='freq',\n    color='sari',\n    title='Sunburst of <Microorganisms, Antimicrobials> pairs')\n\n# Show\n#fig.show()\nfig"
      ]
    }
  ],
  "metadata": {
    "kernelspec": {
      "display_name": "Python 3",
      "language": "python",
      "name": "python3"
    },
    "language_info": {
      "codemirror_mode": {
        "name": "ipython",
        "version": 3
      },
      "file_extension": ".py",
      "mimetype": "text/x-python",
      "name": "python",
      "nbconvert_exporter": "python",
      "pygments_lexer": "ipython3",
      "version": "3.9.1"
    }
  },
  "nbformat": 4,
  "nbformat_minor": 0
}