{
  "cells": [
    {
      "cell_type": "code",
      "execution_count": null,
      "metadata": {
        "collapsed": false
      },
      "outputs": [],
      "source": [
        "%matplotlib inline"
      ]
    },
    {
      "cell_type": "markdown",
      "metadata": {},
      "source": [
        "\n# Index - Frequency\n\nExample using your package\n"
      ]
    },
    {
      "cell_type": "code",
      "execution_count": null,
      "metadata": {
        "collapsed": false
      },
      "outputs": [],
      "source": [
        "# Import libraries\nimport sys\nimport glob\nimport pandas as pd\nimport seaborn as sns\nimport matplotlib as mpl\nimport matplotlib.pyplot as plt\n\n# Import specific libraries\nfrom pyamr.core.freq import Frequency\n\n# Configure seaborn style (context=talk)\nsns.set(style=\"white\")\n\n# Set matplotlib\nmpl.rcParams['xtick.labelsize'] = 9\nmpl.rcParams['ytick.labelsize'] = 9\nmpl.rcParams['axes.titlesize'] = 11\nmpl.rcParams['legend.fontsize'] = 9\n\n# -----------------------\n# Load data\n# -----------------------\n# Path\npath = '../../resources/data/nhs/susceptibility/complete/'\n\n# Load all files\ndata = pd.concat([  \\\n    pd.read_csv(f, parse_dates=['dateReceived'],\n        low_memory=False, nrows=200000)\n            for f in glob.glob(path + \"/*.csv\")])\n\n\n# -------------------------\n# Main\n# -------------------------\n# Keep only relevant columns\n#data = data[['antibioticCode',\n#             'organismCode',\n#             'dateReceived',\n#             'sensitivity']]\n\n\n# .. note: To reduce computing time and to be able\n#          to plot the results we are selecting only\n#          one (organism, antimicrobial) pair.\n\n# Selected\norgs = ['ECOL']\nabxs = ['ATAZ', 'ATRI', 'AGEN', 'AAUG']\n\n# Filter for two examples\nis_org = data['organismCode'].isin(orgs)\nis_abx = data['antibioticCode'].isin(abxs)\ndata = data[is_org & is_abx]\n\n# -------------------------\n# Create frequency instance\n# -------------------------\n# Create instance\nfreq = Frequency(column_antibiotic='antibioticCode',\n                 column_organism='organismCode',\n                 column_date='dateReceived',\n                 column_outcome='sensitivity')\n\n# ------------------------\n# Examples compute overall\n# ------------------------\n# Compute pairs\npairs = freq.compute(data, by_category='pairs')\n\n# Compute antibiotics\nantibiotics = freq.compute(data, by_category='antibiotics')\n\n# Compute organisms\norganisms = freq.compute(data, by_category='organisms')\n\n# Show\nprint(\"\\n\")\nprint(\"-\" * 80)\nprint(\"Show OVERALL frequencies:\")\nprint(\"-\" * 80)\nprint(\"\\nPairs:\")\nprint(pairs)\nprint(\"\\nAntibiotics:\")\nprint(antibiotics)\nprint(\"\\nOrganisms:\")\nprint(organisms)\n\n# -------------------------------------------\n# Examples compute independent time intervals\n# -------------------------------------------\n# Examples compute ITI\ndaily = freq.compute(data, strategy='ITI',\n                     by_category='pairs',\n                     fs='1D')\n\nmonthly = freq.compute(data, strategy='ITI',\n                       by_category='pairs',\n                       fs='1M')\n\n# Show\nprint(\"\\n\")\nprint(\"-\" * 80)\nprint(\"Show TEMPORAL frequencies:\")\nprint(\"-\" * 80)\nprint(\"\\nDaily:\")\nprint(daily)\nprint(\"\\nMonthly:\")\nprint(monthly)\n\n# -------------------------------------------\n# Examples compute overlapping time intervals\n# -------------------------------------------\n\"\"\"\n.. note: Not working! Fix!\n\n# Examples compute OTI (daily)\noti_1 = freq.compute(data, strategy='OTI',\n                     by_category='pairs',\n                     wshift='1D',\n                     wsize=5)\n\n# Examples compute OTI (monthly)\noti_2 = freq.compute(data, strategy='OTI',\n                     by_category='pairs',\n                     wshift='1M',\n                     wsize=2)\n\"\"\"\n\n# ----------------\n# Plot\n# ----------------\n# Show comparison for each pair\nf, axes = plt.subplots(4, 1, figsize=(15, 8))\n\n# Flatten axes\naxes = axes.flatten()\n\n# Plot ITI (daily)\nfor i, (pair, group) in enumerate(daily.groupby(level=[0, 1])):\n    group.index = group.index.droplevel([0, 1])\n    group.sum(axis=1).plot(marker='o', ms=3, label=pair,\n        linewidth=0.5, markeredgecolor='k', markeredgewidth=0.3,\n        ax=axes[0])\n\n# Plot ITI (monthly)\nfor i, (pair, group) in enumerate(monthly.groupby(level=[0, 1])):\n    group.index = group.index.droplevel([0, 1])\n    group.sum(axis=1).plot(marker='o', ms=3, label=pair,\n          linewidth=0.5, markeredgecolor='k', markeredgewidth=0.3,\n          ax=axes[1])\n\"\"\"\n.. note: Belongs to previously commented part\n\n# Plot OTI\nfor i, (pair, group) in enumerate(oti_1.groupby(level=[0, 1])):\n    group.index = group.index.droplevel([0, 1])\n    group.sum(axis=1).plot(marker='o', ms=3, label=pair,\n                           linewidth=0.5, markeredgecolor='k', markeredgewidth=0.3,\n                           ax=axes[2])\n\n# Plot OTI\nfor i, (pair, group) in enumerate(oti_2.groupby(level=[0, 1])):\n    group.index = group.index.droplevel([0, 1])\n    group.sum(axis=1).plot(marker='o', ms=3, label=pair,\n                           linewidth=0.5, markeredgecolor='k', markeredgewidth=0.3,\n                           ax=axes[3])\n\"\"\"\n\n# Set legend\nfor ax in axes:\n    ax.legend()\n    ax.set_xlabel('')\n    ax.grid(True)\n\n# Set titles\naxes[0].set_ylabel('Daily')\naxes[1].set_ylabel('Monthly')\naxes[2].set_ylabel('OTI(1D,5)')\naxes[3].set_ylabel('OTI(1M,2)')\n\n# Despine\nsns.despine(bottom=True, left=True)\n\n# Set title\nplt.suptitle(\"Frequency (daily, monthly and overlapping intervals)\")\n\n# Show\nplt.show()"
      ]
    }
  ],
  "metadata": {
    "kernelspec": {
      "display_name": "Python 3",
      "language": "python",
      "name": "python3"
    },
    "language_info": {
      "codemirror_mode": {
        "name": "ipython",
        "version": 3
      },
      "file_extension": ".py",
      "mimetype": "text/x-python",
      "name": "python",
      "nbconvert_exporter": "python",
      "pygments_lexer": "ipython3",
      "version": "3.9.1"
    }
  },
  "nbformat": 4,
  "nbformat_minor": 0
}