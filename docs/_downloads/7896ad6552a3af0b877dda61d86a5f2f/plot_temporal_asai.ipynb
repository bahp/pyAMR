{
  "cells": [
    {
      "cell_type": "code",
      "execution_count": null,
      "metadata": {
        "collapsed": false
      },
      "outputs": [],
      "source": [
        "%matplotlib inline"
      ]
    },
    {
      "cell_type": "markdown",
      "metadata": {},
      "source": [
        "\n# ASAI - Timeseries\n\n.. |1D30| replace:: 1D\\ :sub:`30`\n.. |1M1| replace:: 1M\\ :sub:`1`\n.. |1M30| replace:: 1M\\ :sub:`30`\n.. |7D4| replace:: 1M\\ :sub:`12`\n.. |1M12| replace:: 1M\\ :sub:`12`\n.. |1M6| replace:: 1M\\ :sub:`6`\n.. |1M3| replace:: 1M\\ :sub:`3`\n.. |SP| replace:: SHIFT\\ :sub:`period`\n\nIn order to study the temporal evolution of AMR, it is necessary to generate a resistance\ntime series from the susceptibility test data. This is often achieved by computing the\nresistance index on consecutive partitions of the data. Note that each partition contains\nthe susceptibility tests required to compute a resistance index. The traditional strategy\nof dealing with partitions considers independent time intervals (see yearly, monthly or\nweekly time series in Table 4.2). Unfortunately, this strategy forces to trade-off between\ngranularity (level of detail) and accuracy. On one side, weekly time series are highly\ngranular  but inaccurate. On the other hand, yearly time series are accurate but rough.\nNote that the granularity is represented by the number of observations in a time series\nwhile the accuracy is closely related with the number of susceptibility tests used to compute\nthe resistance index. Conversely, the overlapping time intervals strategy drops such dependence\nby defining a window of fixed size which is moved across time. The length of the window is\ndenoted as period and the time step as shift. For instance, three time series obtained using\nthe overlapping time intervals strategy with a monthly shift (1M) and window lengths of 12,\n6 and 3 have been presented for the sake of clarity (see |1M12|, |1M6| and |1M3| in Table 4.2).\n\n<img src=\"file://../../_static/imgs/timeseries-generation.png\" width=\"500\" align=\"center\" alt=\"Generation of Time-Series\">\n\nThe notation to define the time series generation methodology (|SP|) is described with\nvarious examples in Table 4.2. For instance, |7D4| defines a time series with weekly resistance\nindexes (7D) calculated using the microbiology records available for the previous four weeks\n(4x7D). It is important to note that some notations are equivalent representations of the same\nsusceptibility data at different granularities, hence their trends are comparable. As an example,\nthe trend estimated for |1M1| should be approximately thirty times the trend estimated for |1D30|.\n"
      ]
    },
    {
      "cell_type": "markdown",
      "metadata": {},
      "source": [
        "Let's see how to compute ASAI time series with examples.\n\nWe first load the data and select one single pair for clarity.\n\n\n"
      ]
    },
    {
      "cell_type": "code",
      "execution_count": null,
      "metadata": {
        "collapsed": false
      },
      "outputs": [],
      "source": [
        "# Libraries\nimport numpy as np\nimport pandas as pd\nimport seaborn as sns\nimport matplotlib as mpl\nimport matplotlib.pyplot as plt\n\n# Import own libraries\nfrom pyamr.core.sari import sari\nfrom pyamr.core.asai import asai\nfrom pyamr.datasets.load import load_data_nhs\n\n\n# -------------------------\n# Methods\n# -------------------------\ndef create_mapper(dataframe, column_key, column_value):\n    \"\"\"This method constructs a mapper\n\n    Parameters\n    ----------\n    dataframe: dataframe-like\n    The dataframe from which the columns are extracted\n\n    column_key: string-like\n    The name of the column with the values for the keys of the mapper\n\n    column_value: string-like\n    The name of the column with the values for the values of the mapper\n\n    Returns\n    -------\n    dictionary\n    \"\"\"\n    dataframe = dataframe[[column_key, column_value]]\n    dataframe = dataframe.drop_duplicates()\n    return dict(zip(dataframe[column_key], dataframe[column_value]))\n\n# -------------------------\n# Configuration\n# -------------------------\n# Configure seaborn style (context=talk)\nsns.set(style=\"white\")\n\n# Set matplotlib\nmpl.rcParams['xtick.labelsize'] = 9\nmpl.rcParams['ytick.labelsize'] = 9\nmpl.rcParams['axes.titlesize'] = 11\nmpl.rcParams['legend.fontsize'] = 9\n\n# Pandas configuration\npd.set_option('display.max_colwidth', 40)\npd.set_option('display.width', 300)\npd.set_option('display.precision', 4)\n\n# Numpy configuration\nnp.set_printoptions(precision=2)\n\n# -------------------------------------------\n# Constants\n# -------------------------------------------\n# Create grouper\ngrouper = pd.Grouper(freq='3M', key='date_received')\n\n# Define window\nwindow = 12\n\n# -------------------------------------------\n# Load data\n# -------------------------------------------\n# Load data\ndata, antimicrobials, microorganisms = load_data_nhs()\n\n# Show\nprint(\"\\nData:\")\nprint(data)\nprint(\"\\nColumns:\")\nprint(data.columns)\nprint(\"\\nDtypes:\")\nprint(data.dtypes)\n\n# Filter\nidxs_spec = data.specimen_code.isin(['URICUL'])\nidxs_abxs = data.antimicrobial_code.isin(['AAUG'])\n\n# Filter\ndata = data[idxs_spec & idxs_abxs]\n\n# Filter dates (2016-2018 missing)\ndata = data[data.date_received.between('2008-01-01', '2016-12-31')]"
      ]
    },
    {
      "cell_type": "markdown",
      "metadata": {},
      "source": [
        "## Independent Time Intervals (ITI)\n\nThis is the traditional method used in antimicrobial surveillance systems where the\ntime spans considered are independent; that is, they do not overlap (e.g. month or year).\n\n\n\n\nKeep only those subsepecies that appears consistently in all times.\n\n"
      ]
    },
    {
      "cell_type": "code",
      "execution_count": null,
      "metadata": {
        "collapsed": false
      },
      "outputs": [],
      "source": [
        "# -------------------------------------------\n# Compute ITI sari (temporal)\n# -------------------------------------------\n# Create DataFrame\niti = data.groupby([grouper,\n                    'specimen_code',\n                    'microorganism_code',\n                    'antimicrobial_code',\n                    'sensitivity']) \\\n          .size().unstack().fillna(0) \\\n          .reset_index()\n\n# Compute frequency\niti['freq'] = iti.sum(axis=1)\n\n# Compute sari\niti['sari'] = sari(iti, strategy='hard')\n\n# -------------------------\n# Format dataframe\n# -------------------------\n# Create mappers\nabx_map = create_mapper(antimicrobials, 'antimicrobial_code', 'category')\norg_map = create_mapper(microorganisms, 'microorganism_code', 'genus')\ngrm_map = create_mapper(microorganisms, 'microorganism_code', 'gram_stain')\n\niti = iti[['date_received', 'freq', 'sari', 'antimicrobial_code', 'microorganism_code']]\n\n# Include categories\niti['category'] = iti['antimicrobial_code'].map(abx_map)\niti['genus'] = iti['microorganism_code'].map(org_map)\niti['gram'] = iti['microorganism_code'].map(grm_map)\n\n# Empty grams are a new category (unknown - u)\niti.gram = iti.gram.fillna('u')\n\nprint(iti[iti.gram=='u'].microorganism_code.unique())\n\n# -------------------------\n# Compute ASAI\n# -------------------------\niti = iti.rename(columns={\n    'microorganism_code': 'SPECIE',\n    'sari': 'RESISTANCE',\n    'genus': 'GENUS'\n})\n\n\nfig, axes = plt.subplots(1, 2, figsize=(10, 3), sharey=True)\n\n# Variable for filtering\ns = pd.crosstab(iti['SPECIE'], iti['date_received'])\n\n# Create aux (non filtered)\naux = iti.copy(deep=True)\naux = aux.groupby(['date_received',\n                   'antimicrobial_code',\n                   'gram'])\\\n         .apply(asai, weights='uniform', threshold=0.5)\n\n# Create aux (filtered)\naux2 = iti.copy(deep=True)\naux2 = aux2[aux2['SPECIE'].isin(s[s.all(axis=1)].index)]\naux2 = aux2.groupby(['date_received',\n                   'antimicrobial_code',\n                   'gram'])\\\n         .apply(asai, weights='uniform', threshold=0.8)\n\na = 1\n# Display\nprint(\"\\nCrosstab:\")\nprint(s)\nprint(\"\\nSelected:\")\nprint(s[s.all(axis=1)])\nprint(\"\\nRemaining:\")\nprint(iti)\nprint(aux.unstack())\nprint(aux2.unstack())\n\nsns.lineplot(data=aux.reset_index(),\n             x='date_received',\n             y='ASAI_SCORE',\n             palette=\"tab10\",\n             linewidth=0.75,\n             hue='gram',\n             marker='o',\n             ax=axes[0])\n\nsns.lineplot(data=aux2.reset_index(),\n             x='date_received',\n             y='ASAI_SCORE',\n             palette=\"tab10\",\n             linewidth=0.75,\n             hue='gram',\n             marker='o',\n             ax=axes[1])"
      ]
    },
    {
      "cell_type": "markdown",
      "metadata": {},
      "source": [
        "## Overlapping Time Intervals (OTI)\n\nThis method is defined as a fixed region which is moved across time to compute consecutive\nresistance indexes. It is described by two parameters; the length of the region (period)\nand the distance between consecutive win\u0002dows (shift).\n\n"
      ]
    },
    {
      "cell_type": "code",
      "execution_count": null,
      "metadata": {
        "collapsed": false
      },
      "outputs": [],
      "source": [
        "# -------------------------------------------\n# Compute OTI sari (temporal)\n# -------------------------------------------\n# Create DataFrame\noti = data.groupby([grouper,\n                    'specimen_code',\n                    'microorganism_code',\n                    'antimicrobial_code',\n                    'sensitivity']) \\\n          .size() \\\n          .rolling(window=window, min_periods=1) \\\n          .sum().unstack().fillna(0)\n\n# Compute frequency\noti['freq'] = oti.sum(axis=1)\n\n# Compute sari\noti['sari'] = sari(oti, strategy='hard')\n\noti = oti.reset_index()\n\n# Show\nprint(\"\\nTemporal (OTI):\")\nprint(oti)\n\n\n\n# -------------------------\n# Format dataframe\n# -------------------------\n# Create mappers\nabx_map = create_mapper(antimicrobials, 'antimicrobial_code', 'category')\norg_map = create_mapper(microorganisms, 'microorganism_code', 'genus')\ngrm_map = create_mapper(microorganisms, 'microorganism_code', 'gram_stain')\n\noti = oti[['date_received', 'freq', 'sari', 'antimicrobial_code', 'microorganism_code']]\n\n# Include categories\noti['category'] = oti['antimicrobial_code'].map(abx_map)\noti['genus'] = oti['microorganism_code'].map(org_map)\noti['gram'] = oti['microorganism_code'].map(grm_map)\n\n# Empty grams are a new category (unknown - u)\noti.gram = oti.gram.fillna('u')\n\n\n# -------------------------\n# Compute ASAI\n# -------------------------\noti = oti.rename(columns={\n    'microorganism_code': 'SPECIE',\n    'sari': 'RESISTANCE',\n    'genus': 'GENUS'\n})\nfig, axes = plt.subplots(1, 2, figsize=(10, 3), sharey=True)\n\n# Variable for filtering\ns = pd.crosstab(iti['SPECIE'], iti['date_received'])\n\n# Create aux (non filtered)\naux = oti.copy(deep=True)\naux = aux.groupby(['date_received',\n                   'antimicrobial_code',\n                   'gram'])\\\n         .apply(asai, weights='uniform', threshold=0.5)\n\nprint(s.value_counts(normalize=True)[1])\n\n# Create aux (filtered)\naux2 = oti.copy(deep=True)\naux2 = aux2[aux2['SPECIE'].isin(s[s.all(axis=1)].index)]\naux2 = aux2.groupby(['date_received',\n                   'antimicrobial_code',\n                   'gram'])\\\n         .apply(asai, weights='uniform', threshold=0.5)\n\n\n# Display\nprint(\"\\nCrosstab:\")\nprint(s)\nprint(\"\\nSelected:\")\nprint(s[s.all(axis=1)])\nprint(\"\\nRemaining:\")\nprint(iti)\nprint(aux.unstack())\nprint(aux2.unstack())\n\nsns.lineplot(data=aux.reset_index(),\n             x='date_received',\n             y='ASAI_SCORE',\n             palette=\"tab10\",\n             linewidth=0.75,\n             hue='gram',\n             marker='o',\n             ax=axes[0])\n\nsns.lineplot(data=aux2.reset_index(),\n             x='date_received',\n             y='ASAI_SCORE',\n             palette=\"tab10\",\n             linewidth=0.75,\n             hue='gram',\n             marker='o',\n             ax=axes[1])\n\nplt.show()"
      ]
    }
  ],
  "metadata": {
    "kernelspec": {
      "display_name": "Python 3",
      "language": "python",
      "name": "python3"
    },
    "language_info": {
      "codemirror_mode": {
        "name": "ipython",
        "version": 3
      },
      "file_extension": ".py",
      "mimetype": "text/x-python",
      "name": "python",
      "nbconvert_exporter": "python",
      "pygments_lexer": "ipython3",
      "version": "3.9.1"
    }
  },
  "nbformat": 4,
  "nbformat_minor": 0
}