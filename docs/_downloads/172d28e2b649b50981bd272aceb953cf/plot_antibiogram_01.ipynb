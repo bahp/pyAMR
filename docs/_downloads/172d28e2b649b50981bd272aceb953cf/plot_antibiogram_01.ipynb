{
  "cells": [
    {
      "cell_type": "code",
      "execution_count": null,
      "metadata": {
        "collapsed": false
      },
      "outputs": [],
      "source": [
        "%matplotlib inline"
      ]
    },
    {
      "cell_type": "markdown",
      "metadata": {},
      "source": [
        "\n# SARI - Antibiogram (overall)\n\n<div class=\"alert alert-danger\"><h4>Warning</h4><p>Explain..?</p></div>\n"
      ]
    },
    {
      "cell_type": "code",
      "execution_count": null,
      "metadata": {
        "collapsed": false
      },
      "outputs": [],
      "source": [
        "# Libraries\nimport sys\nimport numpy as np\nimport pandas as pd\nimport seaborn as sns\nimport matplotlib as mpl\nimport matplotlib.pyplot as plt\n\n# Import own libraries\nfrom pyamr.core.sari import SARI\nfrom pyamr.core.freq import Frequency\nfrom pyamr.datasets.load import make_susceptibility\n\n# -------------------------\n# Configuration\n# -------------------------\n# Configure seaborn style (context=talk)\nsns.set(style=\"white\")\n\n# Set matplotlib\nmpl.rcParams['xtick.labelsize'] = 9\nmpl.rcParams['ytick.labelsize'] = 9\nmpl.rcParams['axes.titlesize'] = 11\nmpl.rcParams['legend.fontsize'] = 9\n\n# Pandas configuration\npd.set_option('display.max_colwidth', 40)\npd.set_option('display.width', 300)\npd.set_option('display.precision', 4)\n\n# Numpy configuration\nnp.set_printoptions(precision=2)\n\n\n# -------------------------------------------\n# Load data\n# -------------------------------------------\n# Load data\ndata = make_susceptibility()\n\n# Show\nprint(\"\\nData:\")\nprint(data)\nprint(\"\\nColumns:\")\nprint(data.columns)\n\n\n# -------------------------------------------\n# Compute Freq and SARI\n# -------------------------------------------\n# Create instance\nfreq = Frequency(column_antibiotic='antimicrobial_code',\n                 column_organism='microorganism_code',\n                 column_date='date_received',\n                 column_outcome='sensitivity')\n\n# Compute frequencies (overall)\nfreq_overall = freq.compute(data, by_category='pairs')\n\n# Compute SARI\nsari_overall = SARI(strategy='hard').compute(freq_overall)\n\n\n# ------------\n# Plot Heatmap\n# ------------\n# Create matrix\nmatrix = sari_overall[['sari']]\nmatrix = matrix.unstack() * 100\nmatrix.columns = matrix.columns.droplevel()\n\n# Create figure\nf, ax = plt.subplots(1, 1, figsize=(18, 10))\n\n# Create colormap\ncmap = sns.color_palette(\"Reds\", desat=0.5, n_colors=10)\n\n# Plot\nax = sns.heatmap(data=matrix.T, annot=True, fmt=\".0f\",\n    annot_kws={'fontsize': 5}, cmap=cmap,\n    linewidth=0.5, vmin=0, vmax=100, ax=ax,\n    xticklabels=1, yticklabels=1)\n\n# Configure axes\n#ax.set(aspect='equal')\n\n# Add title\nplt.suptitle(\"Antibiogram\", fontsize='xx-large')\n\n# Tight layout\nplt.tight_layout()\n#plt.subplots_adjust(right=0.0)\n\n# Show\nplt.show()"
      ]
    }
  ],
  "metadata": {
    "kernelspec": {
      "display_name": "Python 3",
      "language": "python",
      "name": "python3"
    },
    "language_info": {
      "codemirror_mode": {
        "name": "ipython",
        "version": 3
      },
      "file_extension": ".py",
      "mimetype": "text/x-python",
      "name": "python",
      "nbconvert_exporter": "python",
      "pygments_lexer": "ipython3",
      "version": "3.7.7"
    }
  },
  "nbformat": 4,
  "nbformat_minor": 0
}