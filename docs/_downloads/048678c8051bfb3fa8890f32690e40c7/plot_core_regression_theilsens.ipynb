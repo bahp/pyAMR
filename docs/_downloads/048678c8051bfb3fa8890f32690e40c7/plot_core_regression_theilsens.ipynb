{
  "cells": [
    {
      "cell_type": "code",
      "execution_count": null,
      "metadata": {
        "collapsed": false
      },
      "outputs": [],
      "source": [
        "%matplotlib inline"
      ]
    },
    {
      "cell_type": "markdown",
      "metadata": {},
      "source": [
        "\n# Regression - Theil-Sen\n\n.. warning: This TheilSensWrapper imports the Regression\n            base from a different file. Why do we have\n            wbase.py, wreg.py and wregression.py?\n"
      ]
    },
    {
      "cell_type": "code",
      "execution_count": null,
      "metadata": {
        "collapsed": false
      },
      "outputs": [],
      "source": [
        "# Libraries\nimport numpy as np\nimport pandas as pd\n\n# Libraries.\nimport matplotlib.pyplot as plt\n\n# Import pyamr\nfrom pyamr.datasets.load import make_timeseries\nfrom pyamr.core.regression.theilsens import TheilSensWrapper\n\n# Set pandas configuration.\npd.set_option('display.max_colwidth', 14)\npd.set_option('display.width', 150)\npd.set_option('display.precision', 4)\n\ndef make_line(length, offset, slope):\n    \"\"\"Create straight series.\"\"\"\n    # Create timeseries.\n    x = np.arange(length)\n    y = np.random.rand(length) * slope + offset + x\n    return x, y\n\n# ----------------------------\n# create data\n# ----------------------------\n# Constants\nlength = 100\noffset = 100\nslope = 10\n\n# Create series\n#x, y = make_line(length, offset, slope)\n\n# Create timeseries data\nx, y, f = make_timeseries()\n\n# Create object\ntheilsens = TheilSensWrapper().fit(x=x, y=y)\n\n# Print series.\nprint(\"\\nSeries:\")\nprint(theilsens.as_series())\n\n# Print summary.\nprint(\"\\nSummary:\")\nprint(theilsens.as_summary())\n\n\n# -----------------\n#  Predictions\n# -----------------\n# Variables.\nstart, end, = None, 180\n\n# Compute predictions.\npreds = theilsens.get_prediction(start=start, end=end)\n\n# Create figure\nfig, ax = plt.subplots(1, 1, figsize=(11,5))\n\n# Plot truth values.\nax.plot(x, y, color='#A6CEE3', alpha=0.5, marker='o',\n         markeredgecolor='k', markeredgewidth=0.5,\n         markersize=5, linewidth=0.75, label='Observed')\n\n# Plot forecasted values.\nax.plot(preds[0, :], preds[1, :], color='#FF0000', alpha=1.00,\n         linewidth=2.0, label=theilsens._identifier())\n\n# Plot the confidence intervals.\nax.fill_between(preds[0, :],\n                preds[2, :],\n                preds[3, :],\n                color='r',\n                alpha=0.1)\n\n# Legend\nplt.legend()\n\n# ----------\n# Grid search\n# -----------\n# Grid parameters.\ngrid_params = {'x': [x], 'y': [y], 'alpha': [0.05, 0.1]}\n\n# Get summary.\nsummary = TheilSensWrapper().grid_search_dataframe(grid_params=grid_params)\n\n# Plot result (drop x which is an array to improve visualization).\nprint(\"Grid Search:\")\nprint(summary)\n\n# Show\nplt.show()\nplt.close('all')"
      ]
    }
  ],
  "metadata": {
    "kernelspec": {
      "display_name": "Python 3",
      "language": "python",
      "name": "python3"
    },
    "language_info": {
      "codemirror_mode": {
        "name": "ipython",
        "version": 3
      },
      "file_extension": ".py",
      "mimetype": "text/x-python",
      "name": "python",
      "nbconvert_exporter": "python",
      "pygments_lexer": "ipython3",
      "version": "3.7.9"
    }
  },
  "nbformat": 4,
  "nbformat_minor": 0
}