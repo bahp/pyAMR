{
  "cells": [
    {
      "cell_type": "code",
      "execution_count": null,
      "metadata": {
        "collapsed": false
      },
      "outputs": [],
      "source": [
        "%matplotlib inline"
      ]
    },
    {
      "cell_type": "markdown",
      "metadata": {},
      "source": [
        "\n# Using WLS + ARMA\n\n<div class=\"alert alert-danger\"><h4>Warning</h4><p>Not working yet!</p></div>\n"
      ]
    },
    {
      "cell_type": "code",
      "execution_count": null,
      "metadata": {
        "collapsed": false
      },
      "outputs": [],
      "source": [
        "\"\"\"\n# Import class.\nimport numpy as np\nimport pandas as pd\nimport matplotlib as mpl\nimport matplotlib.pyplot as plt\nimport statsmodels.api as sm\nimport statsmodels.robust.norms as norms\n\nfrom statsmodels.tsa.arima_model import ARIMA\n\n\n# import weights.\nfrom pyamr.datasets.load import make_timeseries\nfrom pyamr.metrics.weights import SigmoidA\nfrom pyamr.core.regression.wls import WLSWrapper\nfrom pyamr.core.regression.wlsarma import WLSARMAWrapper\n\n# Matplotlib options\nmpl.rc('legend', fontsize=6)\nmpl.rc('xtick', labelsize=6)\nmpl.rc('ytick', labelsize=6)\n\n# Set pandas configuration.\npd.set_option('display.max_colwidth', 14)\npd.set_option('display.width', 150)\npd.set_option('display.precision', 4)\n\n# Create timeseries data\nx, y, f = make_timeseries()\n\n# Create method to compute weights from frequencies\nW = SigmoidA(r=200, g=0.5, offset=0.0, scale=1.0)\n\n# Note that the function fit will call M.weights(weights) inside and will\n# store the M converter in the instance. Therefore, the code execute is\n# equivalent to <weights=M.weights(f)> with the only difference being that\n# the weight converter is not saved.\nwls = WLSWrapper(estimator=sm.WLS).fit( \\\n    exog=x, endog=y, trend='c', weights=f,\n    W=W, missing='raise')\n\n# Create WLS + ARIMA model.\nwlsarima = WLSARMAWrapper().fit(endog=y, exog=x, weights=f,\n    wls_kwargs={'W': W, 'trend': 'c', 'missing': 'raise'},\n     arima_kwargs={'exog': None, 'max_ar': 1,\n                   'max_ma': 1, 'max_d': 0, 'ic': 'bic',\n                   'order': (1,0,0)})\n\npred1 = wlsarima.get_prediction(start=None, end=140)\npred2 = wls.get_prediction(start=None, end=140)\n\nendog = getattr(wlsarima._wls, 'endog')\nexog = getattr(wlsarima._wls, 'exog')[:, 1]\n\n# Create figures.\nfig, axes = plt.subplots(1, 2, figsize=(10, 4), sharey=True, sharex=True)\n# Plot observations.\naxes[0].plot(exog, endog, color='#A6CEE3', alpha=0.5, marker='o',\n             markeredgecolor='k', markeredgewidth=0.5,\n             markersize=5, linewidth=0.75, label='Observed')\naxes[0].plot(pred1[0, :], pred1[1, :], color='#39ac73',\n             alpha=0.95, marker='o', markersize=2, linewidth=1.0,\n             markeredgewidth=0.2, markeredgecolor='k',\n             label='WLSARMA')\naxes[1].plot(pred2[0, :], pred2[1, :], color='r',\n             alpha=0.95, marker='o', markersize=2, linewidth=1.0,\n             markeredgewidth=0.2, markeredgecolor='k',\n             label='WLS')\n\nplt.legend()\nplt.show()\n\nimport sys\n\nsys.exit()\n\n# Create WLS + SARIMAX model.\nwlssarimax = WLSARMAWrapper().fit(endog=y, exog=x, weights=f,\n                                  wls_kwargs={'W': W, 'trend': 'c', 'missing': 'raise'},\n                                  sarimax_kwargs={'exog': None, 'ic': 'bic', 'max_ar': 1, 'max_ma': 1, 'max_d': 0,\n                                                  'max_P': 0, 'max_D': 0, 'max_Q': 0, 'list_s': [12]})\n\n# Create best SARIMAX model\nmodels, sarimax = SARIMAXWrapper().fit(endog=y, ic='bic',\n                                       max_ar=1, max_ma=1, max_d=1,\n                                       max_P=0, max_D=0, max_Q=0,\n                                       list_s=[0], return_fits=True)\n\n# Print series.\nprint(wlsarima.as_series())\n\n# Print summaries.\nprint(wlsarima.as_summary())\nprint(wlssarimax.as_summary())\nprint(wlsarima._arma.as_summary())\nprint(wlssarimax._arma.as_summary())\n\n# -----------------\n# Save & Load\n# -----------------\n# File location\nfname_wlsarima = '../../examples/saved/wlsarima-sample.pickle'\nfname_wlssarimax = '../../examples/saved/wlssarimax-sample.pickle'\n\n# Save\nwlsarima.save(fname=fname_wlsarima)\n# wlssarimax.save(fname=fname_wlssarimax) (zstatespace can't be pickled)\n\n# Load\nwlsarima = WLSARMAWrapper().load(fname=fname_wlsarima)\n# wlssarimax = WLSARMAWrapper().load(fname=fname_wlssarimax)\n\n# -----------------\n#  Predictions\n# -----------------\n# Variables.\nstart, end = None, None\n\n# Compute predictions.\npreds_wls = wlsarima.get_prediction(start=start, end=end, ptype='wls')\npreds_arima = wlsarima.get_prediction(start=start, end=end, ptype='arma')\npreds_sarimax = wlssarimax.get_prediction(start=start, end=end, ptype='arma')\npreds_wlsarima = wlsarima.get_prediction(start=start, end=end)\npreds_wlssarimax = wlssarimax.get_prediction(start=start, end=end)\npreds_sarimax = sarimax.get_prediction(start=start, end=end)\n\n# Create figures.\nfig, axes = plt.subplots(1, 2, figsize=(10, 4))\n\n# Subplot 0\n# ---------\n# Plot observed values\nendog = getattr(wlsarima._wls, 'endog')\nexog = getattr(wlsarima._wls, 'exog')[:, 1]\naxes[0].plot(exog, endog, color='#A6CEE3', alpha=0.5, marker='o',\n             markeredgecolor='k', markeredgewidth=0.5,\n             markersize=5, linewidth=0.75, label='Observed')\n\n# Plot forecasted values (WLS-ARIMA).\naxes[0].plot(preds_wlsarima[0, :], preds_wlsarima[1, :], color='#39ac73',\n             alpha=0.95, marker='o', markersize=2, linewidth=1.0,\n             markeredgewidth=0.2, markeredgecolor='k',\n             label=wlsarima._identifier(short=True))\n\n# Plot confidence intervals (WLS-ARIMA)\naxes[0].fill_between(preds_wlsarima[0, 3:],\n                     preds_wlsarima[2, 3:],\n                     preds_wlsarima[3, 3:],\n                     color='#39ac73', alpha=0.1)\n\n# Plot forecasted values (WLS-SARIMAX).\naxes[0].plot(preds_wlssarimax[0, :], preds_wlssarimax[1, :], color='b',\n             alpha=0.95, marker='o', markersize=2, linewidth=1.0,\n             markeredgewidth=0.2, markeredgecolor='k',\n             label=wlssarimax._identifier(short=True))\n\n# Plot confidence intervals (WLS-SARIMAX)\naxes[0].fill_between(preds_wlssarimax[0, 3:],\n                     preds_wlssarimax[2, 3:],\n                     preds_wlssarimax[3, 3:],\n                     color='b', alpha=0.1)\n\n# Plot forecasted values and confidence intervals (SARIMAX).\naxes[0].plot(preds_sarimax[0, :], preds_sarimax[1, :], color='#FF0000',\n             alpha=0.95, marker='o', markersize=2, linewidth=1.0,\n             markeredgewidth=0.2, markeredgecolor='k',\n             label=sarimax._identifier())\n\n# Plot confidence intervals\naxes[0].fill_between(preds_sarimax[0, 3:],\n                     preds_sarimax[2, 3:],\n                     preds_sarimax[3, 3:],\n                     color='#FF0000', alpha=0.1)\n\n# Subplot 1\n# ---------\n# Plot observed values.\naxes[1].plot(x, y, color='#A6CEE3', alpha=0.5, marker='o',\n             markeredgecolor='k', markeredgewidth=0.5,\n             markersize=5, linewidth=0.75, label='Observed')\n\n# Plot wls separately.\naxes[1].plot(preds_wls[0, :], preds_wls[1, :], color='#39ac73',\n             alpha=0.95, marker='o', markersize=2, linewidth=1.0,\n             markeredgewidth=0.2, markeredgecolor='k',\n             label=wlsarima._wls._identifier(short=True))\n\naxes[1].fill_between(preds_wls[0, :],\n                     preds_wls[2, :],\n                     preds_wls[3, :],\n                     color='#39ac73', alpha=0.1)\n\n# Plot arma separately.\naxes[1].plot(preds_arima[0, :], preds_arima[1, :], color='#FF0000',\n             alpha=0.95, marker='o', markersize=2, linewidth=1.0,\n             markeredgewidth=0.2, markeredgecolor='k',\n             label=wlsarima._arma._identifier())\n\naxes[1].fill_between(preds_arima[0, :],\n                     preds_arima[2, :],\n                     preds_arima[3, :],\n                     color='#FF0000', alpha=0.1)\n\n# Grid\naxes[0].grid(linestyle='--', linewidth=0.35, alpha=0.5)\naxes[1].grid(linestyle='--', linewidth=0.35, alpha=0.5)\n\n# Legend\naxes[0].legend()\naxes[1].legend()\n\n# Show\nplt.show()\n\"\"\""
      ]
    }
  ],
  "metadata": {
    "kernelspec": {
      "display_name": "Python 3",
      "language": "python",
      "name": "python3"
    },
    "language_info": {
      "codemirror_mode": {
        "name": "ipython",
        "version": 3
      },
      "file_extension": ".py",
      "mimetype": "text/x-python",
      "name": "python",
      "nbconvert_exporter": "python",
      "pygments_lexer": "ipython3",
      "version": "3.7.9"
    }
  },
  "nbformat": 4,
  "nbformat_minor": 0
}