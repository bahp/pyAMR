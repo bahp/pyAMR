{
  "cells": [
    {
      "cell_type": "code",
      "execution_count": null,
      "metadata": {
        "collapsed": false
      },
      "outputs": [],
      "source": [
        "%matplotlib inline"
      ]
    },
    {
      "cell_type": "markdown",
      "metadata": {},
      "source": [
        "\n# SARI - Index\n\nThe Single Antimicrobial Resistance Index - ``SARI`` - describes the proportion\nof resistant isolates for a given set of susceptibility tests. It provides a\nvalue within the range [0, 1] where values close to one indicate high resistance.\nIt is agnostic to pathogen, antibiotic and/or time. The variables ``R``, ``I`` and\n``S`` represent the number of susceptibility tests with Resistant, Intermediate and\nSusceptible outcomes respectively. The definition might vary slightly since the\nintermediate category is not always considered.\n\nThe parameter strategy accepts three different options:\n\n    (i) ``soft``   as R / R+I+S\n   (ii) ``medium`` as R / R+S\n   (iii) ``hard``  as R+I / R+I+S\n   (iv) ``other``  as R+0.5I / R+0.5I+S\n\nFor more information see: :py:mod:`pyamr.core.asai.SARI`\n"
      ]
    },
    {
      "cell_type": "code",
      "execution_count": null,
      "metadata": {
        "collapsed": false
      },
      "outputs": [],
      "source": [
        "# Import libraries\nimport sys\nimport glob\nimport pandas as pd\nimport seaborn as sns\nimport matplotlib as mpl\nimport matplotlib.pyplot as plt\n\n# Import specific libraries\nfrom pyamr.core.sari import SARI\n\n# Set matplotlib\nmpl.rcParams['xtick.labelsize'] = 9\nmpl.rcParams['ytick.labelsize'] = 9\nmpl.rcParams['axes.titlesize'] = 11\nmpl.rcParams['legend.fontsize'] = 9\n\n\n# -------------------------\n# Constants\n# -------------------------\n# Replace codes\nreplace_codes = {\n  '9MRSN':'MRSCUL',\n  'URINE CULTURE':'URICUL',\n  'WOUND CULTURE':'WOUCUL',\n  'BLOOD CULTURE':'BLDCUL',\n  'SPUTUM CULTURE':'SPTCUL',\n  'CSF CULTURE':'CSFCUL',\n  'EYE CULTURE':'EYECUL',\n  'GENITALCUL':'GENCUL',\n  'NEONATAL SCREEN':'NEOCUL',\n}\n\n# ---------------------\n# Create data\n# ---------------------\n# Create data\ndata = [\n    ['2021-01-01', 'BLDCUL', 'ECOL', 'AAUG', 'sensitive'],\n    ['2021-01-01', 'BLDCUL', 'ECOL', 'AAUG', 'sensitive'],\n    ['2021-01-01', 'BLDCUL', 'ECOL', 'AAUG', 'sensitive'],\n    ['2021-01-01', 'BLDCUL', 'ECOL', 'AAUG', 'resistant'],\n    ['2021-01-02', 'BLDCUL', 'ECOL', 'AAUG', 'sensitive'],\n    ['2021-01-02', 'BLDCUL', 'ECOL', 'AAUG', 'sensitive'],\n    ['2021-01-02', 'BLDCUL', 'ECOL', 'AAUG', 'resistant'],\n    ['2021-01-03', 'BLDCUL', 'ECOL', 'AAUG', 'sensitive'],\n    ['2021-01-03', 'BLDCUL', 'ECOL', 'AAUG', 'resistant'],\n    ['2021-01-04', 'BLDCUL', 'ECOL', 'AAUG', 'resistant'],\n\n    ['2021-01-01', 'BLDCUL', 'ECOL', 'ACIP', 'sensitive'],\n    ['2021-01-01', 'BLDCUL', 'ECOL', 'ACIP', 'resistant'],\n    ['2021-01-01', 'BLDCUL', 'ECOL', 'ACIP', 'resistant'],\n    ['2021-01-01', 'BLDCUL', 'ECOL', 'ACIP', 'resistant'],\n    ['2021-01-02', 'BLDCUL', 'ECOL', 'ACIP', 'sensitive'],\n    ['2021-01-02', 'BLDCUL', 'ECOL', 'ACIP', 'resistant'],\n    ['2021-01-02', 'BLDCUL', 'ECOL', 'ACIP', 'resistant'],\n    ['2021-01-03', 'BLDCUL', 'ECOL', 'ACIP', 'sensitive'],\n    ['2021-01-03', 'BLDCUL', 'ECOL', 'ACIP', 'resistant'],\n    ['2021-01-04', 'BLDCUL', 'ECOL', 'ACIP', 'sensitive'],\n\n    ['2021-01-01', 'BLDCUL', 'SAUR', 'ACIP', 'resistant'],\n    ['2021-01-01', 'BLDCUL', 'SAUR', 'ACIP', 'resistant'],\n    ['2021-01-01', 'BLDCUL', 'SAUR', 'ACIP', 'resistant'],\n    ['2021-01-01', 'BLDCUL', 'SAUR', 'ACIP', 'resistant'],\n    ['2021-01-02', 'BLDCUL', 'SAUR', 'ACIP', 'sensitive'],\n    ['2021-01-02', 'BLDCUL', 'SAUR', 'ACIP', 'sensitive'],\n    ['2021-01-02', 'BLDCUL', 'SAUR', 'ACIP', 'resistant'],\n    ['2021-01-08', 'BLDCUL', 'SAUR', 'ACIP', 'sensitive'],\n    ['2021-01-08', 'BLDCUL', 'SAUR', 'ACIP', 'resistant'],\n    ['2021-01-08', 'BLDCUL', 'SAUR', 'ACIP', 'resistant'],\n    ['2021-01-08', 'BLDCUL', 'SAUR', 'ACIP', 'resistant'],\n    ['2021-01-08', 'BLDCUL', 'SAUR', 'ACIP', 'resistant'],\n    ['2021-01-08', 'BLDCUL', 'SAUR', 'ACIP', 'resistant'],\n    ['2021-01-09', 'BLDCUL', 'SAUR', 'ACIP', 'sensitive'],\n    ['2021-01-09', 'BLDCUL', 'SAUR', 'ACIP', 'sensitive'],\n    ['2021-01-09', 'BLDCUL', 'SAUR', 'ACIP', 'sensitive'],\n    ['2021-01-09', 'BLDCUL', 'SAUR', 'ACIP', 'sensitive'],\n    ['2021-01-09', 'BLDCUL', 'SAUR', 'ACIP', 'resistant'],\n\n    ['2021-01-12', 'URICUL', 'SAUR', 'ACIP', 'resistant'],\n    ['2021-01-12', 'URICUL', 'SAUR', 'ACIP', 'intermediate'],\n    ['2021-01-13', 'URICUL', 'SAUR', 'ACIP', 'resistant'],\n    ['2021-01-13', 'URICUL', 'SAUR', 'ACIP', 'sensitive'],\n    ['2021-01-14', 'URICUL', 'SAUR', 'ACIP', 'resistant'],\n    ['2021-01-14', 'URICUL', 'SAUR', 'ACIP', 'resistant'],\n    ['2021-01-15', 'URICUL', 'SAUR', 'ACIP', 'sensitive'],\n    ['2021-01-15', 'URICUL', 'SAUR', 'ACIP', 'sensitive'],\n    ['2021-01-16', 'URICUL', 'SAUR', 'ACIP', 'intermediate'],\n    ['2021-01-16', 'URICUL', 'SAUR', 'ACIP', 'intermediate'],\n]\n\n\ndata = pd.DataFrame(data,\n    columns=['DATE',\n             'SPECIMEN',\n             'MICROORGANISM',\n             'ANTIMICROBIAL',\n             'SENSITIVITY'])\n\n\n# Create SARI instance\nsari = SARI(groupby=['SPECIMEN',\n                     'MICROORGANISM',\n                     'ANTIMICROBIAL',\n                     'SENSITIVITY'])\n\n# Compute SARI overall\nsari_overall = sari.compute(data,\n    return_frequencies=False)\n\n# Compute SARI temporal (ITI)\nsari_iti = sari.compute(data, shift='1D',\n    period='1D', cdate='DATE')\n\n# Compute SARI temporal (OTI)\nsari_oti = sari.compute(data, shift='1D',\n    period='2D', cdate='DATE')\n\n# Show\nprint(\"\\nSARI (overall):\")\nprint(sari_overall)\nprint(\"\\nSARI (iti):\")\nprint(sari_iti)\nprint(\"\\nSARI (oti):\")\nprint(sari_oti)"
      ]
    }
  ],
  "metadata": {
    "kernelspec": {
      "display_name": "Python 3",
      "language": "python",
      "name": "python3"
    },
    "language_info": {
      "codemirror_mode": {
        "name": "ipython",
        "version": 3
      },
      "file_extension": ".py",
      "mimetype": "text/x-python",
      "name": "python",
      "nbconvert_exporter": "python",
      "pygments_lexer": "ipython3",
      "version": "3.9.1"
    }
  },
  "nbformat": 4,
  "nbformat_minor": 0
}