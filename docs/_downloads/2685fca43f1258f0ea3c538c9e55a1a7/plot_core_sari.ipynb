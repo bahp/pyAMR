{
  "cells": [
    {
      "cell_type": "code",
      "execution_count": null,
      "metadata": {
        "collapsed": false
      },
      "outputs": [],
      "source": [
        "%matplotlib inline"
      ]
    },
    {
      "cell_type": "markdown",
      "metadata": {},
      "source": [
        "\n# Index - SARI\n\n<div class=\"alert alert-danger\"><h4>Warning</h4><p>- Improve visualization.\n        - Create further examples with temporal visualization.\n        - Create further examples with general heatmap.\n        - Create further examples with animation?</p></div>\n"
      ]
    },
    {
      "cell_type": "code",
      "execution_count": null,
      "metadata": {
        "collapsed": false
      },
      "outputs": [],
      "source": [
        "# Import libraries\nimport sys\nimport glob\nimport pandas as pd\nimport seaborn as sns\nimport matplotlib as mpl\nimport matplotlib.pyplot as plt\n\n# Import specific libraries\nfrom pyamr.core.freq import Frequency\nfrom pyamr.core.sari import SARI\n\n# Set matplotlib\nmpl.rcParams['xtick.labelsize'] = 9\nmpl.rcParams['ytick.labelsize'] = 9\nmpl.rcParams['axes.titlesize'] = 11\nmpl.rcParams['legend.fontsize'] = 9\n\n# -----------------------\n# Load data\n# -----------------------\n# -------------------------\n# Constants\n# -------------------------\n# Replace codes\nreplace_codes = {\n  '9MRSN':'MRSCUL',\n  'URINE CULTURE':'URICUL',\n  'WOUND CULTURE':'WOUCUL',\n  'BLOOD CULTURE':'BLDCUL',\n  'SPUTUM CULTURE':'SPTCUL',\n  'CSF CULTURE':'CSFCUL',\n  'EYE CULTURE':'EYECUL',\n  'GENITALCUL':'GENCUL',\n  'NEONATAL SCREEN':'NEOCUL',\n}\n\n# Interesting columns\nusecols = ['dateReceived',\n           'labNumber',\n           'patNumber',\n           'orderCode',\n           'organismCode',\n           'antibioticCode',\n           'sensitivity']\n\n# -----------------------\n# Load data\n# -----------------------\n# Path\n# Path\npath = '../../../pyamr/datasets/microbiology/susceptibility.csv'\n\n# Load all files\ndata = pd.read_csv(path,\n    usecols=usecols,\n    parse_dates=['dateReceived'],\n    low_memory=False)\n\n# Replace\ndata.organismCode = \\\n    data.organismCode.replace(replace_codes)\n\n# Drop duplicates\ndata = data.drop_duplicates()\n\n# Keep only relevant columns\ndata = data[['antibioticCode',\n             'organismCode',\n             'dateReceived',\n             'sensitivity']]\n\n# Filter for two examples\nis_org = data['organismCode'] == 'ECOL'\nis_abx = data['antibioticCode'].isin(['AAUG'])\ndata = data[is_abx & is_org]\n\n# -------------------------\n# Create frequency instance\n# -------------------------\n# Create instance\nfreq = Frequency(column_antibiotic='antibioticCode',\n                 column_organism='organismCode',\n                 column_date='dateReceived',\n                 column_outcome='sensitivity')\n\n# Compute frequencies daily\ndaily = freq.compute(data, strategy='ITI',\n                     by_category='pairs',\n                     fs='1D')\n\n# Compute frequencies monthly\nmonthly = freq.compute(data, strategy='ITI',\n                       by_category='pairs',\n                       fs='1M')\n\n\"\"\"\n# Compute frequencies overlapping\noti_1 = freq.compute(data, strategy='OTI',\n                     by_category='pairs',\n                     wshift='1D',\n                     wsize=90)\n\"\"\"\n# -------------------------\n# Create sari instance\n# -------------------------\n# Create instance\nsari_daily = SARI(strategy='hard').compute(daily)\nsari_monthly = SARI(strategy='hard').compute(monthly)\n#sari_oti_1 = SARI(strategy='hard').compute(oti_1)\n\n# -------\n# Plot\n# -------\n# Show comparison for each pair\nf, axes = plt.subplots(4, 1, figsize=(15, 8))\n\n# Flatten axes\naxes = axes.flatten()\n\n# Plot ITI (monthly)\nfor i, (pair, group) in enumerate(sari_daily.groupby(level=[0, 1])):\n    group.index = group.index.droplevel([0, 1])\n    group['sari'].plot(marker='o', ms=3, label=pair,\n                       linewidth=0.5, markeredgecolor='k', markeredgewidth=0.3,\n                       ax=axes[0])\n\n# Plot ITI (monthly)\nfor i, (pair, group) in enumerate(sari_monthly.groupby(level=[0, 1])):\n    group.index = group.index.droplevel([0, 1])\n    group['sari'].plot(marker='o', ms=3, label=pair,\n                       linewidth=0.5, markeredgecolor='k', markeredgewidth=0.3,\n                       ax=axes[1])\n\n\"\"\"\n# Plot OTI (daily with size 30)\nfor i, (pair, group) in enumerate(sari_oti_1.groupby(level=[0, 1])):\n    group.index = group.index.droplevel([0, 1])\n    group['sari'].plot(marker='o', ms=3, label=pair,\n                       linewidth=0.5, markeredgecolor='k', markeredgewidth=0.3,\n                       ax=axes[2])\n\"\"\"\n\n# Set legend\nfor ax in axes:\n    ax.legend()\n    ax.set_xlabel('')\n    ax.grid(True)\n\n# Set titles\naxes[0].set_ylabel('Daily')\naxes[1].set_ylabel('Monthly')\naxes[2].set_ylabel('OTI(1D,90)')\n\n# Despine\nsns.despine(bottom=True, left=True)\n\n# Set title\nplt.suptitle(\"SARI (Single Antibiotic Resistance Index)\")\n\n# Show\nplt.show()"
      ]
    }
  ],
  "metadata": {
    "kernelspec": {
      "display_name": "Python 3",
      "language": "python",
      "name": "python3"
    },
    "language_info": {
      "codemirror_mode": {
        "name": "ipython",
        "version": 3
      },
      "file_extension": ".py",
      "mimetype": "text/x-python",
      "name": "python",
      "nbconvert_exporter": "python",
      "pygments_lexer": "ipython3",
      "version": "3.9.1"
    }
  },
  "nbformat": 4,
  "nbformat_minor": 0
}