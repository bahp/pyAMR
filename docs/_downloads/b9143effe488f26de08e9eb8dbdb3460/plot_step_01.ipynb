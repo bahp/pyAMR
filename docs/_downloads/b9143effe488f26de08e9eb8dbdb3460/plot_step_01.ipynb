{
  "cells": [
    {
      "cell_type": "code",
      "execution_count": null,
      "metadata": {
        "collapsed": false
      },
      "outputs": [],
      "source": [
        "%matplotlib inline"
      ]
    },
    {
      "cell_type": "markdown",
      "metadata": {},
      "source": [
        "\n# Step 01 - Introduction\n"
      ]
    },
    {
      "cell_type": "markdown",
      "metadata": {},
      "source": [
        "## Loading data\n\n\n<img src=\"file://../../_static/imgs/susceptibility-test-record.png\" width=\"200\" align=\"right\" alt=\"ASAI\">\n\nA ``Susceptibility test`` record (see figure 4.1) is composed by laboratory\nidentification number (LID), patient identification number (PID), date, sample\ntype, specimen or culture (e.g. blood or urine), pathogen, antimicrobial, reported\nstatus and outcome (resistant, sensitive or intermediate). In this research,\nthe susceptibility test data were grouped firstly by specimen type. Moreover,\nfor each sample type, the data were grouped by pairs (pathogen, antimicrobial)\nsince it is widely accepted by clinicians as detailed in the UK five year\nstrategy in AMR\n\nA small dataset will be used for this example.\n\n"
      ]
    },
    {
      "cell_type": "code",
      "execution_count": null,
      "metadata": {
        "collapsed": false
      },
      "outputs": [],
      "source": [
        "# Libraries\nimport numpy as np\nimport pandas as pd\nimport seaborn as sns\nimport matplotlib as mpl\nimport matplotlib.pyplot as plt\n\n# Import from pyAMR\nfrom pyamr.datasets.load import make_susceptibility\n\n# -------------------------------------------\n# Load data\n# -------------------------------------------\n# Load data\ndata = make_susceptibility()\ndata = data.drop_duplicates()\n\n# Show\nprint(\"\\nData:\")\nprint(data)\nprint(\"\\nColumns:\")\nprint(data.dtypes)\n\n# -------------------------------------------\n# Show a brief description\n# -------------------------------------------\n# .. todo: Compute basic information such as the number of unique organisms,\n#          antimicrobials, pairs, species, isolates, tests, the range of\n#          dates, ...."
      ]
    },
    {
      "cell_type": "markdown",
      "metadata": {},
      "source": [
        "## Computing SARI\n\nThe Single Antimicrobial Resistance Index - ``SARI`` - describes the proportion\nof resistant isolates for a given set of susceptibility tests. It provides a\nvalue within the range [0, 1] where values close to one indicate high resistance.\nIt is agnostic to pathogen, antibiotic and/or time. The variables ``R``, ``I`` and\n``S`` represent the number of susceptibility tests with Resistant, Intermediate and\nSusceptible outcomes respectively. The definition might vary slightly since the\nintermediate category is not always considered.\n\nThe parameter strategy accepts three different options:\n\n (i) ``soft``   as R / R+I+S\n (ii) ``medium`` as R / R+S\n (iii) ``hard``  as R+I / R+I+S\n (iv) ``other``  as R+0.5I / R+0.5I+S\n\nFor more information see `sphx_glr__examples_tutorial_indexes_plot_core_sari.py`.\n\n"
      ]
    },
    {
      "cell_type": "code",
      "execution_count": null,
      "metadata": {
        "collapsed": false
      },
      "outputs": [],
      "source": [
        "# -------------------------------------------\n# Compute SARI\n# -------------------------------------------\n# Libraries\nfrom pyamr.core.sari import SARI\n\n# Create sari instance\nsari = SARI(groupby=['specimen_code',\n                     'microorganism_name',\n                     'antimicrobial_name',\n                     'sensitivity'])\n\n# Compute SARI overall\nsari_overall = sari.compute(data,\n    return_frequencies=True)\n\n# Show\nprint(\"SARI (overall):\")\nprint(sari_overall)\n\n# Plot Heatmap\n# ------------\n# Filter\nmatrix = sari_overall.copy(deep=True)\nmatrix = matrix.reset_index()\nmatrix = matrix[matrix.freq > 100]\nmatrix = matrix[matrix.specimen_code.isin(['BLDCUL'])]\n\n# Pivot table\nmatrix = pd.pivot_table(matrix,\n    index='microorganism_name',\n    columns='antimicrobial_name',\n    values='sari')\n\n# Create figure\nf, ax = plt.subplots(1, 1, figsize=(10, 4))\n\n# Create colormap\ncmap = sns.color_palette(\"Reds\", desat=0.5, n_colors=10)\n\n# Plot\nax = sns.heatmap(data=matrix*100, annot=True, fmt=\".0f\",\n    annot_kws={'fontsize': 'small'}, cmap=cmap,\n    linewidth=0.5, vmin=0, vmax=100, ax=ax,\n    xticklabels=1, yticklabels=1)\n\n# Add title\nplt.suptitle(\"Antibiogram\", fontsize='xx-large')\n\n# Tight layout\nplt.tight_layout()\nplt.subplots_adjust(right=1.05)"
      ]
    },
    {
      "cell_type": "markdown",
      "metadata": {},
      "source": [
        "## Computing ASAI\n\nThe antimicrobial spectrum of activity refers to the range of microbe species\nthat are sus\u0002ceptible to these agents and therefore can be treated. In general,\nantimicrobial agents are classified into broad, intermediate or narrow spectrum.\nBroad spectrum antimicrobials are active against both Gram-positive and\nGram-negative bacteria. In contrast, narrow spectrum antimicrobials have limited\nactivity and are effective only against particular species of bacteria. While these\nprofiles appeared in the mid-1950s, little effort has been made to define them.\nFurthermore, such ambiguous labels are overused for different and even contradictory\npurposes.\n\nIn order to compute the antimicrobial spectrum of activity index - ``ASAI`` -, it\nis necessary to previously obtain the overall resistance (SARI) for all the\nmicrobe-antimicrobial pairs. Furthermore, by following the criteria used in the\nnarrow-broad approach, these pairs were grouped into Gram-positive and Gram-negative.\nBriefly, the weighted proportion of species to which the antimicrobial\nis effective is computed for each genus. These are later added up and normalized by\nthe number of genera tested. An antimicrobial is considered effective to treat a\nparticular species when the corresponding resistance index (SARI) is lower than\na given threshold.\n\nIn order to compute ``ASAI``, we need to at least have columns with the following\ninformation: ``antimicrobial``, ``microorganism genus``, ``microorganism species``\nand ``resistance``. Moreover, in this example we will compute the ASAI for each\n``gram_stain`` category independently.\n\n\nLets include all this information using the ``MicroorganismRegistry``.\n\nFor more information see `sphx_glr__examples_tutorial_indexes_plot_core_asai.py`.\n\n"
      ]
    },
    {
      "cell_type": "code",
      "execution_count": null,
      "metadata": {
        "collapsed": false
      },
      "outputs": [],
      "source": [
        "# ------------------------------\n# Include gram stain\n# ------------------------------\n# Libraries\nfrom pyamr.datasets.registries import MicroorganismRegistry\n\n# Load registry\nmreg = MicroorganismRegistry()\n\n# Format sari dataframe\ndataframe = sari_overall.copy(deep=True)\ndataframe = dataframe.reset_index()\n\n# Create genus and species\ndataframe[['genus', 'species']] = \\\n    dataframe.microorganism_name \\\n        .str.capitalize() \\\n        .str.split(expand=True, n=1)\n\n# Combine with registry information\ndataframe = mreg.combine(dataframe)\n\n# Fill missing gram stain\ndataframe.gram_stain = dataframe.gram_stain.fillna('u')"
      ]
    },
    {
      "cell_type": "markdown",
      "metadata": {},
      "source": [
        "Now that we have the ``gram_stain`` information, lets compute ``ASAI``.\n\n\n"
      ]
    },
    {
      "cell_type": "code",
      "execution_count": null,
      "metadata": {
        "collapsed": false
      },
      "outputs": [],
      "source": [
        "# -------------------------------------------\n# Compute ASAI\n# -------------------------------------------\n# Import specific libraries\nfrom pyamr.core.asai import ASAI\n\n# Create asai instance\nasai = ASAI(column_genus='genus',\n            column_specie='species',\n            column_resistance='sari',\n            column_frequency='freq')\n\n# Compute\nscores = asai.compute(dataframe,\n    groupby=['specimen_code',\n             'antimicrobial_name',\n             'gram_stain'],\n    weights='uniform',\n    threshold=0.5,\n    min_freq=0)\n\n# Stack\nscores = scores.unstack()\n\n# Filter and drop index.\nscores = scores.filter(like='URICUL', axis=0)\nscores.index = scores.index.droplevel()\n\n# Show\nprint(\"\\nASAI (overall):\")\nprint(scores)"
      ]
    },
    {
      "cell_type": "markdown",
      "metadata": {},
      "source": [
        "Lets plot it now!\n\n"
      ]
    },
    {
      "cell_type": "code",
      "execution_count": null,
      "metadata": {
        "collapsed": false
      },
      "outputs": [],
      "source": [
        "# ----------------\n# Helper method\n# ----------------\ndef scalar_colormap(values, cmap, vmin, vmax):\n    \"\"\"This method creates a colormap based on values.\n\n    Parameters\n    ----------\n    values : array-like\n      The values to create the corresponding colors\n\n    cmap : str\n      The colormap\n\n    vmin, vmax : float\n      The minimum and maximum possible values\n\n    Returns\n    -------\n    scalar colormap\n    \"\"\"\n    # Create scalar mappable\n    norm = mpl.colors.Normalize(vmin=vmin, vmax=vmax, clip=True)\n    mapper = mpl.cm.ScalarMappable(norm=norm, cmap=cmap)\n    # Gete color map\n    colormap = sns.color_palette([mapper.to_rgba(i) for i in values])\n    # Return\n    return colormap\n\n# ---------------------------------------------------------------\n# Plot\n# ---------------------------------------------------------------\n# .. note: In order to sort the scores we need to compute metrics\n#          that combine the different subcategories (e.g. gram-negative\n#          and gram-positive). Two possible options are: (i) use the\n#          gmean or (ii) the width.\n# Measures\nscores['width'] = np.abs(scores['ASAI_SCORE'].sum(axis=1))\n\n# Variables to plot.\nx = scores.index.values\ny_n = scores['ASAI_SCORE']['n'].values\ny_p = scores['ASAI_SCORE']['p'].values\ny_u = scores['ASAI_SCORE']['u'].values\n\n# Constants\ncolormap_p = scalar_colormap(y_p, cmap='Blues', vmin=-0.1, vmax=1.1)\ncolormap_n = scalar_colormap(y_n, cmap='Reds', vmin=-0.1, vmax=1.1)\ncolormap_u = scalar_colormap(y_u, cmap='Greens', vmin=-0.1, vmax=1.1)\n\n# ----------\n# Example\n# ----------\n# This example shows an stacked figure using more than two categories.\n# For instance, it uses gram-positive, gram-negative and gram-unknown.\n# All the indexes go within the range [0,1].\n# Create the figure\nf, axes = plt.subplots(1, 3, figsize=(7, 9))\n\n# Plot each category\nsns.barplot(x=y_p, y=x, palette=colormap_p, ax=axes[0], orient='h',\n            saturation=0.5, label='Gram-positive')\nsns.barplot(x=y_n, y=x, palette=colormap_n, ax=axes[1], orient='h',\n            saturation=0.5, label='Gram-negative')\nsns.barplot(x=y_u, y=x, palette=colormap_u, ax=axes[2], orient='h',\n            saturation=0.5, label='Gram-unknown')\n\n# Configure\nsns.despine(bottom=True)\n\n# Format figure\nplt.subplots_adjust(wspace=0.0, hspace=0.0)\n\n# Remove yticks\naxes[1].set_yticks([])\naxes[2].set_yticks([])\n\n# Set title\naxes[0].set_title('Gram-positive')\naxes[1].set_title('Gram-negative')\naxes[2].set_title('Gram-unknown')\n\n# Set x-axis\naxes[0].set_xlim([0, 1.1])\naxes[1].set_xlim([0, 1.1])\naxes[2].set_xlim([0, 1.1])\n\n# Adjust\nplt.tight_layout()\n\n# Show\nplt.show()"
      ]
    },
    {
      "cell_type": "markdown",
      "metadata": {},
      "source": [
        "## Computing SART\n\n<div class=\"alert alert-danger\"><h4>Warning</h4><p>To include.</p></div>\n\n"
      ]
    },
    {
      "cell_type": "markdown",
      "metadata": {},
      "source": [
        "## Dirty code to use and or delete\n\n"
      ]
    },
    {
      "cell_type": "code",
      "execution_count": null,
      "metadata": {
        "collapsed": false
      },
      "outputs": [],
      "source": [
        "\"\"\"\n\nSummary\n\nsummary = data.agg(\n    norganisms=('organismCode', 'nunique'),\n    nantibiotics=('antibioticCode', 'nunique'),\n    ncultures=('orderCode', 'nunique'),\n    ntests=('labNumber', 'nunique')\n)\n\nprint(summary)\n\nprint(data.nunique())\n\n\nprint(len(data.groupby(['organismCode', 'antibioticCode'])))\nprint(data.shape[0])\n\nsummary = pd.DataFrame\n\n\n#from analysis.microbiology.statistics.frequency import Frequency\n\n# -----------------------------------------------------------------------------\n#                                 CONSTANTS\n# -----------------------------------------------------------------------------\n# Paths\nfname_tests = \"freq_tests_pairs_year\"\nfname_isola = \"freq_isolates_pairs_year\"\nfpath_tests = \"../../results/microbiology/frequencies/%s.csv\" % fname_tests\nfpath_isola = \"../../results/microbiology/frequencies/%s.csv\" % fname_isola\n\n# Object\nfreq = Frequency()\n\n# Read data\ndff_tests = freq.load(fpath_tests)\ndff_isola = freq.load(fpath_isola)\ndff_reset = dff_tests.reset_index()\n\n# Basic dataframe.\n# IMPORTANT. Note that isolates refer to a single infectious organism which\n# is tested against many different anttibiotics. Hence the only way the sum\n# refers to isolate is by grouping the laboratory tests by infectious\n# organisms.\ndfy = pd.DataFrame()\ndfy['Tests'] = dff_tests['freq_ris'].groupby(level=[0]).sum()\ndfy['Isolates'] = dff_isola['freq'].groupby(level=[0]).sum()\ndfy['Tests/Isolates'] = dfy['Tests'].div(dfy['Isolates'])\ndfy['Antibiotics'] = dff_reset.groupby('dateReceived').antibioticCode.nunique()\ndfy['Organisms'] = dff_reset.groupby('dateReceived').organismCode.nunique()\n\n# Fill last row.\ndfy.loc['Total',:] = np.nan\ndfy.loc['Total','Tests'] = dfy['Tests'].sum(axis=0)\ndfy.loc['Total','Isolates'] = dfy['Isolates'].sum(axis=0)\ndfy.loc['Total','Tests/Isolates'] = dfy['Tests/Isolates'].mean()\ndfy.loc['Total','Antibiotics'] = dff_reset.antibioticCode.nunique()\ndfy.loc['Total','Organisms'] = dff_reset.organismCode.nunique()\n\n# Print dataframe.\nprint(\"\\n\\n\")\nprint(\"Pandas:\")\nprint(\"-------\")\nprint(dfy)\n\n# Print dataframe latex format.\nprint(\"\\n\\n\")\nprint(\"Latex:\")\nprint(\"-------\")\nprint(dfy.to_latex())\n\n#print dff_isola.head(10)\nimport sys\nsys.exit()\n\n\n\"\"\""
      ]
    }
  ],
  "metadata": {
    "kernelspec": {
      "display_name": "Python 3",
      "language": "python",
      "name": "python3"
    },
    "language_info": {
      "codemirror_mode": {
        "name": "ipython",
        "version": 3
      },
      "file_extension": ".py",
      "mimetype": "text/x-python",
      "name": "python",
      "nbconvert_exporter": "python",
      "pygments_lexer": "ipython3",
      "version": "3.9.1"
    }
  },
  "nbformat": 4,
  "nbformat_minor": 0
}