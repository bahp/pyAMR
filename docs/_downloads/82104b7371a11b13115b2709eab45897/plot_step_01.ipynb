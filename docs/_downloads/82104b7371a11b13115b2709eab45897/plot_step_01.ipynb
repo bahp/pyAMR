{
  "cells": [
    {
      "cell_type": "code",
      "execution_count": null,
      "metadata": {
        "collapsed": false
      },
      "outputs": [],
      "source": [
        "%matplotlib inline"
      ]
    },
    {
      "cell_type": "markdown",
      "metadata": {},
      "source": [
        "\n# Step 01 - Loading data\n\n.. note: Done quickly, needs review.\n\n.. todo:\n    1. Load data\n    2. Plot summary\n    3. Compute SARI\n    4.\n"
      ]
    },
    {
      "cell_type": "code",
      "execution_count": null,
      "metadata": {
        "collapsed": false
      },
      "outputs": [],
      "source": [
        "# Libraries\nimport pandas as pd\n\n\n# -------------------------------------------\n# Load data\n# -------------------------------------------\n# Path\npath = '../../../pyamr/datasets/other/susceptibility.csv'\n\n# Load data\ndata = pd.read_csv(path,\n    parse_dates=['dateReceived'])\n\n# Clean\ndata = data.drop_duplicates()\n\n# Show\nprint(\"\\nData:\")\nprint(data)\nprint(\"\\nColumns\")\nprint(data.columns)\n\n# -------------------------------------------\n# Show a brief description\n# -------------------------------------------"
      ]
    },
    {
      "cell_type": "markdown",
      "metadata": {},
      "source": [
        "Compute the frequency...\n\n"
      ]
    },
    {
      "cell_type": "code",
      "execution_count": null,
      "metadata": {
        "collapsed": false
      },
      "outputs": [],
      "source": [
        "# -------------------------------------------\n# Compute Freq\n# -------------------------------------------\n# Libraries\nfrom pyamr.core.freq import Frequency\n\n# Create instance\nfreq = Frequency(column_antibiotic='antibioticCode',\n                 column_organism='organismCode',\n                 column_date='dateReceived',\n                 column_outcome='sensitivity')\n\n# Compute frequencies monthly\nmonthly = freq.compute(data, strategy='ITI',\n                             by_category='pairs',\n                             fs='1M')\n# Add freq\nmonthly['freq'] = monthly.sum(axis=1)\n\n# Show\nprint(\"\\nFreqs:\")\nprint(monthly)\n\n# Plot\n# .. todo: Use bar plot or any other library to plot\n#          the frequency in time. Ideally with bars\n#          where x-axis is the time and y-axi is the\n#          freq. Avoid too many x-labels, keep just\n#          years?"
      ]
    },
    {
      "cell_type": "markdown",
      "metadata": {},
      "source": [
        "It can be computed with different strategies...\n\n - hard ..\n - soft ..\n - define your own...\n\n"
      ]
    },
    {
      "cell_type": "code",
      "execution_count": null,
      "metadata": {
        "collapsed": false
      },
      "outputs": [],
      "source": [
        "# -------------------------------------------\n# Compute SARI\n# -------------------------------------------\n# Libraries\nfrom pyamr.core.sari import SARI\n\n# Compute SARI\nsari = SARI(strategy='hard').compute(monthly)\n\n# Show\nprint(\"\\nFreqs:\")\nprint(sari)\n\n# Plot\n# .. todo: Use bar plot or any other library to plot\n#          the frequency in time. Ideally with bars\n#          where x-axis is the time and y-axi is the\n#          freq. Avoid too many x-labels, keep just\n#          years?\n\n\n\n\"\"\"\nsummary = data.agg(\n    norganisms=('organismCode', 'nunique'),\n    nantibiotics=('antibioticCode', 'nunique'),\n    ncultures=('orderCode', 'nunique'),\n    ntests=('labNumber', 'nunique')\n)\n\nprint(summary)\n\nprint(data.nunique())\n\n\nprint(len(data.groupby(['organismCode', 'antibioticCode'])))\nprint(data.shape[0])\n\nsummary = pd.DataFrame\n\n\n#from analysis.microbiology.statistics.frequency import Frequency\n\n# -----------------------------------------------------------------------------\n#                                 CONSTANTS\n# -----------------------------------------------------------------------------\n# Paths\nfname_tests = \"freq_tests_pairs_year\"\nfname_isola = \"freq_isolates_pairs_year\"\nfpath_tests = \"../../results/microbiology/frequencies/%s.csv\" % fname_tests\nfpath_isola = \"../../results/microbiology/frequencies/%s.csv\" % fname_isola\n\n# Object\nfreq = Frequency()\n\n# Read data\ndff_tests = freq.load(fpath_tests)\ndff_isola = freq.load(fpath_isola)\ndff_reset = dff_tests.reset_index()\n\n# Basic dataframe.\n# IMPORTANT. Note that isolates refer to a single infectious organism which\n# is tested against many different anttibiotics. Hence the only way the sum\n# refers to isolate is by grouping the laboratory tests by infectious\n# organisms.\ndfy = pd.DataFrame()\ndfy['Tests'] = dff_tests['freq_ris'].groupby(level=[0]).sum()\ndfy['Isolates'] = dff_isola['freq'].groupby(level=[0]).sum()\ndfy['Tests/Isolates'] = dfy['Tests'].div(dfy['Isolates'])\ndfy['Antibiotics'] = dff_reset.groupby('dateReceived').antibioticCode.nunique()\ndfy['Organisms'] = dff_reset.groupby('dateReceived').organismCode.nunique()\n\n# Fill last row.\ndfy.loc['Total',:] = np.nan\ndfy.loc['Total','Tests'] = dfy['Tests'].sum(axis=0)\ndfy.loc['Total','Isolates'] = dfy['Isolates'].sum(axis=0)\ndfy.loc['Total','Tests/Isolates'] = dfy['Tests/Isolates'].mean()\ndfy.loc['Total','Antibiotics'] = dff_reset.antibioticCode.nunique()\ndfy.loc['Total','Organisms'] = dff_reset.organismCode.nunique()\n\n# Print dataframe.\nprint(\"\\n\\n\")\nprint(\"Pandas:\")\nprint(\"-------\")\nprint(dfy)\n\n# Print dataframe latex format.\nprint(\"\\n\\n\")\nprint(\"Latex:\")\nprint(\"-------\")\nprint(dfy.to_latex())\n\n#print dff_isola.head(10)\nimport sys\nsys.exit()\n\"\"\""
      ]
    }
  ],
  "metadata": {
    "kernelspec": {
      "display_name": "Python 3",
      "language": "python",
      "name": "python3"
    },
    "language_info": {
      "codemirror_mode": {
        "name": "ipython",
        "version": 3
      },
      "file_extension": ".py",
      "mimetype": "text/x-python",
      "name": "python",
      "nbconvert_exporter": "python",
      "pygments_lexer": "ipython3",
      "version": "3.9.1"
    }
  },
  "nbformat": 4,
  "nbformat_minor": 0
}