{
  "cells": [
    {
      "cell_type": "code",
      "execution_count": null,
      "metadata": {
        "collapsed": false
      },
      "outputs": [],
      "source": [
        "%matplotlib inline"
      ]
    },
    {
      "cell_type": "markdown",
      "metadata": {},
      "source": [
        "\n# Piechart AMR review\n"
      ]
    },
    {
      "cell_type": "markdown",
      "metadata": {},
      "source": [
        "Notes: The values can be changed to display other data.\n\n Useful links:\n @see: http://matplotlib.org/examples/color/named_colors.html\n @see: http://matplotlib.org/examples/color/colormaps_reference.html\n @see: http://matplotlib.org/api/patches_api.html#matplotlib.patches.Wedge\n @see: http://matplotlib.org/api/text_api.html#matplotlib.text.Text\n\n######################################################################\n\n"
      ]
    },
    {
      "cell_type": "code",
      "execution_count": null,
      "metadata": {
        "collapsed": false
      },
      "outputs": [],
      "source": [
        "from __future__ import division\n\n# Libraries\nimport seaborn as sns\nimport matplotlib as mpl\nimport matplotlib.pyplot as plt\n\n# Matplotlib font size configuration.\nmpl.rcParams['font.size'] = 9.0\n\n\n# ------------------------------------------------------------------------\n#                            HELPER METHODS\n# ------------------------------------------------------------------------\ndef transparency(cmap, alpha):\n    \"\"\"\n    \"\"\"\n    for i,rgb in enumerate(cmap):\n        cmap[i] = rgb + (alpha,)\n    return cmap\n\n# ------------------------------------------------------------------------\n#                              FIGURE 1\n# ------------------------------------------------------------------------\n# Common configuration.\ntitle_font_size = 30\nlabels = ['Prescription', 'Surveillance','Diagnosis', 'Dosing', 'Others'] # labels\nlabels_empty = ['', '', '', '', '']         # labels empty\ncolors = transparency(sns.color_palette(\"Set2\", desat=0.75, n_colors=7), 0.4)\nexplode = (0.00,0,0,0,0)     # proportion with which to offset each wedge\nautopct = ''#'%1.0f%%'       # print values inside the wedges\npctdistance = 0.8         # ratio betwen center and text (default=0.6)\nlabeldistance = 0.5       # radial distance wich pie labels are drawn\nshadow = False            # shadow\nstartangle = 90           # rotate piechart (default=0)\nradius = 1                # size of piechart (default=1)\ncounterclock = False      # fractions direction.\ncenter = (0,0)            # center position of the chart.\nframe = False             # plot axes frame with the pie chart.\n\n# map with arguments for the text objects.\ntextprops = {'fontsize':'x-large'}\n\n# map with arguments for the wedge objects.\nwedgeprops = {}\n\n# Color manually selected\ncolors_manual = ['mediumpurple',\n                 'violet',\n                 'mediumaquamarine',\n                 'lightskyblue',\n                 'lightsalmon',\n                 'indianred']\n\n# ---------------------------\n#  plot\n# ---------------------------\n# Portions.\nsizes = [69, 10, 5, 2, 14] # Add proportions\n\n# reset feature\nstartangle = 90\n\n# Plot\nplt.figure()\nplt.pie(sizes,\n        explode=explode,\n        labels=labels,   # Use: labels / labels_empty\n        colors=colors,   # Use: colors / colors_manual\n        autopct=autopct,\n        pctdistance=pctdistance,\n        labeldistance=labeldistance,\n        shadow=shadow,\n        startangle=startangle,\n        radius=radius,\n        counterclock=counterclock,\n        center=center,\n        frame=frame,\n        textprops=textprops,\n        wedgeprops={'linewidth':0.35,\n                    'edgecolor':'k'})\n\n# Format figure.\nplt.axis('equal')\nplt.tight_layout()\nplt.title(\"\", fontsize=title_font_size)          # Add title.\n#plt.legend(labels=labels, fontsize='xx-large')  # Add legend.\n\n\n# ------------------------------------------------------------------------\n#                            FIGURE 2\n# ------------------------------------------------------------------------\n# Common configuration.\ntitle_font_size = 30\nlabels = ['Rule-based', 'Tree-based','Case-based', 'Other'] # labels\nlabels_empty = ['', '', '', '']         # labels empty\ncolors = transparency(sns.color_palette(\"Set2\", desat=0.75, n_colors=7), 0.4)\nexplode = (0.00,0,0,0)     # proportion with which to offset each wedge\nautopct = ''#'%1.0f%%'       # print values inside the wedges\npctdistance = 0.6         # ratio betwen center and text (default=0.6)\nlabeldistance = 0.4       # radial distance wich pie labels are drawn\nshadow = False            # shadow\nstartangle = 90           # rotate piechart (default=0)\nradius = 1                # size of piechart (default=1)\ncounterclock = False      # fractions direction.\ncenter = (0,0)            # center position of the chart.\nframe = False             # plot axes frame with the pie chart.\n\n# map with arguments for the text objects.\ntextprops = {'fontsize':'x-large'}\n\n# map with arguments for the wedge objects.\nwedgeprops = {}\n\n# Color manually selected\ncolors_manual = ['mediumpurple',\n                 'violet',\n                 'mediumaquamarine',\n                 'lightskyblue',\n                 'lightsalmon',\n                 'indianred']\n\n# ---------------------------\n#  plot\n# ---------------------------\n# Portions.\nsizes = [64, 18, 10, 6] # Add proportions\n\n# reset feature\nstartangle = 90\n\n# Plot\nplt.figure()\nplt.pie(sizes,\n        explode=explode,\n        labels=labels,   # Use: labels / labels_empty\n        colors=colors,   # Use: colors / colors_manual\n        autopct=autopct,\n        pctdistance=pctdistance,\n        labeldistance=labeldistance,\n        shadow=shadow,\n        startangle=startangle,\n        radius=radius,\n        counterclock=counterclock,\n        center=center,\n        frame=frame,\n        textprops=textprops,\n        wedgeprops={'linewidth':0.35,\n                    'edgecolor':'k'})\n\n# Format figure.\nplt.axis('equal')\nplt.tight_layout()\nplt.title(\"\", fontsize=title_font_size)          # Add title.\n#plt.legend(labels=labels, fontsize='xx-large')  # Add legend.\n\n# ------------------------------------------------------------------------\n#                            FIGURE 3\n# ------------------------------------------------------------------------\n# Common configuration.\ntitle_font_size = 30\nlabels = ['Bacteremia', 'SSI','UTI', 'RTI' ' C+', 'Gram'] # labels\nlabels_empty = ['', '', '', '', '', '']         # labels empty\ncolors = transparency(sns.color_palette(\"Set2\", desat=0.75, n_colors=7), 0.4)\nexplode = (0.00,0,0,0,0,0) # proportion with which to offset each wedge\nautopct = ''#'%1.0f%%'    # print values inside the wedges\npctdistance = 0.6         # ratio betwen center and text (default=0.6)\nlabeldistance = 0.4       # radial distance wich pie labels are drawn\nshadow = False            # shadow\nstartangle = 90           # rotate piechart (default=0)\nradius = 1                # size of piechart (default=1)\ncounterclock = False      # fractions direction.\ncenter = (0,0)            # center position of the chart.\nframe = False             # plot axes frame with the pie chart.\n\n# map with arguments for the text objects.\ntextprops = {'fontsize':'x-large'}\n\n# map with arguments for the wedge objects.\nwedgeprops = {}\n\n# Color manually selected\ncolors_manual = ['mediumpurple',\n                 'violet',\n                 'mediumaquamarine',\n                 'lightskyblue',\n                 'lightsalmon',\n                 'indianred']\n\n# ---------------------------\n#  plot\n# ---------------------------\n# Portions.\nsizes = [49, 19, 14, 14, 2, 2] # Add proportions\n\n# reset feature\nstartangle = 90\n\n# Plot\nplt.figure()\nplt.pie(sizes,\n        explode=explode,\n        labels=labels_empty,   # Use: labels / labels_empty\n        colors=colors,   # Use: colors / colors_manual\n        autopct=autopct,\n        pctdistance=pctdistance,\n        labeldistance=labeldistance,\n        shadow=shadow,\n        startangle=startangle,\n        radius=radius,\n        counterclock=counterclock,\n        center=center,\n        frame=frame,\n        textprops=textprops,\n        wedgeprops={'linewidth':0.35,\n                    'edgecolor':'k'})\n\n# Format figure.\nplt.axis('equal')\nplt.tight_layout()\nplt.title(\"\", fontsize=title_font_size)          # Add title.\n#plt.legend(labels=labels, fontsize='xx-large')  # Add legend.\n\n\n# Show figures\nplt.show()"
      ]
    }
  ],
  "metadata": {
    "kernelspec": {
      "display_name": "Python 3",
      "language": "python",
      "name": "python3"
    },
    "language_info": {
      "codemirror_mode": {
        "name": "ipython",
        "version": 3
      },
      "file_extension": ".py",
      "mimetype": "text/x-python",
      "name": "python",
      "nbconvert_exporter": "python",
      "pygments_lexer": "ipython3",
      "version": "3.7.9"
    }
  },
  "nbformat": 4,
  "nbformat_minor": 0
}