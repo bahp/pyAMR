{
  "cells": [
    {
      "cell_type": "code",
      "execution_count": null,
      "metadata": {
        "collapsed": false
      },
      "outputs": [],
      "source": [
        "%matplotlib inline"
      ]
    },
    {
      "cell_type": "markdown",
      "metadata": {},
      "source": [
        "\n# Statistical test - Correlation\n\nExample using your package\n"
      ]
    },
    {
      "cell_type": "code",
      "execution_count": null,
      "metadata": {
        "collapsed": false
      },
      "outputs": [],
      "source": [
        "# Libraries\nimport numpy as np\nimport pandas as pd\n\n# Import statsmodels\nfrom statsmodels.tsa.stattools import adfuller\n\n# Import pyAMR\nfrom pyamr.core.stats.correlation import CorrelationWrapper\n\n# ----------------------------\n# set basic configuration\n# ----------------------------\n# Set pandas configuration.\npd.set_option('display.max_colwidth', 80)\npd.set_option('display.width', 150)\npd.set_option('display.precision', 4)\n\n# ----------------------------\n# create data\n# ----------------------------\n# Constants\nlength = 100\noffset = 100\nslope = 10\n\n# Create timeseries.\nx = np.arange(length)\nn = np.random.rand(length)\ny1 = n * slope + offset\ny2 = n * (-slope) + offset\n\n# ----------------------------\n# create correlation object\n# ----------------------------\n# Create object\ncorrelation = CorrelationWrapper().fit(x1=y1, x2=y2)\n\n# Print series.\nprint(\"\\n\")\nprint(correlation.as_series())\n\n# Print summary.\nprint(\"\\n\")\nprint(correlation.as_summary())\n\n# Print identifier.\nprint(\"\\nIdentifier:\")\nprint(correlation._identifier())"
      ]
    }
  ],
  "metadata": {
    "kernelspec": {
      "display_name": "Python 3",
      "language": "python",
      "name": "python3"
    },
    "language_info": {
      "codemirror_mode": {
        "name": "ipython",
        "version": 3
      },
      "file_extension": ".py",
      "mimetype": "text/x-python",
      "name": "python",
      "nbconvert_exporter": "python",
      "pygments_lexer": "ipython3",
      "version": "3.7.7"
    }
  },
  "nbformat": 4,
  "nbformat_minor": 0
}