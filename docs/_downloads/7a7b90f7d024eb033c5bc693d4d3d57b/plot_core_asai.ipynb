{
  "cells": [
    {
      "cell_type": "code",
      "execution_count": null,
      "metadata": {
        "collapsed": false
      },
      "outputs": [],
      "source": [
        "%matplotlib inline"
      ]
    },
    {
      "cell_type": "markdown",
      "metadata": {},
      "source": [
        "\n# Spectrum of Activity (ASAI)\n\n.. todo::\n    - Improve visualization method (generic).\n    - Create further examples with temporal visualization.\n    - Create further examples with general heatmap.\n    - Create further examples with animation?\n\n<div class=\"alert alert-danger\"><h4>Warning</h4><p>The contribution (cont) value for Staphylococcus haemolyticus\n             should be 0 instead of 1/10 because the sari index is higher\n             than the threshold (32 > 20) and therefore the antimicrobial\n             is not considered effective.</p></div>\n\nThe antimicrobial spectrum of activity refers to the range of microbe species that are\nsusceptible to these agents and therefore can be treated. In general, antimicrobial agents\nare classified into broad, intermediate or narrow spectrum. Broad spectrum antimicrobials\nare active against both Gram-positive and Gram-negative bacteria. In contrast, narrow\nspectrum antimicrobials have limited activity and are effective only against particular\nspecies of bacteria. While these profiles appeared in the mid-1950s, little effort has been\nmade to define them. Furthermore, such ambiguous labels are overused for different\nand even contradictory purposes.\n\nFor more information see: :py:mod:`pyamr.core.asai.ASAI`\n\n<img src=\"file://../../../_static/imgs/index-asai.png\" width=\"600\" align=\"center\" alt=\"ASAI\">\n"
      ]
    },
    {
      "cell_type": "code",
      "execution_count": null,
      "metadata": {
        "collapsed": false
      },
      "outputs": [],
      "source": [
        "# Import libraries\nimport sys\nimport pandas as pd\nimport numpy as np\nimport seaborn as sns\nimport matplotlib as mpl\nimport matplotlib.pyplot as plt\n\n# Import specific libraries\nfrom pyamr.core.asai import ASAI\nfrom pyamr.core.asai import asai\nfrom pyamr.graphics.utils import scalar_colormap\n\n# Configure seaborn style (context=talk)\nsns.set(style=\"white\")\n\n# Set matplotlib\nmpl.rcParams['xtick.labelsize'] = 9\nmpl.rcParams['ytick.labelsize'] = 9\nmpl.rcParams['axes.titlesize'] = 11\nmpl.rcParams['legend.fontsize'] = 9\n\n# Pandas configuration\npd.set_option('display.max_colwidth', 40)\npd.set_option('display.width', 300)\npd.set_option('display.precision', 4)\n\n# Numpy configuration\nnp.set_printoptions(precision=2)\n\n\n# ---------------------\n# Create data\n# ---------------------\n# Create data\ndata = [\n    ['Staphylococcus', 'coagulase negative', 'ANTIBIOTIC_1', 'P', 0.88, 1, 0.20, 1/10, 1/3],\n    ['Staphylococcus', 'epidermidis', 'ANTIBIOTIC_1', 'P', 0.11, 1, 0.20, 1/10, 1/3],\n    ['Staphylococcus', 'haemolyticus', 'ANTIBIOTIC_1', 'P', 0.32, 1, 0.20, 1/10, 1/3],\n    ['Staphylococcus', 'lugdumensis', 'ANTIBIOTIC_1', 'P', 0.45, 1, 0.20, 1/10, 1/3],\n    ['Staphylococcus', 'saporphyticus', 'ANTIBIOTIC_1', 'P', 0.18, 1, 0.20, 1/10, 1/3],\n    ['Staphylococcus', 'aureus', 'ANTIBIOTIC_1', 'P', 0.13, 5, 0.20, 5/10, 1/3],\n\n    ['Enterococcus', 'durans', 'ANTIBIOTIC_1', 'N', 0.64, 1, 0.20, 1/4, 1/3],\n    ['Enterococcus', 'faecium', 'ANTIBIOTIC_1', 'N', 0.48, 1, 0.20, 1/4, 1/3],\n    ['Enterococcus', 'gallinarium', 'ANTIBIOTIC_1', 'N', 0.10, 1, 0.20, 1/4, 1/3],\n    ['Enterococcus', 'faecalis', 'ANTIBIOTIC_1', 'N', 0.09, 1, 0.20, 1/4, 1/3],\n\n    ['Streptococcus', 'viridians', 'ANTIBIOTIC_1', 'P', 0.08, 1, 0.20, 1/3, 1/3],\n    ['Streptococcus', 'pneumoniae', 'ANTIBIOTIC_1', 'P', 0.89, 2, 0.20, 2/3, 1/3]\n]\n\n\n# Create dataframe\ndataframe = pd.DataFrame(data, columns=['GENUS',\n                                        'SPECIE',\n                                        'ANTIBIOTIC',\n                                        'GRAM',\n                                        'RESISTANCE',\n                                        'FREQUENCY',\n                                        'THRESHOLD',\n                                        'W_SPECIE',\n                                        'W_GENUS'])\n\n# Show data\nprint(\"\\nData:\")\nprint(dataframe)"
      ]
    },
    {
      "cell_type": "markdown",
      "metadata": {},
      "source": [
        "Lets use the ASAI object\n\n\n"
      ]
    },
    {
      "cell_type": "code",
      "execution_count": null,
      "metadata": {
        "collapsed": false
      },
      "outputs": [],
      "source": [
        "# -------------------------------\n# Create antimicrobial spectrum\n# -------------------------------\n# Create antimicrobial spectrum of activity instance\nasai = ASAI(column_genus='GENUS',\n            column_specie='SPECIE',\n            column_resistance='RESISTANCE',\n            column_frequency='FREQUENCY',\n            column_threshold='THRESHOLD',\n            column_wgenus='W_GENUS',\n            column_wspecie='W_SPECIE')\n# Compute\nscores = asai.compute(dataframe,\n    groupby=['ANTIBIOTIC', 'GRAM'],\n    weights='uniform',\n    threshold=None,\n    min_freq=0)\n\n# Unstack\nscores = scores.unstack()\n\n# Show\n#print(\"\\nASAI (instance):\")\n#print(scores)\n\nscores"
      ]
    },
    {
      "cell_type": "markdown",
      "metadata": {},
      "source": [
        "Lets display the information graphically\n\n"
      ]
    },
    {
      "cell_type": "code",
      "execution_count": null,
      "metadata": {
        "collapsed": false
      },
      "outputs": [],
      "source": [
        "# -----------------------------\n# Plot\n# -----------------------------\n# Variables to plot.\nx = scores.index.values\ny_n = scores['ASAI_SCORE']['N'].values\ny_p = scores['ASAI_SCORE']['P'].values\n\n# Constants\ncolormap_p = scalar_colormap(y_p, cmap='Blues', vmin=-0.1, vmax=1.1)\ncolormap_n = scalar_colormap(y_n, cmap='Reds', vmin=-0.1, vmax=1.1)\n\n# Create figure\nf, ax = plt.subplots(1, 1, figsize=(8, 0.5))\n\n# Plot\nsns.barplot(x=y_p, y=x, palette=colormap_p, ax=ax, orient='h',\n            saturation=0.5, label='Gram-positive')\nsns.barplot(x=-y_n, y=x, palette=colormap_n, ax=ax, orient='h',\n            saturation=0.5, label='Gram-negative')\n\n# Configure\nsns.despine(bottom=True)\n\n# Configure\nax.set_xlim([-1, 1])\n\n# Legend\nplt.legend()\n\n# Display\nplt.show()"
      ]
    }
  ],
  "metadata": {
    "kernelspec": {
      "display_name": "Python 3",
      "language": "python",
      "name": "python3"
    },
    "language_info": {
      "codemirror_mode": {
        "name": "ipython",
        "version": 3
      },
      "file_extension": ".py",
      "mimetype": "text/x-python",
      "name": "python",
      "nbconvert_exporter": "python",
      "pygments_lexer": "ipython3",
      "version": "3.7.9"
    }
  },
  "nbformat": 4,
  "nbformat_minor": 0
}