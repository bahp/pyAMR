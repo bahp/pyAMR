{
  "cells": [
    {
      "cell_type": "code",
      "execution_count": null,
      "metadata": {
        "collapsed": false
      },
      "outputs": [],
      "source": [
        "%matplotlib inline"
      ]
    },
    {
      "cell_type": "markdown",
      "metadata": {},
      "source": [
        "\n# Spectrum of Activity (ASAI)\n\n.. todo::\n    - Create data as in the example shown in the figure.\n    - Improve visualization method (generic).\n    - Create further examples with temporal visualization.\n    - Create further examples with general heatmap.\n    - Create further examples with animation?\n\n<div class=\"alert alert-danger\"><h4>Warning</h4><p>The contribution (cont) value for Staphylococcus haemolyticus\n             should be 0 instead of 1/10 because the sari index is higher\n             than the threshold (32 > 20) and therefore the antimicrobial\n             is not considered effective.</p></div>\n\nThe antimicrobial spectrum of activity refers to the range of microbe species that are susceptible to\nthese agents and therefore can be treated. In general, antimicrobial agents are classified into broad,\nintermediate or narrow spectrum. Broad spectrum antimicrobials are active against both Gram-positive\nand Gram-negative bacteria. In contrast, narrow spectrum antimicrobials have limited activity and are\neffective only against particular species of bacteria. While these profiles appeared in the mid-1950s,\nlittle effort has been made to define them. Furthermore, such ambiguous labels are overused for different\nand even contradictory purposes.\n\n<img src=\"file://../../_static/imgs/index-asai.png\" align=\"right\" alt=\"ASAI\">\n\n\nFor more information see: :py:mod:`pyamr.core.asai.ASAI`\n"
      ]
    },
    {
      "cell_type": "code",
      "execution_count": null,
      "metadata": {
        "collapsed": false
      },
      "outputs": [],
      "source": [
        "# Import libraries\nimport sys\nimport pandas as pd\nimport numpy as np\nimport seaborn as sns\nimport matplotlib as mpl\nimport matplotlib.pyplot as plt\n\n# Import specific libraries\nfrom pyamr.core.asai import ASAI\nfrom pyamr.core.asai import asai\n\n# Configure seaborn style (context=talk)\nsns.set(style=\"white\")\n\n# Set matplotlib\nmpl.rcParams['xtick.labelsize'] = 9\nmpl.rcParams['ytick.labelsize'] = 9\nmpl.rcParams['axes.titlesize'] = 11\nmpl.rcParams['legend.fontsize'] = 9\n\n# Pandas configuration\npd.set_option('display.max_colwidth', 40)\npd.set_option('display.width', 300)\npd.set_option('display.precision', 4)\n\n# Numpy configuration\nnp.set_printoptions(precision=2)\n\n\n# ---------------------\n# helper method\n# ---------------------\ndef scalar_colormap(values, cmap, vmin, vmax):\n    \"\"\"This method creates a colormap based on values.\n\n    Parameters\n    ----------\n    values : array-like\n      The values to create the corresponding colors\n\n    cmap : str\n      The colormap\n\n    vmin, vmax : float\n      The minimum and maximum possible values\n\n    Returns\n    -------\n    scalar colormap\n    \"\"\"\n    # Create scalar mappable\n    norm = mpl.colors.Normalize(vmin=vmin, vmax=vmax, clip=True)\n    mapper = mpl.cm.ScalarMappable(norm=norm, cmap=cmap)\n    # Gete color map\n    colormap = sns.color_palette([mapper.to_rgba(i) for i in values])\n    # Return\n    return colormap\n\n\n# ---------------------\n# Create data\n# ---------------------\n# Create data\ndata = [['Staphylococcus', 'coagulase negative', 'ANTIBIOTIC_1', 'P', 0.88, 1, 0.20, 1/10, 1/3],\n        ['Staphylococcus', 'epidermidis', 'ANTIBIOTIC_1', 'P', 0.11, 1, 0.20, 1/10, 1/3],\n        ['Staphylococcus', 'haemolyticus', 'ANTIBIOTIC_1', 'P', 0.32, 1, 0.20, 1/10, 1/3],\n        ['Staphylococcus', 'lugdumensis', 'ANTIBIOTIC_1', 'P', 0.45, 1, 0.20, 1/10, 1/3],\n        ['Staphylococcus', 'saporphyticus', 'ANTIBIOTIC_1', 'P', 0.18, 1, 0.20, 1/10, 1/3],\n        ['Staphylococcus', 'aureus', 'ANTIBIOTIC_1', 'P', 0.13, 5, 0.20, 5/10, 1/3],\n\n        ['Enterococcus', 'durans', 'ANTIBIOTIC_1', 'N', 0.64, 1, 0.20, 1/4, 1/3],\n        ['Enterococcus', 'faecium', 'ANTIBIOTIC_1', 'N', 0.48, 1, 0.20, 1/4, 1/3],\n        ['Enterococcus', 'gallinarium', 'ANTIBIOTIC_1', 'N', 0.10, 1, 0.20, 1/4, 1/3],\n        ['Enterococcus', 'faecalis', 'ANTIBIOTIC_1', 'N', 0.09, 1, 0.20, 1/4, 1/3],\n\n        ['Streptococcus', 'viridians', 'ANTIBIOTIC_1', 'P', 0.08, 1, 0.20, 1/3, 1/3],\n        ['Streptococcus', 'pneumoniae', 'ANTIBIOTIC_1', 'P', 0.89, 2, 0.20, 2/3, 1/3]]\n\n\n# Create dataframe\ndataframe = pd.DataFrame(data, columns=['GENUS',\n                                        'SPECIE',\n                                        'ANTIBIOTIC',\n                                        'GRAM',\n                                        'RESISTANCE',\n                                        'FREQUENCY',\n                                        'THRESHOLD',\n                                        'W_SPECIE',\n                                        'W_GENUS'])\n\n# Show data\nprint(\"\\nData:\")\nprint(dataframe)\n\n# ---------------------------------------------------------------------\n# ASAI - Errors\n# ---------------------------------------------------------------------\n# .. note: In the examples below, the method asai is meant to raise\n#          an error either because any of the required missing columns\n#          is missing or because the weight configuration is not\n#          correct.\nprint(\"\\n\\nHandling errors:\")\n\ntry:\n    asai = dataframe.drop(columns=['RESISTANCE']) \\\n        .groupby(['ANTIBIOTIC']) \\\n        .apply(asai)\nexcept Exception as e:\n    print(e)\n\ntry:\n    asai = dataframe.drop(columns=['GENUS']) \\\n        .groupby(['ANTIBIOTIC']) \\\n        .apply(asai)\nexcept Exception as e:\n    print(e)\n\ntry:\n    asai = dataframe.drop(columns=['SPECIE']) \\\n        .groupby(['ANTIBIOTIC']) \\\n        .apply(asai)\nexcept Exception as e:\n    print(e)\n\ntry:\n    asai = dataframe.drop(columns=['W_GENUS']) \\\n        .groupby(['ANTIBIOTIC']) \\\n        .apply(asai)\nexcept Exception as e:\n    print(e)\n\ntry:\n    asai = dataframe.drop(columns=['RESISTANCE', 'SPECIE']) \\\n        .groupby(['ANTIBIOTIC']) \\\n        .apply(asai)\nexcept Exception as e:\n    print(e)\n\ntry:\n    asai = dataframe \\\n        .groupby(['ANTIBIOTIC', 'GRAM']) \\\n        .apply(asai)\nexcept Exception as e:\n    print(e)\n\n\n# ---------------------------------------------------------------------\n# ASAI - Warnings\n# ---------------------------------------------------------------------\n# .. note: In the examples below, the method asai is meant to show a\n#          warning message either no threshold has been specified or\n#          because thresholds have been specified twice.\nprint(\"\\n\\nShow warnings:\")\n\nasai_5 = dataframe.drop(columns=['THRESHOLD']) \\\n    .groupby(['ANTIBIOTIC']) \\\n    .apply(asai)\n\nasai_6 = dataframe \\\n    .groupby(['ANTIBIOTIC']) \\\n    .apply(asai, threshold=0.5)\n\n\n# ---------------------------------------------------------------------\n# ASAI\n# ---------------------------------------------------------------------\n# .. note: In the examples below, the method asai should be working\n#          properly and return the expected results.\nprint(\"\\n\\nNo errors or warnings:\")\n\n# -------\n# DEFAULT\n# -------\nasai_7 = dataframe \\\n    .groupby(['ANTIBIOTIC']) \\\n    .apply(asai, verbose=0)\n\n# Show\nprint(\"\\n\\nASAI (weights):\")\nprint(asai_7)\n\n# -------\n# UNIFORM\n# -------\nasai_8 = dataframe \\\n    .groupby(['ANTIBIOTIC', 'GRAM']) \\\n    .apply(asai, weights='uniform')\n\nprint(\"\\n\\nASAI (uniform):\")\nprint(asai_8)\n\n# ---------\n# FREQUENCY\n# ---------\nasai_9 = dataframe \\\n    .groupby(['ANTIBIOTIC', 'GRAM']) \\\n    .apply(asai, weights='frequency')\n\n# Show\nprint(\"\\n\\nASAI (frequency):\")\nprint(asai_9)\n\n\n# -------------------------------\n# Create antimicrobial spectrum\n# -------------------------------\n# Create antimicrobial spectrum of activity instance\nasai = ASAI(column_genus='GENUS',\n            column_specie='SPECIE',\n            column_resistance='RESISTANCE',\n            column_frequency='FREQUENCY',\n            column_threshold='THRESHOLD',\n            column_wgenus='W_GENUS',\n            column_wspecie='W_SPECIE')\n# Compute\nscores = asai.compute(dataframe,\n    groupby=['ANTIBIOTIC', 'GRAM'],\n    weights='uniform',\n    threshold=None,\n    min_freq=0)\n\n# Unstack\nscores = scores.unstack()\n\n# Show\nprint(\"\\nASAI (instance):\")\nprint(scores)\n\n# -----------------------------\n# Plot\n# -----------------------------\n# Variables to plot.\nx = scores.index.values\ny_n = scores['ASAI_SCORE']['N'].values\ny_p = scores['ASAI_SCORE']['P'].values\n\n# Constants\ncolormap_p = scalar_colormap(y_p, cmap='Blues', vmin=-0.1, vmax=1.1)\ncolormap_n = scalar_colormap(y_n, cmap='Reds', vmin=-0.1, vmax=1.1)\n\n# Create figure\nf, ax = plt.subplots(1, 1, figsize=(8, 0.5))\n\n# Plot\nsns.barplot(x=y_p, y=x, palette=colormap_p, ax=ax, orient='h',\n            saturation=0.5, label='Gram-positive')\nsns.barplot(x=-y_n, y=x, palette=colormap_n, ax=ax, orient='h',\n            saturation=0.5, label='Gram-negative')\n\n# Configure\nsns.despine(bottom=True)\n\n# Configure\nax.set_xlim([-1, 1])\n\n# Legend\nplt.legend()\n\n# Display\nplt.show()\nplt.close('all')"
      ]
    }
  ],
  "metadata": {
    "kernelspec": {
      "display_name": "Python 3",
      "language": "python",
      "name": "python3"
    },
    "language_info": {
      "codemirror_mode": {
        "name": "ipython",
        "version": 3
      },
      "file_extension": ".py",
      "mimetype": "text/x-python",
      "name": "python",
      "nbconvert_exporter": "python",
      "pygments_lexer": "ipython3",
      "version": "3.7.9"
    }
  },
  "nbformat": 4,
  "nbformat_minor": 0
}