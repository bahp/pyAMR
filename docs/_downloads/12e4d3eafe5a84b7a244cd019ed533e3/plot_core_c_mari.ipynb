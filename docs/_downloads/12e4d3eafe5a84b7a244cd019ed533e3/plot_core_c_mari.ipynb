{
  "cells": [
    {
      "cell_type": "markdown",
      "metadata": {},
      "source": [
        "\n# Multiple Resistance (``MARI``)\n\n<div class=\"alert alert-danger\"><h4>Warning</h4><p>- What visualisation could we use?\n        - Create further examples with temporal visualization.\n        - Add parameters to choose antimicrobials that are consistent in time and\n          have enough number of isolates to give an accurate measurement.</p></div>\n\nDetermination of the Multiple Antimicrobial Resistance Index or ``MARI`` follows the procedure\ndescribed by (5), in which the number of antimicrobials an isolate is resistant to (*R*) is divided by the\ntotal number of the antimicrobials used in the study (*T*). Thus, the calculating formula for a single\nisolate is shown below and it provides a value within the range [0,1] where values close to one indicate\nhigh multi-drug resistance.\n\n\\begin{align}MARI_{ISO} = R / T\\end{align}\n\nIn more general scenarios, the antimicrobials to which the pathogens are tested vary among health care\ncentres and time, and therefore the comparison and analysis of ``MARI`` evolution in time is not straight\nforward. At the moment, for simplicity, it is recommended to check that the antimicrobials selected are\navailable in the whole study period before applying the index.\n\n<div class=\"alert alert-info\"><h4>Note</h4><p>Please, ensure that all isolates contains records for all antimicrobials.</p></div>\n\nFor more information see: :py:mod:`pyamr.core.mari.MARI`\n\n\nFor the sample data created below, the overall ``MARI`` for each isolate is\n\n========== ========= =============== =========== ===============\nDate       SPECIMEN   MICROORGANISM  LAB_NUMBER   MARI\n========== ========= =============== =========== ===============\n2021-01-01 BLDCUL    ECOL            lab1        4/10 = 0.400000\n2021-01-01 BLDCUL    ECOL            lab2        0.800000\n2021-01-02 BLDCUL    ECOL            lab3        0.700000\n2021-01-03 BLDCUL    ECOL            lab4        0.909091\n========== ========= =============== =========== ===============\n\n\nSimilarly, the rolling window ``MARIs`` for <BLDCUL, ECOL> are ...\n\n========== ================== ====================== ==================\nDate       MARI (1D1)          MARI (1D2)            MARI Wrong!\n========== ================== ====================== ==================\n2021-01-01 (0.4+0.8)/2 = 0.6  (0.4+0.8)/2     = 0.60 (0.4+0.8)/2 = 0.6\n2021-01-02 0.7         = 0.7  (0.4+0.8+0.7)/3 = 0.63 (0.6+0.7)/2 = 0.65\n2021-01-03 0.909091    = 0.9  (0.7+0.9)/2     = 0.80 (0.7+0.9)/2 = 0.8\n========== ================== ====================== ==================\n"
      ]
    },
    {
      "cell_type": "code",
      "execution_count": null,
      "metadata": {
        "collapsed": false
      },
      "outputs": [],
      "source": [
        "# Import libraries\nimport warnings\nimport pandas as pd\nimport matplotlib as mpl\n\n# Import specific libraries\nfrom pyamr.core.mari import MARI\nfrom pyamr.datasets.load import fixture\n\n# Filter user warning\nwarnings.filterwarnings(\"ignore\", category=UserWarning)\n\n# Set matplotlib\nmpl.rcParams['xtick.labelsize'] = 9\nmpl.rcParams['ytick.labelsize'] = 9\nmpl.rcParams['axes.titlesize'] = 11\nmpl.rcParams['legend.fontsize'] = 9\n\n# ---------------------\n# Create data\n# ---------------------\n# Load data\ndata = fixture(name='fixture_05.csv')\n\n\n# ---------------------\n# Compute MARI\n# ---------------------\n# Create MARI instance\nmari = MARI(groupby=['SPECIMEN',\n                     'MICROORGANISM',\n                     'LAB_NUMBER',\n                     'SENSITIVITY'])\n\n# Compute MARI overall\nmari_overall, isolates = mari.compute(data,\n    return_frequencies=True,\n    return_isolates=True)\n\n# Compute MARI temporal (ITI)\nmari_iti = mari.compute(data, shift='1D',\n    period='1D', cdate='DATE',\n    return_isolates=False)\n\n# Compute MARI temporal (OTI)\nmari_oti = mari.compute(data, shift='1D',\n    period='2D', cdate='DATE',\n    return_isolates=False)\n\n# Show\nprint(\"\\nIsolates:\")\nprint(isolates)\nprint(\"\\n\\n\\nMARI (overall):\")\nprint(mari_overall)\nprint(\"\\n\\n\\nMARI (iti):\")\nprint(mari_iti)\nprint(\"\\n\\n\\nMARI (oti):\")\nprint(mari_oti)"
      ]
    },
    {
      "cell_type": "markdown",
      "metadata": {},
      "source": [
        "Lets see the susceptibility test records.\n\n"
      ]
    },
    {
      "cell_type": "code",
      "execution_count": null,
      "metadata": {
        "collapsed": false
      },
      "outputs": [],
      "source": [
        "data.head(15)"
      ]
    },
    {
      "cell_type": "markdown",
      "metadata": {},
      "source": [
        "Let's display the ``overall_hard`` resistance.\n\n\n"
      ]
    },
    {
      "cell_type": "code",
      "execution_count": null,
      "metadata": {
        "collapsed": false
      },
      "outputs": [],
      "source": [
        "mari_overall"
      ]
    },
    {
      "cell_type": "markdown",
      "metadata": {},
      "source": [
        "Let's display the resistance time-series using ``independent`` time intervals (ITI)\n\n\n"
      ]
    },
    {
      "cell_type": "code",
      "execution_count": null,
      "metadata": {
        "collapsed": false
      },
      "outputs": [],
      "source": [
        "mari_iti"
      ]
    },
    {
      "cell_type": "markdown",
      "metadata": {},
      "source": [
        "Let's display the resistance time-series using ``overlapping`` time intervals (OTI)\n\n\n"
      ]
    },
    {
      "cell_type": "code",
      "execution_count": null,
      "metadata": {
        "collapsed": false
      },
      "outputs": [],
      "source": [
        "mari_oti"
      ]
    },
    {
      "cell_type": "markdown",
      "metadata": {},
      "source": [
        "Let's display the information graphically\n"
      ]
    }
  ],
  "metadata": {
    "kernelspec": {
      "display_name": "Python 3",
      "language": "python",
      "name": "python3"
    },
    "language_info": {
      "codemirror_mode": {
        "name": "ipython",
        "version": 3
      },
      "file_extension": ".py",
      "mimetype": "text/x-python",
      "name": "python",
      "nbconvert_exporter": "python",
      "pygments_lexer": "ipython3",
      "version": "3.9.1"
    }
  },
  "nbformat": 4,
  "nbformat_minor": 0
}