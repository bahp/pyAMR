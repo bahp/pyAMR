{
  "cells": [
    {
      "cell_type": "code",
      "execution_count": null,
      "metadata": {
        "collapsed": false
      },
      "outputs": [],
      "source": [
        "%matplotlib inline"
      ]
    },
    {
      "cell_type": "markdown",
      "metadata": {},
      "source": [
        "\n# Piechart Completeness\n"
      ]
    },
    {
      "cell_type": "code",
      "execution_count": null,
      "metadata": {
        "collapsed": false
      },
      "outputs": [],
      "source": [
        "# Libraries.\nimport numpy as np\nimport seaborn as sns\nimport matplotlib as mpl\nimport matplotlib.cm as cm\nimport matplotlib.pyplot as plt\n\n# Matplotlib font size configuration.\nmpl.rcParams['font.size'] = 9.0\n\n# ------------------------------------------------------------------------\n#                            HELPER METHODS\n# ------------------------------------------------------------------------\ndef transparency(cmap, alpha):\n    \"\"\"\n    \"\"\"\n    for i,rgb in enumerate(cmap):\n        cmap[i] = rgb + (alpha,)\n    return cmap\n\n# ------------------------------------------------------------------------\n#                            CONFIGURATION\n# ------------------------------------------------------------------------\n# Common configuration.\ntitle_font_size = 30\nlabels = ['P1','P2','P3','P4','P5','P6']    # labels\nlabels_empty = ['', '', '', '', '', '']     # labels empty\ncolors = transparency(sns.color_palette(\"Blues\", n_colors=7), 0.75)\ncolors = colors[1:]       # First color is white...\nexplode = (0,0,0,0,0,0)   # proportion with which to offset each wedge\nautopct = '%1.0f%%'       # print values inside the wedges  \npctdistance = 0.5         # ratio betwen center and text (default=0.6)\nlabeldistance = 0.7       # radial distance wich pie labels are drawn\nshadow = False            # shadow.\nstartangle = 90           # rotate piechart (default=0)\nradius = None             # size of piechart (default=1)\ncounterclock = False      # fractions direction.\ncenter = (0,0)            # center position of the chart.\nframe = False             # plot axes frame with the pie chart.\n\n# map with arguments for the text objects.\ntextprops = {'fontsize':'x-large'}\n\n# map with arguments for the wedge objects.           \nwedgeprops = {}\n\n# Color manually selected.\ncolors_manual = ['mediumpurple',      \n                 'violet',                           \n                 'mediumaquamarine',\n                 'lightskyblue', \n                 'lightsalmon',\n                 'indianred'] \n\n# ---------------------------------------------------------------------\n#                              FIGURE 1\n# ---------------------------------------------------------------------\n# Number of complege profiles for each of the selected biochemical\n# markers (ALP, ALT, BIL, CRE, CRP, WBC) for the non-infection category\n# during the years 2014 and 2015.\n\n# Portions.\nsizes = [17, 7, 10, 8, 26, 32]               # proportions\n\n\n# Plot.\nplt.figure()\nplt.pie(sizes,             \n        explode=explode,     \n        labels=labels,       # Use: labels / labels_empty  \n        colors=colors,       # Use: colors / colors_manual \n        autopct=autopct,   \n        pctdistance=pctdistance,\n        labeldistance=labeldistance,\n        shadow=shadow,       \n        startangle=startangle,\n        radius=radius,\n        counterclock=counterclock,\n        center=center,\n        frame=frame,\n        textprops=textprops,\n        wedgeprops={'linewidth':0.35,\n                    'edgecolor':'k'})\n\n# Format figure.\nplt.axis('equal')\nplt.tight_layout()\nplt.title(\"\", fontsize=title_font_size)          # Add title.\n#plt.legend(labels=labels, fontsize='xx-large')  # Add legend.\n\n# ---------------------------------------------------------------------\n#                              FIGURE 2\n# ---------------------------------------------------------------------\n# Number of complete profiles for each of the selected biochemical\n# markers (ALP, ALT, BIL, CRE, CRP, WBC) for the infection category\n# during the years 2014 and 2015.\n\n# Portions\nsizes = [5, 5, 18, 6, 12, 54]                  # proportions\n\n# Plot.\nplt.figure()\nplt.pie(sizes,             \n        explode=explode,     \n        labels=labels,      # Use: labels / labels_empty \n        colors=colors,      # Use: colors / colors_manual   \n        autopct=autopct,   \n        pctdistance=pctdistance,\n        labeldistance=labeldistance,\n        shadow=shadow,       \n        startangle=startangle,\n        radius=radius,\n        counterclock=counterclock,\n        center=center,\n        frame=frame,\n        textprops=textprops,\n        wedgeprops={'linewidth':0.35,\n                    'edgecolor':'k'})\n\n# Format figure.\nplt.axis('equal')\nplt.tight_layout()\nplt.title(\"\", fontsize=title_font_size)  # Add title.\n#plt.legend(labels=labels)               # Add legend.\n\n# Show graphs.\nplt.show()"
      ]
    }
  ],
  "metadata": {
    "kernelspec": {
      "display_name": "Python 3",
      "language": "python",
      "name": "python3"
    },
    "language_info": {
      "codemirror_mode": {
        "name": "ipython",
        "version": 3
      },
      "file_extension": ".py",
      "mimetype": "text/x-python",
      "name": "python",
      "nbconvert_exporter": "python",
      "pygments_lexer": "ipython3",
      "version": "3.7.7"
    }
  },
  "nbformat": 4,
  "nbformat_minor": 0
}