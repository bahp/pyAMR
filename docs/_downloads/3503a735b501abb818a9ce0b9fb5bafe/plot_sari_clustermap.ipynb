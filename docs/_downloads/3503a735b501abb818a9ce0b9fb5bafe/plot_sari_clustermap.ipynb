{
  "cells": [
    {
      "cell_type": "code",
      "execution_count": null,
      "metadata": {
        "collapsed": false
      },
      "outputs": [],
      "source": [
        "%matplotlib inline"
      ]
    },
    {
      "cell_type": "markdown",
      "metadata": {},
      "source": [
        "\n# SARI - Antibiogram (clustered)\n\n.. todo:: Explain and Simplify\n\n.. todo: Frequency might not be working?\n         Frequency can be computed as sum of columns.\n"
      ]
    },
    {
      "cell_type": "code",
      "execution_count": null,
      "metadata": {
        "collapsed": false
      },
      "outputs": [],
      "source": [
        "# Libraries\nimport sys\nimport glob\nimport numpy as np \nimport pandas as pd \nimport seaborn as sns\nimport matplotlib as mpl\nimport matplotlib.pyplot as plt\n\n# Import own libraries\nfrom pyamr.core.freq import Frequency\nfrom pyamr.core.sari import SARI\nfrom pyamr.datasets.load import load_data_mimic\n\n# -------------------------\n# Configuration\n# -------------------------\n# Configure seaborn style (context=talk)\nsns.set(style=\"white\")\n\n# Set matplotlib\nmpl.rcParams['xtick.labelsize'] = 9\nmpl.rcParams['ytick.labelsize'] = 9\nmpl.rcParams['axes.titlesize'] = 11\nmpl.rcParams['legend.fontsize'] = 9\n\n# Pandas configuration\npd.set_option('display.max_colwidth', 40)\npd.set_option('display.width', 300)\npd.set_option('display.precision', 4)\n\n# Numpy configuration\nnp.set_printoptions(precision=2)\n\n\n# --------------------------------------------------------------------\n#                               Main\n# --------------------------------------------------------------------\n# Load data\ndata, antibiotics, organisms = load_data_mimic()\n\n# Count records per specimen code\nspecimen_code_count = data \\\n    .groupby('laboratory_number').head(1) \\\n    .specimen_code.value_counts(normalize=True) \\\n    .sort_values(ascending=False)\n\n# Filter most frequent specimens\ndata = data[data.specimen_code.isin( \\\n    specimen_code_count.index.values[:5])]\n\n# Create sari instance\nsari = SARI(groupby=['specimen_code',\n                     'microorganism_name',\n                     'antimicrobial_name',\n                     'sensitivity'])\n\n# Compute SARI overall\nsari_overall = sari.compute(data,\n    return_frequencies=True)\n\n# Show\nprint(\"SARI (overall):\")\nprint(sari_overall)\n\n\n# ------------------------------\n# Include registries information\n# ------------------------------\n# Libraries\nfrom pyamr.datasets.registries import MicroorganismRegistry\nfrom pyamr.datasets.registries import AntimicrobialRegistry\n\n# Load registry\nmreg = MicroorganismRegistry()\nareg = AntimicrobialRegistry()\n\n# Format sari dataframe\ndataframe = sari_overall.copy(deep=True)\ndataframe = dataframe.reset_index()\n\n# Create genus and species\ndataframe[['genus', 'species']] = \\\n    dataframe.microorganism_name \\\n        .str.capitalize() \\\n        .str.split(expand=True, n=1)\n\n# Combine with registry information\ndataframe = mreg.combine(dataframe)\ndataframe = areg.combine(dataframe)\n\n\n# -------------------------------------------\n# Plot\n# -------------------------------------------\n# Libraries\nfrom pyamr.utils.plot import get_category_colors\n\n# Reset\nsari_overall = dataframe.reset_index()\n\n# Loop\nfor specimen, df in sari_overall.groupby(by='specimen_code'):\n\n    # -------------------------------\n    # Create matrix\n    # -------------------------------\n    # Filter\n    matrix = df.copy(deep=True)\n    matrix = df.reset_index()\n\n    # Pivot table\n    matrix = pd.pivot_table(matrix,\n         index=['microorganism_name', 'genus'],\n         columns=['antimicrobial_name', 'category'],\n         values='sari')\n\n    # Convert to percent\n    matrix = matrix * 100\n\n    # Create mask\n    mask = pd.isnull(matrix)\n\n    # Fill missing (error when computing distance)\n    matrix = matrix.fillna(1e-10)\n\n    # Show\n    print(\"\\n\\n\\nData (%s)\" % specimen)\n    print(matrix.astype(int))\n\n    # -------------------------------\n    # Plot\n    # -------------------------------\n    # Create colormap\n    cmap = sns.color_palette(\"Reds\", desat=0.5, n_colors=10)\n\n    # Row and col colors\n    col_colors = get_category_colors( \\\n        index=matrix.columns, category=matrix.columns.names[1])\n    row_colors = get_category_colors( \\\n        index=matrix.index, category=matrix.index.names[1])\n\n    # .. note: It is possible to also pass kwargs that would\n    #          be used by sns.heatmap function (annot, fmt,\n    #          annot_kws, ...\n    try:\n        # Plot cluster map\n        grid = sns.clustermap(data=matrix, vmin=0, vmax=100,\n            method='centroid', metric='euclidean', cmap=cmap,\n            linewidth=0.05, mask=mask, square=True,\n            row_colors=row_colors, col_colors=col_colors)\n    except Exception as e:\n        print(\"Exception: %s\" % e)\n\n    # Configuration\n    plt.suptitle('Antibiogram (clustered) - %s' % specimen, fontsize=12)\n    plt.tight_layout()\n\n# Show\nplt.show()"
      ]
    }
  ],
  "metadata": {
    "kernelspec": {
      "display_name": "Python 3",
      "language": "python",
      "name": "python3"
    },
    "language_info": {
      "codemirror_mode": {
        "name": "ipython",
        "version": 3
      },
      "file_extension": ".py",
      "mimetype": "text/x-python",
      "name": "python",
      "nbconvert_exporter": "python",
      "pygments_lexer": "ipython3",
      "version": "3.9.1"
    }
  },
  "nbformat": 4,
  "nbformat_minor": 0
}