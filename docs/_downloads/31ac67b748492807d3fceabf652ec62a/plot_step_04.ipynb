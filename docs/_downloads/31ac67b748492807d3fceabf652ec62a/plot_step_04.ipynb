{
  "cells": [
    {
      "cell_type": "code",
      "execution_count": null,
      "metadata": {
        "collapsed": false
      },
      "outputs": [],
      "source": [
        "%matplotlib inline"
      ]
    },
    {
      "cell_type": "markdown",
      "metadata": {},
      "source": [
        "\n# Step 04 - TSA to estimate trends\n\n<div class=\"alert alert-danger\"><h4>Warning</h4><p>To be completed!</p></div>\n"
      ]
    },
    {
      "cell_type": "markdown",
      "metadata": {},
      "source": [
        "The diagram in Figure 4.7 describes the methodology implemented to estimate secular\ntrends in AMR from susceptibility data. Since data corruption might occur in clinical\nenvironments, those susceptibility test records wrongly reported (human or device errors)\nor duplicated were discarded. The remaining records were divided into combinations\n(tuples defined by sample type, pathogen and antimicrobial) for which a resistance time\nseries signal was generated using either independent or overlapping time intervals (see\nxxx). The time series were linearly interpolated to fill sporadic missing val\u0002ues. No\nadditional filters or preprocessing steps were applied. An analysis of stationarity around\na trend was carried out to identify interesting combinations and regression\nanalysis was used to quantify its tendency\n\n\n<img src=\"file://../../../_static/imgs/sart-diagram.png\" width=\"600\" align=\"center\" alt=\"Diagram\">\n\n|\n\nThe linear model (see Equation 4.3) has been selected to quantify resistance tendency\nfor several reasons: (i) the development of resistance in pathogens is an evolutionary\nresponse to the selective pressure of antimicrobials, hence large variations in short\npe\u0002riods (e.g. consecutive days or months) are not expected (ii) the slope parameter can\nbe directly translated to change over time increasing its practicability and (iii) the\noff\u0002set parameter is highly related with the overall resistance. Hence, the response variable\nin regression analysis (resistance index) is described by the explanatory variable (time).\nThe slope (m) ranges within the interval [-1,1] where sign and absolute value capture\ndirection and rate of change respectively. The unit of the slope is represented by \u2206y/\u2206x.\n\n- **Least Squares Regression**\n\n  The optimization problem in ordinary least squares - ``OLS`` - regression minimizes the least\n  square errors to find the best fitting model. Ordinary least squares - OLS - assumes\n  identical weights (wi) and in\u0002dependently distributed residuals with a normal distribution.\n  It is frequent to observe that some residuals might have higher variance than others,\n  meaning that those observations are effectively less certain. To contemplate such vari\u0002ability,\n  weighted linear squares - ``WLS`` - regression (see Equation 4.4) applies a weighting\n  function to the residuals. The confidence of the computed resistance index (observed\n  variable) relies on the number of susceptibility test records manipulated. Hence, the\n  sigmoid function has been used to define weights proportional to the population size.\n\n  .. warning:: Include equation.\n\n- **Auto Regressive Integrated Moving Average** - ``ARIMA``\n\n  An autoregressive integrated moving average (ARIMA) model is a generalization of an\n  autoregressive moving average (ARMA) model which can be also applied in scenarios\n  where data show evidence of non-stationarity. The autoregressive (AR) part expresses\n  the variable of interest (resistance index) as a function of past values of the variable.\n  The moving average (MA) indicates that the regression error is a linear combination of\n  error terms which occurred contemporaneously and at various times in the past. An\n  ARIMA(p,d,q) model is described by: p is the number of autoregressive terms,\n  d is the number of differences needed for stationarity and q is the\n  number of lagged forecast errors.\n\n  .. warning:: Include equation.\n\n  The interpretation of the parameter \u00b5 depends on the ARIMA model used for the\n  fitting. In order to estimate the linear trend, it was interesting to consider exclusively\n  MA models so that the expected value of \u00b5 was the mean of the one-time differenced\n  series; that is, the slope coefficient of the un-differenced series. The Bayesian information\n  criterion (BIC) was used to select the best ARIMA(0,1,q) model, being the one with the\n  lowest BIC the preferred.\n\n\n\n"
      ]
    },
    {
      "cell_type": "code",
      "execution_count": null,
      "metadata": {
        "collapsed": false
      },
      "outputs": [],
      "source": [
        "# Import\nimport pandas as pd"
      ]
    }
  ],
  "metadata": {
    "kernelspec": {
      "display_name": "Python 3",
      "language": "python",
      "name": "python3"
    },
    "language_info": {
      "codemirror_mode": {
        "name": "ipython",
        "version": 3
      },
      "file_extension": ".py",
      "mimetype": "text/x-python",
      "name": "python",
      "nbconvert_exporter": "python",
      "pygments_lexer": "ipython3",
      "version": "3.7.9"
    }
  },
  "nbformat": 4,
  "nbformat_minor": 0
}