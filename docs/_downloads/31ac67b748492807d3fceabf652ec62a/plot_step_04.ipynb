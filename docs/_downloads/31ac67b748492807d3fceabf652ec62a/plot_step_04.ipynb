{
  "cells": [
    {
      "cell_type": "markdown",
      "metadata": {},
      "source": [
        "\n# Step 04 - TSA to estimate trends\n\n<div class=\"alert alert-danger\"><h4>Warning</h4><p>Pending!</p></div>\n\nIn this example, we will learn about important concepts such as time series\ndecomposition, autocorrelation, moving averages, and forecasting methods from\nbasic linear square models to more complex approaches such as ARIMA (AutoRegressive\nIntegrated Moving Average). We will also explore various statistical tools\ncommonly used for time series analysis, empowering you to harness the power of\ntime-dependent data and extract meaningful information from it. Get ready to embark\non a brief yet exciting journey into the world of time series analysis!\n"
      ]
    },
    {
      "cell_type": "markdown",
      "metadata": {},
      "source": [
        "The diagram in Figure 4.7 describes the methodology suggested to estimate secular\ntrends in AMR from susceptibility test data. Since data corruption might occur in clinical\nenvironments, those susceptibility test records wrongly reported (human or device errors)\nor duplicated should be discarded. The remaining records are often divided into combinations\n(tuples defined by sample type or specimen, pathogen and antimicrobial) for which a resistance\ntime series signal needs to be generated using either independent or overlapping time intervals\n(see xxx). The time series were linearly interpolated to fill sporadic missing val\u0002ues. No\nadditional filters or preprocessing steps were applied. An analysis of stationarity around\na trend was carried out to identify interesting combinations and regression\nanalysis was used to quantify its tendency\n\n\n<img src=\"file://../../../_static/imgs/sart-diagram.png\" width=\"600\" align=\"center\" alt=\"Diagram\">\n\n|\n\nThe linear model (see Equation 4.3) has been selected to quantify resistance tendency\nfor several reasons: (i) the development of resistance in pathogens is an evolutionary\nresponse to the selective pressure of antimicrobials, hence large variations in short\nperiods (e.g. consecutive days or months) are not expected (ii) the slope parameter can\nbe directly translated to change over time increasing its practicability and (iii) the\noffset parameter is highly related with the overall resistance. Hence, the response variable\nin regression analysis (resistance index) is described by the explanatory variable (time).\nThe slope (m) ranges within the interval [-1,1] where sign and absolute value capture\ndirection and rate of change respectively. The unit of the slope is represented by \u2206y/\u2206x.\n\n- **Least Squares Regression**\n\n  The optimization problem in ordinary least squares or ``OLS`` regression minimizes the least\n  square errors to find the best fitting model. Ordinary least squares - OLS - assumes\n  identical weights (wi) and in\u0002dependently distributed residuals with a normal distribution.\n  It is frequent to observe that some residuals might have higher variance than others,\n  meaning that those observations are effectively less certain. To contemplate such vari\u0002ability,\n  weighted linear squares or ``WLS`` regression (see Equation 4.4) applies a weighting\n  function to the residuals. The confidence of the computed resistance index (observed\n  variable) relies on the number of susceptibility test records manipulated. Hence, the\n  sigmoid function has been used to define weights proportional to the population size.\n\n  .. warning:: Include equation and/or external reference.\n\n- **Auto Regressive Integrated Moving Average** or ``ARIMA``\n\n  An autoregressive integrated moving average (ARIMA) model is a generalization of an\n  autoregressive moving average (ARMA) model which can be also applied in scenarios\n  where data show evidence of non-stationarity. The autoregressive (AR) part expresses\n  the variable of interest (resistance index) as a function of past values of the variable.\n  The moving average (MA) indicates that the regression error is a linear combination of\n  error terms which occurred contemporaneously and at various times in the past. An\n  ARIMA(p,d,q) model is described by: p is the number of autoregressive terms,\n  d is the number of differences needed for stationarity and q is the\n  number of lagged forecast errors.\n\n  .. warning:: Include equation and/or external reference.\n\n  The interpretation of the parameter \u00b5 depends on the ARIMA model used for the\n  fitting. In order to estimate the linear trend, it was interesting to consider exclusively\n  MA models so that the expected value of \u00b5 was the mean of the one-time differenced\n  series; that is, the slope coefficient of the un-differenced series. The Bayesian information\n  criterion (BIC) was used to select the best ARIMA(0,1,q) model, being the one with the\n  lowest BIC the preferred.\n\n\n\n"
      ]
    },
    {
      "cell_type": "markdown",
      "metadata": {},
      "source": [
        "Lets load the libraries and create the time series.\n\n"
      ]
    },
    {
      "cell_type": "code",
      "execution_count": null,
      "metadata": {
        "collapsed": false
      },
      "outputs": [],
      "source": [
        "# Import\nimport pandas as pd\n\n# Import class.\nimport sys\nimport warnings\nimport numpy as np\nimport pandas as pd\nimport matplotlib as mpl\nimport matplotlib.pyplot as plt\nimport statsmodels.api as sm\nimport statsmodels.robust.norms as norms\n\n# import weights.\nfrom pyamr.datasets.load import make_timeseries\n\n# Filter warnings\nwarnings.simplefilter(action='ignore', category=FutureWarning)\n\n# ----------------------------\n# set basic configuration\n# ----------------------------\n# Matplotlib options\nmpl.rc('legend', fontsize=6)\nmpl.rc('xtick', labelsize=6)\nmpl.rc('ytick', labelsize=6)\n\n# Set pandas configuration.\npd.set_option('display.max_colwidth', 14)\npd.set_option('display.width', 150)\npd.set_option('display.precision', 4)\n\n# ----------------------------\n# create data\n# ----------------------------\n# Create timeseries data\nx, y, f = make_timeseries()"
      ]
    },
    {
      "cell_type": "markdown",
      "metadata": {},
      "source": [
        "## Example using WLS\nLibraries\n\n"
      ]
    },
    {
      "cell_type": "code",
      "execution_count": null,
      "metadata": {
        "collapsed": false
      },
      "outputs": [],
      "source": [
        "from pyamr.core.regression.wls import WLSWrapper\nfrom pyamr.metrics.weights import SigmoidA\n\n# Create method to compute weights from frequencies\nW = SigmoidA(r=200, g=0.5, offset=0.0, scale=1.0)\n\n# Note that the function fit will call M.weights(weights) inside and will\n# store the M converter in the instance. Therefore, the code execute is\n# equivalent to <weights=M.weights(f)> with the only difference being that\n# the weight converter is not saved.\nwls = WLSWrapper(estimator=sm.WLS).fit( \\\n    exog=x, endog=y, trend='c', weights=f,\n    W=W, missing='raise')"
      ]
    },
    {
      "cell_type": "markdown",
      "metadata": {},
      "source": [
        "All information can be seen as a series\n\n"
      ]
    },
    {
      "cell_type": "code",
      "execution_count": null,
      "metadata": {
        "collapsed": false
      },
      "outputs": [],
      "source": [
        "# Print series.\nprint(\"\\nSeries:\")\nprint(wls.as_series())"
      ]
    },
    {
      "cell_type": "markdown",
      "metadata": {},
      "source": [
        "Or a summary\n\n"
      ]
    },
    {
      "cell_type": "code",
      "execution_count": null,
      "metadata": {
        "collapsed": false
      },
      "outputs": [],
      "source": [
        "# Print summary.\nprint(\"\\nSummary:\")\nprint(wls.as_summary())"
      ]
    },
    {
      "cell_type": "markdown",
      "metadata": {},
      "source": [
        "The regression line can be seen as\n\n"
      ]
    },
    {
      "cell_type": "code",
      "execution_count": null,
      "metadata": {
        "collapsed": false
      },
      "outputs": [],
      "source": [
        "# Print regression line.\nprint(\"\\nRegression line:\")\nprint(wls.line(np.arange(10)))"
      ]
    },
    {
      "cell_type": "markdown",
      "metadata": {},
      "source": [
        "Let's see how to make predictions using the wrapper and how\nto plot the result in data. In addition, it compares the intervals\nprovided by ``get_prediction`` (confidence intervals) and the intervals\nprovided by ``wls_prediction_std`` (prediction intervals).\n\n"
      ]
    },
    {
      "cell_type": "code",
      "execution_count": null,
      "metadata": {
        "collapsed": false
      },
      "outputs": [],
      "source": [
        "# -----------------------------\n# Predictions\n# -----------------------------\n# Variables.\nstart, end = None, 180\n\n# Compute predictions (exogenous?). It returns a 2D array\n# where the rows contain the time (t), the mean, the lower\n# and upper confidence (or prediction?) interval.\npreds = wls.get_prediction(start=start, end=end)\n\n\n# Create figure\nfig, ax = plt.subplots(1, 1, figsize=(11,5))\n\n# -----------------------------\n# Plotting confidence intervals\n# -----------------------------\n# Plot truth values.\nax.plot(x, y, color='#A6CEE3', alpha=0.5, marker='o',\n           markeredgecolor='k', markeredgewidth=0.5,\n           markersize=5, linewidth=0.75, label='Observed')\n\n# Plot forecasted values.\nax.plot(preds[0,:], preds[1, :], color='#FF0000', alpha=1.00,\n             linewidth=2.0, label=wls._identifier(short=True))\n\n# Plot the confidence intervals.\nax.fill_between(preds[0, :],\n                preds[2, :],\n                preds[3, :],\n                color='r',\n                alpha=0.1)\n\n# Legend\nplt.legend()\n\n# Show\nplt.show()"
      ]
    },
    {
      "cell_type": "markdown",
      "metadata": {},
      "source": [
        "## Example using ARIMA\n\n"
      ]
    },
    {
      "cell_type": "markdown",
      "metadata": {},
      "source": [
        "<div class=\"alert alert-info\"><h4>Note</h4><p>Since we are using arima, we should have checked for stationarity!</p></div>\n\n\n"
      ]
    },
    {
      "cell_type": "code",
      "execution_count": null,
      "metadata": {
        "collapsed": false
      },
      "outputs": [],
      "source": [
        "# Libraries\n# Import ARIMA from statsmodels.\nfrom statsmodels.tsa.arima.model import ARIMA\n# Import ARIMA wrapper from pyamr.\nfrom pyamr.core.regression.arima import ARIMAWrapper\n\n# ----------------------------\n# create data\n# ----------------------------\n# Create timeseries data\nx, y, f = make_timeseries()\n\n# Create exogenous variable\nexog = x\n\n# ----------------------------\n# fit the model\n# ----------------------------\n# Create specific arima model.\narima = ARIMAWrapper(estimator=ARIMA).fit( \\\n endog=y[:80], order=(1,0,0), trend='c', disp=0)"
      ]
    },
    {
      "cell_type": "markdown",
      "metadata": {},
      "source": [
        "All information can be seen as a series\n\n"
      ]
    },
    {
      "cell_type": "code",
      "execution_count": null,
      "metadata": {
        "collapsed": false
      },
      "outputs": [],
      "source": [
        "# Print series\nprint(\"\\nSeries:\")\nprint(arima.as_series())"
      ]
    },
    {
      "cell_type": "markdown",
      "metadata": {},
      "source": [
        "Or a summary\n\n"
      ]
    },
    {
      "cell_type": "code",
      "execution_count": null,
      "metadata": {
        "collapsed": false
      },
      "outputs": [],
      "source": [
        "# Print summary.\nprint(\"\\nSummary:\")\nprint(arima.as_summary())"
      ]
    },
    {
      "cell_type": "markdown",
      "metadata": {},
      "source": [
        "Lets see how to make predictions using the wrapper which has been previously\nfitted. It also demonstrates how to plot the resulting data for visualization\npurposes. It shows two different types of predictions: (i) **dynamic predictions**\nin which the prediction is done based on the previously predicted values. Note\nthat for the case of ARIMA(0,1,1) it returns a line and (ii) **not dynamic** in\nwhich the prediction is done based on the real values of the time series, no\nmatter what the prediction was for those values.\n\n"
      ]
    },
    {
      "cell_type": "code",
      "execution_count": null,
      "metadata": {
        "collapsed": false
      },
      "outputs": [],
      "source": [
        "# ----------------\n# Predictions\n# ----------------\n# Variables.\ns, e = 50, 120\n\n# Compute predictions\npreds_1 = arima.get_prediction(start=s, end=e, dynamic=False)\npreds_2 = arima.get_prediction(start=s, end=e, dynamic=True)\n\n# Create figure\nfig, axes = plt.subplots(1, 2, figsize=(8, 3))\n\n# ----------------\n# Plot non-dynamic\n# ----------------\n# Plot truth values.\naxes[0].plot(y, color='#A6CEE3', alpha=0.5, marker='o',\n             markeredgecolor='k', markeredgewidth=0.5,\n             markersize=5, linewidth=0.75, label='Observed')\n\n# Plot forecasted values.\naxes[0].plot(preds_1[0, :], preds_1[1, :], color='#FF0000', alpha=1.00,\n             linewidth=2.0, label=arima._identifier())\n\n# Plot the confidence intervals.\naxes[0].fill_between(preds_1[0, :], preds_1[2, :],\n                     preds_1[3, :],\n                     color='#FF0000',\n                     alpha=0.25)\n\n# ------------\n# Plot dynamic\n# ------------\n# Plot truth values.\naxes[1].plot(y, color='#A6CEE3', alpha=0.5, marker='o',\n             markeredgecolor='k', markeredgewidth=0.5,\n             markersize=5, linewidth=0.75, label='Observed')\n\n# Plot forecasted values.\naxes[1].plot(preds_2[0, :], preds_2[1, :], color='#FF0000', alpha=1.00,\n             linewidth=2.0, label=arima._identifier())\n\n# Plot the confidence intervals.\naxes[1].fill_between(preds_2[0, :], preds_2[2, :],\n                     preds_2[3, :],\n                     color='#FF0000',\n                     alpha=0.25)\n\n# Configure axes\naxes[0].set_title(\"ARIMA non-dynamic\")\naxes[1].set_title(\"ARIMA dynamic\")\n\n# Format axes\naxes[0].grid(True, linestyle='--', linewidth=0.25)\naxes[1].grid(True, linestyle='--', linewidth=0.25)\n\n# Legend\naxes[0].legend()\naxes[1].legend()\n\n# Show\nplt.show()"
      ]
    }
  ],
  "metadata": {
    "kernelspec": {
      "display_name": "Python 3",
      "language": "python",
      "name": "python3"
    },
    "language_info": {
      "codemirror_mode": {
        "name": "ipython",
        "version": 3
      },
      "file_extension": ".py",
      "mimetype": "text/x-python",
      "name": "python",
      "nbconvert_exporter": "python",
      "pygments_lexer": "ipython3",
      "version": "3.9.1"
    }
  },
  "nbformat": 4,
  "nbformat_minor": 0
}