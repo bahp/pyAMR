{
  "cells": [
    {
      "cell_type": "code",
      "execution_count": null,
      "metadata": {
        "collapsed": false
      },
      "outputs": [],
      "source": [
        "%matplotlib inline"
      ]
    },
    {
      "cell_type": "markdown",
      "metadata": {},
      "source": [
        "\n# SARI - Relplot (overall)\n\n.. todo:: Explain...\n"
      ]
    },
    {
      "cell_type": "code",
      "execution_count": null,
      "metadata": {
        "collapsed": false
      },
      "outputs": [],
      "source": [
        "# Libraries\nimport sys\nimport numpy as np\nimport pandas as pd\nimport seaborn as sns\nimport matplotlib as mpl\nimport matplotlib.pyplot as plt\n\n# Import specific libraries\nfrom pyamr.core.sari import SARI\nfrom pyamr.core.freq import Frequency\nfrom pyamr.datasets.load import make_susceptibility\n\n# -------------------------\n# Configuration\n# -------------------------\n# Configure seaborn style (context=talk)\nsns.set(style=\"white\")\n\n# Set matplotlib\nmpl.rcParams['xtick.labelsize'] = 9\nmpl.rcParams['ytick.labelsize'] = 9\nmpl.rcParams['axes.titlesize'] = 11\nmpl.rcParams['legend.fontsize'] = 9\n\n# Pandas configuration\npd.set_option('display.max_colwidth', 40)\npd.set_option('display.width', 300)\npd.set_option('display.precision', 4)\n\n# Numpy configuration\nnp.set_printoptions(precision=2)\n\n# ------------------------\n# Methods\n# ------------------------\ndef create_mapper(dataframe, column_key, column_value):\n    \"\"\"This method constructs a mapper\n\n    Parameters\n    ----------\n    dataframe: dataframe-like\n      The dataframe from which the columns are extracted\n\n    column_key: string-like\n      The name of the column with the values for the keys of the mapper\n\n    column_value: string-like\n      The name of the column with the values for the values of the mapper\n\n    Returns\n    -------\n    dictionary\n    \"\"\"\n    dataframe = dataframe[[column_key, column_value]]\n    dataframe = dataframe.drop_duplicates()\n    return dict(zip(dataframe[column_key], dataframe[column_value]))\n\n# -------------------------------------------\n# Load data\n# -------------------------------------------\n# Load data\ndata = make_susceptibility()\ndata = data.head(10000)\n\n# Show\nprint(\"\\nData:\")\nprint(data)\nprint(\"\\nColumns:\")\nprint(data.columns)\n\n# -------------------------------------------\n# Compute Freq and SARI\n# -------------------------------------------\n# Create instance\nfreq = Frequency(column_antibiotic='antimicrobial_code',\n                 column_organism='microorganism_code',\n                 column_date='date_received',\n                 column_outcome='sensitivity')\n\n# Compute frequencies (overall)\nfreq_overall = freq.compute(data, by_category='pairs')\n\n# Compute SARI\nsari_overall = SARI(strategy='hard').compute(freq_overall)\n\n\n# -------------------------------------------\n# Plot antibiogram clustered\n# -------------------------------------------\n\n# -------------------------------\n# Create matrix\n# -------------------------------\n# Create mappers\nabx_map = create_mapper(data, 'antimicrobial_code', 'antimicrobial_class')\norg_map = create_mapper(data, 'microorganism_code', 'microorganism_genus')\n\n# Create matrix\nmatrix = sari_overall.copy(deep=True)\nmatrix['freq'] = freq_overall.sum(axis=1)\nmatrix = matrix.reset_index()\nmatrix['microorganism_genus'] = matrix.SPECIE.map(org_map)\nmatrix['antimicrobial_class'] = matrix.ANTIBIOTIC.map(abx_map)\n\n# Show\nprint(\"\\nData:\")\nprint(matrix)\nprint(\"\\nColumns:\")\nprint(matrix.columns)\nprint(\"\\nFrequencies:\")\nprint(matrix.freq.describe())\n\n\n# -------------------------------\n# Plot\n# -------------------------------\n# Create colormap\ncmap = sns.color_palette(\"Reds\", desat=0.5, n_colors=10)\n\n# Configura\nsizes = (matrix.freq.min(), matrix.freq.max())\n\n# Plot\ng = sns.relplot(data=matrix, x='SPECIE',\n    y='ANTIBIOTIC', hue=\"sari\", size=\"freq\",\n    palette='Reds', hue_norm=(0, 1), edgecolor=\".7\", # 'k'\n    linewidth=1.0, height=10, sizes=sizes, # size_norm=(0, 100000),\n    dashes=True, legend='brief',\n)\n\n# Configure plot\ng.set(xlabel=\"Microorganisms\",\n      ylabel=\"Antimicrobials\",\n      aspect=\"equal\")\ng.despine(left=True, bottom=True)\ng.ax.margins(.02)\n\n# Configure xticks\nfor label in g.ax.get_xticklabels():\n    label.set_rotation(90)\n\n# Configure legend\nfor artist in g.legend.legendHandles:\n    artist.set_edgecolor(\".7\")\n    artist.set_linewidth(1.0)\n\n# Set suptitle\nplt.suptitle('Antibiogram (with frequency)', fontsize=12)\n\n# Add grid lines.\n#plt.grid(linestyle='-', linewidth=0.5, color='.7')\n\n# Tight layout\nplt.tight_layout()\n\n# ----------------------------------\n# Plotting a useless piece of art!\n# ----------------------------------\n# Plot piece of art\ng = sns.relplot(data=matrix, x='SPECIE',\n    y='ANTIBIOTIC', hue=\"sari\", size=\"freq\",\n    palette=\"Reds\", hue_norm=(0, 1),\n    linewidth=0.5, kind='line',\n    height=10, sizes=sizes)\n\n# Configure plot\ng.set(xlabel=\"\", ylabel=\"\",\n      title='Artist: Bernard Hernandez \\n '\n            'Collection: Through the (AM) resistance glass \\n '\n            'Exhibition: The fight for our lives \\n'\n            'Location: Tate-Modern',\n      aspect=\"equal\")\ng.despine(left=True, bottom=True)\ng.ax.margins(.02)\n\n# Configure xticks\nfor label in g.ax.get_xticklabels():\n    label.set_rotation(90)\n\n# Configure legend\nfor artist in g.legend.legendHandles:\n    artist.set_linewidth(0.5)\n\n# Show\nplt.show()"
      ]
    }
  ],
  "metadata": {
    "kernelspec": {
      "display_name": "Python 3",
      "language": "python",
      "name": "python3"
    },
    "language_info": {
      "codemirror_mode": {
        "name": "ipython",
        "version": 3
      },
      "file_extension": ".py",
      "mimetype": "text/x-python",
      "name": "python",
      "nbconvert_exporter": "python",
      "pygments_lexer": "ipython3",
      "version": "3.7.7"
    }
  },
  "nbformat": 4,
  "nbformat_minor": 0
}