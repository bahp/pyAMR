{
  "cells": [
    {
      "cell_type": "code",
      "execution_count": null,
      "metadata": {
        "collapsed": false
      },
      "outputs": [],
      "source": [
        "%matplotlib inline"
      ]
    },
    {
      "cell_type": "markdown",
      "metadata": {},
      "source": [
        "\n# Statistical test - ADFuller\n\n.. todo: Instead of calling the adf.from_list_dataframe,\n         incude an option in grid_search to return the\n         result as a dataframe (to_dataframe).\n\nThe Augmented Dickey-Fuller test...\n"
      ]
    },
    {
      "cell_type": "code",
      "execution_count": null,
      "metadata": {
        "collapsed": false
      },
      "outputs": [],
      "source": [
        "# Libraries\nimport numpy as np\nimport pandas as pd\n\n# Import statsmodels\nfrom statsmodels.tsa.stattools import adfuller\n\n# Import pyAMR\nfrom pyamr.core.stats.adfuller import ADFWrapper\n\n\n# ----------------------------\n# set basic configuration\n# ----------------------------\n# Set pandas configuration.\npd.set_option('display.max_colwidth', 14)\npd.set_option('display.width', 150)\npd.set_option('display.precision', 4)\n\n# ----------------------------\n# create data\n# ----------------------------\n# Constants\nlength = 100\noffset = 100\nslope = 10\n\n# Create timeseries.\nx = np.arange(length)\ny = np.random.rand(length) * slope + offset\n\n# ----------------------------\n# create adfuller object\n# ----------------------------\n# Create object\nadf = ADFWrapper(estimator=adfuller).fit(x=y, regression='ct')\n\n# Print series.\nprint(\"\\n\")\nprint(adf.as_series())\n\n# Print summary.\nprint(\"\\n\")\nprint(adf.as_summary())\n\n# Print identifier.\nprint(\"\\nIdentifier\")\nprint(adf._identifier())\n\n# -----------------\n# Save and load\n# -----------------\n# File location\n#fname = '../examples/saved/adfuller-sample.pickle'\n\n# Save\n#adf.save(fname=fname)\n\n# Load\n#adf = ADFWrapper().load(fname=fname)\n\n\n# -----------\n# Grid search\n# -----------\n# Create wrapper\nadf = ADFWrapper(adfuller)\n\n# Grid parameters.\ngrid_params = {'x': [y], 'regression': ['c','nc','ct']}\n\n# Get wrappers.\nlwrappers = adf.grid_search(grid_params=grid_params, verbose=1)\n\n# Get summary.\nsummary = adf.from_list_dataframe(lwrappers, flabel=True)\n\n# Plot result.\nprint(\"\\n\")\nprint(summary.T)"
      ]
    }
  ],
  "metadata": {
    "kernelspec": {
      "display_name": "Python 3",
      "language": "python",
      "name": "python3"
    },
    "language_info": {
      "codemirror_mode": {
        "name": "ipython",
        "version": 3
      },
      "file_extension": ".py",
      "mimetype": "text/x-python",
      "name": "python",
      "nbconvert_exporter": "python",
      "pygments_lexer": "ipython3",
      "version": "3.9.1"
    }
  },
  "nbformat": 4,
  "nbformat_minor": 0
}