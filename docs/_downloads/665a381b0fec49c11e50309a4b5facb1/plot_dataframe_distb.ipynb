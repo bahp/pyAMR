{
  "cells": [
    {
      "cell_type": "code",
      "execution_count": null,
      "metadata": {
        "collapsed": false
      },
      "outputs": [],
      "source": [
        "%matplotlib inline"
      ]
    },
    {
      "cell_type": "markdown",
      "metadata": {},
      "source": [
        "\n# Table Boxplot\n"
      ]
    },
    {
      "cell_type": "code",
      "execution_count": null,
      "metadata": {
        "collapsed": false
      },
      "outputs": [],
      "source": [
        "# Libraries\nimport numpy as np\nimport pandas as pd\nimport seaborn as sns\nimport matplotlib.pyplot as plt\nimport matplotlib.gridspec as gridspec\n\nfrom matplotlib import colors\n\nfrom pyamr.graphics.utils import hlinebgplot\n\n\n# -------------------\n# PLOTTING SETTINGS\n# -------------------\n# Configuration for each columns\ninfo_sari = {\n  'cmap':'Reds',\n  'title':'SARI',\n  'xlim':[-0.1, 1.1],\n  'xticks':[0, 1],\n}\n\ninfo_sart = {\n  'cmap':'RdBu_r',\n  'title':'SART',\n  'xlim':[-1.2, 1.2],\n  'xticks':[-1, 1],\n}\n\ninfo_r2 = {\n  'cmap':'YlGn',\n  'title':'R2',\n  'ylim': [-0.2, 1.2],\n  'yticks': [.0, .2, .4, .6, .8 ]\n}\n\ninfo_fprob = {\n  'name':'f_prob',\n  'title':'Prob(F)',\n  'ylim': [-0.2, 1.2],\n  'yticks': [.0, .2, .4, .6, .8 ]\n}\n\ninfo_jb_prob = {\n  'cmap':'YlGn',\n  'title':'Prob(JB)',\n  'ylim': [-0.2, 1.2],\n  'hline': [{'yv':0.05, 'bg':0.0}],\n  'yticks': [.0, .2, .4, .6, .8 ]\n}\n\ninfo_dw = {\n  'cmap':'YlGn_r',\n  'title':'DW',\n  'hline': [{'yv':0.8, 'bg':4.0}],\n  'ylim': [-0, 4.2],\n  'yticks': [1, 2, 3]\n}\n\ninfo_slope = {\n  'name':'x1_tprob',\n  'cmap':'YlGn_r',\n  'title':'P>|t| m',\n  'hline': [{'yv':0.05, 'bg':1.0}],\n  'ylim': [-0.2, 1.2],\n  'yticks': [.0, .2, .4, .6, .8 ]\n}\n\ninfo_coefficient = {\n  'name':'c_tprob',\n  'cmap':'YlGn_r',\n  'title':'P>|t| n',\n  'hline': [{'yv':0.05, 'bg':1.0}],\n  'ylim': [-0.2, 1.2],\n  'yticks': [.0, .2, .4, .6, .8 ]\n}\n\n\n# Now we combine all of them together. Note\n# that the key value corresponds to the name\n# of the column it should be applied to.\ninfo = {\n    'sari': info_sari,\n    'sart': info_sart,\n    'dw': info_dw,\n    'r2': info_r2,\n    'jb_prob': info_jb_prob,\n    'ptm': info_slope,\n    'ptn': info_coefficient,\n    'f_prob': info_fprob\n}\n\n# -------------------------------------------\n# Main\n# -------------------------------------------\n# Data path.\npath = '../../pyamr/fixtures/fixture_surveillance.csv'\n\n# Rename\nrename = {\n    'organismCode': 'org',\n    'antibioticCode': 'abx',\n    'sari': 'sari',\n    'x1_coef': 'sart',\n    'adj_rsquared': 'r2',\n    'f_prob': 'f_prob',\n    'jarque-bera': 'jb',\n    'jarque_bera_prob': 'jb_prob',\n    'x1_tprob': 'ptm',\n    'c_tprob': 'ptn',\n    'durbin-watson': 'dw',\n    'surveillance': 'surveillance'\n}\n\n# Create data\ndata = pd.read_csv(path)\ndata = data[rename.keys()]\ndata = data.rename(columns=rename)\n\n# Show\nprint(\"\\nData:\")\nprint(data)\n\n\n# -------------------------------------------\n# Pair Grid\n# -------------------------------------------\n# Features\nstatistics = ['r2', 'f_prob', 'jb_prob', 'ptm', 'ptn', 'dw']\n\n# Create figure\nf, axes = plt.subplots(1, len(statistics), figsize=(12, 3))\naxes = axes.flatten()\n\n# Plot strips and format axes\nfor ax, c in zip(axes, statistics):\n\n    # Get information\n    d = info[c] if c in info else {}\n\n    # Plot distributions\n    sns.boxplot(x='surveillance', y=data[c],\n                ax=ax, data=data, whis=1e30,\n                palette=\"Set3\", linewidth=0.75)\n\n    # Plot horizontal lines\n    for e in d.get('hline', []):\n        hlinebgplot(ax, right=3, **e)\n\n    # Configure axes\n    ax.set(title=d.get('title', c),\n           xlabel='', ylabel='',\n           ylim=d.get('ylim', None),\n           yticks=d.get('yticks', ax.get_yticks()))\n    #ax.tick_params(axis='y', which='both', length=0)\n    ax.xaxis.grid(False)\n    ax.yaxis.grid(False)\n\n# Despine\nsns.despine(bottom=True, left=True)\n\n# Change last ticks to right\naxes[-1].yaxis.tick_right()\n\n# Adjust space (overwritten by tight)\nplt.subplots_adjust(wspace=0.75)\n\n# Configure layout\n#plt.tight_layout()\n\n# Show\nplt.show()"
      ]
    }
  ],
  "metadata": {
    "kernelspec": {
      "display_name": "Python 3",
      "language": "python",
      "name": "python3"
    },
    "language_info": {
      "codemirror_mode": {
        "name": "ipython",
        "version": 3
      },
      "file_extension": ".py",
      "mimetype": "text/x-python",
      "name": "python",
      "nbconvert_exporter": "python",
      "pygments_lexer": "ipython3",
      "version": "3.7.9"
    }
  },
  "nbformat": 4,
  "nbformat_minor": 0
}