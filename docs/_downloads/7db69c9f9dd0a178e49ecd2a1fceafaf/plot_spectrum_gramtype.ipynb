{
  "cells": [
    {
      "cell_type": "code",
      "execution_count": null,
      "metadata": {
        "collapsed": false
      },
      "outputs": [],
      "source": [
        "%matplotlib inline"
      ]
    },
    {
      "cell_type": "markdown",
      "metadata": {},
      "source": [
        "\n# ASAI - gram type\n\n.. todo:: Explain...\n"
      ]
    },
    {
      "cell_type": "code",
      "execution_count": null,
      "metadata": {
        "collapsed": false
      },
      "outputs": [],
      "source": [
        "# Import libraries\nimport sys\nimport numpy as np\nimport pandas as pd\nimport seaborn as sns\nimport matplotlib as mpl\nimport matplotlib.pyplot as plt\n\n# Import specific libraries\nfrom pyamr.datasets import load\nfrom pyamr.core.asai import ASAI\n\n# -------------------------\n# Configuration\n# -------------------------\n# Configure seaborn style (context=talk)\nsns.set(style=\"white\")\n\n# Set matplotlib\nmpl.rcParams['xtick.labelsize'] = 9\nmpl.rcParams['ytick.labelsize'] = 9\nmpl.rcParams['axes.titlesize'] = 11\nmpl.rcParams['legend.fontsize'] = 9\n\n# Pandas configuration\npd.set_option('display.max_colwidth', 40)\npd.set_option('display.width', 300)\npd.set_option('display.precision', 4)\n\n# Numpy configuration\nnp.set_printoptions(precision=2)\n\n\n# -------------------------------\n# Load data\n# -------------------------------\n# Save\ndataframe = pd.read_csv('../_data/data-spectrum.csv')\n\n# Empty grams are a new category (unknown - u)\ndataframe.loc[pd.isnull(dataframe['gram']), 'gram'] = 'u'\n\n# Show\nprint(\"Data input:\")\nprint(dataframe.head(10))\n\n# -------------------------------\n# Create antimicrobial spectrum\n# -------------------------------\n# Create antimicrobial spectrum of activity instance\nasai = ASAI(weights='uniform', threshold=0.05,\n                               column_genus='specie',\n                               column_specie='genus', \n                               column_antibiotic='antibiotic', \n                               column_resistance='resistance')\n\n# Compute\nscores = asai.compute(dataframe, by_category='gram')\n\n# -------------------------------\n# Filter and reoorder\n# -------------------------------\n# Antibiotics to display\nabxs_urine = ['cephalexin', 'ciprofloxacin', 'ampicillin', 'trimethoprim',\n  'augmentin', 'meropenem', 'nitrofurantoin', 'amikacin', 'cefotaxime',\n  'tazocin', 'gentamicin', 'ertapenem', 'ceftazidime', 'mecillinam',\n  'cefoxitin', 'vancomycin', 'clindamycin', 'erythromycin', 'aztreonam',\n  'tigecycline', 'amoxycillin']\n\n# Filter by antibiotics\nscores = scores[scores.index.isin(abxs_urine)]\n\n# Sort\nscores = scores.fillna(0.0)\nscores['width'] = np.abs(scores['ASAI_SCORE']['n']+scores['ASAI_SCORE']['p'])\nscores['gmean'] = np.sqrt(scores['ASAI_SCORE']['n']*scores['ASAI_SCORE']['p'])\nscores = scores.sort_values(by='gmean', ascending=False)\n\n# Show scores\nprint(\"Data output:\")\nprint(scores)\n\n\n# ----------------\n# Plot\n# ----------------\ndef scalar_colormap(values, cmap, vmin, vmax):\n  \"\"\"This method creates a colormap based on values.\n\n  Parameters\n  ----------\n  values : array-like\n    The values to create the corresponding colors\n\n  cmap : str\n    The colormap\n\n  vmin, vmax : float\n    The minimum and maximum possible values\n\n  Returns\n  -------\n  scalar colormap\n  \"\"\"\n  # Create scalar mappable\n  norm = mpl.colors.Normalize(vmin=vmin, vmax=vmax, clip=True)\n  mapper = mpl.cm.ScalarMappable(norm=norm, cmap=cmap)\n  # Gete color map\n  colormap = sns.color_palette([mapper.to_rgba(i) for i in values])\n  # Return\n  return colormap\n\n# Variables to plot.\nx = scores.index.values\ny_n = scores['ASAI_SCORE']['n'].values\ny_p = scores['ASAI_SCORE']['p'].values\n\n# Constants\ncolormap_p = scalar_colormap(y_p, cmap='Blues', vmin=-0.1, vmax=1.1)\ncolormap_n = scalar_colormap(y_n, cmap='Reds', vmin=-0.1, vmax=1.1)\n\n# ----------\n# Example\n# ----------\n# This example shows a diverging figure using exclusively the gram-positive\n# and gram-negative categories. Note that the gram negative categorie has\n# values in the range [-1,0] while the gram-positive category has values\n# within the range [0, 1]\n# Create figure\nf, axes = plt.subplots(1, 2, figsize=(8, 4), sharey=True)\n\n# Plot with pallete according to value\nsns.barplot(x=y_p, y=x, ax=axes[0], orient='h', palette=colormap_p,\n  saturation=0.5, label='Gram-positive')\nsns.barplot(x=-y_n, y=x, ax=axes[0], orient='h', palette=colormap_n,\n  saturation=0.5, label='Gram-negative')\n\n# Plot with plain palette (values are already size of bars)\nsns.barplot(x=y_p, y=x, ax=axes[1], orient='h', color='b',\n  saturation=0.5, label='Gram-positive')\nsns.barplot(x=-y_n, y=x, ax=axes[1], orient='h', color='r',\n  saturation=0.5, label='Gram-negative')\n\n# Configure\nsns.despine(bottom=True)\n\n# Show legend.\nplt.legend()\n\n# Adjust\nplt.tight_layout()\n\n# Show\nplt.show()"
      ]
    }
  ],
  "metadata": {
    "kernelspec": {
      "display_name": "Python 3",
      "language": "python",
      "name": "python3"
    },
    "language_info": {
      "codemirror_mode": {
        "name": "ipython",
        "version": 3
      },
      "file_extension": ".py",
      "mimetype": "text/x-python",
      "name": "python",
      "nbconvert_exporter": "python",
      "pygments_lexer": "ipython3",
      "version": "3.9.1"
    }
  },
  "nbformat": 4,
  "nbformat_minor": 0
}