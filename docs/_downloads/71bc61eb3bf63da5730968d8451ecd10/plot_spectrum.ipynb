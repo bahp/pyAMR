{
  "cells": [
    {
      "cell_type": "code",
      "execution_count": null,
      "metadata": {
        "collapsed": false
      },
      "outputs": [],
      "source": [
        "%matplotlib inline"
      ]
    },
    {
      "cell_type": "markdown",
      "metadata": {},
      "source": [
        "\n# SART - by gram type\n\n.. todo: Simplify and explain\n"
      ]
    },
    {
      "cell_type": "code",
      "execution_count": null,
      "metadata": {
        "collapsed": false
      },
      "outputs": [],
      "source": [
        "# Import libraries\nimport sys\nimport glob\nimport numpy as np\nimport pandas as pd\nimport seaborn as sns\nimport matplotlib as mpl\nimport matplotlib.pyplot as plt\n\n# Import specific libraries\nfrom pyamr.datasets import load\nfrom pyamr.core.freq import Frequency\nfrom pyamr.core.sari import SARI\nfrom pyamr.core.asai import ASAI\n\n# Configure seaborn style (context=talk)\nsns.set(style=\"white\")\n\n# Set matplotlib\nmpl.rcParams['xtick.labelsize'] = 9\nmpl.rcParams['ytick.labelsize'] = 9\nmpl.rcParams['axes.titlesize'] = 11\nmpl.rcParams['legend.fontsize'] = 9\n\n# Pandas configuration\npd.set_option('display.max_colwidth', 40)\npd.set_option('display.width', 300)\npd.set_option('display.precision', 4)\n\n# Numpy configuration\nnp.set_printoptions(precision=2)\n\n\n# -------------------------\n# load suspcetibility data\n# -------------------------\npath_sus = '../../resources/data/nhs/susceptibility/complete/'\npath_abx = '../../resources/data/nhs/antibiotics/antibiotics.csv'\npath_org = '../../resources/data/nhs/organisms/organisms.csv'\n\n# Interesting columns\nusecols = ['dateReceived',\n           'organismCode',\n           'antibioticCode',\n           'sensitivity']\n\n# Load all files\ndata = pd.concat([  \\\n    pd.read_csv(f, parse_dates=['dateReceived'],\n        usecols=usecols) for f in glob.glob(path_sus + \"/*.csv\")])\n\n# Filter for two examples\n#is_org = data['organismCode']=='ECOL'\n#is_abx = data['antibioticCode'].isin(['ATAZ', 'AMER'])\n#data = data[is_abx & is_org]\n\n\n# Show\nprint(\"\\nData:\")\nprint(data)\n\n\n# --------------------\n# compute frequencies\n# --------------------\n# Create instance\nfreq = Frequency(column_antibiotic='antibioticCode',\n                 column_organism='organismCode',\n                 column_date='dateReceived',\n                 column_outcome='sensitivity')\n\n# Compute frequencies overall\nfreq_overall = freq.compute(data, strategy='overall', \n                                  by_category='pairs')\n\n# ------------------------\n# compute resistance index\n# ------------------------\nsari_overall = SARI(strategy='medium').compute(freq_overall)\n\n\n# ------------------------\n# format dataframe\n# ------------------------\n\ndef create_mapper(dataframe, column_key, column_value):\n  \"\"\"This method constructs a mapper\n\n  Parameters\n  ----------\n  dataframe: dataframe-like\n    The dataframe from which the columns are extracted\n\n  column_key: string-like\n    The name of the column with the values for the keys of the mapper\n\n  column_value: string-like\n    The name of the column with the values for the values of the mapper\n\n  Returns\n  -------\n  dictionary\n  \"\"\"\n  dataframe = dataframe[[column_key, column_value]]\n  dataframe = dataframe.drop_duplicates()\n  return dict(zip(dataframe[column_key], dataframe[column_value]))\n\n# Load datasets\nantibiotics = pd.read_csv(path_abx)\norganisms = pd.read_csv(path_org)\n\n# Create mappers\nabx_map = create_mapper(antibiotics, 'antibioticCode', 'antibioticClass')\norg_map = create_mapper(organisms, 'organismCode', 'specieName')\ngrm_map = create_mapper(organisms, 'organismCode', 'gramType')\n\n# Copy dataframe\ndataframe = sari_overall.copy(deep=True)\ndataframe = dataframe.reset_index()\n\n# Include categories\ndataframe['category'] = dataframe['ANTIBIOTIC'].map(abx_map)\ndataframe['genus'] = dataframe['SPECIE'].map(org_map)\ndataframe['gram'] = dataframe['SPECIE'].map(grm_map)\n\n# ------------------------\n# compute spectrum index\n# ------------------------\n# Create antimicrobial spectrum of activity instance\nasai = ASAI(weights='uniform', threshold=0.05,\n                               column_genus='genus',\n                               column_specie='SPECIE',\n                               column_antibiotic='ANTIBIOTIC',\n                               column_resistance='sari')\n\n# Compute\nscores = asai.compute(dataframe, by_category='gram')\n\n# Show scores\nprint(\"\\n\\nData ASAI:\")\nprint(scores.head(10))\n\n# ---------------------------------------\n# plot\n# ---------------------------------------\ndef scalar_colormap(values, cmap, vmin, vmax):\n   \"\"\"This method creates a colormap based on values.\n\n   Parameters\n   ----------\n   values : array-like\n     The values to create the corresponding colors\n\n   cmap : str\n     The colormap\n\n   vmin, vmax : float\n     The minimum and maximum possible values\n\n   Returns\n   -------\n   scalar colormap\n   \"\"\"\n   # Create scalar mappable\n   norm = mpl.colors.Normalize(vmin=vmin, vmax=vmax, clip=True)\n   mapper = mpl.cm.ScalarMappable(norm=norm, cmap=cmap)\n   # Gete color map\n   colormap = sns.color_palette([mapper.to_rgba(i) for i in values])\n   # Return\n   return colormap\n\n\n# Sort\nscores = scores.fillna(0.0)\nscores['width'] = np.abs(scores['ASAI_SCORE']['n']+scores['ASAI_SCORE']['p'])\nscores['gmean'] = np.sqrt(scores['ASAI_SCORE']['n']*scores['ASAI_SCORE']['p'])\nscores = scores.sort_values(by='gmean', ascending=False)\n\n# Variables to plot.\nx = scores.index.values\ny_n = scores['ASAI_SCORE']['n'].values\ny_p = scores['ASAI_SCORE']['p'].values\n\n# Constants\ncolormap_p = scalar_colormap(y_p, cmap='Blues', vmin=-0.1, vmax=1.1)\ncolormap_n = scalar_colormap(y_n, cmap='Reds', vmin=-0.1, vmax=1.1)\n\n# ----------\n# Example\n# ----------\n# This example shows a diverging figure using exclusively the gram-positive\n# and gram-negative categories. Note that the gram negative categories has\n# values in the range [-1,0] while the gram-positive category has values\n# within the range [0, 1]\n# Create figure\nf, ax = plt.subplots(1, 1, figsize=(3, 9))\n\n# Plot\nsns.barplot(x=y_p, y=x, palette=colormap_p, ax=ax, orient='h',\n saturation=0.5, label='Gram-positive')\nsns.barplot(x=-y_n, y=x, palette=colormap_n, ax=ax, orient='h',\n saturation=0.5, label='Gram-negative')\n\n# Configure\nsns.despine(bottom=True)\n\n# Show legend.\nplt.legend(loc=8)\nplt.subplots_adjust(left=0.4, right=0.9, bottom=0.05, top=0.98)\n\n# Show\nplt.show()"
      ]
    }
  ],
  "metadata": {
    "kernelspec": {
      "display_name": "Python 3",
      "language": "python",
      "name": "python3"
    },
    "language_info": {
      "codemirror_mode": {
        "name": "ipython",
        "version": 3
      },
      "file_extension": ".py",
      "mimetype": "text/x-python",
      "name": "python",
      "nbconvert_exporter": "python",
      "pygments_lexer": "ipython3",
      "version": "3.9.1"
    }
  },
  "nbformat": 4,
  "nbformat_minor": 0
}