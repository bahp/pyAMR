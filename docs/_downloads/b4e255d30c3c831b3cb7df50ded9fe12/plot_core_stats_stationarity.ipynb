{
  "cells": [
    {
      "cell_type": "code",
      "execution_count": null,
      "metadata": {
        "collapsed": false
      },
      "outputs": [],
      "source": [
        "%matplotlib inline"
      ]
    },
    {
      "cell_type": "markdown",
      "metadata": {},
      "source": [
        "\n# Stationarity\n\nExample using your package\n"
      ]
    },
    {
      "cell_type": "code",
      "execution_count": null,
      "metadata": {
        "collapsed": false
      },
      "outputs": [],
      "source": [
        "# Libraries\nimport numpy as np\nimport pandas as pd\nimport matplotlib as mpl\nimport matplotlib.pyplot as plt\n\n# Import pyAMR\nfrom pyamr.datasets.load import make_timeseries\nfrom pyamr.core.stats.stationarity import StationarityWrapper\n\n# ----------------------------\n# set basic configuration\n# ----------------------------\n# Set pandas configuration.\npd.set_option('display.max_colwidth', 14)\npd.set_option('display.width', 150)\npd.set_option('display.precision', 4)\n\n# Set default parameters.\nmpl.rc('lines', linewidth=0.35)\nmpl.rc('xtick', labelsize=6)\nmpl.rc('ytick', labelsize=6)\nmpl.rc('legend', fontsize=6)\nmpl.rc('grid')\nmpl.rc('figure')\nmpl.rc('axes')\nmpl.rc('font', size=7)\n\n# Font type.\nfont = {\n'family': 'monospace',\n'weight': 'normal',\n'size': 6,\n}\n\n# ----------------------------\n# create data\n# ----------------------------\n# Constants\nlength = 100\noffset = 100\nslope = 4\n\n# Create variables.\nx = np.arange(length)\nn = np.random.rand(length)\n\n# Create timeseries.\ny_n = n\ny_c = np.ones(length)*offset\ny_t = x*slope+n\ny_ct = x*slope+offset+n*20\ny_r = np.concatenate((y_ct[:50], y_ct[50:]-offset))\nx_s, y_s, f_s = make_timeseries()\n\n# ----------------------------\n# Example of stationarity\n# ----------------------------\n# Single example\nstationarity = StationarityWrapper()\\\n    .fit(y_r, adf_kwargs={}, kpss_kwargs={})\n\n# Show\nprint(\"\\nSeries:\")\nprint(stationarity.as_series())\n\nprint(\"\\nIdentifier:\")\nprint(stationarity._identifier())\n\n\n# ---------------------------\n# Plot\n# ---------------------------\n# .. note:: Including in the timeseries variable the value\n#           y_c produces the following error:\n#           ValueError: cannot convert float NaN to integer.\n\n# Create array of time series\ntimeseries = [y_n, y_c, y_t, y_ct, y_r, y_s]\ntimeseries = [y_n, y_t, y_ct, y_r, y_s]\n\n# Create figure\nfig, axes = plt.subplots(3,2, figsize=(10,8))\naxes = axes.flatten()\n\n# Loop\nfor i,ts in enumerate(timeseries):\n    #print(\"Stationarity... %s\" % i)\n\n    # Create stationarity wrapper.\n    stationarity = StationarityWrapper().fit(x=ts)\n\n    # Plot\n    axes[i].plot(ts, color='#A6CEE3', alpha=0.5, marker='o',\n                 markeredgecolor='k', markeredgewidth=0.5,\n                 markersize=2, linewidth=0.75,\n                 label=stationarity.as_summary())\n\n    # Set grid\n    axes[i].grid(color='gray', linestyle='--',\n                 linewidth=0.2, alpha=0.5)\n\n    # Set legend\n    axes[i].legend(prop=font, loc=4)\n\n# Study of Stationarity\nplt.suptitle(\"Study of Stationarity\")\nplt.tight_layout()\n\n# Show\nplt.show()"
      ]
    }
  ],
  "metadata": {
    "kernelspec": {
      "display_name": "Python 3",
      "language": "python",
      "name": "python3"
    },
    "language_info": {
      "codemirror_mode": {
        "name": "ipython",
        "version": 3
      },
      "file_extension": ".py",
      "mimetype": "text/x-python",
      "name": "python",
      "nbconvert_exporter": "python",
      "pygments_lexer": "ipython3",
      "version": "3.7.9"
    }
  },
  "nbformat": 4,
  "nbformat_minor": 0
}