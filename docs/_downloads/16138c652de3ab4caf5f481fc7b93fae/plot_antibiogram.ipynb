{
  "cells": [
    {
      "cell_type": "code",
      "execution_count": null,
      "metadata": {
        "collapsed": false
      },
      "outputs": [],
      "source": [
        "%matplotlib inline"
      ]
    },
    {
      "cell_type": "markdown",
      "metadata": {},
      "source": [
        "\n# SARI - Antibiogram\n\n<div class=\"alert alert-danger\"><h4>Warning</h4><p>Explain..?</p></div>\n"
      ]
    },
    {
      "cell_type": "code",
      "execution_count": null,
      "metadata": {
        "collapsed": false
      },
      "outputs": [],
      "source": [
        "# Libraries\nimport sys\nimport numpy as np\nimport pandas as pd\nimport seaborn as sns\nimport matplotlib as mpl\nimport matplotlib.pyplot as plt\n\n# Import own libraries\nfrom pyamr.core.sari import SARI\nfrom pyamr.core.freq import Frequency\n\n# -------------------------\n# Configuration\n# -------------------------\n# Configure seaborn style (context=talk)\nsns.set(style=\"white\")\n\n# Set matplotlib\nmpl.rcParams['xtick.labelsize'] = 9\nmpl.rcParams['ytick.labelsize'] = 9\nmpl.rcParams['axes.titlesize'] = 11\nmpl.rcParams['legend.fontsize'] = 9\n\n# Pandas configuration\npd.set_option('display.max_colwidth', 40)\npd.set_option('display.width', 300)\npd.set_option('display.precision', 4)\n\n# Numpy configuration\nnp.set_printoptions(precision=2)\n\n\n# -------------------------------------------\n# Load data\n# -------------------------------------------\n# Path\npath = '../../pyamr/datasets/microbiology/susceptibility.csv'\n\n# Columns\nusecols = ['dateReceived',\n           'labNumber',\n           'patNumber',\n           'orderName',\n           'orderCode',\n           'organismName',\n           'organismCode',\n           'antibioticName',\n           'antibioticCode',\n           'sensitivity']\n\n# Load data\ndata = pd.read_csv(path, usecols=usecols,\n    parse_dates=['dateReceived'])\n\n# Clean\ndata = data.drop_duplicates()\n\n# Show\nprint(\"\\nData:\")\nprint(data)\nprint(\"\\nColumns:\")\nprint(data.columns)\n\n\n# -------------------------------------------\n# Compute Freq and SARI\n# -------------------------------------------\n# Create instance\nfreq = Frequency(column_antibiotic='antibioticCode',\n              column_organism='organismCode',\n              column_date='dateReceived',\n              column_outcome='sensitivity')\n\n# Compute frequencies (overall)\nfreq_overall = freq.compute(data, by_category='pairs')\n\n# Compute SARI\nsari_overall = SARI(strategy='hard').compute(freq_overall)\n\n\n# ------------\n# Plot Heatmap\n# ------------\n# Create matrix\nmatrix = sari_overall[['sari']]\nmatrix = matrix.unstack() * 100\nmatrix.columns = matrix.columns.droplevel()\n\n# Create figure\nf, ax = plt.subplots(1, 1, figsize=(18, 11))\n\n# Create colormap\ncmap = sns.color_palette(\"Reds\", desat=0.5, n_colors=10)\n\n# Plot\nax = sns.heatmap(data=matrix, annot=True, fmt=\".0f\",\n    annot_kws={'fontsize': 'small'}, cmap=cmap,\n    linewidth=0.5, vmin=0, vmax=100, ax=ax,\n    xticklabels=1, yticklabels=1)\n\n# Add title\nplt.suptitle(\"Antibiogram\", fontsize='xx-large')\n\n# Tight layout\nplt.tight_layout()\nplt.subplots_adjust(right=1.05)"
      ]
    }
  ],
  "metadata": {
    "kernelspec": {
      "display_name": "Python 3",
      "language": "python",
      "name": "python3"
    },
    "language_info": {
      "codemirror_mode": {
        "name": "ipython",
        "version": 3
      },
      "file_extension": ".py",
      "mimetype": "text/x-python",
      "name": "python",
      "nbconvert_exporter": "python",
      "pygments_lexer": "ipython3",
      "version": "3.9.1"
    }
  },
  "nbformat": 4,
  "nbformat_minor": 0
}