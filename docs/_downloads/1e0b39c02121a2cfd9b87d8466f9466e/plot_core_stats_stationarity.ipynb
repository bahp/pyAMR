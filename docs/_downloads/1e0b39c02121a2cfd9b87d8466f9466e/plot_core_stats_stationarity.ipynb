{
  "cells": [
    {
      "cell_type": "code",
      "execution_count": null,
      "metadata": {
        "collapsed": false
      },
      "outputs": [],
      "source": [
        "%matplotlib inline"
      ]
    },
    {
      "cell_type": "markdown",
      "metadata": {},
      "source": [
        "\n# Statistical test - Stationarity\n\nExample using your package\n"
      ]
    },
    {
      "cell_type": "code",
      "execution_count": null,
      "metadata": {
        "collapsed": false
      },
      "outputs": [],
      "source": [
        "# Libraries\nimport numpy as np\nimport pandas as pd\nimport matplotlib as mpl\nimport matplotlib.pyplot as plt\n\n# Import pyAMR\nfrom pyamr.core.stats.stationarity import StationarityWrapper\n\n# ----------------------------\n# set basic configuration\n# ----------------------------\n# Set pandas configuration.\npd.set_option('display.max_colwidth', 14)\npd.set_option('display.width', 150)\npd.set_option('display.precision', 4)\n\n# Set default parameters.\nmpl.rc('lines', linewidth=0.35)\nmpl.rc('xtick', labelsize=6)\nmpl.rc('ytick', labelsize=6)\nmpl.rc('legend', fontsize=6)\nmpl.rc('grid')\nmpl.rc('figure')\nmpl.rc('axes')\nmpl.rc('font', size=7)\n\n# Font type.\nfont = {\n'family': 'monospace',\n'weight': 'normal',\n'size': 6,\n}\n\n# ----------------------------\n# create data\n# ----------------------------\n# Constants\nlength = 100\noffset = 100\nslope = 4\n\n# Create variables.\nx = np.arange(length)\nn = np.random.rand(length)\n\n# Create timeseries.\ny_n = n\ny_c = np.ones(length)*offset\ny_t = x*slope+n\ny_ct = x*slope+offset+n*20\ny_r = np.concatenate((y_ct[:50], y_ct[50:]-offset))\n\n# ----------------------------\n# create stationarity objects\n# ----------------------------\nstationarity_n = StationarityWrapper().fit(x=y_n)\nstationarity_c = StationarityWrapper().fit(x=y_c)\nstationarity_t = StationarityWrapper().fit(x=y_t)\nstationarity_r = StationarityWrapper().fit(x=y_r)\nstationarity_ct = StationarityWrapper().fit(x=y_ct,\n                adf_kwargs={'maxlag':12, 'autolag':'BIC'})\n\n# Print series.\nprint(\"\\n\")\nprint(stationarity_ct.as_series())\n\n# Print summary.\nprint(\"\\n\")\nprint(stationarity_ct.as_summary())\n\n# Print identifier.\nprint(\"\\n\")\nprint(stationarity_ct._identifier())\n\n\n# ----------------\n# plot\n# ----------------\n# Create figure\nfig, axes = plt.subplots(3,2, figsize=(10,4))\naxes = axes.flatten()\n\n# Plot truth values.\naxes[0].plot(y_n, color='#A6CEE3', alpha=0.5, marker='o',\n             markeredgecolor='k', markeredgewidth=0.5,\n             markersize=2, linewidth=0.75,\n             label=stationarity_n.as_summary())\n\naxes[1].plot(y_c, color='#A6CEE3', alpha=0.5, marker='o',\n             markeredgecolor='k', markeredgewidth=0.5,\n             markersize=2, linewidth=0.75,\n             label=stationarity_c.as_summary())\n\n# Plot truth values.\naxes[2].plot(y_t, color='#A6CEE3', alpha=0.5, marker='o',\n             markeredgecolor='k', markeredgewidth=0.5,\n             markersize=2, linewidth=0.75,\n             label=stationarity_t.as_summary())\n\n# Plot truth values.\naxes[3].plot(y_ct, color='#A6CEE3', alpha=0.5, marker='o',\n             markeredgecolor='k', markeredgewidth=0.5,\n             markersize=2, linewidth=0.75,\n             label=stationarity_ct.as_summary())\n\n# Plot truth values.\naxes[4].plot(y_r, color='#A6CEE3', alpha=0.5, marker='o',\n             markeredgecolor='k', markeredgewidth=0.5,\n             markersize=2, linewidth=0.75,\n             label=stationarity_r.as_summary())\n\n# Add grid\nfor ax in axes:\n    ax.grid(color='gray', linestyle='--', linewidth=0.2, alpha=0.5)\n\n# Add legend\nfor ax in axes:\n    ax.legend(prop=font, loc=2)\n\n# Study of Stationarity\nplt.suptitle(\"Study of Stationarity\")\n\n# -----------------\n# Save and load\n# -----------------\n# File location\n#fname = '../examples/saved/stationarity-sample.pickle'\n\n# Save\n#stationarity_ct.save(fname=fname)\n\n# Load\n#stationarity_ct = StationarityWrapper().load(fname=fname)\n\n# Show\nplt.show()"
      ]
    }
  ],
  "metadata": {
    "kernelspec": {
      "display_name": "Python 3",
      "language": "python",
      "name": "python3"
    },
    "language_info": {
      "codemirror_mode": {
        "name": "ipython",
        "version": 3
      },
      "file_extension": ".py",
      "mimetype": "text/x-python",
      "name": "python",
      "nbconvert_exporter": "python",
      "pygments_lexer": "ipython3",
      "version": "3.9.1"
    }
  },
  "nbformat": 4,
  "nbformat_minor": 0
}