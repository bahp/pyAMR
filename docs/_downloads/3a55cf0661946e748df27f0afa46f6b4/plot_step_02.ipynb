{
  "cells": [
    {
      "cell_type": "code",
      "execution_count": null,
      "metadata": {
        "collapsed": false
      },
      "outputs": [],
      "source": [
        "%matplotlib inline"
      ]
    },
    {
      "cell_type": "markdown",
      "metadata": {},
      "source": [
        "\n# Step 02 - Time Series Analysis\n\n<div class=\"alert alert-danger\"><h4>Warning</h4><p>Verify tests with conditions from stattools.</p></div>\n"
      ]
    },
    {
      "cell_type": "markdown",
      "metadata": {},
      "source": [
        "## Create time series (TS)\n\nFirst lets create an artificial series. The series has been plotted\nad the end of the tutorial.\n\n"
      ]
    },
    {
      "cell_type": "code",
      "execution_count": null,
      "metadata": {
        "collapsed": false
      },
      "outputs": [],
      "source": [
        "# ----------------------------\n# create data\n# ----------------------------\n# Import\nimport numpy as np\n\n# Import specific\nfrom pyamr.datasets.load import make_timeseries\n\n# Create timeseries data\nx, y, f = make_timeseries()"
      ]
    },
    {
      "cell_type": "markdown",
      "metadata": {},
      "source": [
        "## Pearson correlation coefficient\n\nIt measures the linear correlation between two variables with a value within the range\n[-1,1]. Coefficient values of -1, 0 and 1 indicate total negative linear correlation, no\nlinear correlation and total positive correlation respectively. In this study, the\ncoefficient is used to assess whether or not there is a linear correlation between the\nnumber of observations (susceptibility test records) and the computed resistance index.\n\nSee also `sphx_glr__examples_tutorial_statistics_plot_core_stats_correlation.py`\n\n"
      ]
    },
    {
      "cell_type": "code",
      "execution_count": null,
      "metadata": {
        "collapsed": false
      },
      "outputs": [],
      "source": [
        "# -------------------------------\n# Pearson correlation coefficient\n# -------------------------------\n# Import pyAMR\nfrom pyamr.core.stats.correlation import CorrelationWrapper\n\n# Create object\ncorrelation = CorrelationWrapper().fit(x1=y, x2=f)\n\n# Print summary.\nprint(\"\\n\")\nprint(correlation.as_summary())"
      ]
    },
    {
      "cell_type": "markdown",
      "metadata": {},
      "source": [
        "## Augmented Dickey-Fuller test\n\nThe Augmented Dickey-Fuller - ``ADF`` - test can be used to test for a unit root\nin a univariate process in the presence of serial correlation. The intuition behind\na unit root test is that it determines how strongly a time series is defined by a trend.\n``ADF`` tests the null hypothesis that a unit root is present in a time series sample.\nThe alternative hypothesis is different depending on which version of the test is used,\nbut is usually stationarity or trend-stationarity. The more negative the statistic, the\nstronger the rejection of the hypothesis that there is a unit root at some level\nof confidence.\n\n====== =========================== =====================================\nH      Hypothesis                  Stationarity\n====== =========================== =====================================\n**H0** The series has a unit root  ``Non-stationary``\n**H1** The series has no unit root ``Stationary`` / ``Trend-Stationary``\n====== =========================== =====================================\n\n| If p-value > 0.05: Failed to reject H0.\n| If p-value <= 0.05: Reject H0.\n\nSee also `sphx_glr__examples_tutorial_statistics_plot_core_stats_adfuller.py`\n\n"
      ]
    },
    {
      "cell_type": "code",
      "execution_count": null,
      "metadata": {
        "collapsed": false
      },
      "outputs": [],
      "source": [
        "# ----------------------------\n# ADFuller\n# ----------------------------\n# Import statsmodels\nfrom statsmodels.tsa.stattools import adfuller\n\n# Import pyAMR\nfrom pyamr.core.stats.adfuller import ADFWrapper\n\n# Create wrapper\nadf = ADFWrapper(adfuller).fit(x=y, regression='ct')\n\nprint(\"\\n\")\nprint(adf.as_summary())"
      ]
    },
    {
      "cell_type": "markdown",
      "metadata": {},
      "source": [
        "## Kwiatkowski-Phillips-Schmidt-Shin test\n\nThe Kwiatkowski\u2013Phillips\u2013Schmidt\u2013Shin - ``KPSS`` - test is used to identify\nwhether a time series is stationary around a deterministic trend (thus\ntrend stationary) against the alternative of a unit root.\n\nIn the KPSS test, the absence of a unit root is not a proof of stationarity\nbut, by design, of trend stationarity. This is an important distinction since\nit is possible for a time series to be non-stationary, have no unit root yet\nbe trend-stationary.\n\nIn both, unit-root and trend-stationary processes, the mean can be increasing\nor decreasing over time; however, in the presence of a shock, trend-stationary\nprocesses revert to this mean tendency in the long run (deterministic trend)\nwhile unit-root processes have a permanent impact (stochastic trend).\n\n====== =========================== =====================================\nH      Hypothesis                  Stationarity\n====== =========================== =====================================\n**H0** The series has no unit root ``Trend-stationary``\n**H1** The series has a unit root  ``No Trend-Stationary``\n====== =========================== =====================================\n\n| If p-value > alpha: Failed to reject H0\n| If p-value <= alpha: Reject H0\n\n.. See also `sphx_glr__examples_tutorial_statistics_plot_core_stats_kpss.py`\n\n"
      ]
    },
    {
      "cell_type": "code",
      "execution_count": null,
      "metadata": {
        "collapsed": false
      },
      "outputs": [],
      "source": [
        "# ----------------------------\n# Kpss\n# ----------------------------"
      ]
    },
    {
      "cell_type": "markdown",
      "metadata": {},
      "source": [
        "## Trend and stationarity in TS\n\nAn analysis of stationarity around a trend was carried out to identify time series\nsat\u0002isfying the assumptions posed by ARIMA. The augmented Dickey\u2013Fuller test (ADF) was\nused to determine the presence of a unit root. When the other roots of the characteristic\nfunction lie inside the unit circle the first difference of the process is stationary. Due\nto this property, these are also called difference-stationary processes. Since the absence\nof unit root is not a proof of non-stationarity, the Kwiatkowski\u2013Phillips\u2013Schmidt\u2013Shin\n(KPSS) test was used to identify the existence of an underlying trend which can also be\nremoved to obtain a stationary process. These are called trend-stationary processes. In\nboth, unit-root and trend-stationary processes, the mean can be increasing or decreasing\nover time; however, in the presence of a shock, trend-stationary processes revert to this\nmean tendency in the long run (deterministic trend) while unit-root processes have a\npermanent impact (stochastic trend). The significance level of the tests was set to 0.05.\n\nSee also `sphx_glr__examples_tutorial_statistics_plot_core_stats_stationarity.py`\n\n\n"
      ]
    },
    {
      "cell_type": "code",
      "execution_count": null,
      "metadata": {
        "collapsed": false
      },
      "outputs": [],
      "source": [
        "# ----------------------------\n# Stationarity\n# ----------------------------\n# Import generic\nimport matplotlib.pyplot as plt\n\n# Import pyAMR\nfrom pyamr.core.stats.stationarity import StationarityWrapper\n\n# Define kwargs\nadf_kwargs = {}\nkpss_kwargs = {}\n\n# Compute stationarity\nstationarity = StationarityWrapper().fit(x=y,\n    adf_kwargs=adf_kwargs, kpss_kwargs=kpss_kwargs)\n\n# Print summary.\nprint(\"\\n\")\nprint(stationarity.as_summary())\n\n\n# ----------------\n# plot\n# ----------------\n# Font type.\nfont = {\n    'family': 'monospace',\n    'weight': 'normal',\n    'size': 10,\n}\n\n# Create figure\nfig, ax = plt.subplots(1, 1, figsize=(10, 4))\n\n# Plot truth values.\nax.plot(y, color='#A6CEE3', alpha=0.5, marker='o',\n         markeredgecolor='k', markeredgewidth=0.5,\n         markersize=4, linewidth=0.75,\n         label=stationarity.as_summary())\n\n# Format axes\nax.grid(color='gray', linestyle='--', linewidth=0.2, alpha=0.5)\nax.legend(prop=font, loc=4)\n\n# Addd title\nplt.suptitle(\"Study of Stationarity\")\n\nplt.show()"
      ]
    }
  ],
  "metadata": {
    "kernelspec": {
      "display_name": "Python 3",
      "language": "python",
      "name": "python3"
    },
    "language_info": {
      "codemirror_mode": {
        "name": "ipython",
        "version": 3
      },
      "file_extension": ".py",
      "mimetype": "text/x-python",
      "name": "python",
      "nbconvert_exporter": "python",
      "pygments_lexer": "ipython3",
      "version": "3.9.1"
    }
  },
  "nbformat": 4,
  "nbformat_minor": 0
}