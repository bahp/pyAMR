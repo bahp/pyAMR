{
  "cells": [
    {
      "cell_type": "code",
      "execution_count": null,
      "metadata": {
        "collapsed": false
      },
      "outputs": [],
      "source": [
        "%matplotlib inline"
      ]
    },
    {
      "cell_type": "markdown",
      "metadata": {},
      "source": [
        "\n# Step 02 - Temporal evolution\n"
      ]
    },
    {
      "cell_type": "markdown",
      "metadata": {},
      "source": [
        "## Loading data\n\nA small dataset will be used for this example.\n\n"
      ]
    },
    {
      "cell_type": "code",
      "execution_count": null,
      "metadata": {
        "collapsed": false
      },
      "outputs": [],
      "source": [
        "# Libraries\nimport numpy as np\nimport pandas as pd\nimport seaborn as sns\nimport matplotlib as mpl\nimport matplotlib.pyplot as plt\n\n# Import from pyAMR\nfrom pyamr.datasets.load import make_susceptibility\n\n# -------------------------------------------\n# Load data\n# -------------------------------------------\n# Load data\ndata = make_susceptibility()\ndata = data.drop_duplicates()\n\n# Convert date to datetime\ndata.date_received = pd.to_datetime(data.date_received)\n\n# Filter (speeds up the execution)\nidxs_spec = data.specimen_code.isin(['URICUL'])\nidxs_abxs = data.antimicrobial_name.isin(['augmentin'])\n\n# Filter\ndata = data[idxs_spec & idxs_abxs]\n\n# Show\nprint(\"\\nData:\")\nprint(data)\nprint(\"\\nColumns:\")\nprint(data.dtypes)"
      ]
    },
    {
      "cell_type": "markdown",
      "metadata": {},
      "source": [
        "## Computing SARI timeseries\n\n.. |1D30| replace:: 1D\\ :sub:`30`\n.. |1M1| replace:: 1M\\ :sub:`1`\n.. |3M1| replace:: 3M\\ :sub:`1`\n.. |1M30| replace:: 1M\\ :sub:`30`\n.. |7D4| replace:: 7D\\ :sub:`4`\n.. |1M12| replace:: 1M\\ :sub:`12`\n.. |1M6| replace:: 1M\\ :sub:`6`\n.. |1M3| replace:: 1M\\ :sub:`3`\n.. |12M1| replace:: 12M\\ :sub:`1`\n.. |SP| replace:: SHIFT\\ :sub:`period`\n\nIn order to study the temporal evolution of AMR, it is necessary to generate\na resistance time series from the susceptibility test data. This is often\nachieved by calculating the resistance index  (e.g. ``SARI``) on consecutive\npartitions of the data. Note that each partition contains the susceptibility\ntests that will be used to compute the resistance index.\n\nThe notation to define the time series generation methodology (|SP|). For instance,\n|1M1| defines a time series with monthly resistance indexes and |7D4| defines a time series\nwith weekly resistance indexes (7D) calculated using the microbiology records available for\nthe previous four weeks (4x7D).\n\nFor more information see: :py:mod:`pyamr.core.sari.SARI`\n\nFor more examples see:\n\n  - `sphx_glr__examples_indexes_plot_sari_temporal.py`.\n\n\n"
      ]
    },
    {
      "cell_type": "code",
      "execution_count": null,
      "metadata": {
        "collapsed": false
      },
      "outputs": [],
      "source": [
        "# -----------------------------------------\n# Compute  sari (temporal)\n# -----------------------------------------\nfrom pyamr.core.sari import SARI\n\n# Create SARI instance\nsar = SARI(groupby=['specimen_code',\n                    'microorganism_name',\n                    'antimicrobial_name',\n                    'sensitivity'])\n\n# Create constants\nshift, period = '1M', 1\n\n# Compute sari timeseries\niti = sar.compute(data, shift=shift,\n     period=period, cdate='date_received')\n\n# Reset index\niti = iti.reset_index()\n\n# Show\nprint(\"\\nSARI (temporal):\")\nprint(iti)"
      ]
    },
    {
      "cell_type": "markdown",
      "metadata": {},
      "source": [
        "Let's plot the evolution of a single combination ...\n\n\n"
      ]
    },
    {
      "cell_type": "code",
      "execution_count": null,
      "metadata": {
        "collapsed": false
      },
      "outputs": [],
      "source": [
        "# --------------\n# Filter\n# --------------\n# Filter\nidxs_spec = iti.specimen_code.isin(['URICUL'])\nidxs_orgs = iti.microorganism_name.isin(['escherichia coli'])\nidxs_abxs = iti.antimicrobial_name.isin(['augmentin'])\n\n# Filter\naux = iti[idxs_spec & idxs_orgs & idxs_abxs]\n\n# --------------\n# Plot\n# --------------\n# Create figure\nfig, axes = plt.subplots(2, 1, sharex=True,\n     gridspec_kw={'height_ratios': [2, 1]})\naxes = axes.flatten()\n\n# Plot line\nsns.lineplot(x=aux.date_received, y=aux.sari,\n    palette=\"tab10\", linewidth=0.75, linestyle='--',\n    marker='o', markersize=3, markeredgecolor='k',\n    markeredgewidth=0.5, markerfacecolor=None,\n    alpha=0.5, ax=axes[0])\n\n# Compute widths\nwidths = [d.days for d in np.diff(aux.date_received.tolist())]\n\n# Plot bars\naxes[1].bar(x=aux.date_received, height=aux.freq,\n    width=.8*widths[0], linewidth=0.75, alpha=0.5)\n\n# Configure\naxes[0].set(ylim=[-0.1, 1.1],\n    title='Time-series $%s_{%s}$' % (shift, period))\n\n# Despine\nsns.despine(bottom=True)\n\n# Tight layout\nplt.tight_layout()\n\n# Show\nprint(\"\\nTemporal (ITI):\")\nprint(aux)"
      ]
    },
    {
      "cell_type": "markdown",
      "metadata": {},
      "source": [
        "## Computing ASAI timeseries\n\n<div class=\"alert alert-danger\"><h4>Warning</h4><p>- Computing ASAI needs lots of consistent data!\n      - What if species do not appear on all time periods?</p></div>\n\nOnce we have computed ``SARI`` on a temporal fashion, it is possible\nto use such information to compute ``ASAI`` in a temporal fashion too.\nHowever, as explained in the previous tutorial, in order to compute\n``ASAI``, we need to at least have columns with the following\ninformation:\n\n  - ``antimicrobial``\n  - ``microorganism genus``\n  - ``microorganism species``\n  - ``resistance``\n\nMoreover, in this example we will compute the ASAI for each ``gram_stain`` category\nindependently so we will need the microorganism gram stain information too. This\ninformation is available in the registries: :py:mod:`pyamr.datasets.registries`.\n\nLets include all this information using the ``MicroorganismRegistry``.\n\n\n"
      ]
    },
    {
      "cell_type": "code",
      "execution_count": null,
      "metadata": {
        "collapsed": false
      },
      "outputs": [],
      "source": [
        "# ------------------------------\n# Include gram stain\n# ------------------------------\n# Libraries\nfrom pyamr.datasets.registries import MicroorganismRegistry\n\n# Load registry\nmreg = MicroorganismRegistry()\n\n# Format sari dataframe\ndataframe = iti.copy(deep=True)\ndataframe = dataframe.reset_index()\n\n# Create genus and species\ndataframe[['genus', 'species']] = \\\n    dataframe.microorganism_name \\\n        .str.capitalize() \\\n        .str.split(expand=True, n=1)\n\n# Combine with registry information\ndataframe = mreg.combine(dataframe)\n\n# Fill missing gram stain\ndataframe.gram_stain = dataframe.gram_stain.fillna('u')"
      ]
    },
    {
      "cell_type": "markdown",
      "metadata": {},
      "source": [
        "Now that we have the ``genus``, ``species`` and ``gram_stain`` information,\nlets see how compute ``ASAI`` in a temporal fashion with an example. It is\nimportant to highlight that now the date (``date_received``) is also included\nin the groupby parameter when calling the compute method.\n\nFor more information see: :py:mod:`pyamr.core.asai.ASAI`\n\nFor more examples see:\n\n  - `sphx_glr__examples_indexes_plot_spectrum_temporal.py`.\n\n\n"
      ]
    },
    {
      "cell_type": "code",
      "execution_count": null,
      "metadata": {
        "collapsed": false
      },
      "outputs": [],
      "source": [
        "# -------------------------------------------\n# Compute ASAI\n# -------------------------------------------\n# Import specific libraries\nfrom pyamr.core.asai import ASAI\n\n# Create asai instance\nasai = ASAI(column_genus='genus',\n            column_specie='species',\n            column_resistance='sari',\n            column_frequency='freq')\n\n# Compute\nscores = asai.compute(dataframe,\n    groupby=['date_received',\n             'specimen_code',\n             'antimicrobial_name',\n             'gram_stain'],\n    weights='uniform',\n    threshold=0.5,\n    min_freq=0)\n\n# Stack\nscores = scores\n\n# Show\nprint(\"\\nASAI (overall):\")\nprint(scores.unstack())"
      ]
    },
    {
      "cell_type": "markdown",
      "metadata": {},
      "source": [
        "Let's plot the evolution of a single combination ...\n\n\n"
      ]
    },
    {
      "cell_type": "code",
      "execution_count": null,
      "metadata": {
        "collapsed": false
      },
      "outputs": [],
      "source": [
        "# Libraries\nimport calendar\n\n# Month numbers to abbr\ndef month_abbr(v):\n    return [calendar.month_abbr[x] for x in v]\n\n# --------------\n# Filter\n# --------------\n# Filter and drop index.\nscores = scores.filter(like='URICUL', axis=0)\nscores = scores.filter(like='augmentin', axis=0)\nscores.index = scores.index.droplevel(level=[1,2])\n\n# Show\nprint(\"\\nASAI (overall):\")\nprint(scores.unstack())\n\n# ----------\n# Plot\n# ----------\n# Initialize the matplotlib figure\nf, ax = plt.subplots(figsize=(6, 6))\n\n# Show\nsns.lineplot(data=scores, x='date_received', y='ASAI_SCORE',\n             hue='gram_stain', palette=\"tab10\", linewidth=0.75,\n             linestyle='--', marker='o', markersize=3,\n             markeredgecolor='k', markeredgewidth=0.5,\n             markerfacecolor=None, alpha=0.5)#, ax=axes[0])\n\n# Create aux table for visualization\naux = scores[['N_GENUS', 'N_SPECIE']] \\\n     .unstack().T.round(0) \\\n     .astype(str).replace({'nan': '-'})\n\n# Rename columns\naux.columns = month_abbr(range(1, len(aux.columns)+1))\n\n# Draw table\ntable = plt.table(cellText=aux.to_numpy(),\n                  rowLabels=aux.index,\n                  colLabels=aux.columns,\n                  cellLoc='center')\ntable.auto_set_font_size(False)\ntable.set_fontsize(7.5)\ntable.scale(1, 1.2)\n\n# Sns config\nsns.despine(left=True, bottom=True)\n\n# Add a legend and informative axis label\nax.set(xlabel='', ylabel='ASAI', xticks=[],\n       title=\"ASAI evolution 2009\")\n\n# Tight layout()\nplt.tight_layout()\n\n# Show\nplt.show()"
      ]
    },
    {
      "cell_type": "markdown",
      "metadata": {},
      "source": [
        "## Considerations\n\n\n"
      ]
    }
  ],
  "metadata": {
    "kernelspec": {
      "display_name": "Python 3",
      "language": "python",
      "name": "python3"
    },
    "language_info": {
      "codemirror_mode": {
        "name": "ipython",
        "version": 3
      },
      "file_extension": ".py",
      "mimetype": "text/x-python",
      "name": "python",
      "nbconvert_exporter": "python",
      "pygments_lexer": "ipython3",
      "version": "3.9.1"
    }
  },
  "nbformat": 4,
  "nbformat_minor": 0
}