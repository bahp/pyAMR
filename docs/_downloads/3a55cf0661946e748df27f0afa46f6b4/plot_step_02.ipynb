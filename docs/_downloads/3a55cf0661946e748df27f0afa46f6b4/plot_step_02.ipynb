{
  "cells": [
    {
      "cell_type": "code",
      "execution_count": null,
      "metadata": {
        "collapsed": false
      },
      "outputs": [],
      "source": [
        "%matplotlib inline"
      ]
    },
    {
      "cell_type": "markdown",
      "metadata": {},
      "source": [
        "\n# Step 02 - Time Series Analysis\n\n<div class=\"alert alert-danger\"><h4>Warning</h4><p>Verify tests with conditions from stattools.</p></div>\n"
      ]
    },
    {
      "cell_type": "markdown",
      "metadata": {},
      "source": [
        "## Create time series (TS)\n\nFirst lets create an artificial series. The series has been plotted\nad the end of the tutorial.\n\n"
      ]
    },
    {
      "cell_type": "code",
      "execution_count": null,
      "metadata": {
        "collapsed": false
      },
      "outputs": [],
      "source": [
        "# ----------------------------\n# create data\n# ----------------------------\n# Import specific\nfrom pyamr.datasets.load import make_timeseries\n\n# Create timeseries data\nx, y, f = make_timeseries()"
      ]
    },
    {
      "cell_type": "markdown",
      "metadata": {},
      "source": [
        "## Pearson correlation coefficient\n\nIt measures the linear correlation between two variables with a value within the range\n[-1,1]. Coefficient values of -1, 0 and 1 indicate total negative linear correlation, no\nlinear correlation and total positive correlation respectively. In this study, the\ncoefficient is used to assess whether or not there is a linear correlation between the\nnumber of observations (susceptibility test records) and the computed resistance index.\n\n"
      ]
    },
    {
      "cell_type": "code",
      "execution_count": null,
      "metadata": {
        "collapsed": false
      },
      "outputs": [],
      "source": [
        "# -------------------------------\n# Pearson correlation coefficient\n# -------------------------------\n# Import pyAMR\nfrom pyamr.core.stats.correlation import CorrelationWrapper\n\n# Create object\ncorrelation = CorrelationWrapper().fit(x1=y, x2=f)\n\n# Print summary.\nprint(\"\\n\")\nprint(correlation.as_summary())"
      ]
    },
    {
      "cell_type": "markdown",
      "metadata": {},
      "source": [
        "## Augmented Dickey-Fuller test\nThe augmented Dickey\u2013Fuller test (ADF) was used to determine the presence of a unit root.\nWhen the other roots of the characteristic function lie inside the unit circle the first\ndifference of the process is stationary. Due to this property, these are also called\ndifference-stationary processes\n\nhttps://www.statsmodels.org/stable/generated/statsmodels.tsa.stattools.adfuller.html\n\n"
      ]
    },
    {
      "cell_type": "code",
      "execution_count": null,
      "metadata": {
        "collapsed": false
      },
      "outputs": [],
      "source": [
        "# ----------------------------\n# ADFuller\n# ----------------------------\n# Import statsmodels\nfrom statsmodels.tsa.stattools import adfuller\n\n# Import pyAMR\nfrom pyamr.core.stats.adfuller import ADFWrapper\n\n# Create wrapper\nadf = ADFWrapper(adfuller).fit(x=y, regression='ct')\n\nprint(\"\\n\")\nprint(adf.as_summary())"
      ]
    },
    {
      "cell_type": "markdown",
      "metadata": {},
      "source": [
        "## Kwiatkowski-Phillips-Schmidt-Shin test\n\nhttps://www.statsmodels.org/stable/generated/statsmodels.tsa.stattools.kpss.html\n\n"
      ]
    },
    {
      "cell_type": "code",
      "execution_count": null,
      "metadata": {
        "collapsed": false
      },
      "outputs": [],
      "source": [
        "# ----------------------------\n# Kpss\n# ----------------------------"
      ]
    },
    {
      "cell_type": "markdown",
      "metadata": {},
      "source": [
        "## Trend and stationarity in TS\n\nAn analysis of stationarity around a trend was carried out to identify time series\nsat\u0002isfying the assumptions posed by ARIMA. The augmented Dickey\u2013Fuller test (ADF) was\nused to determine the presence of a unit root. When the other roots of the characteristic\nfunction lie inside the unit circle the first difference of the process is stationary. Due\nto this property, these are also called difference-stationary processes. Since the absence\nof unit root is not a proof of non-stationarity, the Kwiatkowski\u2013Phillips\u2013Schmidt\u2013Shin\n(KPSS) test was used to identify the existence of an underlying trend which can also be\nremoved to obtain a stationary process. These are called trend-stationary processes. In\nboth, unit-root and trend-stationary processes, the mean can be increasing or decreasing\nover time; however, in the presence of a shock, trend-stationary processes revert to this\nmean tendency in the long run (deterministic trend) while unit-root processes have a\npermanent impact (stochastic trend). The significance level of the tests was set to 0.05.\n\n"
      ]
    },
    {
      "cell_type": "code",
      "execution_count": null,
      "metadata": {
        "collapsed": false
      },
      "outputs": [],
      "source": [
        "# ----------------------------\n# Stationarity\n# ----------------------------\n# Generic\nimport matplotlib.pyplot as plt\n\n# Import pyAMR\nfrom pyamr.core.stats.stationarity import StationarityWrapper\n\n# Define kwargs\nadf_kwargs = {'maxlag':12, 'autolag':'BIC'}\nkpss_kwargs = {}\n\n# Compute stationarity\nstationarity = StationarityWrapper().fit(x=y,\n    adf_kwargs=adf_kwargs, kpss_kwargs=kpss_kwargs)\n\n# Print summary.\nprint(\"\\n\")\nprint(stationarity.as_summary())\n\n\n# ----------------\n# plot\n# ----------------\n# Font type.\nfont = {\n    'family': 'monospace',\n    'weight': 'normal',\n    'size': 10,\n}\n\n# Create figure\nfig, ax = plt.subplots(1, 1, figsize=(10, 4))\n\n# Plot truth values.\nax.plot(y, color='#A6CEE3', alpha=0.5, marker='o',\n         markeredgecolor='k', markeredgewidth=0.5,\n         markersize=4, linewidth=0.75,\n         label=stationarity.as_summary())\n\n# Format axes\nax.grid(color='gray', linestyle='--', linewidth=0.2, alpha=0.5)\nax.legend(prop=font, loc=4)\n\n# Addd title\nplt.suptitle(\"Study of Stationarity\")\n\nplt.show()"
      ]
    }
  ],
  "metadata": {
    "kernelspec": {
      "display_name": "Python 3",
      "language": "python",
      "name": "python3"
    },
    "language_info": {
      "codemirror_mode": {
        "name": "ipython",
        "version": 3
      },
      "file_extension": ".py",
      "mimetype": "text/x-python",
      "name": "python",
      "nbconvert_exporter": "python",
      "pygments_lexer": "ipython3",
      "version": "3.9.1"
    }
  },
  "nbformat": 4,
  "nbformat_minor": 0
}