{
  "cells": [
    {
      "cell_type": "code",
      "execution_count": null,
      "metadata": {
        "collapsed": false
      },
      "outputs": [],
      "source": [
        "%matplotlib inline"
      ]
    },
    {
      "cell_type": "markdown",
      "metadata": {},
      "source": [
        "\n# Collateral Sensitivity Index (``ACSI``)\n\nThe Collateral Sensitivity Index - ``ACSI`` ...\n\n<div class=\"alert alert-danger\"><h4>Warning</h4><p>Pending...!</p></div>\n"
      ]
    },
    {
      "cell_type": "markdown",
      "metadata": {},
      "source": [
        "First, lets create the susceptibility test records dataset\n\n"
      ]
    },
    {
      "cell_type": "code",
      "execution_count": null,
      "metadata": {
        "collapsed": false
      },
      "outputs": [],
      "source": [
        "# Libraries\nimport pandas as pd\n\nfrom pyamr.datasets.load import fixture\n\n# ----------------------------------\n# Create data\n# ----------------------------------\n# Load the fixture_05.csv file.\nsusceptibility = fixture(name='fixture_06.csv')\n\n# Format DataFrame\nsusceptibility.SENSITIVITY = \\\n    susceptibility.SENSITIVITY.replace({\n        'resistant': 'R',\n        'intermediate': 'I',\n        'sensitive': 'S'\n})"
      ]
    },
    {
      "cell_type": "markdown",
      "metadata": {},
      "source": [
        "Lets see the susceptibility test records\n\n"
      ]
    },
    {
      "cell_type": "code",
      "execution_count": null,
      "metadata": {
        "collapsed": false
      },
      "outputs": [],
      "source": [
        "susceptibility.head(10)"
      ]
    },
    {
      "cell_type": "markdown",
      "metadata": {},
      "source": [
        "Lets compute the Antimicrobial Collateral Sensitivity Index or ``ACSI``\n\n"
      ]
    },
    {
      "cell_type": "code",
      "execution_count": null,
      "metadata": {
        "collapsed": false
      },
      "outputs": [],
      "source": [
        "# ------------------------------------------\n# Compute the index\n# ------------------------------------------\n# Libraries\nfrom pyamr.core.acsi import ACSI\n\n# Compute index\ncontingency, combinations = \\\n    ACSI().compute(susceptibility,\n        groupby=[\n            'DATE',\n            'SPECIMEN',\n            'MICROORGANISM'\n        ],\n        return_combinations=True)\n\n# Show\nprint(\"\\nCombinations:\")\nprint(combinations)\nprint(\"\\nContingency:\")\nprint(contingency)"
      ]
    },
    {
      "cell_type": "markdown",
      "metadata": {},
      "source": [
        "Lets see the contingency matrix\n\n"
      ]
    },
    {
      "cell_type": "code",
      "execution_count": null,
      "metadata": {
        "collapsed": false
      },
      "outputs": [],
      "source": [
        "# Rename for docs display\nrename = {\n    'MICROORGANISM': 'ORGANISM',\n    'ANTIMICROBIAL_x': 'ANTIBIOTIC_x',\n    'ANTIMICROBIAL_y': 'ANTIBIOTIC_y'\n}\n\n# Show\ncontingency \\\n    .reset_index() \\\n    .rename(columns=rename) \\\n    .round(decimals=3)"
      ]
    },
    {
      "cell_type": "markdown",
      "metadata": {},
      "source": [
        "Lets compute and visualise the ``overall`` contingency matrix\n\n"
      ]
    },
    {
      "cell_type": "code",
      "execution_count": null,
      "metadata": {
        "collapsed": false
      },
      "outputs": [],
      "source": [
        "# Lets compute the overall index\ncontingency = ACSI().compute(\n    combinations.reset_index(),\n    groupby=[],\n    flag_combinations=True,\n    return_combinations=False\n)\n\n# Show\nprint(contingency)\n\n# Display\nimport numpy as np\nimport seaborn as sns\nimport matplotlib.pyplot as plt\n\n# Create index with all pairs\nindex = pd.MultiIndex.from_product(\n    [susceptibility.ANTIMICROBIAL.unique(),\n     susceptibility.ANTIMICROBIAL.unique()]\n)\n\n# Reformat\naux = contingency['acsi'] \\\n    .reindex(index, fill_value=np.nan)\\\n    .unstack()\n\n# Display\nsns.heatmap(data=aux * 100, annot=True, linewidth=.5,\n            cmap='coolwarm', vmin=-70, vmax=70, center=0,\n            square=True)\n\n# Show\nplt.show()"
      ]
    },
    {
      "cell_type": "markdown",
      "metadata": {},
      "source": [
        "Lets compute and visualise the ``temporal`` contingency matrix\n\n"
      ]
    },
    {
      "cell_type": "code",
      "execution_count": null,
      "metadata": {
        "collapsed": false
      },
      "outputs": [],
      "source": [
        "# Lets compute the overall index\ncontingency = ACSI().compute(\n    combinations.reset_index(),\n    groupby=['DATE'],\n    flag_combinations=True,\n    return_combinations=False)\n\n# Show\nprint(contingency)\n\n# .. note:: Look for a nice visualisation of a matrix over time. In\n#           addition to python libraries such as plotly, animations,\n#           ... we can also check for js libraries such as Apache\n#           echarts."
      ]
    }
  ],
  "metadata": {
    "kernelspec": {
      "display_name": "Python 3",
      "language": "python",
      "name": "python3"
    },
    "language_info": {
      "codemirror_mode": {
        "name": "ipython",
        "version": 3
      },
      "file_extension": ".py",
      "mimetype": "text/x-python",
      "name": "python",
      "nbconvert_exporter": "python",
      "pygments_lexer": "ipython3",
      "version": "3.7.9"
    }
  },
  "nbformat": 4,
  "nbformat_minor": 0
}