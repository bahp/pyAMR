{
  "cells": [
    {
      "cell_type": "code",
      "execution_count": null,
      "metadata": {
        "collapsed": false
      },
      "outputs": [],
      "source": [
        "%matplotlib inline"
      ]
    },
    {
      "cell_type": "markdown",
      "metadata": {},
      "source": [
        "\n# Metrics - weights\n\nExample of how to use the SigmoidA to compute weights.\n\n.. todo:: The SigmoidA stants for Sigmoid Approximation. This page\n          needs better explanation of the sigmoid function and how\n          the SgimoidA (approximation) class works and how to use it.\n"
      ]
    },
    {
      "cell_type": "code",
      "execution_count": null,
      "metadata": {
        "collapsed": false
      },
      "outputs": [],
      "source": [
        "# Libraries\nimport numpy as np\nimport pandas as pd\nimport matplotlib as mpl\nimport matplotlib.pyplot as plt\nimport statsmodels.robust.norms as norms\n\n# pyAMR\nfrom pyamr.metrics.weights import SigmoidA\n\n# Matplotlib options\nmpl.rc('legend', fontsize=6)\nmpl.rc('xtick', labelsize=6)\nmpl.rc('ytick', labelsize=6)\nmpl.rc('font', size=7)\n\n# Set pandas configuration.\npd.set_option('display.max_colwidth', 14)\npd.set_option('display.width', 150)\npd.set_option('display.precision', 4)\n\n# Constants\nlength = 100\n\n# Create time-series.\nx = np.linspace(0,100,100)\nf = np.concatenate((np.random.rand(35)*50+50,\n                  np.random.rand(30)*50+100,\n                  np.random.rand(35)*50+150))\n\n# Weight Functions\nw_functions = [\n    SigmoidA(r=200, g=0.5, offset=0.0, scale=1.0),\n    SigmoidA(r=200, g=0.5, offset=0.0, scale=1.0, percentiles=[10,90]),\n    SigmoidA(r=200, g=0.5, offset=0.0, scale=1.0, percentiles=[25,75]),\n    SigmoidA(r=200, g=0.5, offset=0.0, scale=1.0, percentiles=[40,50]),\n    SigmoidA(r=200, g=0.5, offset=0.0, scale=1.0, thresholds=[15,85])\n]\n\n# Create figure\nfig, axes = plt.subplots(1,3, figsize=(10,4))\n\n# Plot frequencies\naxes[1].bar(x, f, color='gray', alpha=0.7, label='Frequency')\n\n# Plot weights\nfor i,W in enumerate(w_functions):\n    axes[0].plot(x, W.weights(x), label=W._identifier(short=True))\n    axes[2].plot(x, W.weights(f), marker='o', alpha=0.5,\n      markeredgecolor='k', markeredgewidth=0.5, markersize=4,\n      linewidth=0.00, label=W._identifier(short=True))\n\n# Titles\naxes[0].set_title('Sigmoid Function')\naxes[1].set_title('Frequencies')\naxes[2].set_title('Weights')\n\n# Legends\naxes[0].legend()\naxes[1].legend()\naxes[2].legend()\n\n# Tight layout\nplt.tight_layout()\n\n# Show\nplt.show()"
      ]
    }
  ],
  "metadata": {
    "kernelspec": {
      "display_name": "Python 3",
      "language": "python",
      "name": "python3"
    },
    "language_info": {
      "codemirror_mode": {
        "name": "ipython",
        "version": 3
      },
      "file_extension": ".py",
      "mimetype": "text/x-python",
      "name": "python",
      "nbconvert_exporter": "python",
      "pygments_lexer": "ipython3",
      "version": "3.7.9"
    }
  },
  "nbformat": 4,
  "nbformat_minor": 0
}