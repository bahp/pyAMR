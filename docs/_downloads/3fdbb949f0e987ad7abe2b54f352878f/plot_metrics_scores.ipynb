{
  "cells": [
    {
      "cell_type": "code",
      "execution_count": null,
      "metadata": {
        "collapsed": false
      },
      "outputs": [],
      "source": [
        "%matplotlib inline"
      ]
    },
    {
      "cell_type": "markdown",
      "metadata": {},
      "source": [
        "\n# Metrics - scores\n\nExample using your package\n"
      ]
    },
    {
      "cell_type": "code",
      "execution_count": null,
      "metadata": {
        "collapsed": false
      },
      "outputs": [],
      "source": [
        "# General libraries.\nimport numpy as np\n\n# Sklearn\nfrom sklearn.metrics import mean_absolute_error\nfrom sklearn.metrics import mean_squared_error\nfrom sklearn.metrics import mean_squared_log_error\nfrom sklearn.metrics import median_absolute_error\n\n# pyAMR\nfrom pyamr.metrics.scores import _mean_absolute_error\nfrom pyamr.metrics.scores import _mean_absolute_percentage_error\nfrom pyamr.metrics.scores import _mean_directional_accuracy\nfrom pyamr.metrics.scores import _mean_absolute_scaled_error\n\n# Numpy configuration\nnp.set_printoptions(precision=2)\n\n# ---------------------------\n# create data\n# ---------------------------\n# Create time series\ny_true = np.array([10, 11, 12, 11, 12, 11, 13, 12, 13, 14, 15, 16, 18, 17])\ny_pred = np.array([11, 11, 11, 11, 12, 12, 12, 13, 13, 13, 18, 18, 18, 18])\n\n# Scores\ns1 = mean_absolute_error(y_true, y_pred)\ns2 = _mean_absolute_error(y_true, y_pred)\ns3 = mean_squared_error(y_true, y_pred)\ns4 = mean_squared_log_error(y_true, y_pred)\ns5 = _mean_absolute_percentage_error(y_true, y_pred)\ns6 = _mean_directional_accuracy(y_true, y_pred)\ns7 = _mean_absolute_scaled_error(y_true[:10], y_true[10:], y_pred[10:])\ns10 = median_absolute_error(y_true, y_pred)\n\n# Compute scores\nprint(\"\\nScores:\")\nprint(\"-------\")\nprint('Mean Absolute Error            : %.3f' % s1)\nprint('Mean Absolute Error (_)        : %.3f' % s2)\nprint('Mean Squared Error             : %.3f' % s3)\nprint('Mean Squared Log Error         : %.3f' % s4)\nprint('Mean Absolute Percentage (_)   : %.3f' % s5)\nprint('Mean Directional Accuracy (_)  : %.3f' % s6)\nprint('Mean Absolute Scaled error (_) : %.3f' % s7)\nprint('Median Absolute Error          : %.3f' % s10)"
      ]
    }
  ],
  "metadata": {
    "kernelspec": {
      "display_name": "Python 3",
      "language": "python",
      "name": "python3"
    },
    "language_info": {
      "codemirror_mode": {
        "name": "ipython",
        "version": 3
      },
      "file_extension": ".py",
      "mimetype": "text/x-python",
      "name": "python",
      "nbconvert_exporter": "python",
      "pygments_lexer": "ipython3",
      "version": "3.7.7"
    }
  },
  "nbformat": 4,
  "nbformat_minor": 0
}