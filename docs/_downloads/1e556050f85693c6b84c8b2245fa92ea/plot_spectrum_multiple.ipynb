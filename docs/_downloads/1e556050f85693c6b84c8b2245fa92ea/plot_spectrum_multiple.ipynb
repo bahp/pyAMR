{
  "cells": [
    {
      "cell_type": "code",
      "execution_count": null,
      "metadata": {
        "collapsed": false
      },
      "outputs": [],
      "source": [
        "%matplotlib inline"
      ]
    },
    {
      "cell_type": "markdown",
      "metadata": {},
      "source": [
        "\n# SART - Spectrum (multiple)\n\n.. todo: Simplify and explain\n"
      ]
    },
    {
      "cell_type": "code",
      "execution_count": null,
      "metadata": {
        "collapsed": false
      },
      "outputs": [],
      "source": [
        "# Import libraries\nimport sys\nimport glob\nimport numpy as np\nimport pandas as pd\nimport seaborn as sns\nimport matplotlib as mpl\nimport matplotlib.pyplot as plt\n\n# Import specific libraries\nfrom pyamr.core.freq import Frequency\nfrom pyamr.core.sari import SARI\nfrom pyamr.core.asai import ASAI\nfrom pyamr.datasets.load import load_data_nhs\n\n# Configure seaborn style (context=talk)\nsns.set(style=\"white\")\n\n# Set matplotlib\nmpl.rcParams['xtick.labelsize'] = 9\nmpl.rcParams['ytick.labelsize'] = 9\nmpl.rcParams['axes.titlesize'] = 11\nmpl.rcParams['legend.fontsize'] = 9\n\n# Pandas configuration\npd.set_option('display.max_colwidth', 40)\npd.set_option('display.width', 300)\npd.set_option('display.precision', 4)\n\n# Numpy configuration\nnp.set_printoptions(precision=2)\n\n\n# --------------------------------------------------------------------\n#                             Methods\n# --------------------------------------------------------------------\ndef scalar_colormap(values, cmap, vmin, vmax):\n    \"\"\"This method creates a colormap based on values.\n\n    Parameters\n    ----------\n    values : array-like\n      The values to create the corresponding colors\n\n    cmap : str\n      The colormap\n\n    vmin, vmax : float\n      The minimum and maximum possible values\n\n    Returns\n    -------\n    scalar colormap\n    \"\"\"\n    # Create scalar mappable\n    norm = mpl.colors.Normalize(vmin=vmin, vmax=vmax, clip=True)\n    mapper = mpl.cm.ScalarMappable(norm=norm, cmap=cmap)\n    # Gete color map\n    colormap = sns.color_palette([mapper.to_rgba(i) for i in values])\n    # Return\n    return colormap\n\n\ndef create_mapper(dataframe, column_key, column_value):\n    \"\"\"This method constructs a mapper\n\n    Parameters\n    ----------\n    dataframe: dataframe-like\n    The dataframe from which the columns are extracted\n\n    column_key: string-like\n    The name of the column with the values for the keys of the mapper\n\n    column_value: string-like\n    The name of the column with the values for the values of the mapper\n\n    Returns\n    -------\n    dictionary\n    \"\"\"\n    dataframe = dataframe[[column_key, column_value]]\n    dataframe = dataframe.drop_duplicates()\n    return dict(zip(dataframe[column_key], dataframe[column_value]))\n\n\n# --------------------------------------------------------------------\n#                               Main\n# --------------------------------------------------------------------\n# Load data\ndata, antibiotics, organisms = load_data_nhs()\n\n# Count records per specimen code\nspecimen_code_count = data \\\n    .groupby('laboratory_number').head(1) \\\n    .specimen_code.value_counts(normalize=True) \\\n    .sort_values(ascending=False)\n\n# Filter most frequent specimens\ndata = data[data.specimen_code.isin( \\\n    specimen_code_count.index.values[:5])]\n\n# Loop for each specimen\nfor specimen_code, df in data.groupby(by='specimen_code'):\n\n    # ----------------------------\n    # Compute frequencies and SARI\n    # ----------------------------\n    # Create instance\n    freq = Frequency(column_antibiotic='antimicrobial_code',\n                     column_organism='microorganism_code',\n                     column_date='date_received',\n                     column_outcome='sensitivity')\n\n    # Compute frequencies overall\n    freq_overall = freq.compute(df, strategy='overall',\n                                    by_category='pairs')\n\n    # Compute sari\n    sari_overall = SARI(strategy='medium').compute(freq_overall)\n\n    # ------------------------\n    # Format dataframe\n    #-------------------------\n    # Create mappers\n    abx_map = create_mapper(antibiotics, 'antimicrobial_code', 'category')\n    org_map = create_mapper(organisms, 'microorganism_code', 'genus')\n    grm_map = create_mapper(organisms, 'microorganism_code', 'gram_stain')\n    name_map = create_mapper(antibiotics, 'antimicrobial_code', 'name')\n\n    # Copy dataframe\n    dataframe = sari_overall.copy(deep=True)\n    dataframe = dataframe.reset_index()\n\n    # Include categories\n    dataframe['category'] = dataframe['ANTIBIOTIC'].map(abx_map)\n    dataframe['genus'] = dataframe['SPECIE'].map(org_map)\n    dataframe['gram'] = dataframe['SPECIE'].map(grm_map)\n    dataframe['ANTIBIOTIC'] = dataframe.ANTIBIOTIC.map(name_map)\n\n    # Empty grams are a new category (unknown - u)\n    dataframe.gram = dataframe.gram.fillna('u')\n\n    # ------------------------\n    # Compute spectrum index\n    # ------------------------\n    # Create antimicrobial spectrum of activity instance\n    asai = ASAI(weights='uniform', threshold=0.05,\n                                   column_genus='genus',\n                                   column_specie='SPECIE',\n                                   column_antibiotic='ANTIBIOTIC',\n                                   column_resistance='sari')\n\n    # Compute\n    scores = asai.compute(dataframe, by_category='gram')\n\n    # Show scores\n    print(\"\\n\\nData ASAI (%s):\" % specimen_code)\n    print(scores.head(10))\n\n    # Sort\n    scores = scores.fillna(0.0)\n    scores['width'] = np.abs(scores['ASAI_SCORE']['n']+scores['ASAI_SCORE']['p'])\n    scores['gmean'] = np.sqrt(scores['ASAI_SCORE']['n']*scores['ASAI_SCORE']['p'])\n    scores = scores.sort_values(by='gmean', ascending=False)\n\n    # Variables to plot.\n    x = scores.index.values\n    y_n = scores['ASAI_SCORE']['n'].values\n    y_p = scores['ASAI_SCORE']['p'].values\n    y_u = scores['ASAI_SCORE']['u'].values\n\n    # Constants\n    colormap_p = scalar_colormap(y_p, cmap='Blues', vmin=-0.1, vmax=1.1)\n    colormap_n = scalar_colormap(y_n, cmap='Reds', vmin=-0.1, vmax=1.1)\n    colormap_u = scalar_colormap(y_u, cmap='Greens', vmin=-0.1, vmax=1.1)\n\n    # ----------\n    # Example\n    # ----------\n    # This example shows a diverging figure using exclusively the gram-positive\n    # and gram-negative categories. Note that the gram negative categories has\n    # values in the range [-1,0] while the gram-positive category has values\n    # within the range [0, 1]\n    # Create figure\n    f, axes = plt.subplots(1, 3, figsize=(7, 12), sharey=True)\n\n    # Plot\n    sns.barplot(x=y_p, y=x, palette=colormap_p, ax=axes[0], orient='h',\n     saturation=0.5, label='Gram-positive')\n    sns.barplot(x=y_n, y=x, palette=colormap_n, ax=axes[1], orient='h',\n     saturation=0.5, label='Gram-negative')\n    sns.barplot(x=y_u, y=x, palette=colormap_u, ax=axes[2], orient='h',\n      saturation=0.5, label='Gram-unknown')\n\n    # Configure\n    sns.despine(bottom=True)\n\n    # Set x-axis\n    axes[0].set_xlim([0, 1.1])\n    axes[1].set_xlim([0, 1.1])\n    axes[2].set_xlim([0, 1.1])\n\n    # Set title\n    axes[0].set_title('Gram-positive')\n    axes[1].set_title('Gram-negative')\n    axes[2].set_title('Gram-unknown')\n\n    # Show legend.\n    plt.suptitle(specimen_code)\n    plt.tight_layout()\n\n# Show\nplt.show()"
      ]
    }
  ],
  "metadata": {
    "kernelspec": {
      "display_name": "Python 3",
      "language": "python",
      "name": "python3"
    },
    "language_info": {
      "codemirror_mode": {
        "name": "ipython",
        "version": 3
      },
      "file_extension": ".py",
      "mimetype": "text/x-python",
      "name": "python",
      "nbconvert_exporter": "python",
      "pygments_lexer": "ipython3",
      "version": "3.7.7"
    }
  },
  "nbformat": 4,
  "nbformat_minor": 0
}