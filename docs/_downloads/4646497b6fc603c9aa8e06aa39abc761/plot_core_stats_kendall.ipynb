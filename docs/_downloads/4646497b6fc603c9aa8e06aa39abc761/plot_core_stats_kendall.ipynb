{
  "cells": [
    {
      "cell_type": "code",
      "execution_count": null,
      "metadata": {
        "collapsed": false
      },
      "outputs": [],
      "source": [
        "%matplotlib inline"
      ]
    },
    {
      "cell_type": "markdown",
      "metadata": {},
      "source": [
        "\n# Statistical test - Kendall\n\nExample using your package\n"
      ]
    },
    {
      "cell_type": "code",
      "execution_count": null,
      "metadata": {
        "collapsed": false
      },
      "outputs": [],
      "source": [
        "# Libraries\nimport numpy as np\nimport pandas as pd\n\n# Import pyAMR\nfrom pyamr.core.stats.kendall import kendall\nfrom pyamr.core.stats.kendall import KendallWrapper\n\n# ----------------------------\n# set basic configuration\n# ----------------------------\n# Set pandas configuration.\npd.set_option('display.max_colwidth', 14)\npd.set_option('display.width', 150)\npd.set_option('display.precision', 4)\n\n# ----------------------------\n# create data\n# ----------------------------\n# Constants\nlength = 100\noffset = 100\nslope = 10\n\n# Create timeseries.\nx = np.arange(length)\ny = np.random.rand(length) * slope + offset\n\n# ---------------------\n# Create kendall object\n# ---------------------\n# Create object\nkendall = KendallWrapper(estimator=kendall).fit(x=y)\n\n# Print series.\nprint(\"\\n\")\nprint(kendall.as_series())\n\n# Print summary.\nprint(\"\\n\")\nprint(kendall.as_summary())\n\n# Print identifier\nprint(\"\\nIdentifier:\")\nprint(kendall._identifier())"
      ]
    }
  ],
  "metadata": {
    "kernelspec": {
      "display_name": "Python 3",
      "language": "python",
      "name": "python3"
    },
    "language_info": {
      "codemirror_mode": {
        "name": "ipython",
        "version": 3
      },
      "file_extension": ".py",
      "mimetype": "text/x-python",
      "name": "python",
      "nbconvert_exporter": "python",
      "pygments_lexer": "ipython3",
      "version": "3.9.1"
    }
  },
  "nbformat": 4,
  "nbformat_minor": 0
}