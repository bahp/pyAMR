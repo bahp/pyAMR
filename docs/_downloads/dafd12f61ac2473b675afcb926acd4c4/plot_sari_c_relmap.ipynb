{
  "cells": [
    {
      "cell_type": "markdown",
      "metadata": {},
      "source": [
        "\n# ``SARI`` - By specimen w/ ``sns.relmap``\n\n.. todo:: Explain...\n"
      ]
    },
    {
      "cell_type": "code",
      "execution_count": null,
      "metadata": {
        "collapsed": false
      },
      "outputs": [],
      "source": [
        "# Libraries\nimport sys\nimport numpy as np\nimport pandas as pd\nimport seaborn as sns\nimport matplotlib as mpl\nimport matplotlib.pyplot as plt\n\n# Import own libraries\nfrom pyamr.core.sari import SARI\nfrom pyamr.core.freq import Frequency\nfrom pyamr.datasets.load import make_susceptibility\n\n# -------------------------\n# Configuration\n# -------------------------\n# Configure seaborn style (context=talk)\nsns.set(style=\"white\")\n\n# Set matplotlib\nmpl.rcParams['xtick.labelsize'] = 9\nmpl.rcParams['ytick.labelsize'] = 9\nmpl.rcParams['axes.titlesize'] = 11\nmpl.rcParams['legend.fontsize'] = 9\n\n# Pandas configuration\npd.set_option('display.max_colwidth', 40)\npd.set_option('display.width', 300)\npd.set_option('display.precision', 4)\n\n# Numpy configuration\nnp.set_printoptions(precision=2)\n\n# -------------------------------------------\n# Methods\n# -------------------------------------------\ndef create_mapper(dataframe, column_key, column_value):\n    \"\"\"This method constructs a mapper\n\n    Parameters\n    ----------\n    dataframe: dataframe-like\n      The dataframe from which the columns are extracted\n\n    column_key: string-like\n      The name of the column with the values for the keys of the mapper\n\n    column_value: string-like\n      The name of the column with the values for the values of the mapper\n\n    Returns\n    -------\n    dictionary\n    \"\"\"\n    dataframe = dataframe[[column_key, column_value]]\n    dataframe = dataframe.drop_duplicates()\n    return dict(zip(dataframe[column_key], dataframe[column_value]))\n\n\n# -------------------------------------------\n# Load data\n# -------------------------------------------\n# Load data\ndata = make_susceptibility()\n\n# Show\nprint(\"\\nData:\")\nprint(data)\nprint(\"\\nColumns:\")\nprint(data.columns)\n\n# -------------------------------------------\n# Compute SARI\n# -------------------------------------------\n# Libraries\nfrom pyamr.core.sari import SARI\n\n# Create sari instance\nsari = SARI(groupby=['specimen_code',\n                     'microorganism_code',\n                     'antimicrobial_code',\n                     'sensitivity'])\n\n# Compute SARI overall\nsari_overall = sari.compute(data,\n    return_frequencies=True)\n\n# Show\nprint(\"SARI (overall):\")\nprint(sari_overall)\n\n\n# -------------------------------------------\n# Plot\n# -------------------------------------------\n# Reset\nsari_overall = sari_overall.reset_index()\n\n# Count records per specimen\nspecimen_count = sari_overall \\\n    .groupby('specimen_code').freq.sum() \\\n    .sort_values(ascending=False)\n\n# Show\nprint(\"Cultures:\")\nprint(specimen_count)\n\n# Filter\nsari_overall = sari_overall[sari_overall \\\n    .specimen_code.isin( \\\n        specimen_count.index.values[:5])]\n\n# Loop\nfor specimen, df in sari_overall.groupby(by='specimen_code'):\n\n    # ------------\n    # Plot Heatmap\n    # ------------\n    # Create colormap\n    cmap = sns.color_palette(\"Reds\", desat=0.5, n_colors=10)\n\n    # Configura\n    sizes = (df.freq.min(), df.freq.max())\n\n    # Plot\n    g = sns.relplot(data=df.reset_index(), x='microorganism_code',\n                    y='antimicrobial_code', hue=\"sari\", size=\"freq\",\n                    palette='Reds', hue_norm=(0, 1), edgecolor=\"gray\",\n                    linewidth=0.5, sizes=sizes,  # size_norm=sizes,\n                    dashes=True, legend='brief', height=10)\n\n    # Configure plot\n    g.set(xlabel=\"Antimicrobial\",\n          ylabel=\"Microorganism\",\n          title='Antibiogram (with frequency)',\n          #aspect='equal'\n    )\n    g.despine(left=True, bottom=True)\n    g.ax.margins(.1)\n\n    # Configure xticks\n    for label in g.ax.get_xticklabels():\n        label.set_rotation(90)\n\n    # Configure legend\n    for artist in g.legend.legendHandles:\n        artist.set_edgecolor(\"k\")\n        artist.set_linewidth(0.5)\n\n    # Superior title\n    plt.suptitle(specimen)\n\n    # Add grid lines.\n    # plt.grid(linestyle='-', linewidth=0.5, color='.7')\n\n    # Adjust\n    plt.tight_layout()\n\n# Show\nplt.show()"
      ]
    }
  ],
  "metadata": {
    "kernelspec": {
      "display_name": "Python 3",
      "language": "python",
      "name": "python3"
    },
    "language_info": {
      "codemirror_mode": {
        "name": "ipython",
        "version": 3
      },
      "file_extension": ".py",
      "mimetype": "text/x-python",
      "name": "python",
      "nbconvert_exporter": "python",
      "pygments_lexer": "ipython3",
      "version": "3.9.1"
    }
  },
  "nbformat": 4,
  "nbformat_minor": 0
}