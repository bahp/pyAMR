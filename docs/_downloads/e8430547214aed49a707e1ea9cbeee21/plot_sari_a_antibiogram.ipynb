{
  "cells": [
    {
      "cell_type": "code",
      "execution_count": null,
      "metadata": {
        "collapsed": false
      },
      "outputs": [],
      "source": [
        "%matplotlib inline"
      ]
    },
    {
      "cell_type": "markdown",
      "metadata": {},
      "source": [
        "\n# ``SARI`` - By specimen w/ ``sns.heatmap``\n\n.. todo:: Explain...\n"
      ]
    },
    {
      "cell_type": "code",
      "execution_count": null,
      "metadata": {
        "collapsed": false
      },
      "outputs": [],
      "source": [
        "# Libraries\nimport sys\nimport numpy as np\nimport pandas as pd\nimport seaborn as sns\nimport matplotlib as mpl\nimport matplotlib.pyplot as plt\n\n# Import specific libraries\nfrom pyamr.core.sari import SARI\nfrom pyamr.core.freq import Frequency\nfrom pyamr.datasets.load import make_susceptibility\n\n# -------------------------\n# Configuration\n# -------------------------\n# Configure seaborn style (context=talk)\nsns.set(style=\"white\")\n\n# Set matplotlib\nmpl.rcParams['xtick.labelsize'] = 9\nmpl.rcParams['ytick.labelsize'] = 9\nmpl.rcParams['axes.titlesize'] = 11\nmpl.rcParams['legend.fontsize'] = 9\n\n# Pandas configuration\npd.set_option('display.max_colwidth', 40)\npd.set_option('display.width', 300)\npd.set_option('display.precision', 4)\n\n# Numpy configuration\nnp.set_printoptions(precision=2)\n\n\n# -------------------------------------------\n# Load data\n# -------------------------------------------\n# Load data\ndata = make_susceptibility()\n\n# Show\nprint(\"\\nData:\")\nprint(data)\nprint(\"\\nColumns:\")\nprint(data.columns)\n\n# -------------------------------------------\n# Compute SARI\n# -------------------------------------------\n# Libraries\nfrom pyamr.core.sari import SARI\n\n# Create sari instance\nsari = SARI(groupby=['specimen_code',\n                     'microorganism_code',\n                     'antimicrobial_code',\n                     'sensitivity'])\n\n# Compute SARI overall\nsari_overall = sari.compute(data,\n    return_frequencies=True)\n\n# Show\nprint(\"SARI (overall):\")\nprint(sari_overall)\n\n# -------------------------------------------\n# Plot\n# -------------------------------------------\n# Reset\nsari_overall = sari_overall.reset_index()\n\n# Count records per specimen\nspecimen_count = sari_overall \\\n    .groupby('specimen_code').freq.sum() \\\n    .sort_values(ascending=False)\n\n# Show\nprint(\"Cultures:\")\nprint(specimen_count)\n\n# Filter\nsari_overall = sari_overall[sari_overall \\\n    .specimen_code.isin( \\\n        specimen_count.index.values[:5])]\n\n# Loop\nfor specimen, df in sari_overall.groupby(by='specimen_code'):\n\n    # -------------\n    # Create matrix\n    # -------------\n    # Filter\n    matrix = df.copy(deep=True)\n    matrix = df.reset_index()\n    #matrix = matrix[matrix.freq > 100]\n\n    # Pivot table\n    matrix = pd.pivot_table(matrix,\n         index='microorganism_code',\n         columns='antimicrobial_code',\n         values='sari')\n\n    # ------------\n    # Plot Heatmap\n    # ------------\n    # Create figure\n    f, ax = plt.subplots(1, 1, figsize=(10, 10))\n\n    # Create colormap\n    cmap = sns.color_palette(\"Reds\", desat=0.5, n_colors=10)\n\n    # Specify cbar axes\n    # cbar_ax = f.add_axes([.925, .3, .05, .3])\n\n    # Plot\n    ax = sns.heatmap(data=matrix*100, annot=True, fmt=\".0f\",\n                     annot_kws={'fontsize': 7}, cmap=cmap,\n                     linewidth=0.5, vmin=0, vmax=100, ax=ax,\n                     #cbar_ax=cbar_ax,\n                     xticklabels=1, yticklabels=1)\n\n    # Configure axes\n    ax.set(aspect=\"equal\")\n\n    # Set rotation\n    plt.yticks(rotation=0)\n\n    # Add title\n    plt.suptitle(\"Antibiogram (%s)\" % specimen, fontsize=15)\n\n    # Tight layout\n    plt.tight_layout()\n\n# Show\nplt.show()"
      ]
    }
  ],
  "metadata": {
    "kernelspec": {
      "display_name": "Python 3",
      "language": "python",
      "name": "python3"
    },
    "language_info": {
      "codemirror_mode": {
        "name": "ipython",
        "version": 3
      },
      "file_extension": ".py",
      "mimetype": "text/x-python",
      "name": "python",
      "nbconvert_exporter": "python",
      "pygments_lexer": "ipython3",
      "version": "3.7.9"
    }
  },
  "nbformat": 4,
  "nbformat_minor": 0
}