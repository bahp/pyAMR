{
  "cells": [
    {
      "cell_type": "code",
      "execution_count": null,
      "metadata": {
        "collapsed": false
      },
      "outputs": [],
      "source": [
        "%matplotlib inline"
      ]
    },
    {
      "cell_type": "markdown",
      "metadata": {},
      "source": [
        "\n# Describe\n\n.. todo: Simplify and explain\n"
      ]
    },
    {
      "cell_type": "code",
      "execution_count": null,
      "metadata": {
        "collapsed": false
      },
      "outputs": [],
      "source": [
        "# Import libraries\nimport sys\nimport glob\nimport numpy as np\nimport pandas as pd\nimport seaborn as sns\nimport matplotlib as mpl\nimport matplotlib.pyplot as plt\n\n# Import pyamr\nfrom pyamr.core.freq import Frequency\nfrom pyamr.datasets.load import load_data_mimic\n\n# Configure seaborn style (context=talk)\nsns.set(style=\"white\")\n\n# Set matplotlib\nmpl.rcParams['xtick.labelsize'] = 9\nmpl.rcParams['ytick.labelsize'] = 9\nmpl.rcParams['axes.titlesize'] = 11\nmpl.rcParams['legend.fontsize'] = 9\n\n# Pandas configuration\npd.set_option('display.max_colwidth', 40)\npd.set_option('display.width', 300)\npd.set_option('display.precision', 4)\n\n# Numpy configuration\nnp.set_printoptions(precision=2)\n\n# -------------------------\n# Constants\n# -------------------------\n# Replace codes\nreplace_codes = {\n  '9MRSN': 'MRSCUL',\n  'URINE CULTURE': 'URICUL',\n  'WOUND CULTURE': 'WOUCUL',\n  'BLOOD CULTURE': 'BLDCUL',\n  'SPUTUM CULTURE': 'SPTCUL',\n  'CSF CULTURE': 'CSFCUL',\n  'EYE CULTURE': 'EYECUL',\n  'GENITALCUL': 'GENCUL',\n  'NEONATAL SCREEN': 'NEOCUL',\n}\n\n# ----------------------------------------------------------\n#                       Main\n# ----------------------------------------------------------\n# Load data\ndata, antibiotics, organisms = load_data_mimic()\n\n# Replace\ndata.specimen_code = \\\n    data.specimen_code.replace(replace_codes)\n\n# Drop duplicates\ndata = data.drop_duplicates()\n\n# The total number of cultures\nncultures = data.laboratory_number.nunique()\n\n# The percentage of each specimen\npspecimens = data \\\n    .groupby('laboratory_number').head(1) \\\n    .specimen_code.value_counts(normalize=True)\n\n# The percentages of each organism\npmicroorganisms = data \\\n    .microorganism_code \\\n    .value_counts(normalize=True)\n\n# The percentages of each antimicrobial\npantimicrobials = data \\\n    .antimicrobial_code \\\n    .value_counts(normalize=True)\n\n# The percentages of (orgnaism, antimicrobial) pairs\nppairs = data[['microorganism_code', 'antimicrobial_code']]\nppairs = ppairs.value_counts(normalize=True)\n\n# Show\nprint(\"\\nTotal cultures: %s\" % ncultures)\nprint(\"\\nSpecimens (proportions)\")\nprint(pspecimens)\nprint(\"\\nMicroorganisms (proportions)\")\nprint(pmicroorganisms)\nprint(\"\\nAntimicrobials (proportions)\")\nprint(pantimicrobials)\nprint(\"\\nPairs (proportions\")\nprint(ppairs)\n\n# --------------------\n# Compute Frequencies\n# --------------------\n# Create instance\nfreq = Frequency(column_antibiotic='antimicrobial_code',\n                 column_organism='microorganism_code',\n                 column_date='date_received',\n                 column_outcome='sensitivity')\n\n# Compute frequencies overall\nfreq_pairs = freq.compute(data, strategy='overall',\n                                by_category='pairs')\n\nfreq_orgs = freq.compute(data, strategy='overall',\n                               by_category='organisms')\n\nfreq_abxs = freq.compute(data, strategy='overall',\n                               by_category='organisms')\n\nprint(\"\\n\\nFreqs:\")\nprint(freq_pairs)\nprint(\"Count\")\nprint(freq_pairs.sum(axis=1).sort_values(ascending=False))\n\n\n\npspecimens.plot(kind='pie', ylabel='')\nplt.suptitle('SPECIMEN')\n\nplt.show()"
      ]
    }
  ],
  "metadata": {
    "kernelspec": {
      "display_name": "Python 3",
      "language": "python",
      "name": "python3"
    },
    "language_info": {
      "codemirror_mode": {
        "name": "ipython",
        "version": 3
      },
      "file_extension": ".py",
      "mimetype": "text/x-python",
      "name": "python",
      "nbconvert_exporter": "python",
      "pygments_lexer": "ipython3",
      "version": "3.7.7"
    }
  },
  "nbformat": 4,
  "nbformat_minor": 0
}