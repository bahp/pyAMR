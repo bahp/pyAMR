{
  "cells": [
    {
      "cell_type": "code",
      "execution_count": null,
      "metadata": {
        "collapsed": false
      },
      "outputs": [],
      "source": [
        "%matplotlib inline"
      ]
    },
    {
      "cell_type": "markdown",
      "metadata": {},
      "source": [
        "\n# ASAI - Multiple\n\n.. warning: Implement using sample data\n"
      ]
    },
    {
      "cell_type": "code",
      "execution_count": null,
      "metadata": {
        "collapsed": false
      },
      "outputs": [],
      "source": [
        "# Import libraries\nimport sys\nimport numpy as np\nimport pandas as pd\nimport seaborn as sns\nimport matplotlib as mpl\nimport matplotlib.pyplot as plt\n\n# Import specific libraries\nfrom pyamr.core.asai import ASAI\nfrom pyamr.core.sari import SARI\nfrom pyamr.core.freq import Frequency\nfrom pyamr.datasets.load import make_susceptibility\n\n# -------------------------\n# Configuration\n# -------------------------\n# Configure seaborn style (context=talk)\nsns.set(style=\"white\")\n\n# Set matplotlib\nmpl.rcParams['xtick.labelsize'] = 9\nmpl.rcParams['ytick.labelsize'] = 9\nmpl.rcParams['axes.titlesize'] = 11\nmpl.rcParams['legend.fontsize'] = 9\n\n# Pandas configuration\npd.set_option('display.max_colwidth', 40)\npd.set_option('display.width', 300)\npd.set_option('display.precision', 4)\n\n# Numpy configuration\nnp.set_printoptions(precision=2)\n\n# ------------------------\n# Methods\n# ------------------------\ndef create_mapper(dataframe, column_key, column_value):\n    \"\"\"This method constructs a mapper\n\n    Parameters\n    ----------\n    dataframe: dataframe-like\n      The dataframe from which the columns are extracted\n\n    column_key: string-like\n      The name of the column with the values for the keys of the mapper\n\n    column_value: string-like\n      The name of the column with the values for the values of the mapper\n\n    Returns\n    -------\n    dictionary\n    \"\"\"\n    dataframe = dataframe[[column_key, column_value]]\n    dataframe = dataframe.drop_duplicates()\n    return dict(zip(dataframe[column_key], dataframe[column_value]))\n\n# -------------------------------------------\n# Load data\n# -------------------------------------------\n# Load data\ndata = make_susceptibility()\n\n# Show\nprint(\"\\nData:\")\nprint(data)\nprint(\"\\nColumns:\")\nprint(data.columns)\n\n\n\n# -------------------------------------------\n# Compute Freq and SARI\n# -------------------------------------------\n# Create instance\nfreq = Frequency(column_antibiotic='antimicrobial_code',\n                 column_organism='microorganism_code',\n                 column_date='date_received',\n                 column_outcome='sensitivity')\n\n# Compute frequencies (overall)\nfreq_overall = freq.compute(data, by_category='pairs')\n\n# Compute SARI\nsari_overall = SARI(strategy='hard').compute(freq_overall)\n\n\n\n# -------------------------------------------\n# Compute Freq and SARI\n# -------------------------------------------\n# Create mappers\ngenus_map = create_mapper(data, 'microorganism_code', 'microorganism_genus')\ngramt_map = create_mapper(data, 'microorganism_code', 'microorganism_gram_type')\n\n# Create matrix\nmatrix = sari_overall.copy(deep=True)\nmatrix = matrix.reset_index()\nmatrix['microorganism_genus'] = matrix.SPECIE.map(genus_map)\nmatrix['microorganism_gram_type'] = matrix.SPECIE.map(gramt_map)\n\n# # Empty grams are a new category (unknown - u)\nmatrix.microorganism_gram_type = \\\n    matrix.microorganism_gram_type.fillna('u')\n\n# Create instance\nasai = ASAI(weights='uniform',\n            threshold=0.05,\n            column_genus='microorganism_genus',\n            column_specie='SPECIE',\n            column_antibiotic='ANTIBIOTIC',\n            column_resistance='sari')\n# Compute\nscores = asai.compute(matrix,\n    by_category='microorganism_gram_type')\n\n\n# -------------------------------\n# Filter and reoorder\n# -------------------------------\n# Antibiotics to display (use codes instead)\nabxs_urine = ['cephalexin', 'ciprofloxacin', 'ampicillin', 'trimethoprim',\n  'augmentin', 'meropenem', 'nitrofurantoin', 'amikacin', 'cefotaxime',\n  'tazocin', 'gentamicin', 'ertapenem', 'ceftazidime', 'mecillinam',\n  'cefoxitin', 'vancomycin', 'clindamycin', 'erythromycin', 'aztreonam',\n  'tigecycline', 'amoxycillin']\n\n# Filter by antibiotics\n#scores = scores[scores.index.isin(abxs_urine)]\n\n# Sort\nscores = scores.fillna(0.0)\nscores['width'] = np.abs(scores['ASAI_SCORE']['n']+scores['ASAI_SCORE']['p'])\nscores['gmean'] = np.sqrt(scores['ASAI_SCORE']['n']*scores['ASAI_SCORE']['p'])\nscores = scores.sort_values(by='gmean', ascending=False)\n\n# Show scores\nprint(\"Data output:\")\nprint(scores)\n\n\n# ----------------\n# Plot\n# ----------------\ndef scalar_colormap(values, cmap, vmin, vmax):\n  \"\"\"This method creates a colormap based on values.\n\n  Parameters\n  ----------\n  values : array-like\n    The values to create the corresponding colors\n\n  cmap : str\n    The colormap\n\n  vmin, vmax : float\n    The minimum and maximum possible values\n\n  Returns\n  -------\n  scalar colormap\n  \"\"\"\n  # Create scalar mappable\n  norm = mpl.colors.Normalize(vmin=vmin, vmax=vmax, clip=True)\n  mapper = mpl.cm.ScalarMappable(norm=norm, cmap=cmap)\n  # Gete color map\n  colormap = sns.color_palette([mapper.to_rgba(i) for i in values])\n  # Return\n  return colormap\n\n# Variables to plot.\nx = scores.index.values\ny_n = scores['ASAI_SCORE']['n'].values\ny_p = scores['ASAI_SCORE']['p'].values\ny_u = scores['ASAI_SCORE']['u'].values\n\n# Constants\ncolormap_p = scalar_colormap(y_p, cmap='Blues', vmin=-0.1, vmax=1.1)\ncolormap_n = scalar_colormap(y_n, cmap='Reds', vmin=-0.1, vmax=1.1)\ncolormap_u = scalar_colormap(y_u, cmap='Greens', vmin=-0.1, vmax=1.1)\n\n# ----------\n# Example\n# ----------\n# This example shows an stacked figure using more than two categories.\n# For instance, it uses gram-positive, gram-negative and gram-unknown.\n# All theindexes go within the range [0,1].\n# Create the figure\nf, axes = plt.subplots(1, 3, figsize=(7, 8))\n\n# Plot each category\nsns.barplot(x=y_p, y=x, palette=colormap_p, ax=axes[0], orient='h',\n  saturation=0.5, label='Gram-positive')\nsns.barplot(x=y_n, y=x, palette=colormap_n, ax=axes[1], orient='h',\n  saturation=0.5, label='Gram-negative')\nsns.barplot(x=y_u, y=x, palette=colormap_u, ax=axes[2], orient='h',\n  saturation=0.5, label='Gram-unknown')\n\n# Configure\nsns.despine(bottom=True)\n\n# Format figure\nplt.subplots_adjust(wspace=0.0, hspace=0.0)\n\n# Remove yticks\naxes[1].set_yticks([])\naxes[2].set_yticks([])\n\n# Set title\naxes[0].set_title('Gram-positive')\naxes[1].set_title('Gram-negative')\naxes[2].set_title('Gram-unknown')\n\n# Set x-axis\naxes[0].set_xlim([0,1.1])\naxes[1].set_xlim([0,1.1])\naxes[2].set_xlim([0,1.1])\n\n# Adjust\nplt.tight_layout()\n\n# Show\nplt.show()"
      ]
    }
  ],
  "metadata": {
    "kernelspec": {
      "display_name": "Python 3",
      "language": "python",
      "name": "python3"
    },
    "language_info": {
      "codemirror_mode": {
        "name": "ipython",
        "version": 3
      },
      "file_extension": ".py",
      "mimetype": "text/x-python",
      "name": "python",
      "nbconvert_exporter": "python",
      "pygments_lexer": "ipython3",
      "version": "3.7.7"
    }
  },
  "nbformat": 4,
  "nbformat_minor": 0
}