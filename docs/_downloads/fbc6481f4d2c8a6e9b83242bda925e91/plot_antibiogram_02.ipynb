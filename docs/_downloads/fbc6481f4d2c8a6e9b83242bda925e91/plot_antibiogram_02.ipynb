{
  "cells": [
    {
      "cell_type": "code",
      "execution_count": null,
      "metadata": {
        "collapsed": false
      },
      "outputs": [],
      "source": [
        "%matplotlib inline"
      ]
    },
    {
      "cell_type": "markdown",
      "metadata": {},
      "source": [
        "\n# SARI - Antibiogram (by culture)\n\n.. todo:: Explain...\n"
      ]
    },
    {
      "cell_type": "code",
      "execution_count": null,
      "metadata": {
        "collapsed": false
      },
      "outputs": [],
      "source": [
        "# Libraries\nimport sys\nimport numpy as np\nimport pandas as pd\nimport seaborn as sns\nimport matplotlib as mpl\nimport matplotlib.pyplot as plt\n\n# Import specific libraries\nfrom pyamr.core.sari import SARI\nfrom pyamr.core.freq import Frequency\nfrom pyamr.datasets.load import make_susceptibility\n\n# -------------------------\n# Configuration\n# -------------------------\n# Configure seaborn style (context=talk)\nsns.set(style=\"white\")\n\n# Set matplotlib\nmpl.rcParams['xtick.labelsize'] = 9\nmpl.rcParams['ytick.labelsize'] = 9\nmpl.rcParams['axes.titlesize'] = 11\nmpl.rcParams['legend.fontsize'] = 9\n\n# Pandas configuration\npd.set_option('display.max_colwidth', 40)\npd.set_option('display.width', 300)\npd.set_option('display.precision', 4)\n\n# Numpy configuration\nnp.set_printoptions(precision=2)\n\n# ------------------\n# Methods\n# ------------------\ndef get_category_colors(index, category, cmap='tab10'):\n    \"\"\"This method creates the colors for the different elements in\n    categorical feature vector.\n\n    Parameters\n    ----------\n    values : array-like\n        The vector with the categorical values\n\n    cmap: string-like\n        The colormap to use\n\n    default: string-like\n        The color to be used for the first value. Note that this\n        value needs to appear first on the the sorted list, as such\n        it is recommended to set is as _default.\n\n    Returns\n    -------\n    \"\"\"\n    # Get categories\n    categories = index.get_level_values(category)\n    # Get unique elements\n    unique = np.unique(categories)\n    # Create the palette\n    palette = sns.color_palette(cmap, desat=0.5, n_colors=unique.shape[0])\n    # Create mappers from category to color\n    mapper = dict(zip(map(str, unique), palette))\n    # Create list with colors for each category\n    colors = pd.Series(categories, index=index).map(mapper)\n    # Return\n    return colors\n\n\n# -------------------------------------------\n# Load data\n# -------------------------------------------\n# Load data\ndata = make_susceptibility()\n\n# Show\nprint(\"\\nData:\")\nprint(data)\nprint(\"\\nColumns:\")\nprint(data.columns)\n\n# -------------------------------------------\n# For each culture type\n# -------------------------------------------\n# Count records per order code\nspecimen_code_count = data.specimen_code.value_counts()\n\n# Filter most frequent order codes\ndata = data[data.specimen_code.isin( \\\n    specimen_code_count.index.values[:5])]\n\n# Loop\nfor specimen_code, df in data.groupby(by='specimen_code'):\n\n    # -------------------------------------------\n    # Compute Freq and SARI\n    # -------------------------------------------\n    # Create instance\n    freq = Frequency(column_antibiotic='antimicrobial_code',\n                     column_organism='microorganism_code',\n                     column_date='date_received',\n                     column_outcome='sensitivity')\n\n    # Compute frequencies (overall)\n    freq_overall = freq.compute(df, by_category='pairs')\n\n    # Compute SARI\n    sari_overall = SARI(strategy='hard').compute(freq_overall)\n\n    # ------------\n    # Plot Heatmap\n    # ------------\n    # Create matrix\n    matrix = sari_overall[['sari']]\n    matrix = matrix.unstack() * 100\n    matrix.columns = matrix.columns.droplevel()\n\n    # Create figure\n    f, ax = plt.subplots(1, 1, figsize=(8,8))\n\n    # Create colormap\n    cmap = sns.color_palette(\"Reds\", desat=0.5, n_colors=10)\n\n    # Specify cbar axes\n    #cbar_ax = f.add_axes([.925, .3, .05, .3])\n\n    # Plot\n    ax = sns.heatmap(data=matrix, annot=True, fmt=\".0f\",\n                     annot_kws={'fontsize': 7}, cmap=cmap,\n                     linewidth=0.5, vmin=0, vmax=100, ax=ax,\n                     xticklabels=1, yticklabels=1)\n                     # cbar_ax=cbar_ax)\n\n    # Configure axes\n    ax.set(aspect=\"equal\")\n\n    # Set rotation\n    plt.yticks(rotation=0)\n\n    # Add title\n    plt.suptitle(\"Antibiogram (%s)\" % specimen_code,\n        fontsize=15)\n\n    # Tight layout\n    plt.tight_layout()\n    #plt.subplots_adjust(right=0.91)\n\n# Show\nplt.show()"
      ]
    }
  ],
  "metadata": {
    "kernelspec": {
      "display_name": "Python 3",
      "language": "python",
      "name": "python3"
    },
    "language_info": {
      "codemirror_mode": {
        "name": "ipython",
        "version": 3
      },
      "file_extension": ".py",
      "mimetype": "text/x-python",
      "name": "python",
      "nbconvert_exporter": "python",
      "pygments_lexer": "ipython3",
      "version": "3.7.7"
    }
  },
  "nbformat": 4,
  "nbformat_minor": 0
}