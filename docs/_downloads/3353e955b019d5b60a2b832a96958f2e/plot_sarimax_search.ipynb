{
  "cells": [
    {
      "cell_type": "code",
      "execution_count": null,
      "metadata": {
        "collapsed": false
      },
      "outputs": [],
      "source": [
        "%matplotlib inline"
      ]
    },
    {
      "cell_type": "markdown",
      "metadata": {},
      "source": [
        "\n# SARIMAX search\n\n.. note: Explain\n\nSee ```SARIMAX`` <https://www.statsmodels.org/stable/generated/statsmodels.tsa.statespace.sarimax.SARIMAX.html>`_\n"
      ]
    },
    {
      "cell_type": "code",
      "execution_count": null,
      "metadata": {
        "collapsed": false
      },
      "outputs": [],
      "source": [
        "# Import.\nimport sys\nimport warnings\nimport pandas as pd\nimport matplotlib as mpl\nimport matplotlib.pyplot as plt\n\n# Import sarimax\nfrom statsmodels.tsa.statespace.sarimax import SARIMAX\n\n# import weights.\nfrom pyamr.datasets.load import make_timeseries\nfrom pyamr.core.regression.sarimax import SARIMAXWrapper\n\n# Filter warnings\n#warnings.simplefilter(action='ignore', category=FutureWarning)\n\n# ----------------------------\n# set basic configuration\n# ----------------------------\n# Matplotlib options\nmpl.rc('legend', fontsize=6)\nmpl.rc('xtick', labelsize=6)\nmpl.rc('ytick', labelsize=6)\n\n# Set pandas configuration.\npd.set_option('display.max_colwidth', 14)\npd.set_option('display.width', 150)\npd.set_option('display.precision', 4)\n\n# ----------------------------\n# create data\n# ----------------------------\n# Create timeseries data\nx, y, f = make_timeseries()\n\n# Create exogenous variable\nexog = x\n\n# Variables.\ns, e = 50, 120\n\n# -------------------------------\n# create arima model\n# -------------------------------\n# This example shows how to use auto to find the best overall model using\n# a particular seletion criteria. It also demonstrates how to plot the \n# resulting data for visualization purposes. Note that it only prints\n# the top best classifier according to the information criteria.\n\n# Find the best arima model (bruteforce).\nmodels, best = SARIMAXWrapper(estimator=SARIMAX) \\\n    .auto(endog=y[:80], ic='bic',\n                        max_ar=2,\n                        max_ma=3,\n                        max_d=1,\n                        max_P=1,\n                        max_D=0,\n                        max_Q=1,\n                        list_s=[12],\n                        return_fits=True)\n\n# Sort the list (from lower to upper)\nmodels.sort(key=lambda x: x.bic, reverse=False)\n\n# Summary\nsummary = SARIMAXWrapper().from_list_dataframe(models)\n\n# Show summary\nprint(\"\\nSummary:\")\nprint(summary[['sarimax-order',\n               'sarimax-seasonal_order',\n               'sarimax-trend', \n               'sarimax-aic', \n               'sarimax-bic']])\n\n# -------------------------------\n# plot results\n# -------------------------------\n# Create figure\nfig, axes = plt.subplots(3,3, figsize=(10,6))\naxes = axes.flatten()\n\n# Loop for the selected models\nfor i,estimator in enumerate(models[:9]):\n\n  # Show information\n  print(\"%2d. Estimator (bic=%.2f): %s \" % \\\n    (i, estimator.bic, estimator._identifier()))\n\n  # Get the predictions\n  preds = estimator.get_prediction(start=s, end=e, dynamic=False)\n\n  # Plot truth values.\n  axes[i].plot(y, color='#A6CEE3', alpha=0.5, marker='o',\n                  markeredgecolor='k', markeredgewidth=0.5,\n                  markersize=5, linewidth=0.75, label='Observed')\n\n  # Plot forecasted values.\n  axes[i].plot(preds[0,:], preds[1,:], color='#FF0000', alpha=1.00, \n               linewidth=2.0, label=estimator._identifier())\n  \n  # Plot the confidence intervals.\n  axes[i].fill_between(preds[0,:], preds[2,:], \n                                   preds[3,:], \n                                   color='#FF0000', \n                                   alpha=0.25)\n\n  # Configure axes\n  axes[i].legend(loc=3)\n  axes[i].grid(True, linestyle='--', linewidth=0.25)\n\n# Set superior title\nplt.suptitle(\"Non-dynamic predictions for SARIMAX\")\n\n# Show\nplt.show()"
      ]
    }
  ],
  "metadata": {
    "kernelspec": {
      "display_name": "Python 3",
      "language": "python",
      "name": "python3"
    },
    "language_info": {
      "codemirror_mode": {
        "name": "ipython",
        "version": 3
      },
      "file_extension": ".py",
      "mimetype": "text/x-python",
      "name": "python",
      "nbconvert_exporter": "python",
      "pygments_lexer": "ipython3",
      "version": "3.9.1"
    }
  },
  "nbformat": 4,
  "nbformat_minor": 0
}