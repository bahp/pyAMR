{
  "cells": [
    {
      "cell_type": "code",
      "execution_count": null,
      "metadata": {
        "collapsed": false
      },
      "outputs": [],
      "source": [
        "%matplotlib inline"
      ]
    },
    {
      "cell_type": "markdown",
      "metadata": {},
      "source": [
        "\n# ``ASAI`` - By gram stain (multiple)\n"
      ]
    },
    {
      "cell_type": "code",
      "execution_count": null,
      "metadata": {
        "collapsed": false
      },
      "outputs": [],
      "source": [
        "# Import libraries\nimport sys\nimport numpy as np\nimport pandas as pd\nimport seaborn as sns\nimport matplotlib as mpl\nimport matplotlib.pyplot as plt\n\n# Import specific libraries\nfrom pyamr.core.asai import ASAI\nfrom pyamr.core.sari import SARI\nfrom pyamr.core.freq import Frequency\nfrom pyamr.datasets.load import make_susceptibility\n\n# -------------------------\n# Configuration\n# -------------------------\n# Configure seaborn style (context=talk)\nsns.set(style=\"white\")\n\n# Set matplotlib\nmpl.rcParams['xtick.labelsize'] = 9\nmpl.rcParams['ytick.labelsize'] = 9\nmpl.rcParams['axes.titlesize'] = 11\nmpl.rcParams['legend.fontsize'] = 9\n\n# Pandas configuration\npd.set_option('display.max_colwidth', 40)\npd.set_option('display.width', 300)\npd.set_option('display.precision', 4)\n\n# Numpy configuration\nnp.set_printoptions(precision=2)\n\n# -------------------------------------------\n# Load data\n# -------------------------------------------\n# Load data\ndata = make_susceptibility()\n\n# Show\nprint(\"\\nData:\")\nprint(data)\nprint(\"\\nColumns:\")\nprint(data.columns)\n\n# -------------------------------------------\n# Compute SARI\n# -------------------------------------------\n# Libraries\nfrom pyamr.core.sari import SARI\n\n# Create sari instance\nsari = SARI(groupby=['specimen_code',\n                     'microorganism_name',\n                     'antimicrobial_name',\n                     'sensitivity'])\n\n# Compute SARI overall\nsari_overall = sari.compute(data,\n    return_frequencies=True)\n\n# Show\nprint(\"SARI (overall):\")\nprint(sari_overall)\n\n\n\n# ------------------------------\n# Include gram stain\n# ------------------------------\n# Libraries\nfrom pyamr.datasets.registries import MicroorganismRegistry\n\n# Load registry\nmreg = MicroorganismRegistry()\n\n# Format sari dataframe\ndataframe = sari_overall.copy(deep=True)\ndataframe = dataframe.reset_index()\n\n# Create genus and species\ndataframe[['genus', 'species']] = \\\n    dataframe.microorganism_name \\\n        .str.capitalize() \\\n        .str.split(expand=True, n=1)\n\n# Combine with registry information\ndataframe = mreg.combine(dataframe, on='microorganism_name')\n\n# Fill missing gram stain\ndataframe.gram_stain = dataframe.gram_stain.fillna('u')\n\n\n# -------------------------------------------\n# Compute ASAI\n# -------------------------------------------\n# Import specific libraries\nfrom pyamr.core.asai import ASAI\n\n# Create asai instance\nasai = ASAI(column_genus='genus',\n            column_specie='species',\n            column_resistance='sari',\n            column_frequency='freq')\n\n# Compute\nscores = asai.compute(dataframe,\n    groupby=['specimen_code',\n             'antimicrobial_name',\n             'gram_stain'],\n    weights='uniform',\n    threshold=0.5,\n    min_freq=0)\n\n# Stack\nscores = scores.unstack()\n\n# .. note: In order to sort the scores we need to compute metrics\n#          that combine the different subcategories (e.g. gram-negative\n#          and gram-positive). Two possible options are: (i) use the\n#          gmean or (ii) the width.\n# Measures\nscores['width'] = np.abs(scores['ASAI_SCORE'].sum(axis=1))\nscores['gmean'] = np.sqrt(scores['ASAI_SCORE'].product(axis=1))\n\n# Show\nprint(\"\\nASAI (overall):\")\nprint(scores)\n\n\n# ------------------------\n# Methods\n# ------------------------\ndef scalar_colormap(values, cmap, vmin, vmax):\n    \"\"\"This method creates a colormap based on values.\n\n    Parameters\n    ----------\n    values : array-like\n    The values to create the corresponding colors\n\n    cmap : str\n    The colormap\n\n    vmin, vmax : float\n    The minimum and maximum possible values\n\n    Returns\n    -------\n    scalar colormap\n    \"\"\"\n    # Create scalar mappable\n    norm = mpl.colors.Normalize(vmin=vmin, vmax=vmax, clip=True)\n    mapper = mpl.cm.ScalarMappable(norm=norm, cmap=cmap)\n    # Gete color map\n    colormap = sns.color_palette([mapper.to_rgba(i) for i in values])\n    # Return\n    return colormap\n\n\n# -------------------------------------------\n# Plot\n# -------------------------------------------\n# Reset\nscores = scores.reset_index()\n\n# Count records per specimen\nspecimen_count = sari_overall \\\n .groupby('specimen_code').freq.sum() \\\n .sort_values(ascending=False)\n\n# Show\nprint(\"\\nCultures:\")\nprint(specimen_count)\n\n# Filter\nscores = scores[scores.specimen_code\\\n    .isin(specimen_count.index.values[:5])]\n\n# Loop\nfor specimen, df in scores.groupby(by='specimen_code'):\n\n    # Sort\n    df = df.sort_values(by='width', ascending=False)\n\n    # Show\n    print(\"\\n\\nASAI (%s)\" % specimen)\n    print(df)\n\n    # Variables to plot.\n    x = df.antimicrobial_name\n    y_n = df['ASAI_SCORE']['n'].values\n    y_p = df['ASAI_SCORE']['p'].values\n    y_u = df['ASAI_SCORE']['u'].values\n\n    # Constants\n    colormap_p = scalar_colormap(y_p, cmap='Blues', vmin=-0.1, vmax=1.1)\n    colormap_n = scalar_colormap(y_n, cmap='Reds', vmin=-0.1, vmax=1.1)\n    colormap_u = scalar_colormap(y_u, cmap='Greens', vmin=-0.1, vmax=1.1)\n\n    # ----------\n    # Example\n    # ----------\n    # This example shows an stacked figure using more than two categories.\n    # For instance, it uses gram-positive, gram-negative and gram-unknown.\n    # All theindexes go within the range [0,1].\n    # Create the figure\n    f, axes = plt.subplots(1, 3, figsize=(7, 8))\n\n    # Plot each category\n    sns.barplot(x=y_p, y=x, palette=colormap_p, ax=axes[0], orient='h',\n      saturation=0.5, label='Gram-positive')\n    sns.barplot(x=y_n, y=x, palette=colormap_n, ax=axes[1], orient='h',\n      saturation=0.5, label='Gram-negative')\n    sns.barplot(x=y_u, y=x, palette=colormap_u, ax=axes[2], orient='h',\n      saturation=0.5, label='Gram-unknown')\n\n    # Configure\n    sns.despine(bottom=True)\n\n    # Format figure\n    plt.subplots_adjust(wspace=0.0, hspace=0.0)\n\n    # Remove yticks\n    axes[1].set_yticks([])\n    axes[2].set_yticks([])\n\n    # Set title\n    axes[0].set_title('Gram-positive')\n    axes[1].set_title('Gram-negative')\n    axes[2].set_title('Gram-unknown')\n\n    # Set x-axis\n    axes[0].set_xlim([0,1.1])\n    axes[1].set_xlim([0,1.1])\n    axes[2].set_xlim([0,1.1])\n\n    # Remove ylabels\n    axes[1].set_ylabel('')\n    axes[2].set_ylabel('')\n\n    # Adjust\n    plt.tight_layout()\n\n# Show\nplt.show()"
      ]
    }
  ],
  "metadata": {
    "kernelspec": {
      "display_name": "Python 3",
      "language": "python",
      "name": "python3"
    },
    "language_info": {
      "codemirror_mode": {
        "name": "ipython",
        "version": 3
      },
      "file_extension": ".py",
      "mimetype": "text/x-python",
      "name": "python",
      "nbconvert_exporter": "python",
      "pygments_lexer": "ipython3",
      "version": "3.7.9"
    }
  },
  "nbformat": 4,
  "nbformat_minor": 0
}