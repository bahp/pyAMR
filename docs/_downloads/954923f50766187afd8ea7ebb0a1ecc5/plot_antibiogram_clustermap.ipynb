{
  "cells": [
    {
      "cell_type": "code",
      "execution_count": null,
      "metadata": {
        "collapsed": false
      },
      "outputs": [],
      "source": [
        "%matplotlib inline"
      ]
    },
    {
      "cell_type": "markdown",
      "metadata": {},
      "source": [
        "\n# SARI - Antibiogram (clustered)\n\n.. todo:: Explain and Simplify\n\n.. todo: Frequency might not be working?\n         Frequency can be computed as sum of columns.\n"
      ]
    },
    {
      "cell_type": "code",
      "execution_count": null,
      "metadata": {
        "collapsed": false
      },
      "outputs": [],
      "source": [
        "# Libraries\nimport sys\nimport glob\nimport numpy as np \nimport pandas as pd \nimport seaborn as sns\nimport matplotlib as mpl\nimport matplotlib.pyplot as plt\n\n# Import own libraries\nfrom pyamr.core.freq import Frequency\nfrom pyamr.core.sari import SARI\nfrom pyamr.datasets.load import load_data_mimic\n\n# -------------------------\n# Configuration\n# -------------------------\n# Configure seaborn style (context=talk)\nsns.set(style=\"white\")\n\n# Set matplotlib\nmpl.rcParams['xtick.labelsize'] = 9\nmpl.rcParams['ytick.labelsize'] = 9\nmpl.rcParams['axes.titlesize'] = 11\nmpl.rcParams['legend.fontsize'] = 9\n\n# Pandas configuration\npd.set_option('display.max_colwidth', 40)\npd.set_option('display.width', 300)\npd.set_option('display.precision', 4)\n\n# Numpy configuration\nnp.set_printoptions(precision=2)\n\n\n# ------------------------------------------------------------\n# Methods\n# ------------------------------------------------------------\ndef get_category_colors(index, category, cmap='hls'):\n    \"\"\"This method creates the colors for the different elements in\n    categorical feature vector.\n\n    Parameters\n    ----------\n    values : array-like\n        The vector with the categorical values\n\n    cmap: string-like\n        The colormap to use\n\n    default: string-like\n        The color to be used for the first value. Note that this\n        value needs to appear first on the the sorted list, as such\n        it is recommended to set is as _default.\n\n    Returns\n    -------\n    \"\"\"\n    # Get categories\n    categories = index.get_level_values(category)\n    # Get unique elements\n    unique = np.unique(categories)\n    # Create the palette\n    palette = sns.color_palette(cmap, desat=0.5, n_colors=unique.shape[0])\n    # Create mappers from category to color\n    mapper = dict(zip(map(str, unique), palette))\n    # Create list with colors for each category\n    colors = pd.Series(categories, index=index).map(mapper)\n    # Return\n    return colors\n\n\ndef create_mapper(dataframe, column_key, column_value):\n  \"\"\"This method constructs a mapper\n\n  Parameters\n  ----------\n  dataframe: dataframe-like\n    The dataframe from which the columns are extracted\n\n  column_key: string-like\n    The name of the column with the values for the keys of the mapper\n\n  column_value: string-like\n    The name of the column with the values for the values of the mapper\n\n  Returns\n  -------\n  dictionary\n  \"\"\"\n  dataframe = dataframe[[column_key, column_value]]\n  dataframe = dataframe.drop_duplicates()\n  return dict(zip(dataframe[column_key], dataframe[column_value]))\n\n\n# --------------------------------------------------------------------\n#                               Main\n# --------------------------------------------------------------------\n# Load data\ndata, antibiotics, organisms = load_data_mimic()\n\n# Count records per specimen code\nspecimen_code_count = data \\\n    .groupby('laboratory_number').head(1) \\\n    .specimen_code.value_counts(normalize=True) \\\n    .sort_values(ascending=False)\n\n# Filter most frequent specimens\ndata = data[data.specimen_code.isin( \\\n    specimen_code_count.index.values[:5])]\n\n# Loop for each specimen\nfor specimen_code, df in data.groupby(by='specimen_code'):\n\n    # -------------------------------------------\n    # Compute Freq and SARI\n    # -------------------------------------------\n    # Create instance\n    freq = Frequency(column_antibiotic='antimicrobial_code',\n                     column_organism='microorganism_code',\n                     column_date='date_received',\n                     column_outcome='sensitivity')\n\n    # Compute frequencies (overall)\n    freq_overall = freq.compute(df, by_category='pairs')\n\n    # Filter\n    freq_overall = freq_overall[freq_overall.sum(axis=1) > 100]\n\n    # Compute SARI\n    sari_overall = SARI(strategy='hard').compute(freq_overall)\n\n    # -------------------------------\n    # Create matrix\n    # -------------------------------\n    # Create mappers\n    abx_map = create_mapper(antibiotics, 'antimicrobial_code', 'category')\n    org_map = create_mapper(organisms, 'microorganism_code', 'genus')\n\n    # Create matrix\n    matrix = sari_overall.reset_index()\n    matrix['microorganism_genus'] = matrix.SPECIE.map(org_map)\n    matrix['antimicrobial_class'] = matrix.ANTIBIOTIC.map(abx_map)\n\n    # Pivot table\n    matrix = pd.pivot_table(matrix, values='sari',\n        index=['SPECIE', 'microorganism_genus'],\n        columns=['ANTIBIOTIC', 'antimicrobial_class'])\n\n    # Convert to percent\n    matrix = matrix * 100\n\n    # Create mask\n    mask = pd.isnull(matrix)\n\n    # Fill missing (error when computing distance)\n    matrix = matrix.fillna(1e-10)\n\n    # Show\n    print(\"\\n\\n\\nData (%s)\" % specimen_code)\n    print(matrix.astype(int))\n\n    # Create colormap\n    cmap = sns.color_palette(\"Reds\", desat=0.5, n_colors=10)\n\n    # Row and col colors\n    col_colors = get_category_colors( \\\n        index=matrix.columns, category=matrix.columns.names[1])\n    row_colors = get_category_colors( \\\n        index=matrix.index, category=matrix.index.names[1])\n\n    # .. note: It is possible to also pass kwargs that would\n    #          be used by sns.heatmap function (annot, fmt,\n    #          annot_kws, ...\n    try:\n        # Plot cluster map\n        grid = sns.clustermap(data=matrix, vmin=0, vmax=100,\n            cmap=cmap, #method='centroid', metric='euclidean',\n            linewidth=0.05, mask=mask, square=True,\n            row_colors=row_colors, col_colors=col_colors,\n            yticklabels=1, xticklabels=1)\n\n        # Set size\n        #grid.fig.set_size_inches(20, 40)\n        #grid.fig.subplots_adjust(right=0.5)\n\n        # Set square heatmap.\n        #grid.ax_heatmap.set(aspect=\"equal\")\n\n    except Exception as e:\n        print(\"Exception: %s\" % e)\n\n    # Configuration\n    plt.suptitle('Antibiogram (clustered) - %s' % specimen_code,\n        fontsize=12)\n    plt.tight_layout()\n\n# Show\nplt.show()"
      ]
    }
  ],
  "metadata": {
    "kernelspec": {
      "display_name": "Python 3",
      "language": "python",
      "name": "python3"
    },
    "language_info": {
      "codemirror_mode": {
        "name": "ipython",
        "version": 3
      },
      "file_extension": ".py",
      "mimetype": "text/x-python",
      "name": "python",
      "nbconvert_exporter": "python",
      "pygments_lexer": "ipython3",
      "version": "3.9.1"
    }
  },
  "nbformat": 4,
  "nbformat_minor": 0
}